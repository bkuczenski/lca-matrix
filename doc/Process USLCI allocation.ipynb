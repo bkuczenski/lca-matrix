{
 "cells": [
  {
   "cell_type": "code",
   "execution_count": 1,
   "metadata": {
    "collapsed": true
   },
   "outputs": [],
   "source": [
    "import sys\n",
    "import os\n",
    "sys.path.append('/data/GitHub/lca-tools/')\n",
    "\n",
    "import lcatools"
   ]
  },
  {
   "cell_type": "code",
   "execution_count": 2,
   "metadata": {
    "collapsed": true
   },
   "outputs": [],
   "source": [
    "CATALOG = '/data/GitHub/lca-catalog/catalogs/'\n",
    "\n",
    "#EI32_A = 'ecoinvent_3.2_apos_spold.json.gz'\n",
    "USLCI = 'uslci_ecospold.json.gz'\n",
    "USLCI_C = 'uslci_clean.json.gz'"
   ]
  },
  {
   "cell_type": "code",
   "execution_count": 20,
   "metadata": {
    "collapsed": false
   },
   "outputs": [
    {
     "name": "stdout",
     "output_type": "stream",
     "text": [
      "Loading JSON data from /data/GitHub/lca-catalog/catalogs/uslci_clean.json.gz:\n",
      "Found Extension: zip\n",
      "701 new process entities added (701 total)\n",
      "4176 new flow entities added (4176 total)\n",
      "20 new quantity entities added (20 total)\n"
     ]
    }
   ],
   "source": [
    "US = lcatools.archive_from_json(os.path.join(CATALOG, USLCI_C))"
   ]
  },
  {
   "cell_type": "code",
   "execution_count": 128,
   "metadata": {
    "collapsed": true
   },
   "outputs": [],
   "source": [
    "US.write_to_file(os.path.join(CATALOG, USLCI_C), values=True, gzip=True, exchanges=True, characterizations=True)"
   ]
  },
  {
   "cell_type": "code",
   "execution_count": 76,
   "metadata": {
    "collapsed": false
   },
   "outputs": [
    {
     "data": {
      "text/plain": [
       "50"
      ]
     },
     "execution_count": 76,
     "metadata": {},
     "output_type": "execute_result"
    }
   ],
   "source": [
    "len([p for p in US.processes() if len(p.reference_entity) != 1])"
   ]
  },
  {
   "cell_type": "code",
   "execution_count": 52,
   "metadata": {
    "collapsed": true
   },
   "outputs": [],
   "source": [
    "s.f"
   ]
  },
  {
   "cell_type": "code",
   "execution_count": 53,
   "metadata": {
    "collapsed": false
   },
   "outputs": [
    {
     "name": "stdout",
     "output_type": "stream",
     "text": [
      "\n",
      "Wood fuel, hardwood, gen at lumber mill, combusted in industrial boiler, NE-NC\n",
      "\n",
      "Pulpwood, softwood, average, at forest road, INW\n",
      "\n",
      "Switchgrass, carted, 2022\n",
      "\n",
      "Electricity, bituminous coal, at power plant\n",
      "\n",
      "Corn wet milling, operations, AP-42\n",
      "\n",
      "Roundwood, softwood, national forest, average, at forest road, INW\n",
      "\n",
      "Piling, whole tree slash, at landing, gentle slope forest, INW\n",
      "\n",
      "Bucked and debarked log, hardwood, green, at veneer mill, E\n",
      "\n",
      "Aluminum, secondary, extruded\n",
      "\n",
      "Galvanized steel sheet, at plant\n",
      "No term found for Limestone, in ground [in ground]\n",
      "No term found for Iron ore, in ground [in ground]\n",
      "No term found for Coal, bituminous, 24.8 MJ per kg, in ground [in ground]\n",
      "No term found for Wood and wood waste, 9.5 MJ per kg [biotic]\n",
      "No term found for Coal, 26.4 MJ per kg, in ground [in ground]\n",
      "No term found for Energy, from hydro power [in water]\n",
      "No term found for Oxygen, in air [in air]\n",
      "No term found for Uranium, 2291 GJ per kg, in ground [in ground]\n",
      "\n",
      "Polyvinyl chloride, resin, at plant\n",
      "No term found for Water, process, unspecified natural origin/m3 [unspecified]\n",
      "\n",
      "Transport, combination truck, long-haul, diesel powered, West\n",
      "\n",
      "Ethanol, denatured, forest residues, thermochem\n",
      "No term found for Water, process, unspecified natural origin/kg [in ground]\n",
      "No term found for Oxygen, in air [unspecified]\n",
      "No term found for Nitrogen, in air [unspecified]\n",
      "No term found for Water, cooling, unspecified natural origin/kg [unspecified]\n",
      "\n",
      "Corn grain, at conversion plant, 2022\n",
      "\n",
      "Transport, motorcycle, gasoline powered\n",
      "\n",
      "Wood fuel, hardwood, generated at mill, combusted in industrial boiler, E\n",
      "\n",
      "Injection molding, rigid LLDPE part, at plant\n",
      "No term found for Water, process, unspecified natural origin/m3 [unspecified]\n",
      "\n",
      "Sawn lumber, softwood, rough, kiln dried, at kiln, INW\n",
      "\n",
      "Tillage, reduce, corn production\n",
      "\n",
      "Polylactide Biopolymer Resin, at plant\n",
      "No term found for Iron ore, in ground [in ground]\n",
      "No term found for Fluorspar, 92%, in ground [in ground]\n",
      "No term found for Calcium sulphate, in ground [in ground]\n",
      "No term found for Coal, bituminous, 24.8 MJ/kg, in ground [in ground]\n",
      "No term found for Sulfur, in ground [in ground]\n",
      "No term found for Gravel, in ground [in ground]\n",
      "No term found for Lead ore, in ground [in ground]\n",
      "No term found for Gas, natural, in ground [in ground]\n",
      "No term found for Limestone, in ground [in ground]\n",
      "No term found for Coal, metallurgical, in ground [in ground]\n",
      "No term found for Water, irrigation [river]\n",
      "No term found for Occupational, arable, conventional tillage [unspecified]\n",
      "No term found for Calcite, in ground [in ground]\n",
      "No term found for Coal, lignite, in ground [in ground]\n",
      "No term found for Occupation, arable, conservation tillage [unspecified]\n",
      "No term found for Sand, unspecified, in ground [in ground]\n",
      "No term found for Phosphate as P2O5, phosphate rock, in ground [in ground]\n",
      "No term found for Barite, in ground [in ground]\n",
      "No term found for Olivine, in ground [in ground]\n",
      "No term found for Zinc ore, in ground [in ground]\n",
      "No term found for Clay, bentonite, in ground [in ground]\n",
      "No term found for Bauxite ore, in ground [in ground]\n",
      "No term found for Water, process [river]\n",
      "No term found for Dolomite, in ground [in ground]\n",
      "No term found for Shale, in ground [in ground]\n",
      "No term found for Air [in air]\n",
      "No term found for Oil, crude, in ground [in ground]\n",
      "No term found for Occupation, arable, reduced tillage [unspecified]\n",
      "No term found for Copper ore in ground [in ground]\n",
      "No term found for Potassium chloride, in ground [in ground]\n",
      "No term found for Water, irrigation [ground-]\n",
      "No term found for Oxygen, in air [in air]\n",
      "No term found for Nitrogen, in air [in air]\n",
      "No term found for Ferromanganese, in ground [in ground]\n",
      "\n",
      "Transport, refuse truck, diesel powered, West North Central\n",
      "\n",
      "Transport, intercity bus, diesel powered, West North Central\n",
      "\n",
      "Sawn lumber, softwood, rough, green, at sawmill, NE-NC\n",
      "No term found for Water, process and cooling, surface [None]\n",
      "\n",
      "Winter wheat straw, ground and stored\n",
      "\n",
      "Felling, feller buncher, > 200 HP, NE-NC\n",
      "\n",
      "Sawn lumber, hardwood, rough, green, at sawmill, SE\n",
      "\n",
      "Polyol ether, for rigid foam polyurethane production, at plant, CTR\n",
      "No term found for Oxygen, in air [unspecified]\n",
      "No term found for Gas, natural, in ground  [unspecified]\n",
      "No term found for Energy, from biomass [unspecified]\n",
      "No term found for Limestone, in ground [unspecified]\n",
      "No term found for Energy, geothermal [unspecified]\n",
      "No term found for Coal, lignite, in ground [unspecified]\n",
      "No term found for Energy, solar [unspecified]\n",
      "No term found for Oil, crude, in ground  [unspecified]\n",
      "No term found for Coal, unprocessed bituminous, in ground [unspecified]\n",
      "No term found for Sugar beets, in ground [unspecified]\n",
      "No term found for Energy, kinetic (in wind), converted [unspecified]\n",
      "No term found for Salt, unspecified [unspecified]\n",
      "No term found for Energy, from hydro power [unspecified]\n",
      "No term found for Uranium oxide, 332 GJ per kg, in ore [unspecified]\n",
      "No term found for Energy, unspecified [unspecified]\n",
      "No term found for Gas, natural, in ground  [unspecified]\n",
      "No term found for Water, consumptive use, unspecified origin/m3 [unspecified]\n",
      "\n",
      "Transport, combination truck, long-haul, diesel powered, Central\n",
      "\n",
      "Railroad ties, hardwood, creosote treated, SE\n",
      "No term found for Water, process, unspecified natural origin/m3 [unspecified]\n",
      "\n",
      "Transport, transit bus, diesel powered, Central\n",
      "\n",
      "Electricity, at Grid, US, 2010\n",
      "\n",
      "Chainsawing, hand felling and delimbing, INW\n",
      "\n",
      "Electricity, lignite coal, at power plant\n",
      "\n",
      "Toluene, at plant\n",
      "\n",
      "Pulp, kraft market, bleached, average production, at mill\n",
      "No term found for Process water [unspecified]\n",
      "\n",
      "Laminated veneer lumber processing, at plant, US SE\n",
      "No term found for Water [unspecified]\n",
      "\n",
      "Transport, refuse truck, diesel powered, Northeast region\n",
      "\n",
      "Transport, transit bus, diesel powered, Hawaii\n",
      "\n",
      "Corn stover, production, average, US, 2022\n",
      "No term found for Energy, from biomass [unspecified]\n",
      "No term found for Carbon dioxide [in air]\n",
      "\n",
      "Winter wheat straw, carted\n",
      "\n",
      "Electricity, at eGrid, SPNO, 2008\n",
      "\n",
      "Transport, single unit truck, long-haul, gasoline powered, Northeast region\n",
      "\n",
      "Secondary bonding application, rigid composites part, at plant\n",
      "\n",
      "Ethanol, denatured, wheat straw, biochemical\n",
      "No term found for Water, cooling, well, in ground [in ground]\n",
      "No term found for Nitrogen, in air [in air]\n",
      "No term found for Oxygen, in air [in air]\n",
      "No term found for Water, process, unspecified natural origin/kg [in ground]\n",
      "\n",
      "Electricity, at Grid, HICC, 2010\n",
      "\n",
      "Vacuum infusion, rigid composites part, at plant\n",
      "\n",
      "Cold rolled sheet, steel, at plant\n",
      "No term found for Coal, 26.4 MJ per kg, in ground [in ground]\n",
      "No term found for Oxygen, in air [in air]\n",
      "No term found for Wood and wood waste, 9.5 MJ per kg [biotic]\n",
      "No term found for Limestone, in ground [in ground]\n",
      "No term found for Coal, bituminous, 24.8 MJ per kg, in ground [in ground]\n",
      "No term found for Energy, from hydro power [in water]\n",
      "No term found for Uranium, 2291 GJ per kg, in ground [in ground]\n",
      "No term found for Iron ore, in ground [in ground]\n",
      "\n",
      "Electricity, at eGrid, CAMX, 2010\n",
      "\n",
      "Rapeseed, whole plant, at field\n",
      "No term found for Occupation, arable, conservation tillage [land]\n",
      "No term found for Carbon dioxide, in air [in air]\n",
      "No term found for Occupation, arable, reduced tillage [land]\n",
      "No term found for Occupation, arable, conventional tillage [land]\n",
      "\n",
      "Corn steep liquor\n",
      "No term found for Potassium oxide [in ground]\n",
      "No term found for Gas, natural, in ground [in ground]\n",
      "No term found for Uranium, in ground [in ground]\n",
      "No term found for Coal, hard, unspecified, in ground [in ground]\n",
      "No term found for Phosphate ore, in ground [in ground]\n",
      "No term found for Oil, crude, in ground [in ground]\n",
      "No term found for Water, process, unspecified natural origin/kg [in ground]\n"
     ]
    },
    {
     "ename": "KeyboardInterrupt",
     "evalue": "",
     "output_type": "error",
     "traceback": [
      "\u001b[1;31m---------------------------------------------------------------------------\u001b[0m",
      "\u001b[1;31mKeyboardInterrupt\u001b[0m                         Traceback (most recent call last)",
      "\u001b[1;32m<ipython-input-53-622bca42004b>\u001b[0m in \u001b[0;36m<module>\u001b[1;34m()\u001b[0m\n\u001b[0;32m      5\u001b[0m             \u001b[1;32mif\u001b[0m \u001b[0mx\u001b[0m\u001b[1;33m.\u001b[0m\u001b[0mflow\u001b[0m\u001b[1;33m[\u001b[0m\u001b[1;34m'Name'\u001b[0m\u001b[1;33m]\u001b[0m\u001b[1;33m.\u001b[0m\u001b[0mfind\u001b[0m\u001b[1;33m(\u001b[0m\u001b[1;34m'CUTOFF'\u001b[0m\u001b[1;33m)\u001b[0m \u001b[1;33m==\u001b[0m \u001b[1;33m-\u001b[0m\u001b[1;36m1\u001b[0m\u001b[1;33m:\u001b[0m\u001b[1;33m\u001b[0m\u001b[0m\n\u001b[0;32m      6\u001b[0m                 \u001b[1;32mtry\u001b[0m\u001b[1;33m:\u001b[0m\u001b[1;33m\u001b[0m\u001b[0m\n\u001b[1;32m----> 7\u001b[1;33m                     \u001b[0mterm\u001b[0m \u001b[1;33m=\u001b[0m \u001b[0mnext\u001b[0m\u001b[1;33m(\u001b[0m\u001b[0mt\u001b[0m \u001b[1;32mfor\u001b[0m \u001b[0mt\u001b[0m \u001b[1;32min\u001b[0m \u001b[0mUS\u001b[0m\u001b[1;33m.\u001b[0m\u001b[0mterminate\u001b[0m\u001b[1;33m(\u001b[0m\u001b[0mx\u001b[0m\u001b[1;33m)\u001b[0m\u001b[1;33m)\u001b[0m\u001b[1;33m\u001b[0m\u001b[0m\n\u001b[0m\u001b[0;32m      8\u001b[0m                 \u001b[1;32mexcept\u001b[0m \u001b[0mStopIteration\u001b[0m\u001b[1;33m:\u001b[0m\u001b[1;33m\u001b[0m\u001b[0m\n\u001b[0;32m      9\u001b[0m                     \u001b[0mprint\u001b[0m\u001b[1;33m(\u001b[0m\u001b[1;34m'No term found for %s'\u001b[0m \u001b[1;33m%\u001b[0m \u001b[0mx\u001b[0m\u001b[1;33m.\u001b[0m\u001b[0mflow\u001b[0m\u001b[1;33m)\u001b[0m\u001b[1;33m\u001b[0m\u001b[0m\n",
      "\u001b[1;32m<ipython-input-53-622bca42004b>\u001b[0m in \u001b[0;36m<genexpr>\u001b[1;34m(.0)\u001b[0m\n\u001b[0;32m      5\u001b[0m             \u001b[1;32mif\u001b[0m \u001b[0mx\u001b[0m\u001b[1;33m.\u001b[0m\u001b[0mflow\u001b[0m\u001b[1;33m[\u001b[0m\u001b[1;34m'Name'\u001b[0m\u001b[1;33m]\u001b[0m\u001b[1;33m.\u001b[0m\u001b[0mfind\u001b[0m\u001b[1;33m(\u001b[0m\u001b[1;34m'CUTOFF'\u001b[0m\u001b[1;33m)\u001b[0m \u001b[1;33m==\u001b[0m \u001b[1;33m-\u001b[0m\u001b[1;36m1\u001b[0m\u001b[1;33m:\u001b[0m\u001b[1;33m\u001b[0m\u001b[0m\n\u001b[0;32m      6\u001b[0m                 \u001b[1;32mtry\u001b[0m\u001b[1;33m:\u001b[0m\u001b[1;33m\u001b[0m\u001b[0m\n\u001b[1;32m----> 7\u001b[1;33m                     \u001b[0mterm\u001b[0m \u001b[1;33m=\u001b[0m \u001b[0mnext\u001b[0m\u001b[1;33m(\u001b[0m\u001b[0mt\u001b[0m \u001b[1;32mfor\u001b[0m \u001b[0mt\u001b[0m \u001b[1;32min\u001b[0m \u001b[0mUS\u001b[0m\u001b[1;33m.\u001b[0m\u001b[0mterminate\u001b[0m\u001b[1;33m(\u001b[0m\u001b[0mx\u001b[0m\u001b[1;33m)\u001b[0m\u001b[1;33m)\u001b[0m\u001b[1;33m\u001b[0m\u001b[0m\n\u001b[0m\u001b[0;32m      8\u001b[0m                 \u001b[1;32mexcept\u001b[0m \u001b[0mStopIteration\u001b[0m\u001b[1;33m:\u001b[0m\u001b[1;33m\u001b[0m\u001b[0m\n\u001b[0;32m      9\u001b[0m                     \u001b[0mprint\u001b[0m\u001b[1;33m(\u001b[0m\u001b[1;34m'No term found for %s'\u001b[0m \u001b[1;33m%\u001b[0m \u001b[0mx\u001b[0m\u001b[1;33m.\u001b[0m\u001b[0mflow\u001b[0m\u001b[1;33m)\u001b[0m\u001b[1;33m\u001b[0m\u001b[0m\n",
      "\u001b[1;32m/data/GitHub/lca-tools/lcatools/providers/base.py\u001b[0m in \u001b[0;36mterminate\u001b[1;34m(self, exchange, refs_only)\u001b[0m\n\u001b[0;32m    272\u001b[0m         \u001b[1;33m:\u001b[0m\u001b[1;32mreturn\u001b[0m\u001b[1;33m:\u001b[0m\u001b[1;33m\u001b[0m\u001b[0m\n\u001b[0;32m    273\u001b[0m         \"\"\"\n\u001b[1;32m--> 274\u001b[1;33m         \u001b[1;32mfor\u001b[0m \u001b[0mp\u001b[0m \u001b[1;32min\u001b[0m \u001b[0mself\u001b[0m\u001b[1;33m.\u001b[0m\u001b[0mprocesses\u001b[0m\u001b[1;33m(\u001b[0m\u001b[1;33m)\u001b[0m\u001b[1;33m:\u001b[0m\u001b[1;33m\u001b[0m\u001b[0m\n\u001b[0m\u001b[0;32m    275\u001b[0m             \u001b[1;32mif\u001b[0m \u001b[0mrefs_only\u001b[0m\u001b[1;33m:\u001b[0m\u001b[1;33m\u001b[0m\u001b[0m\n\u001b[0;32m    276\u001b[0m                 \u001b[1;32mtry\u001b[0m\u001b[1;33m:\u001b[0m\u001b[1;33m\u001b[0m\u001b[0m\n",
      "\u001b[1;32m/data/GitHub/lca-tools/lcatools/providers/base.py\u001b[0m in \u001b[0;36mprocesses\u001b[1;34m(self, dataframe, **kwargs)\u001b[0m\n\u001b[0;32m    243\u001b[0m \u001b[1;33m\u001b[0m\u001b[0m\n\u001b[0;32m    244\u001b[0m     \u001b[1;32mdef\u001b[0m \u001b[0mprocesses\u001b[0m\u001b[1;33m(\u001b[0m\u001b[0mself\u001b[0m\u001b[1;33m,\u001b[0m \u001b[0mdataframe\u001b[0m\u001b[1;33m=\u001b[0m\u001b[1;32mFalse\u001b[0m\u001b[1;33m,\u001b[0m \u001b[1;33m**\u001b[0m\u001b[0mkwargs\u001b[0m\u001b[1;33m)\u001b[0m\u001b[1;33m:\u001b[0m\u001b[1;33m\u001b[0m\u001b[0m\n\u001b[1;32m--> 245\u001b[1;33m         \u001b[0mp\u001b[0m \u001b[1;33m=\u001b[0m \u001b[0mself\u001b[0m\u001b[1;33m.\u001b[0m\u001b[0m_entities_by_type\u001b[0m\u001b[1;33m(\u001b[0m\u001b[1;34m'process'\u001b[0m\u001b[1;33m,\u001b[0m \u001b[1;33m**\u001b[0m\u001b[0mkwargs\u001b[0m\u001b[1;33m)\u001b[0m\u001b[1;33m\u001b[0m\u001b[0m\n\u001b[0m\u001b[0;32m    246\u001b[0m         \u001b[1;32mif\u001b[0m \u001b[0mdataframe\u001b[0m\u001b[1;33m:\u001b[0m\u001b[1;33m\u001b[0m\u001b[0m\n\u001b[0;32m    247\u001b[0m             \u001b[1;32mpass\u001b[0m  \u001b[1;31m# return self._to_pandas(p, LcProcess)\u001b[0m\u001b[1;33m\u001b[0m\u001b[0m\n",
      "\u001b[1;32m/data/GitHub/lca-tools/lcatools/interfaces.py\u001b[0m in \u001b[0;36m_entities_by_type\u001b[1;34m(self, entity_type, **kwargs)\u001b[0m\n\u001b[0;32m    312\u001b[0m \u001b[1;33m\u001b[0m\u001b[0m\n\u001b[0;32m    313\u001b[0m     \u001b[1;32mdef\u001b[0m \u001b[0m_entities_by_type\u001b[0m\u001b[1;33m(\u001b[0m\u001b[0mself\u001b[0m\u001b[1;33m,\u001b[0m \u001b[0mentity_type\u001b[0m\u001b[1;33m,\u001b[0m \u001b[1;33m**\u001b[0m\u001b[0mkwargs\u001b[0m\u001b[1;33m)\u001b[0m\u001b[1;33m:\u001b[0m\u001b[1;33m\u001b[0m\u001b[0m\n\u001b[1;32m--> 314\u001b[1;33m         \u001b[0mresult_set\u001b[0m \u001b[1;33m=\u001b[0m \u001b[1;33m[\u001b[0m\u001b[0mself\u001b[0m\u001b[1;33m.\u001b[0m\u001b[0m_get_entity\u001b[0m\u001b[1;33m(\u001b[0m\u001b[0mk\u001b[0m\u001b[1;33m)\u001b[0m \u001b[1;32mfor\u001b[0m \u001b[0mk\u001b[0m\u001b[1;33m,\u001b[0m \u001b[0mv\u001b[0m \u001b[1;32min\u001b[0m \u001b[0mself\u001b[0m\u001b[1;33m.\u001b[0m\u001b[0m_entities\u001b[0m\u001b[1;33m.\u001b[0m\u001b[0mitems\u001b[0m\u001b[1;33m(\u001b[0m\u001b[1;33m)\u001b[0m \u001b[1;32mif\u001b[0m \u001b[0mv\u001b[0m\u001b[1;33m[\u001b[0m\u001b[1;34m'EntityType'\u001b[0m\u001b[1;33m]\u001b[0m \u001b[1;33m==\u001b[0m \u001b[0mentity_type\u001b[0m\u001b[1;33m]\u001b[0m\u001b[1;33m\u001b[0m\u001b[0m\n\u001b[0m\u001b[0;32m    315\u001b[0m         \u001b[1;32mreturn\u001b[0m \u001b[0mself\u001b[0m\u001b[1;33m.\u001b[0m\u001b[0m_narrow_search\u001b[0m\u001b[1;33m(\u001b[0m\u001b[0mresult_set\u001b[0m\u001b[1;33m,\u001b[0m \u001b[1;33m**\u001b[0m\u001b[0mkwargs\u001b[0m\u001b[1;33m)\u001b[0m\u001b[1;33m\u001b[0m\u001b[0m\n\u001b[0;32m    316\u001b[0m \u001b[1;33m\u001b[0m\u001b[0m\n",
      "\u001b[1;32m/data/GitHub/lca-tools/lcatools/interfaces.py\u001b[0m in \u001b[0;36m<listcomp>\u001b[1;34m(.0)\u001b[0m\n\u001b[0;32m    312\u001b[0m \u001b[1;33m\u001b[0m\u001b[0m\n\u001b[0;32m    313\u001b[0m     \u001b[1;32mdef\u001b[0m \u001b[0m_entities_by_type\u001b[0m\u001b[1;33m(\u001b[0m\u001b[0mself\u001b[0m\u001b[1;33m,\u001b[0m \u001b[0mentity_type\u001b[0m\u001b[1;33m,\u001b[0m \u001b[1;33m**\u001b[0m\u001b[0mkwargs\u001b[0m\u001b[1;33m)\u001b[0m\u001b[1;33m:\u001b[0m\u001b[1;33m\u001b[0m\u001b[0m\n\u001b[1;32m--> 314\u001b[1;33m         \u001b[0mresult_set\u001b[0m \u001b[1;33m=\u001b[0m \u001b[1;33m[\u001b[0m\u001b[0mself\u001b[0m\u001b[1;33m.\u001b[0m\u001b[0m_get_entity\u001b[0m\u001b[1;33m(\u001b[0m\u001b[0mk\u001b[0m\u001b[1;33m)\u001b[0m \u001b[1;32mfor\u001b[0m \u001b[0mk\u001b[0m\u001b[1;33m,\u001b[0m \u001b[0mv\u001b[0m \u001b[1;32min\u001b[0m \u001b[0mself\u001b[0m\u001b[1;33m.\u001b[0m\u001b[0m_entities\u001b[0m\u001b[1;33m.\u001b[0m\u001b[0mitems\u001b[0m\u001b[1;33m(\u001b[0m\u001b[1;33m)\u001b[0m \u001b[1;32mif\u001b[0m \u001b[0mv\u001b[0m\u001b[1;33m[\u001b[0m\u001b[1;34m'EntityType'\u001b[0m\u001b[1;33m]\u001b[0m \u001b[1;33m==\u001b[0m \u001b[0mentity_type\u001b[0m\u001b[1;33m]\u001b[0m\u001b[1;33m\u001b[0m\u001b[0m\n\u001b[0m\u001b[0;32m    315\u001b[0m         \u001b[1;32mreturn\u001b[0m \u001b[0mself\u001b[0m\u001b[1;33m.\u001b[0m\u001b[0m_narrow_search\u001b[0m\u001b[1;33m(\u001b[0m\u001b[0mresult_set\u001b[0m\u001b[1;33m,\u001b[0m \u001b[1;33m**\u001b[0m\u001b[0mkwargs\u001b[0m\u001b[1;33m)\u001b[0m\u001b[1;33m\u001b[0m\u001b[0m\n\u001b[0;32m    316\u001b[0m \u001b[1;33m\u001b[0m\u001b[0m\n",
      "\u001b[1;32m/data/GitHub/lca-tools/lcatools/entities.py\u001b[0m in \u001b[0;36m__getitem__\u001b[1;34m(self, item)\u001b[0m\n\u001b[0;32m    194\u001b[0m             \u001b[1;32mreturn\u001b[0m \u001b[0mself\u001b[0m\u001b[1;33m.\u001b[0m\u001b[0mreference_entity\u001b[0m\u001b[1;33m\u001b[0m\u001b[0m\n\u001b[0;32m    195\u001b[0m         \u001b[1;32melif\u001b[0m \u001b[0mitem\u001b[0m \u001b[1;33m==\u001b[0m \u001b[1;34m'EntityType'\u001b[0m\u001b[1;33m:\u001b[0m\u001b[1;33m\u001b[0m\u001b[0m\n\u001b[1;32m--> 196\u001b[1;33m             \u001b[1;32mreturn\u001b[0m \u001b[0mself\u001b[0m\u001b[1;33m.\u001b[0m\u001b[0mentity_type\u001b[0m\u001b[1;33m\u001b[0m\u001b[0m\n\u001b[0m\u001b[0;32m    197\u001b[0m         \u001b[1;32melse\u001b[0m\u001b[1;33m:\u001b[0m\u001b[1;33m\u001b[0m\u001b[0m\n\u001b[0;32m    198\u001b[0m             \u001b[1;31m# don't catch KeyErrors here-- leave that to subclasses\u001b[0m\u001b[1;33m\u001b[0m\u001b[1;33m\u001b[0m\u001b[0m\n",
      "\u001b[1;31mKeyboardInterrupt\u001b[0m: "
     ]
    }
   ],
   "source": [
    "for p in US.search(entity_type='process'):\n",
    "    print('\\n%s' % p['Name'])\n",
    "    for x in p.exchanges():\n",
    "        if x.direction == 'Input':\n",
    "            if x.flow['Name'].find('CUTOFF') == -1:\n",
    "                try:\n",
    "                    term = next(t for t in US.terminate(x))\n",
    "                except StopIteration:\n",
    "                    print('No term found for %s' % x.flow)"
   ]
  },
  {
   "cell_type": "code",
   "execution_count": 117,
   "metadata": {
    "collapsed": false
   },
   "outputs": [],
   "source": [
    "p = US['Sawn lumber, hardwood, rough, green, at sawmill, SE']"
   ]
  },
  {
   "cell_type": "code",
   "execution_count": 118,
   "metadata": {
    "collapsed": false
   },
   "outputs": [
    {
     "name": "stdout",
     "output_type": "stream",
     "text": [
      "Process Entity (ref Sawn lumber, hardwood, rough, green, at sawmill, SE)\n",
      "           Name: Sawn lumber, hardwood, rough, green, at sawmill, SE\n",
      "        Comment: Allocation based on mass.\n",
      "Important note: although most of the data in the US LCI database has \n",
      "undergone some sort of review, the database as a whole has not yet \n",
      "undergone a formal validation process.\n",
      "Please email comments to lci@nrel.gov.\n",
      "  TemporalScope: {'end': '2006-01-01-07:00', 'begin': '2005-01-01-07:00'}\n",
      "   SpatialScope: RNA\n",
      "Classifications: ['Wood Product Manufacturing', 'Sawmills']\n"
     ]
    }
   ],
   "source": [
    "p.show()"
   ]
  },
  {
   "cell_type": "code",
   "execution_count": 127,
   "metadata": {
    "collapsed": false
   },
   "outputs": [
    {
     "name": "stdout",
     "output_type": "stream",
     "text": [
      "Sawn lumber, hardwood, rough, green, at sawmill, SE [RNA]\n",
      " 0  Input:     [9.15e-09 [m3]] Natural gas, combusted in industrial equipment [Steam and Air-Conditioning Supply]\n",
      " 1  Input:     [0.000115 [l]] Gasoline, combusted in equipment [Steam and Air-Conditioning Supply]\n",
      " 2  Input:     [0.00114 [kg]] CUTOFF Disposal, solid waste, unspecified, to inert material landfill [None]\n",
      " 3  Input:     [0.000467 [kg]] CUTOFF Recycling, wood waste, unspecified [None]\n",
      " 4  Input:     [0.00111 [l]] Diesel, combusted in industrial equipment [Steam and Air-Conditioning Supply]\n",
      " 5  Input:     [0.0282 [kg]] Bark, hardwood, green, at logyard, SE [Forestry and Logging]\n",
      " 6  Input:     [0.00546 [kWh]] Electricity, onsite boiler, hardwood mill, average, SE [Steam and Air-Conditioning Supply]\n",
      " 7  Input:     [0.00319 [m3]] Roundwood, hardwood, green, at logyard, SE [Forestry and Logging]\n",
      " 8  Input:     [0.0978 [kWh]] Electricity, at grid, Eastern US, 2000 [Electric Power Distribution]\n",
      " 9 Output: {*} [1 [kg]] Sawn lumber, hardwood, rough, green, at sawmill, SE [Sawmills]\n",
      "10 Output:     [0.371 [kg]] Wood chips, hardwood, green, at sawmill, SE [Sawmills]\n",
      "11 Output:     [0.0353 [kg]] Bark, hardwood, green, at sawmill, SE [Sawmills]\n",
      "12 Output:     [0.0549 [kg]] Sawdust, hardwood, green, at sawmill, SE [Sawmills]\n",
      "13 Output: {*} [0.127 [kg]] Wood fuel, hardwood, green,at sawmill, SE [Sawmills]\n",
      "14 Output:     [0.167 [kg]] Hogged fuel, hardwood, green, at sawmill, SE [Sawmills]\n"
     ]
    }
   ],
   "source": [
    "xs = p.inventory()"
   ]
  },
  {
   "cell_type": "code",
   "execution_count": 73,
   "metadata": {
    "collapsed": false
   },
   "outputs": [],
   "source": [
    "for j in (26, 27, 29, 31):\n",
    "    p.remove_reference(xs[j])"
   ]
  },
  {
   "cell_type": "code",
   "execution_count": 102,
   "metadata": {
    "collapsed": true
   },
   "outputs": [],
   "source": [
    "p.remove_reference(xs[10])"
   ]
  },
  {
   "cell_type": "code",
   "execution_count": 126,
   "metadata": {
    "collapsed": false
   },
   "outputs": [
    {
     "data": {
      "text/plain": [
       "<lcatools.exchanges.Exchange at 0x7fc35c8ad2e8>"
      ]
     },
     "execution_count": 126,
     "metadata": {},
     "output_type": "execute_result"
    }
   ],
   "source": [
    "p.add_reference(xs[13].flow, 'Output')"
   ]
  },
  {
   "cell_type": "code",
   "execution_count": 125,
   "metadata": {
    "collapsed": false
   },
   "outputs": [],
   "source": [
    "X = [x for x in US.terminate(xs[14])]\n",
    "for i in X:\n",
    "    #i.inventory()\n",
    "    print(str(i))"
   ]
  },
  {
   "cell_type": "code",
   "execution_count": 107,
   "metadata": {
    "collapsed": false
   },
   "outputs": [
    {
     "name": "stdout",
     "output_type": "stream",
     "text": [
      "Flow Entity (ref 31387)\n",
      "       Name: Electricity, at coated freesheet mill\n",
      "    Comment: Produced as byproduct of pulp production. Sold i.e., not used on site. Allocation set to 0%.\n",
      "Compartment: ['Paper Manufacturing', 'Pulp, Paper, and Paperboard Mills']\n",
      "  CasNumber: \n",
      "Electricity, at coated freesheet mill [Pulp, Paper, and Paperboard Mills]\n",
      " 0          1                  kWh == kWh(*)EcoSpold Quantity kWh [kWh]\n",
      " \n",
      "Flow Entity (ref 31389)\n",
      "       Name: Steam, at coated freesheet mill\n",
      "    Comment: Produced as byproduct of pulp production. Sold i.e., not used on site. Allocation set to 0%.\n",
      "Compartment: ['Paper Manufacturing', 'Pulp, Paper, and Paperboard Mills']\n",
      "  CasNumber: \n",
      "Steam, at coated freesheet mill [Pulp, Paper, and Paperboard Mills]\n",
      " 0          1                   MJ == MJ(*)EcoSpold Quantity MJ [MJ]\n",
      " \n",
      "Flow Entity (ref 31381)\n",
      "       Name: Paper, freesheet, coated, average production, at mill\n",
      "    Comment: 861.83 dry kg is equal to 1 market-dried short ton (5% water).\n",
      "Compartment: ['Paper Manufacturing', 'Pulp, Paper, and Paperboard Mills']\n",
      "  CasNumber: \n",
      "Paper, freesheet, coated, average production, at mill [Pulp, Paper, and Paperboard Mills]\n",
      " 0          1                   kg == kg(*)EcoSpold Quantity kg [kg]\n",
      " \n",
      "Flow Entity (ref 31383)\n",
      "       Name: Turpentine, at coated freesheet mill\n",
      "    Comment: Produced as byproduct of pulp production. Sold i.e., not used on site. Allocation set to 0%.\n",
      "Compartment: ['Paper Manufacturing', 'Pulp, Paper, and Paperboard Mills']\n",
      "  CasNumber: \n",
      "Turpentine, at coated freesheet mill [Pulp, Paper, and Paperboard Mills]\n",
      " 0          1                   kg == kg(*)EcoSpold Quantity kg [kg]\n",
      " \n",
      "Flow Entity (ref 31385)\n",
      "       Name: Tall oil, at coated freesheet mill\n",
      "    Comment: Produced as byproduct of pulp production. Sold i.e., not used on site. Allocation set to 0%.\n",
      "Compartment: ['Paper Manufacturing', 'Pulp, Paper, and Paperboard Mills']\n",
      "  CasNumber: \n",
      "Tall oil, at coated freesheet mill [Pulp, Paper, and Paperboard Mills]\n",
      " 0          1                   kg == kg(*)EcoSpold Quantity kg [kg]\n",
      " \n"
     ]
    }
   ],
   "source": [
    "for x in p.reference_entity:\n",
    "    x.flow.show()\n",
    "    x.flow.profile()\n",
    "    print(' ')"
   ]
  },
  {
   "cell_type": "code",
   "execution_count": 782,
   "metadata": {
    "collapsed": false
   },
   "outputs": [
    {
     "data": {
      "text/plain": [
       "['Wood fuel, hardwood, gen at lumber mill, combusted in industrial boiler, NE-NC [RNA]',\n",
       " 'Sawn lumber, hardwood, planed, kiln dried, at planer mill, NE-NC [RNA]']"
      ]
     },
     "execution_count": 782,
     "metadata": {},
     "output_type": "execute_result"
    }
   ],
   "source": [
    "[str(x.process) for x in US.exchanges(xs[2].flow)]"
   ]
  },
  {
   "cell_type": "code",
   "execution_count": 38,
   "metadata": {
    "collapsed": true
   },
   "outputs": [],
   "source": [
    "P = X[1]"
   ]
  },
  {
   "cell_type": "code",
   "execution_count": 39,
   "metadata": {
    "collapsed": false
   },
   "outputs": [
    {
     "name": "stdout",
     "output_type": "stream",
     "text": [
      " Input:     [158 [kWh]] Electricity, at grid, US, 2000 [Electric Power Distribution]\n",
      "   # * Electricity, at grid, US, 2000 [RNA]\n",
      " \n",
      " Input:     [0.103 [kg]] CUTOFF Disposal, fly ash, to unspecified landfill [None]\n",
      " \n",
      " Input:     [27 [kg]] Wood, particleboard, generated onsite, combusted in industrial boiler [Steam and Air-Conditioning Supply]\n",
      "   # * Wood, particleboard, generated on-site, combusted in industrial boiler [RNA]\n",
      " \n",
      " Input:     [42.3 [kg]] Sawdust, at rough green lumber production, US PNW [Sawmills]\n",
      "   # * Rough green lumber processing, at sawmill, US PNW [RNA]\n",
      " \n",
      " Input:     [130 [t*km]] Transport, combination truck, diesel powered [General Freight Trucking]\n",
      "   # * Transport, combination truck, diesel powered [RNA]\n",
      " \n",
      " Input:     [113 [kg]] Planer shavings, from dried lumber, at planer mill, US PNW [Cut Stock, Resawing Lumber, and Planing]\n",
      "   # * Planed dried lumber processing, at planer mill, US PNW [RNA]\n",
      " \n",
      " Input:     [32 [kg]] Planer shavings, from green lumber, at planer mill, US PNW [Cut Stock, Resawing Lumber, and Planing]\n",
      "   # * Planed green lumber processing, at planer mill, US PNW [RNA]\n",
      " \n",
      " Input:     [30 [m3]] Natural gas, combusted in industrial boiler [Steam and Air-Conditioning Supply]\n",
      "   # * Natural gas, combusted in industrial boiler [RNA]\n",
      " \n",
      " Input:     [30 [kg]] Panel trim, from trim and saw at plywood plant, US PNW [Softwood Veneer and Plywood Manufacturing]\n",
      "   # * Trim and saw process, at plywood plant, US PNW [RNA]\n",
      " \n",
      " Input:     [0.06 [l]] Diesel, combusted in industrial boiler [Steam and Air-Conditioning Supply]\n",
      "   # * Diesel, combusted in industrial boiler [RNA]\n",
      " \n",
      " Input:     [292 [kg]] Planer shavings, at planer mill, US SE [Cut Stock, Resawing Lumber, and Planing]\n",
      "   # * Planed dried lumber processing, at planer mill, US SE [RNA]\n",
      " \n",
      " Input:     [105 [kg]] Urea formaldehyde resin, neat, 65% solids [Support for Agriculture and Forestry]\n",
      "   # * Urea formaldehyde resin, neat, 65% solids [RNA]\n",
      " \n",
      " Input:     [49 [kg]] Pulp chips, from dried lumber, at planer mill, US PNW [Cut Stock, Resawing Lumber, and Planing]\n",
      "   # * Planed dried lumber processing, at planer mill, US PNW [RNA]\n",
      " \n",
      " Input:     [57 [kg]] Pulp chips, at sawmill, US SE [Sawmills]\n",
      "   # * Rough green lumber processing, at sawmill, US SE [RNA]\n",
      " \n",
      " Input:     [3.1 [kg]] Fines, at oriented strand board production, US SE [Engineered Wood Member (ex. Truss) Manufacturing]\n",
      "   # * Oriented strand board processsing, at plant, US SE [RNA]\n",
      " \n",
      " Input:     [0.02 [l]] Gasoline, combusted in equipment [Steam and Air-Conditioning Supply]\n",
      "   # * Gasoline, combusted in equipment [RNA]\n",
      " \n",
      " Input:     [49.7 [kg]] Sawdust, at sawmill, US SE [Sawmills]\n",
      "   # * Rough green lumber processing, at sawmill, US SE [RNA]\n",
      " \n",
      " Input:     [2.4 [kg]] CUTOFF Ammonium sulfate 30% solids [None]\n",
      " \n",
      " Input:     [7.25 [kg]] CUTOFF Urea 40% solids [None]\n",
      " \n",
      " Input:     [3 [kg]] Pulp chips, at rough green lumber production, US PNW [Sawmills]\n",
      "   # * Rough green lumber processing, at sawmill, US PNW [RNA]\n",
      " \n",
      " Input:     [0.26 [l]] Diesel, combusted in industrial equipment [Steam and Air-Conditioning Supply]\n",
      "   # * Diesel, combusted in industrial equipment [RNA]\n",
      " \n",
      " Input:     [0.4 [kg]] CUTOFF Wood waste, unspecified [None]\n",
      " \n",
      " Input:     [4.72 [kg]] CUTOFF Emulsion wax 53% solids [None]\n",
      " \n",
      " Input:     [0.33 [l]] Liquefied petroleum gas, combusted in industrial boiler [Steam and Air-Conditioning Supply]\n",
      "   # * Liquefied petroleum gas, combusted in industrial boiler [RNA]\n",
      " \n",
      " Input:     [0.304 [m3]] Water, process [unspecified]\n",
      " \n"
     ]
    }
   ],
   "source": [
    "for x in P.exchanges():\n",
    "    if x.direction == 'Input':\n",
    "        print('%s' % x)\n",
    "        for t in US.terminate(x, refs_only=True):\n",
    "            ref = '*' * len([r for r in t.references(x.flow)])\n",
    "            print('   # %s %s' % (ref, t))\n",
    "        print(' ')"
   ]
  },
  {
   "cell_type": "code",
   "execution_count": 298,
   "metadata": {
    "collapsed": false
   },
   "outputs": [
    {
     "name": "stdout",
     "output_type": "stream",
     "text": [
      "Flow Entity\n",
      "ext. ref 37572\n",
      "       Name: Reforesting, average state or private moist cold softwood forest, INW\n",
      "    Comment: \n",
      "  CasNumber: \n",
      "Compartment: ['Forestry and Logging', 'Logging']\n"
     ]
    }
   ],
   "source": [
    "xs[7].flow.show()"
   ]
  },
  {
   "cell_type": "code",
   "execution_count": 216,
   "metadata": {
    "collapsed": false
   },
   "outputs": [
    {
     "data": {
      "text/plain": [
       "0.0018181818181818182"
      ]
     },
     "execution_count": 216,
     "metadata": {},
     "output_type": "execute_result"
    }
   ],
   "source": [
    "1/550"
   ]
  },
  {
   "cell_type": "code",
   "execution_count": 214,
   "metadata": {
    "collapsed": false
   },
   "outputs": [
    {
     "name": "stdout",
     "output_type": "stream",
     "text": [
      "Flow Entity\n",
      "ext. ref 39102\n",
      "       Name: Bark, hardwood, green, at sawmill, SE\n",
      "    Comment: Oven-dried weight. 100%MC dry basis; roughly half of bark is burned for fuel (49%) and the rest is for mulch (51%)\n",
      "  CasNumber: \n",
      "Compartment: ['Wood Product Manufacturing', 'Sawmills']\n",
      "Flow Entity\n",
      "ext. ref 6014\n",
      "       Name: Bark, hardwood, green, at veneer mill, E\n",
      "    Comment: \n",
      "  CasNumber: \n",
      "Compartment: ['Wood Product Manufacturing', 'Softwood Veneer and Plywood Manufacturing']\n",
      "Flow Entity\n",
      "ext. ref 38233\n",
      "       Name: Bark, hardwood, green, at logyard, SE\n",
      "    Comment: Oven-dried weight; specific gravity of 0.558 and 100% MC dry basis\n",
      "  CasNumber: \n",
      "Compartment: ['Wood Product Manufacturing', 'Forestry and Logging']\n",
      "Flow Entity\n",
      "ext. ref 14237\n",
      "       Name: Bucked and debarked log, hardwood, green, at veneer mill, E \n",
      "    Comment: \n",
      "  CasNumber: \n",
      "Compartment: ['Wood Product Manufacturing', 'Softwood Veneer and Plywood Manufacturing']\n",
      "Flow Entity\n",
      "ext. ref 38307\n",
      "       Name: CUTOFF Bark, hardwood, at forest road, SE\n",
      "    Comment: Oven-dried weight; specific gravity of 0.558 and 85% MC ,od basis\n",
      "  CasNumber: \n",
      "Compartment: ['CUTOFF Flows', None]\n",
      "Flow Entity\n",
      "ext. ref 13802\n",
      "       Name: Bark, hardwood, average, Low Intensity Management, NE-NC\n",
      "    Comment: \n",
      "  CasNumber: \n",
      "Compartment: ['Forestry and Logging', 'Logging']\n",
      "Flow Entity\n",
      "ext. ref 39009\n",
      "       Name: Bark, hardwood, green, at sawmill, NE-NC\n",
      "    Comment: Weight reported on an ovendry basis.  Moisture content (ovendry basis) = 87%\n",
      "  CasNumber: \n",
      "Compartment: ['Wood Product Manufacturing', 'Sawmills']\n",
      "Flow Entity\n",
      "ext. ref 13808\n",
      "       Name: Bark, hardwood, average, at forest road, NE-NC\n",
      "    Comment: \n",
      "  CasNumber: \n",
      "Compartment: ['Forestry and Logging', 'Logging']\n",
      "Flow Entity\n",
      "ext. ref 13804\n",
      "       Name: Bark, hardwood, average, Med Intensity Management, NE-NC\n",
      "    Comment: \n",
      "  CasNumber: \n",
      "Compartment: ['Forestry and Logging', 'Logging']\n",
      "Flow Entity\n",
      "ext. ref 14239\n",
      "       Name: Bark, hardwood, green, at mill, E\n",
      "    Comment: \n",
      "  CasNumber: \n",
      "Compartment: ['Wood Product Manufacturing', 'Forestry and Logging']\n",
      "Flow Entity\n",
      "ext. ref 13806\n",
      "       Name: Bark, hardwood, average, High Intensity Management, NE-NC\n",
      "    Comment: \n",
      "  CasNumber: \n",
      "Compartment: ['Forestry and Logging', 'Logging']\n",
      "Flow Entity\n",
      "ext. ref 38225\n",
      "       Name: Bark, hardwood, green, at mill, SE\n",
      "    Comment: Weight reported on an ovendry basis. \n",
      "  CasNumber: \n",
      "Compartment: ['Wood Product Manufacturing', 'Forestry and Logging']\n",
      "Flow Entity\n",
      "ext. ref 38189\n",
      "       Name: Bark, hardwood, green, at mill, NE-NC\n",
      "    Comment: \n",
      "  CasNumber: \n",
      "Compartment: ['Wood Product Manufacturing', 'Forestry and Logging']\n",
      "Flow Entity\n",
      "ext. ref 38191\n",
      "       Name: Bark, hardwood, green, at logyard, NE-NC\n",
      "    Comment: Weight reported on an ovendry basis.  Moisture content (ovendry basis) = 87%\n",
      "  CasNumber: \n",
      "Compartment: ['Forestry and Logging', 'Logging']\n"
     ]
    }
   ],
   "source": [
    "for f in US.search(entity_type='flow', Name=('bark', 'hard')):\n",
    "    f.show()"
   ]
  },
  {
   "cell_type": "code",
   "execution_count": 77,
   "metadata": {
    "collapsed": false
   },
   "outputs": [
    {
     "name": "stdout",
     "output_type": "stream",
     "text": [
      "Bark, softwood, national forest, average, at forest road, INW [RNA]\n",
      " 0  Input:     [0.5 [kg]] Bark, softwood, national forest, steep slope, at forest road, INW [Logging]\n",
      " 1  Input:     [0.5 [kg]] Bark, softwood, national forest, gentle slope, at forest road, INW [Logging]\n",
      " 2 Output: {*} [1 [kg]] Bark, softwood, national forest, average, at forest road, INW [Logging]\n",
      "Bark, softwood, average, at forest road, INW [RNA]\n",
      " 0  Input:     [0.605 [kg]] Bark, softwood, average, state or private moist cold forest, at forest road, INW [Logging]\n",
      " 1  Input:     [0.0936 [kg]] Bark, softwood, national forest, average, at forest road, INW [Logging]\n",
      " 2  Input:     [0.301 [kg]] Bark, softwood, average, state or private dry forest, at forest road, INW [Logging]\n",
      " 3 Output: {*} [1 [kg]] Bark, softwood, average, at forest road, INW [Logging]\n"
     ]
    },
    {
     "data": {
      "text/plain": [
       "[[<lcatools.exchanges.ExchangeValue at 0x7fa82c4b3ac8>,\n",
       "  <lcatools.exchanges.ExchangeValue at 0x7fa82c4b3b38>,\n",
       "  <lcatools.exchanges.ExchangeValue at 0x7fa82c4b3b00>,\n",
       "  <lcatools.exchanges.ExchangeValue at 0x7fa82c4b3ba8>]]"
      ]
     },
     "execution_count": 77,
     "metadata": {},
     "output_type": "execute_result"
    }
   ],
   "source": [
    "[x.inventory() for x in US.terminate(X[1].process.inventory()[2])]"
   ]
  },
  {
   "cell_type": "code",
   "execution_count": 82,
   "metadata": {
    "collapsed": false
   },
   "outputs": [
    {
     "name": "stdout",
     "output_type": "stream",
     "text": [
      "Bark, softwood, average, at forest road, INW [RNA]\n",
      " 0  Input:     [0.605 [kg]] Bark, softwood, average, state or private moist cold forest, at forest road, INW [Logging]\n",
      " 1  Input:     [0.0936 [kg]] Bark, softwood, national forest, average, at forest road, INW [Logging]\n",
      " 2  Input:     [0.301 [kg]] Bark, softwood, average, state or private dry forest, at forest road, INW [Logging]\n",
      " 3 Output: {*} [1 [kg]] Bark, softwood, average, at forest road, INW [Logging]\n",
      "Roundwood, softwood, green, at mill, INW [RNA]\n",
      " 0  Input:     [0.0739 [kg]] Bark, softwood, average, at forest road, INW [Logging]\n",
      " 1  Input:     [0.00244 [m3]] Roundwood, softwood, average, at forest road, INW [Logging]\n",
      " 2  Input:     [0.222 [t*km]] Transport, combination truck, diesel powered [General Freight Trucking]\n",
      " 3 Output: {*} [0.0739 [kg]] Bark, softwood, green, at mill, INW [Logging]\n",
      " 4 Output: {*} [1 [kg]] Roundwood, softwood, green, at mill, INW [Logging]\n"
     ]
    },
    {
     "data": {
      "text/plain": [
       "[[<lcatools.exchanges.ExchangeValue at 0x7fa82cb92048>,\n",
       "  <lcatools.exchanges.ExchangeValue at 0x7fa82cb72fd0>,\n",
       "  <lcatools.exchanges.ExchangeValue at 0x7fa82cb72f98>,\n",
       "  <lcatools.exchanges.ExchangeValue at 0x7fa82cb92128>,\n",
       "  <lcatools.exchanges.ExchangeValue at 0x7fa82cb920b8>]]"
      ]
     },
     "execution_count": 82,
     "metadata": {},
     "output_type": "execute_result"
    }
   ],
   "source": [
    "[x.inventory() for x in US.terminate(US['Bark, softwood, average, at forest road, INW'].inventory()[3])]"
   ]
  },
  {
   "cell_type": "code",
   "execution_count": 61,
   "metadata": {
    "collapsed": true
   },
   "outputs": [],
   "source": [
    "p.remove_reference(xs[163])"
   ]
  },
  {
   "cell_type": "code",
   "execution_count": 31,
   "metadata": {
    "collapsed": true
   },
   "outputs": [],
   "source": [
    "p.remove_reference(xs[163])"
   ]
  },
  {
   "cell_type": "code",
   "execution_count": 38,
   "metadata": {
    "collapsed": false
   },
   "outputs": [
    {
     "name": "stdout",
     "output_type": "stream",
     "text": [
      "Output: {*} [114 [MJ]] Steam, at bleached kraft market pulp mill [Pulp, Paper, and Paperboard Mills]\n",
      "Pulp, kraft market, bleached, average production, at mill\n"
     ]
    }
   ],
   "source": [
    "X = [x for x in US.exchanges(xs[71].flow)]\n",
    "for x in X:\n",
    "    print(str(x))\n",
    "    print(x.process['Name'])"
   ]
  },
  {
   "cell_type": "code",
   "execution_count": 12,
   "metadata": {
    "collapsed": false
   },
   "outputs": [
    {
     "name": "stdout",
     "output_type": "stream",
     "text": [
      "Veneer, hardwood, green, at veneer mill, E [RNA]\n",
      " 0  Input:     [0.00453 [m3]] Conditioned log, hardwood, green, at veneer mill, E [Forestry and Logging]\n",
      " 1  Input:     [0.000654 [l]] Diesel, combusted in industrial equipment [Steam and Air-Conditioning Supply]\n",
      " 2  Input:     [0.000158 [l]] Gasoline, combusted in equipment [Steam and Air-Conditioning Supply]\n",
      " 3  Input:     [8.16e-07 [m3]] Natural gas, combusted in industrial equipment [Steam and Air-Conditioning Supply]\n",
      " 4  Input:     [0.245 [kWh]] Electricity, at grid, Eastern US, 2000 [Electric Power Distribution]\n",
      " 5 Output: {*} [0.33 [kg]] Wood fuel, hardwood, green, at veneer mill, E [Softwood Veneer and Plywood Manufacturing]\n",
      " 6 Output: {*} [1 [kg]] Veneer, hardwood, green, at veneer mill, E [Softwood Veneer and Plywood Manufacturing]\n",
      " 7 Output: {*} [0.982 [kg]] Wood chips, hardwood, green, at veneer mill, E [Softwood Veneer and Plywood Manufacturing]\n"
     ]
    },
    {
     "data": {
      "text/plain": [
       "[<lcatools.exchanges.ExchangeValue at 0x7fa82be82d30>,\n",
       " <lcatools.exchanges.ExchangeValue at 0x7fa82be82c50>,\n",
       " <lcatools.exchanges.ExchangeValue at 0x7fa82be82cc0>,\n",
       " <lcatools.exchanges.ExchangeValue at 0x7fa82be82c88>,\n",
       " <lcatools.exchanges.ExchangeValue at 0x7fa82be82cf8>,\n",
       " <lcatools.exchanges.ExchangeValue at 0x7fa82be82e80>,\n",
       " <lcatools.exchanges.ExchangeValue at 0x7fa82be82e10>,\n",
       " <lcatools.exchanges.ExchangeValue at 0x7fa82be82da0>]"
      ]
     },
     "execution_count": 12,
     "metadata": {},
     "output_type": "execute_result"
    }
   ],
   "source": [
    "X[2].process.inventory()"
   ]
  },
  {
   "cell_type": "code",
   "execution_count": 15,
   "metadata": {
    "collapsed": false
   },
   "outputs": [
    {
     "name": "stdout",
     "output_type": "stream",
     "text": [
      "Output: {*} [1 [m3]] Bucked and debarked log, hardwood, green, at veneer mill, E  [Softwood Veneer and Plywood Manufacturing]\n",
      "Bucked and debarked log, hardwood, green, at veneer mill, E\n",
      " Input:     [1 [m3]] Bucked and debarked log, hardwood, green, at veneer mill, E  [Softwood Veneer and Plywood Manufacturing]\n",
      "Conditioned log, hardwood, green, at veneer mill, E\n"
     ]
    }
   ],
   "source": [
    "X = [x for x in US.exchanges(xs[9].flow)]\n",
    "for x in X:\n",
    "    print(str(x))\n",
    "    print(x.process['Name'])"
   ]
  },
  {
   "cell_type": "code",
   "execution_count": 14,
   "metadata": {
    "collapsed": false
   },
   "outputs": [],
   "source": [
    "terms = [t for t in US.terminate(xs[8], refs_only=True)]"
   ]
  },
  {
   "cell_type": "code",
   "execution_count": null,
   "metadata": {
    "collapsed": true
   },
   "outputs": [],
   "source": [
    "p.remove_reference()"
   ]
  },
  {
   "cell_type": "code",
   "execution_count": 39,
   "metadata": {
    "collapsed": false
   },
   "outputs": [
    {
     "data": {
      "text/plain": [
       "['EcoSpold Quantity t [t]',\n",
       " 'EcoSpold Quantity Bq [Bq]',\n",
       " 'EcoSpold Quantity l [l]',\n",
       " 'EcoSpold Quantity m3 [m3]',\n",
       " 'EcoSpold Quantity btu [btu]',\n",
       " 'EcoSpold Quantity m [m]',\n",
       " 'EcoSpold Quantity m2 [m2]',\n",
       " 'EcoSpold Quantity kBq [kBq]',\n",
       " 'EcoSpold Quantity Item(s) [Item(s)]',\n",
       " 'EcoSpold Quantity kg*km [kg*km]',\n",
       " 'EcoSpold Quantity h [h]',\n",
       " 'EcoSpold Quantity MJ [MJ]',\n",
       " 'EcoSpold Quantity ha [ha]',\n",
       " 'EcoSpold Quantity t*km [t*km]',\n",
       " 'EcoSpold Quantity USD [USD]',\n",
       " 'EcoSpold Quantity p*km [p*km]',\n",
       " 'EcoSpold Quantity kg [kg]',\n",
       " 'EcoSpold Quantity m2*a [m2*a]',\n",
       " 'EcoSpold Quantity kWh [kWh]',\n",
       " 'EcoSpold Quantity sh tn [sh tn]']"
      ]
     },
     "execution_count": 39,
     "metadata": {},
     "output_type": "execute_result"
    }
   ],
   "source": [
    "[str(q) for q in US.quantities()]"
   ]
  },
  {
   "cell_type": "code",
   "execution_count": 15,
   "metadata": {
    "collapsed": false
   },
   "outputs": [
    {
     "ename": "IndexError",
     "evalue": "list index out of range",
     "output_type": "error",
     "traceback": [
      "\u001b[1;31m---------------------------------------------------------------------------\u001b[0m",
      "\u001b[1;31mIndexError\u001b[0m                                Traceback (most recent call last)",
      "\u001b[1;32m<ipython-input-15-012f2f7ff2c2>\u001b[0m in \u001b[0;36m<module>\u001b[1;34m()\u001b[0m\n\u001b[1;32m----> 1\u001b[1;33m \u001b[0mterms\u001b[0m\u001b[1;33m[\u001b[0m\u001b[1;36m0\u001b[0m\u001b[1;33m]\u001b[0m\u001b[1;33m.\u001b[0m\u001b[0minventory\u001b[0m\u001b[1;33m(\u001b[0m\u001b[1;33m)\u001b[0m\u001b[1;33m\u001b[0m\u001b[0m\n\u001b[0m",
      "\u001b[1;31mIndexError\u001b[0m: list index out of range"
     ]
    }
   ],
   "source": [
    "terms[0].inventory()"
   ]
  },
  {
   "cell_type": "code",
   "execution_count": 22,
   "metadata": {
    "collapsed": false
   },
   "outputs": [
    {
     "name": "stdout",
     "output_type": "stream",
     "text": [
      "Flow Entity\n",
      "       Name: Roundwood, softwood, average, at forest road, INW\n",
      "    Comment: \n",
      "  CasNumber: \n",
      "Compartment: ['Forestry and Logging', 'Logging']\n",
      "Flow Entity\n",
      "       Name: Roundwood, softwood, average, state or private dry forest, at forest road, INW\n",
      "    Comment: \n",
      "  CasNumber: \n",
      "Compartment: ['Forestry and Logging', 'Logging']\n",
      "Flow Entity\n",
      "       Name: Roundwood, sftwd, state-private moist cold forest, gentle slope, at frst rd, INW\n",
      "    Comment: \n",
      "  CasNumber: \n",
      "Compartment: ['Forestry and Logging', 'Logging']\n",
      "Flow Entity\n",
      "       Name: Roundwood, softwd, state or private dry forest, steep slope, at forest rd, INW\n",
      "    Comment: Ovendry density = 450 kg/m3\n",
      "  CasNumber: \n",
      "Compartment: ['Forestry and Logging', 'Logging']\n",
      "Flow Entity\n",
      "       Name: Roundwood, hardwood, average, Med Intensity Management, NE-NC\n",
      "    Comment: \n",
      "  CasNumber: \n",
      "Compartment: ['Forestry and Logging', 'Logging']\n",
      "Flow Entity\n",
      "       Name: Roundwood, hardwood, green, at mill, SE\n",
      "    Comment: oven-dried weight. Wood specific gravity of 0.528 and 85% MC dry basis.\n",
      "  CasNumber: \n",
      "Compartment: ['Wood Product Manufacturing', 'Forestry and Logging']\n",
      "Flow Entity\n",
      "       Name: Roundwood, softwood, average, Med Intensity Management, NE-NC\n",
      "    Comment: \n",
      "  CasNumber: \n",
      "Compartment: ['Forestry and Logging', 'Logging']\n",
      "Flow Entity\n",
      "       Name: Roundwood, softwood, green, at mill, NE-NC\n",
      "    Comment: Green volum specific gravity = 0.36.\n",
      "  CasNumber: \n",
      "Compartment: ['Forestry and Logging', 'Logging']\n",
      "Flow Entity\n",
      "       Name: Roundwood, softwood, green, at mill, INW\n",
      "    Comment:  Based on green specific gravity of 0.41 (od mass and green volume)\n",
      "  CasNumber: \n",
      "Compartment: ['Forestry and Logging', 'Logging']\n",
      "Flow Entity\n",
      "       Name: Roundwood, softwood, average, at forest road, NE-NC\n",
      "    Comment: \n",
      "  CasNumber: \n",
      "Compartment: ['Forestry and Logging', 'Logging']\n",
      "Flow Entity\n",
      "       Name: Roundwood, hardwood, average, High Intensity Management, NE-NC\n",
      "    Comment: \n",
      "  CasNumber: \n",
      "Compartment: ['Forestry and Logging', 'Logging']\n",
      "Flow Entity\n",
      "       Name: Roundwood, softwood, national forest, average, at forest road, INW\n",
      "    Comment: \n",
      "  CasNumber: \n",
      "Compartment: ['Forestry and Logging', 'Logging']\n",
      "Flow Entity\n",
      "       Name: Roundwood, sftwd, state-private moist cold forest, steep slope, at forest rd,INW\n",
      "    Comment: Ovendry density = 450 kg/m3\n",
      "  CasNumber: \n",
      "Compartment: ['Forestry and Logging', 'Logging']\n",
      "Flow Entity\n",
      "       Name: Roundwood, hardwood, green, at logyard, NE-NC\n",
      "    Comment: Surrogate for SE railroad tie production. Weight reported on an ovendry basis.  Moisture content (ovendry basis) = 87%\n",
      "  CasNumber: \n",
      "Compartment: ['Forestry and Logging', 'Logging']\n",
      "Flow Entity\n",
      "       Name: Roundwood, hardwood, green, at mill, NE-NC\n",
      "    Comment: 526 OD kg/m3\n",
      "  CasNumber: \n",
      "Compartment: ['Forestry and Logging', 'Logging']\n",
      "Flow Entity\n",
      "       Name: Roundwood, softwood, national forest, gentle slope, at forest road, INW\n",
      "    Comment: \n",
      "  CasNumber: \n",
      "Compartment: ['Forestry and Logging', 'Logging']\n",
      "Flow Entity\n",
      "       Name: Roundwood, hardwood, average, at forest road, NE-NC\n",
      "    Comment: \n",
      "  CasNumber: \n",
      "Compartment: ['Forestry and Logging', 'Logging']\n",
      "Flow Entity\n",
      "       Name: Roundwood, hardwood, green, at logyard, SE\n",
      "    Comment: oven-dried weight. Wood specific gravity of 0.528 and 85% MC dry basis.\n",
      "  CasNumber: \n",
      "Compartment: ['Wood Product Manufacturing', 'Forestry and Logging']\n",
      "Flow Entity\n",
      "       Name: Roundwood, softwd, avg, state or private moist cold forest, at forest rd, INW\n",
      "    Comment: \n",
      "  CasNumber: \n",
      "Compartment: ['Forestry and Logging', 'Logging']\n",
      "Flow Entity\n",
      "       Name: Roundwood, hardwood, green, at mill, E\n",
      "    Comment: \n",
      "  CasNumber: \n",
      "Compartment: ['Wood Product Manufacturing', 'Forestry and Logging']\n",
      "Flow Entity\n",
      "       Name: Roundwood, softwd, state or private dry forest, gentle slope, at forest rd, INW\n",
      "    Comment: Ovendry density = 450 kg/m3\n",
      "  CasNumber: \n",
      "Compartment: ['Forestry and Logging', 'Logging']\n",
      "Flow Entity\n",
      "       Name: CUTOFF Pulp slurry, groundwood, bleached, average production, at mill\n",
      "    Comment: \n",
      "  CasNumber: \n",
      "Compartment: ['CUTOFF Flows', None]\n",
      "Flow Entity\n",
      "       Name: Roundwood, softwood, average, Low Intensity Management, NE-NC\n",
      "    Comment: \n",
      "  CasNumber: \n",
      "Compartment: ['Forestry and Logging', 'Logging']\n",
      "Flow Entity\n",
      "       Name: Roundwood, softwood, national forest, steep slope, at forest road, INW\n",
      "    Comment: \n",
      "  CasNumber: \n",
      "Compartment: ['Forestry and Logging', 'Logging']\n",
      "Flow Entity\n",
      "       Name: Roundwood, hardwood, average, Low Intensity Management, NE-NC\n",
      "    Comment: \n",
      "  CasNumber: \n",
      "Compartment: ['Forestry and Logging', 'Logging']\n",
      "Flow Entity\n",
      "       Name: Roundwood, softwood, green, at logyard, NE-NC\n",
      "    Comment: Weight reported on an ovendry basis.  Moisture content = 96.5%, Green volume specific sensity = 0.36.\n",
      "  CasNumber: \n",
      "Compartment: ['Forestry and Logging', 'Logging']\n",
      "Flow Entity\n",
      "       Name: Roundwood, softwood, average, High Intensity Management, NE-NC\n",
      "    Comment: \n",
      "  CasNumber: \n",
      "Compartment: ['Forestry and Logging', 'Logging']\n",
      "Flow Entity\n",
      "       Name: CUTOFF Roundwood, hardwood, at forest road, SE\n",
      "    Comment: oven-dried weight. Wood specific gravity of 0.528 and 85% MC dry basis.\n",
      "  CasNumber: \n",
      "Compartment: ['CUTOFF Flows', None]\n",
      "Flow Entity\n",
      "       Name: Roundwood, softwood, green, at logyard, INW\n",
      "    Comment: Weight reported on an ovendry basis, density=436 kg/m3 based on oven dry mass\n",
      "  CasNumber: \n",
      "Compartment: ['Forestry and Logging', 'Logging']\n"
     ]
    }
   ],
   "source": [
    "for f in US.search(entity_type='flow', Name='roundwood'):\n",
    "    f.show()"
   ]
  },
  {
   "cell_type": "code",
   "execution_count": 16,
   "metadata": {
    "collapsed": false
   },
   "outputs": [
    {
     "data": {
      "text/plain": [
       "['Bucked and debarked log, hardwood, green, at veneer mill, E',\n",
       " 'Roundwood, hardwood, green, at mill, E']"
      ]
     },
     "execution_count": 16,
     "metadata": {},
     "output_type": "execute_result"
    }
   ],
   "source": [
    "[x.process['Name'] for p in US.processes() for x in p.exchanges() if x.flow == xs[6].flow]"
   ]
  },
  {
   "cell_type": "code",
   "execution_count": 14,
   "metadata": {
    "collapsed": false
   },
   "outputs": [
    {
     "name": "stdout",
     "output_type": "stream",
     "text": [
      "Roundwood, hardwood, green, at mill, E [RNA]\n",
      " 0  Input:     [346 [l]] Water, process, well [ground-]\n",
      " 1  Input:     [200 [t*km]] Transport, combination truck, diesel powered [General Freight Trucking]\n",
      " 2  Input:     [1 [m3]] Roundwood, hardwood, average, at forest road, NE-NC [Logging]\n",
      " 3  Input:     [119 [l]] Water, process, surface [None]\n",
      " 4  Input:     [1.71 [l]] Diesel, combusted in industrial equipment [Steam and Air-Conditioning Supply]\n",
      " 5  Input:     [27.2 [kg]] Bark, hardwood, average, at forest road, NE-NC [Logging]\n",
      " 6 Output: {*} [27.2 [kg]] Bark, hardwood, green, at mill, E [Forestry and Logging]\n",
      " 7 Output: {*} [1 [m3]] Roundwood, hardwood, green, at mill, E [Forestry and Logging]\n"
     ]
    },
    {
     "data": {
      "text/plain": [
       "[[<lcatools.exchanges.ExchangeValue at 0x7feea100c9e8>,\n",
       "  <lcatools.exchanges.ExchangeValue at 0x7feea100cac8>,\n",
       "  <lcatools.exchanges.ExchangeValue at 0x7feea100ca58>,\n",
       "  <lcatools.exchanges.ExchangeValue at 0x7feea100cb00>,\n",
       "  <lcatools.exchanges.ExchangeValue at 0x7feea100ca20>,\n",
       "  <lcatools.exchanges.ExchangeValue at 0x7feea100ca90>,\n",
       "  <lcatools.exchanges.ExchangeValue at 0x7feea100cbe0>,\n",
       "  <lcatools.exchanges.ExchangeValue at 0x7feea100cb70>]]"
      ]
     },
     "execution_count": 14,
     "metadata": {},
     "output_type": "execute_result"
    }
   ],
   "source": [
    "[x.inventory() for x in US.terminate(xs[4])]"
   ]
  },
  {
   "cell_type": "code",
   "execution_count": 9,
   "metadata": {
    "collapsed": false
   },
   "outputs": [
    {
     "name": "stdout",
     "output_type": "stream",
     "text": [
      "Flow Entity\n",
      "       Name: Bucked and debarked log, hardwood, green, at veneer mill, E \n",
      "    Comment: \n",
      "  CasNumber: \n",
      "Compartment: ['Wood Product Manufacturing', 'Softwood Veneer and Plywood Manufacturing']\n"
     ]
    }
   ],
   "source": [
    "xs[9].flow.show()"
   ]
  },
  {
   "cell_type": "code",
   "execution_count": 7,
   "metadata": {
    "collapsed": true
   },
   "outputs": [],
   "source": [
    "from lcatools.entities import LcProcess\n",
    "from lcatools.exchanges import Exchange, ExchangeValue, comp_dir"
   ]
  },
  {
   "cell_type": "code",
   "execution_count": 8,
   "metadata": {
    "collapsed": false
   },
   "outputs": [],
   "source": [
    "sys.path.append('..')"
   ]
  },
  {
   "cell_type": "code",
   "execution_count": 9,
   "metadata": {
    "collapsed": false
   },
   "outputs": [],
   "source": [
    "import lcamatrix\n",
    "from lcamatrix.foreground import ForegroundManager"
   ]
  },
  {
   "cell_type": "code",
   "execution_count": 24,
   "metadata": {
    "collapsed": false
   },
   "outputs": [],
   "source": [
    "F = ForegroundManager()"
   ]
  },
  {
   "cell_type": "code",
   "execution_count": 11,
   "metadata": {
    "collapsed": false
   },
   "outputs": [],
   "source": [
    "ref = next(x for x in p.reference_entity)"
   ]
  },
  {
   "cell_type": "code",
   "execution_count": 25,
   "metadata": {
    "collapsed": false
   },
   "outputs": [
    {
     "ename": "ZeroDivisionError",
     "evalue": "float division by zero",
     "output_type": "error",
     "traceback": [
      "\u001b[1;31m---------------------------------------------------------------------------\u001b[0m",
      "\u001b[1;31mNoAllocation\u001b[0m                              Traceback (most recent call last)",
      "\u001b[1;32m/data/GitHub/lca-matrix/lcamatrix/foreground.py\u001b[0m in \u001b[0;36m_traverse_term_exchanges\u001b[1;34m(self, archive, parent, multi_term, default_allocation)\u001b[0m\n\u001b[0;32m    258\u001b[0m         \u001b[1;32mtry\u001b[0m\u001b[1;33m:\u001b[0m\u001b[1;33m\u001b[0m\u001b[0m\n\u001b[1;32m--> 259\u001b[1;33m             \u001b[0mexchs\u001b[0m \u001b[1;33m=\u001b[0m \u001b[1;33m[\u001b[0m\u001b[0mx\u001b[0m \u001b[1;32mfor\u001b[0m \u001b[0mx\u001b[0m \u001b[1;32min\u001b[0m \u001b[0mparent\u001b[0m\u001b[1;33m.\u001b[0m\u001b[0mprocess\u001b[0m\u001b[1;33m.\u001b[0m\u001b[0mexchanges\u001b[0m\u001b[1;33m(\u001b[0m\u001b[0mparent\u001b[0m\u001b[1;33m.\u001b[0m\u001b[0mflow\u001b[0m\u001b[1;33m)\u001b[0m\u001b[1;33m]\u001b[0m\u001b[1;33m\u001b[0m\u001b[0m\n\u001b[0m\u001b[0;32m    260\u001b[0m         \u001b[1;32mexcept\u001b[0m \u001b[0mNoAllocation\u001b[0m\u001b[1;33m:\u001b[0m\u001b[1;33m\u001b[0m\u001b[0m\n",
      "\u001b[1;32m/data/GitHub/lca-matrix/lcamatrix/foreground.py\u001b[0m in \u001b[0;36m<listcomp>\u001b[1;34m(.0)\u001b[0m\n\u001b[0;32m    258\u001b[0m         \u001b[1;32mtry\u001b[0m\u001b[1;33m:\u001b[0m\u001b[1;33m\u001b[0m\u001b[0m\n\u001b[1;32m--> 259\u001b[1;33m             \u001b[0mexchs\u001b[0m \u001b[1;33m=\u001b[0m \u001b[1;33m[\u001b[0m\u001b[0mx\u001b[0m \u001b[1;32mfor\u001b[0m \u001b[0mx\u001b[0m \u001b[1;32min\u001b[0m \u001b[0mparent\u001b[0m\u001b[1;33m.\u001b[0m\u001b[0mprocess\u001b[0m\u001b[1;33m.\u001b[0m\u001b[0mexchanges\u001b[0m\u001b[1;33m(\u001b[0m\u001b[0mparent\u001b[0m\u001b[1;33m.\u001b[0m\u001b[0mflow\u001b[0m\u001b[1;33m)\u001b[0m\u001b[1;33m]\u001b[0m\u001b[1;33m\u001b[0m\u001b[0m\n\u001b[0m\u001b[0;32m    260\u001b[0m         \u001b[1;32mexcept\u001b[0m \u001b[0mNoAllocation\u001b[0m\u001b[1;33m:\u001b[0m\u001b[1;33m\u001b[0m\u001b[0m\n",
      "\u001b[1;32m/data/GitHub/lca-tools/lcatools/entities.py\u001b[0m in \u001b[0;36mexchanges\u001b[1;34m(self, reference, scenario, strict)\u001b[0m\n\u001b[0;32m    417\u001b[0m                         \u001b[1;31m# this pushes the problem up to ExchangeValue\u001b[0m\u001b[1;33m\u001b[0m\u001b[1;33m\u001b[0m\u001b[0m\n\u001b[1;32m--> 418\u001b[1;33m                         \u001b[1;32myield\u001b[0m \u001b[0mExchangeValue\u001b[0m\u001b[1;33m.\u001b[0m\u001b[0mfrom_allocated\u001b[0m\u001b[1;33m(\u001b[0m\u001b[0mi\u001b[0m\u001b[1;33m,\u001b[0m \u001b[0mreference\u001b[0m\u001b[1;33m)\u001b[0m\u001b[1;33m\u001b[0m\u001b[0m\n\u001b[0m\u001b[0;32m    419\u001b[0m \u001b[1;33m\u001b[0m\u001b[0m\n",
      "\u001b[1;32m/data/GitHub/lca-tools/lcatools/exchanges.py\u001b[0m in \u001b[0;36mfrom_allocated\u001b[1;34m(cls, allocated, reference)\u001b[0m\n\u001b[0;32m    172\u001b[0m         \"\"\"\n\u001b[1;32m--> 173\u001b[1;33m         return cls(allocated.process, allocated.flow, allocated.direction, value=allocated[reference],\n\u001b[0m\u001b[0;32m    174\u001b[0m                    termination=allocated.termination)\n",
      "\u001b[1;32m/data/GitHub/lca-tools/lcatools/exchanges.py\u001b[0m in \u001b[0;36m__getitem__\u001b[1;34m(self, item)\u001b[0m\n\u001b[0;32m    233\u001b[0m             \u001b[1;32mreturn\u001b[0m \u001b[0mself\u001b[0m\u001b[1;33m.\u001b[0m\u001b[0mvalue\u001b[0m \u001b[1;33m/\u001b[0m \u001b[0mself\u001b[0m\u001b[1;33m.\u001b[0m\u001b[0mprocess\u001b[0m\u001b[1;33m.\u001b[0m\u001b[0mreference\u001b[0m\u001b[1;33m(\u001b[0m\u001b[1;33m)\u001b[0m\u001b[1;33m.\u001b[0m\u001b[0mvalue\u001b[0m\u001b[1;33m\u001b[0m\u001b[0m\n\u001b[1;32m--> 234\u001b[1;33m         \u001b[1;32mraise\u001b[0m \u001b[0mNoAllocation\u001b[0m\u001b[1;33m(\u001b[0m\u001b[1;34m'No allocation found for key %s in process %s'\u001b[0m \u001b[1;33m%\u001b[0m \u001b[1;33m(\u001b[0m\u001b[0mitem\u001b[0m\u001b[1;33m,\u001b[0m \u001b[0mself\u001b[0m\u001b[1;33m.\u001b[0m\u001b[0mprocess\u001b[0m\u001b[1;33m)\u001b[0m\u001b[1;33m)\u001b[0m\u001b[1;33m\u001b[0m\u001b[0m\n\u001b[0m\u001b[0;32m    235\u001b[0m \u001b[1;33m\u001b[0m\u001b[0m\n",
      "\u001b[1;31mNoAllocation\u001b[0m: No allocation found for key Heat, onsite boiler, hardwood mill average, NE-NC [RNA] has Output: Electricity, onsite boiler, hardwood mill, average, NE-NC [Steam and Air-Conditioning Supply] [kWh] in process Heat, onsite boiler, hardwood mill average, NE-NC [RNA]",
      "\nDuring handling of the above exception, another exception occurred:\n",
      "\u001b[1;31mZeroDivisionError\u001b[0m                         Traceback (most recent call last)",
      "\u001b[1;32m<ipython-input-25-9a66d91fffb2>\u001b[0m in \u001b[0;36m<module>\u001b[1;34m()\u001b[0m\n\u001b[1;32m----> 1\u001b[1;33m \u001b[0mF\u001b[0m\u001b[1;33m.\u001b[0m\u001b[0madd_ref_product\u001b[0m\u001b[1;33m(\u001b[0m\u001b[0mUS\u001b[0m\u001b[1;33m,\u001b[0m \u001b[0mref\u001b[0m\u001b[1;33m.\u001b[0m\u001b[0mflow\u001b[0m\u001b[1;33m,\u001b[0m \u001b[0mp\u001b[0m\u001b[1;33m,\u001b[0m \u001b[0mmulti_term\u001b[0m\u001b[1;33m=\u001b[0m\u001b[1;34m'mix'\u001b[0m\u001b[1;33m,\u001b[0m \u001b[0mdefault_allocation\u001b[0m\u001b[1;33m=\u001b[0m\u001b[0mUS\u001b[0m\u001b[1;33m[\u001b[0m\u001b[1;34m'kg'\u001b[0m\u001b[1;33m]\u001b[0m\u001b[1;33m)\u001b[0m\u001b[1;33m\u001b[0m\u001b[0m\n\u001b[0m",
      "\u001b[1;32m/data/GitHub/lca-matrix/lcamatrix/foreground.py\u001b[0m in \u001b[0;36madd_ref_product\u001b[1;34m(self, archive, flow, termination, multi_term, default_allocation)\u001b[0m\n\u001b[0;32m    245\u001b[0m         \u001b[1;32mif\u001b[0m \u001b[0mj\u001b[0m \u001b[1;32mis\u001b[0m \u001b[1;32mNone\u001b[0m\u001b[1;33m:\u001b[0m\u001b[1;33m\u001b[0m\u001b[0m\n\u001b[0;32m    246\u001b[0m             \u001b[0mj\u001b[0m \u001b[1;33m=\u001b[0m \u001b[0mself\u001b[0m\u001b[1;33m.\u001b[0m\u001b[0m_create_product_flow\u001b[0m\u001b[1;33m(\u001b[0m\u001b[0mflow\u001b[0m\u001b[1;33m,\u001b[0m \u001b[0mtermination\u001b[0m\u001b[1;33m)\u001b[0m\u001b[1;33m\u001b[0m\u001b[0m\n\u001b[1;32m--> 247\u001b[1;33m             \u001b[0mself\u001b[0m\u001b[1;33m.\u001b[0m\u001b[0m_traverse_term_exchanges\u001b[0m\u001b[1;33m(\u001b[0m\u001b[0marchive\u001b[0m\u001b[1;33m,\u001b[0m \u001b[0mj\u001b[0m\u001b[1;33m,\u001b[0m \u001b[0mmulti_term\u001b[0m\u001b[1;33m,\u001b[0m \u001b[0mdefault_allocation\u001b[0m\u001b[1;33m)\u001b[0m\u001b[1;33m\u001b[0m\u001b[0m\n\u001b[0m\u001b[0;32m    248\u001b[0m         \u001b[1;32mreturn\u001b[0m \u001b[0mj\u001b[0m\u001b[1;33m\u001b[0m\u001b[0m\n\u001b[0;32m    249\u001b[0m \u001b[1;33m\u001b[0m\u001b[0m\n",
      "\u001b[1;32m/data/GitHub/lca-matrix/lcamatrix/foreground.py\u001b[0m in \u001b[0;36m_traverse_term_exchanges\u001b[1;34m(self, archive, parent, multi_term, default_allocation)\u001b[0m\n\u001b[0;32m    278\u001b[0m                 \u001b[1;31m# not visited -- need to visit\u001b[0m\u001b[1;33m\u001b[0m\u001b[1;33m\u001b[0m\u001b[0m\n\u001b[0;32m    279\u001b[0m                 \u001b[0mi\u001b[0m \u001b[1;33m=\u001b[0m \u001b[0mself\u001b[0m\u001b[1;33m.\u001b[0m\u001b[0m_create_product_flow\u001b[0m\u001b[1;33m(\u001b[0m\u001b[0mexch\u001b[0m\u001b[1;33m.\u001b[0m\u001b[0mflow\u001b[0m\u001b[1;33m,\u001b[0m \u001b[0mterm\u001b[0m\u001b[1;33m)\u001b[0m\u001b[1;33m\u001b[0m\u001b[0m\n\u001b[1;32m--> 280\u001b[1;33m                 \u001b[0mself\u001b[0m\u001b[1;33m.\u001b[0m\u001b[0m_traverse_term_exchanges\u001b[0m\u001b[1;33m(\u001b[0m\u001b[0marchive\u001b[0m\u001b[1;33m,\u001b[0m \u001b[0mi\u001b[0m\u001b[1;33m,\u001b[0m \u001b[0mmulti_term\u001b[0m\u001b[1;33m,\u001b[0m \u001b[0mdefault_allocation\u001b[0m\u001b[1;33m)\u001b[0m\u001b[1;33m\u001b[0m\u001b[0m\n\u001b[0m\u001b[0;32m    281\u001b[0m                 \u001b[1;31m# carry back lowlink, if lower\u001b[0m\u001b[1;33m\u001b[0m\u001b[1;33m\u001b[0m\u001b[0m\n\u001b[0;32m    282\u001b[0m                 \u001b[0mself\u001b[0m\u001b[1;33m.\u001b[0m\u001b[0m_set_lowlink\u001b[0m\u001b[1;33m(\u001b[0m\u001b[0mparent\u001b[0m\u001b[1;33m,\u001b[0m \u001b[0mself\u001b[0m\u001b[1;33m.\u001b[0m\u001b[0mlowlink\u001b[0m\u001b[1;33m(\u001b[0m\u001b[0mi\u001b[0m\u001b[1;33m)\u001b[0m\u001b[1;33m)\u001b[0m\u001b[1;33m\u001b[0m\u001b[0m\n",
      "\u001b[1;32m/data/GitHub/lca-matrix/lcamatrix/foreground.py\u001b[0m in \u001b[0;36m_traverse_term_exchanges\u001b[1;34m(self, archive, parent, multi_term, default_allocation)\u001b[0m\n\u001b[0;32m    278\u001b[0m                 \u001b[1;31m# not visited -- need to visit\u001b[0m\u001b[1;33m\u001b[0m\u001b[1;33m\u001b[0m\u001b[0m\n\u001b[0;32m    279\u001b[0m                 \u001b[0mi\u001b[0m \u001b[1;33m=\u001b[0m \u001b[0mself\u001b[0m\u001b[1;33m.\u001b[0m\u001b[0m_create_product_flow\u001b[0m\u001b[1;33m(\u001b[0m\u001b[0mexch\u001b[0m\u001b[1;33m.\u001b[0m\u001b[0mflow\u001b[0m\u001b[1;33m,\u001b[0m \u001b[0mterm\u001b[0m\u001b[1;33m)\u001b[0m\u001b[1;33m\u001b[0m\u001b[0m\n\u001b[1;32m--> 280\u001b[1;33m                 \u001b[0mself\u001b[0m\u001b[1;33m.\u001b[0m\u001b[0m_traverse_term_exchanges\u001b[0m\u001b[1;33m(\u001b[0m\u001b[0marchive\u001b[0m\u001b[1;33m,\u001b[0m \u001b[0mi\u001b[0m\u001b[1;33m,\u001b[0m \u001b[0mmulti_term\u001b[0m\u001b[1;33m,\u001b[0m \u001b[0mdefault_allocation\u001b[0m\u001b[1;33m)\u001b[0m\u001b[1;33m\u001b[0m\u001b[0m\n\u001b[0m\u001b[0;32m    281\u001b[0m                 \u001b[1;31m# carry back lowlink, if lower\u001b[0m\u001b[1;33m\u001b[0m\u001b[1;33m\u001b[0m\u001b[0m\n\u001b[0;32m    282\u001b[0m                 \u001b[0mself\u001b[0m\u001b[1;33m.\u001b[0m\u001b[0m_set_lowlink\u001b[0m\u001b[1;33m(\u001b[0m\u001b[0mparent\u001b[0m\u001b[1;33m,\u001b[0m \u001b[0mself\u001b[0m\u001b[1;33m.\u001b[0m\u001b[0mlowlink\u001b[0m\u001b[1;33m(\u001b[0m\u001b[0mi\u001b[0m\u001b[1;33m)\u001b[0m\u001b[1;33m)\u001b[0m\u001b[1;33m\u001b[0m\u001b[0m\n",
      "\u001b[1;32m/data/GitHub/lca-matrix/lcamatrix/foreground.py\u001b[0m in \u001b[0;36m_traverse_term_exchanges\u001b[1;34m(self, archive, parent, multi_term, default_allocation)\u001b[0m\n\u001b[0;32m    260\u001b[0m         \u001b[1;32mexcept\u001b[0m \u001b[0mNoAllocation\u001b[0m\u001b[1;33m:\u001b[0m\u001b[1;33m\u001b[0m\u001b[0m\n\u001b[0;32m    261\u001b[0m             \u001b[1;32mif\u001b[0m \u001b[0mdefault_allocation\u001b[0m \u001b[1;32mis\u001b[0m \u001b[1;32mnot\u001b[0m \u001b[1;32mNone\u001b[0m\u001b[1;33m:\u001b[0m\u001b[1;33m\u001b[0m\u001b[0m\n\u001b[1;32m--> 262\u001b[1;33m                 \u001b[0mparent\u001b[0m\u001b[1;33m.\u001b[0m\u001b[0mprocess\u001b[0m\u001b[1;33m.\u001b[0m\u001b[0mallocate_by_quantity\u001b[0m\u001b[1;33m(\u001b[0m\u001b[0mdefault_allocation\u001b[0m\u001b[1;33m)\u001b[0m\u001b[1;33m\u001b[0m\u001b[0m\n\u001b[0m\u001b[0;32m    263\u001b[0m                 \u001b[0mexchs\u001b[0m \u001b[1;33m=\u001b[0m \u001b[1;33m[\u001b[0m\u001b[0mx\u001b[0m \u001b[1;32mfor\u001b[0m \u001b[0mx\u001b[0m \u001b[1;32min\u001b[0m \u001b[0mparent\u001b[0m\u001b[1;33m.\u001b[0m\u001b[0mprocess\u001b[0m\u001b[1;33m.\u001b[0m\u001b[0mexchanges\u001b[0m\u001b[1;33m(\u001b[0m\u001b[0mparent\u001b[0m\u001b[1;33m.\u001b[0m\u001b[0mflow\u001b[0m\u001b[1;33m)\u001b[0m\u001b[1;33m]\u001b[0m\u001b[1;33m\u001b[0m\u001b[0m\n\u001b[0;32m    264\u001b[0m             \u001b[1;32melse\u001b[0m\u001b[1;33m:\u001b[0m\u001b[1;33m\u001b[0m\u001b[0m\n",
      "\u001b[1;32m/data/GitHub/lca-tools/lcatools/entities.py\u001b[0m in \u001b[0;36mallocate_by_quantity\u001b[1;34m(self, quantity)\u001b[0m\n\u001b[0;32m    489\u001b[0m \u001b[1;33m\u001b[0m\u001b[0m\n\u001b[0;32m    490\u001b[0m         \u001b[1;32mfor\u001b[0m \u001b[0mrf\u001b[0m \u001b[1;32min\u001b[0m \u001b[0mself\u001b[0m\u001b[1;33m.\u001b[0m\u001b[0mreference_entity\u001b[0m\u001b[1;33m:\u001b[0m\u001b[1;33m\u001b[0m\u001b[0m\n\u001b[1;32m--> 491\u001b[1;33m             \u001b[0malloc_factor\u001b[0m \u001b[1;33m=\u001b[0m \u001b[0mrf\u001b[0m\u001b[1;33m.\u001b[0m\u001b[0mflow\u001b[0m\u001b[1;33m.\u001b[0m\u001b[0mcf\u001b[0m\u001b[1;33m(\u001b[0m\u001b[0mquantity\u001b[0m\u001b[1;33m)\u001b[0m \u001b[1;33m/\u001b[0m \u001b[0mtotal\u001b[0m  \u001b[1;31m# qty magnitude divided by total, divided by exch magnitude\u001b[0m\u001b[1;33m\u001b[0m\u001b[0m\n\u001b[0m\u001b[0;32m    492\u001b[0m             \u001b[1;32mfor\u001b[0m \u001b[0mx\u001b[0m \u001b[1;32min\u001b[0m \u001b[0mself\u001b[0m\u001b[1;33m.\u001b[0m\u001b[0mexchanges\u001b[0m\u001b[1;33m(\u001b[0m\u001b[1;33m)\u001b[0m\u001b[1;33m:\u001b[0m\u001b[1;33m\u001b[0m\u001b[0m\n\u001b[0;32m    493\u001b[0m                 \u001b[1;32mif\u001b[0m \u001b[0mx\u001b[0m \u001b[1;32mnot\u001b[0m \u001b[1;32min\u001b[0m \u001b[0mself\u001b[0m\u001b[1;33m.\u001b[0m\u001b[0mreference_entity\u001b[0m\u001b[1;33m:\u001b[0m\u001b[1;33m\u001b[0m\u001b[0m\n",
      "\u001b[1;31mZeroDivisionError\u001b[0m: float division by zero"
     ]
    }
   ],
   "source": [
    "F.add_ref_product(US, ref.flow, p, multi_term='mix', default_allocation=US['kg'])"
   ]
  },
  {
   "cell_type": "code",
   "execution_count": 26,
   "metadata": {
    "collapsed": false
   },
   "outputs": [
    {
     "data": {
      "text/plain": [
       "<lcamatrix.foreground.ForegroundManager at 0x7f0044c66828>"
      ]
     },
     "execution_count": 26,
     "metadata": {},
     "output_type": "execute_result"
    }
   ],
   "source": []
  },
  {
   "cell_type": "code",
   "execution_count": 27,
   "metadata": {
    "collapsed": false
   },
   "outputs": [
    {
     "data": {
      "text/plain": [
       "{'_cutoff': [],\n",
       " '_data_dir': '../lcamatrix/data',\n",
       " '_index': [<lcamatrix.foreground.ProductFlow at 0x7f0044c66a20>,\n",
       "  <lcamatrix.foreground.ProductFlow at 0x7f0044c66048>,\n",
       "  <lcamatrix.foreground.ProductFlow at 0x7f0044c68c18>],\n",
       " '_interior': [],\n",
       " '_lowlink': {<lcamatrix.foreground.ProductFlow at 0x7f0044c66048>: 1,\n",
       "  <lcamatrix.foreground.ProductFlow at 0x7f0044c66a20>: 0,\n",
       "  <lcamatrix.foreground.ProductFlow at 0x7f0044c68c18>: 2},\n",
       " '_product_flows': {<lcamatrix.foreground.ProductFlow at 0x7f0044c66048>: 1,\n",
       "  <lcamatrix.foreground.ProductFlow at 0x7f0044c66a20>: 0,\n",
       "  <lcamatrix.foreground.ProductFlow at 0x7f0044c68c18>: 2},\n",
       " 'tstack': <lcamatrix.foreground.TarjanStack at 0x7f0044c66978>}"
      ]
     },
     "execution_count": 27,
     "metadata": {},
     "output_type": "execute_result"
    }
   ],
   "source": [
    "F.__dict__"
   ]
  },
  {
   "cell_type": "code",
   "execution_count": 16,
   "metadata": {
    "collapsed": false
   },
   "outputs": [],
   "source": [
    "pf = F.product_flow(1)"
   ]
  },
  {
   "cell_type": "code",
   "execution_count": 18,
   "metadata": {
    "collapsed": true
   },
   "outputs": [],
   "source": [
    "from lcatools.exchanges import NoAllocation"
   ]
  },
  {
   "cell_type": "code",
   "execution_count": 20,
   "metadata": {
    "collapsed": false
   },
   "outputs": [
    {
     "name": "stdout",
     "output_type": "stream",
     "text": [
      "foo\n"
     ]
    }
   ],
   "source": [
    "pf = F.product_flow(1)\n",
    "from lcatools.exchanges import NoAllocation\n",
    "\n",
    "try:\n",
    "    exchs = [x for x in pf.process.exchanges(pf.flow)]\n",
    "except NoAllocation:\n",
    "    print('foo')"
   ]
  },
  {
   "cell_type": "code",
   "execution_count": 13,
   "metadata": {
    "collapsed": true
   },
   "outputs": [],
   "source": [
    "a = [3, 1, 0, 1, 5]"
   ]
  },
  {
   "cell_type": "code",
   "execution_count": 14,
   "metadata": {
    "collapsed": true
   },
   "outputs": [],
   "source": [
    "try:\n",
    "    c = [42 / i for i in a]\n",
    "except ZeroDivisionError:\n",
    "    c = None"
   ]
  },
  {
   "cell_type": "code",
   "execution_count": 15,
   "metadata": {
    "collapsed": true
   },
   "outputs": [],
   "source": [
    "c"
   ]
  },
  {
   "cell_type": "code",
   "execution_count": 16,
   "metadata": {
    "collapsed": true
   },
   "outputs": [],
   "source": [
    "pf = F.product_flow(1)"
   ]
  },
  {
   "cell_type": "code",
   "execution_count": 19,
   "metadata": {
    "collapsed": false
   },
   "outputs": [
    {
     "name": "stdout",
     "output_type": "stream",
     "text": [
      "Sawn lumber, hardwood, rough, green, at sawmill, NE-NC [RNA]\n",
      " 0  Input:     [0.00171 [kWh]] Electricity, onsite boiler, hardwood mill, average, NE-NC [Steam and Air-Conditioning Supply]\n",
      " 1  Input:     [0.0999 [kWh]] Electricity, at grid, Eastern US, 2000 [Electric Power Distribution]\n",
      " 2  Input:     [0.525 [MJ]] Heat, onsite boiler, hardwood mill, average, NE-NC [Steam and Air-Conditioning Supply]\n",
      " 3  Input:     [7.13e-08 [m3]] Natural gas, combusted in industrial equipment [Steam and Air-Conditioning Supply]\n",
      " 4  Input:     [0.0162 [kg]] CUTOFF Disposal, solid waste, unspecified, to inert material landfill [None]\n",
      " 5  Input:     [0.00313 [m3]] Roundwood, hardwood, green, at logyard, NE-NC [Logging]\n",
      " 6  Input:     [0.000152 [l]] Gasoline, combusted in equipment [Steam and Air-Conditioning Supply]\n",
      " 7  Input:     [0.186 [kg]] Bark, hardwood, green, at logyard, NE-NC [Logging]\n",
      " 8  Input:     [0.00175 [l]] Diesel, combusted in industrial equipment [Steam and Air-Conditioning Supply]\n",
      " 9  Input:     [0.000481 [kg]] CUTOFF Recycling, wood waste, unspecified [None]\n",
      "10 Output: {*} [0.186 [kg]] Bark, hardwood, green, at sawmill, NE-NC [Sawmills]\n",
      "11 Output: {*} [0.036 [kg]] Hogged fuel, hardwood, green, at sawmill, NE-NC [Sawmills]\n",
      "12 Output: {*} [0.238 [kg]] Wood fuel, hardwood, green, at sawmill, NE-NC [Sawmills]\n",
      "13 Output: {*} [0.263 [kg]] Wood chips, hardwood, green, at sawmill, NE-NC [Sawmills]\n",
      "14 Output: {*} [0.0801 [kg]] Sawdust, hardwood, green, at sawmill, NE-NC [Sawmills]\n",
      "15 Output:     [0.00248 [kg]] Particulates, unspecified [low population density]\n",
      "16 Output: {*} [1 [kg]] Sawn lumber, hardwood, rough, green, at sawmill, NE-NC [Sawmills]\n"
     ]
    }
   ],
   "source": [
    "f = pf.process.inventory()"
   ]
  },
  {
   "cell_type": "code",
   "execution_count": 22,
   "metadata": {
    "collapsed": true
   },
   "outputs": [],
   "source": [
    "from lcatools.exchanges import NoAllocation"
   ]
  },
  {
   "cell_type": "code",
   "execution_count": 28,
   "metadata": {
    "collapsed": false
   },
   "outputs": [
    {
     "ename": "DuplicateExchangeError",
     "evalue": "Exchange value already defined for this reference!",
     "output_type": "error",
     "traceback": [
      "\u001b[1;31m---------------------------------------------------------------------------\u001b[0m",
      "\u001b[1;31mDuplicateExchangeError\u001b[0m                    Traceback (most recent call last)",
      "\u001b[1;32m<ipython-input-28-bbfba0928627>\u001b[0m in \u001b[0;36m<module>\u001b[1;34m()\u001b[0m\n\u001b[1;32m----> 1\u001b[1;33m \u001b[0mpf\u001b[0m\u001b[1;33m.\u001b[0m\u001b[0mprocess\u001b[0m\u001b[1;33m.\u001b[0m\u001b[0mallocate_by_quantity\u001b[0m\u001b[1;33m(\u001b[0m\u001b[0mUS\u001b[0m\u001b[1;33m[\u001b[0m\u001b[1;34m'kg'\u001b[0m\u001b[1;33m]\u001b[0m\u001b[1;33m)\u001b[0m\u001b[1;33m\u001b[0m\u001b[0m\n\u001b[0m",
      "\u001b[1;32m/data/GitHub/lca-tools/lcatools/entities.py\u001b[0m in \u001b[0;36mallocate_by_quantity\u001b[1;34m(self, quantity)\u001b[0m\n\u001b[0;32m    492\u001b[0m             \u001b[1;32mfor\u001b[0m \u001b[0mx\u001b[0m \u001b[1;32min\u001b[0m \u001b[0mself\u001b[0m\u001b[1;33m.\u001b[0m\u001b[0mexchanges\u001b[0m\u001b[1;33m(\u001b[0m\u001b[1;33m)\u001b[0m\u001b[1;33m:\u001b[0m\u001b[1;33m\u001b[0m\u001b[0m\n\u001b[0;32m    493\u001b[0m                 \u001b[1;32mif\u001b[0m \u001b[0mx\u001b[0m \u001b[1;32mnot\u001b[0m \u001b[1;32min\u001b[0m \u001b[0mself\u001b[0m\u001b[1;33m.\u001b[0m\u001b[0mreference_entity\u001b[0m\u001b[1;33m:\u001b[0m\u001b[1;33m\u001b[0m\u001b[0m\n\u001b[1;32m--> 494\u001b[1;33m                     \u001b[0mx\u001b[0m\u001b[1;33m[\u001b[0m\u001b[0mrf\u001b[0m\u001b[1;33m]\u001b[0m \u001b[1;33m=\u001b[0m \u001b[0mx\u001b[0m\u001b[1;33m.\u001b[0m\u001b[0mvalue\u001b[0m \u001b[1;33m*\u001b[0m \u001b[0malloc_factor\u001b[0m\u001b[1;33m\u001b[0m\u001b[0m\n\u001b[0m\u001b[0;32m    495\u001b[0m \u001b[1;33m\u001b[0m\u001b[0m\n\u001b[0;32m    496\u001b[0m     \u001b[1;32mdef\u001b[0m \u001b[0madd_exchange\u001b[0m\u001b[1;33m(\u001b[0m\u001b[0mself\u001b[0m\u001b[1;33m,\u001b[0m \u001b[0mflow\u001b[0m\u001b[1;33m,\u001b[0m \u001b[0mdirn\u001b[0m\u001b[1;33m,\u001b[0m \u001b[0mreference\u001b[0m\u001b[1;33m=\u001b[0m\u001b[1;32mNone\u001b[0m\u001b[1;33m,\u001b[0m \u001b[0mvalue\u001b[0m\u001b[1;33m=\u001b[0m\u001b[1;32mNone\u001b[0m\u001b[1;33m,\u001b[0m \u001b[0madd_dups\u001b[0m\u001b[1;33m=\u001b[0m\u001b[1;32mFalse\u001b[0m\u001b[1;33m,\u001b[0m \u001b[1;33m**\u001b[0m\u001b[0mkwargs\u001b[0m\u001b[1;33m)\u001b[0m\u001b[1;33m:\u001b[0m\u001b[1;33m\u001b[0m\u001b[0m\n",
      "\u001b[1;32m/data/GitHub/lca-tools/lcatools/exchanges.py\u001b[0m in \u001b[0;36m__setitem__\u001b[1;34m(self, key, value)\u001b[0m\n\u001b[0;32m    239\u001b[0m         \u001b[1;32mif\u001b[0m \u001b[0mkey\u001b[0m \u001b[1;32min\u001b[0m \u001b[0mself\u001b[0m\u001b[1;33m.\u001b[0m\u001b[0m_value_dict\u001b[0m\u001b[1;33m:\u001b[0m\u001b[1;33m\u001b[0m\u001b[0m\n\u001b[0;32m    240\u001b[0m             \u001b[1;31m# print(self._value_dict)\u001b[0m\u001b[1;33m\u001b[0m\u001b[1;33m\u001b[0m\u001b[0m\n\u001b[1;32m--> 241\u001b[1;33m             \u001b[1;32mraise\u001b[0m \u001b[0mDuplicateExchangeError\u001b[0m\u001b[1;33m(\u001b[0m\u001b[1;34m'Exchange value already defined for this reference!'\u001b[0m\u001b[1;33m)\u001b[0m\u001b[1;33m\u001b[0m\u001b[0m\n\u001b[0m\u001b[0;32m    242\u001b[0m         '''\n\u001b[0;32m    243\u001b[0m         \u001b[1;32mif\u001b[0m \u001b[0mself\u001b[0m\u001b[1;33m.\u001b[0m\u001b[0m_ref_flow\u001b[0m \u001b[1;32min\u001b[0m \u001b[0mself\u001b[0m\u001b[1;33m.\u001b[0m\u001b[0m_value_dict\u001b[0m\u001b[1;33m:\u001b[0m  \u001b[1;31m# reference exchange\u001b[0m\u001b[1;33m\u001b[0m\u001b[0m\n",
      "\u001b[1;31mDuplicateExchangeError\u001b[0m: Exchange value already defined for this reference!"
     ]
    }
   ],
   "source": [
    "pf.process.allocate_by_quantity(US['kg'])"
   ]
  },
  {
   "cell_type": "code",
   "execution_count": 29,
   "metadata": {
    "collapsed": false
   },
   "outputs": [],
   "source": [
    "try:\n",
    "    exs = [x for x in pf.process.exchanges(f[10])]\n",
    "except NoAllocation:\n",
    "    print('foo')"
   ]
  },
  {
   "cell_type": "code",
   "execution_count": 30,
   "metadata": {
    "collapsed": false
   },
   "outputs": [
    {
     "name": "stdout",
     "output_type": "stream",
     "text": [
      "Wood fuel, hardwood, gen at lumber mill, combusted in industrial boiler, NE-NC [RNA]\n",
      " 0  Input:     [0.88 [kg]] Wood fuel, hardwood, green, at sawmill, NE-NC [Sawmills]\n",
      " 1  Input:     [0.0882 [kg]] CUTOFF Disposal, solid waste, unspecified, to unspecified treatment [None]\n",
      " 2  Input:     [0.12 [kg]] Fuel wood, hardwood, kiln-dried, at planer mill, NE-NC [Sawmills]\n",
      " 3 Output:     [0.000189 [kg]] Methane  [unspecified]\n",
      " 4 Output:     [1.89e-07 [kg]] Chromium [unspecified]\n",
      " 5 Output:     [0.0175 [kg]] BOD5, Biological Oxygen Demand [unspecified]\n",
      " 6 Output:     [3.68e-05 [kg]] TOC, Total Organic Carbon [unspecified]\n",
      " 7 Output:     [0.0045 [kg]] Particulates, > 2.5 um, and < 10um [unspecified]\n",
      " 8 Output:     [4.32e-07 [kg]] Lead [unspecified]\n",
      " 9 Output:     [3.96e-05 [kg]] Formaldehyde [unspecified]\n",
      "10 Output:     [0.000385 [kg]] Metals, unspecified [unspecified]\n",
      "11 Output:     [2.52e-08 [kg]] Selenium [unspecified]\n",
      "12 Output:     [4.59e-07 [kg]] Phenols, unspecified [unspecified]\n",
      "13 Output:     [5.85e-08 [kg]] Cobalt [unspecified]\n",
      "14 Output:     [0.000171 [kg]] Hydrogen Chloride [unspecified]\n",
      "15 Output:     [2.61e-06 [kg]] Methane, dichloro-, HCC-30 [unspecified]\n",
      "16 Output:     [3.78e-05 [kg]] Benzene [unspecified]\n",
      "17 Output:     [9.9e-09 [kg]] Beryllium [unspecified]\n",
      "18 Output:     [3.6e-05 [kg]] Acrolein [unspecified]\n",
      "19 Output:     [1.76 [kg]] Carbon dioxide, biogenic [unspecified]\n",
      "20 Output:     [0.0054 [kg]] Carbon monoxide [unspecified]\n",
      "21 Output:     [1.98e-07 [kg]] Arsenic [unspecified]\n",
      "22 Output:     [1.5e-08 [kg]] Dioxins, measured as 2,3,7,8-tetrachlorodibenzo-p-dioxin [unspecified]\n",
      "23 Output:     [8.73e-07 [kg]] Naphthalene [unspecified]\n",
      "24 Output:     [0.0021 [kg]] Nitrogen oxides  [unspecified]\n",
      "25 Output:     [4.05e-07 [kg]] Methane, tetrachloro-, CFC-10 [unspecified]\n",
      "26 Output:     [0.000225 [kg]] Sulfur oxides [unspecified]\n",
      "27 Output:     [3.15e-08 [kg]] Mercury [unspecified]\n",
      "28 Output:     [7.11e-08 [kg]] Antimony [unspecified]\n",
      "29 Output: {*} [1 [kg]] Wood fuel, hardwood, gen at lumber mill, combusted in industrial boiler, NE-NC [Steam and Air-Conditioning Supply]\n",
      "30 Output:     [1.44e-05 [kg]] Manganese [unspecified]\n",
      "31 Output:     [2.97e-07 [kg]] Nickel [unspecified]\n",
      "32 Output:     [3.69e-08 [kg]] Cadmium [unspecified]\n",
      "33 Output:     [7.47e-06 [kg]] Acetaldehyde [unspecified]\n",
      "34 Output:     [7.11e-06 [kg]] Chlorine [unspecified]\n"
     ]
    }
   ],
   "source": [
    "_x_gen = (x for x in p.inventory())"
   ]
  },
  {
   "cell_type": "code",
   "execution_count": 62,
   "metadata": {
    "collapsed": false
   },
   "outputs": [
    {
     "data": {
      "text/plain": [
       "True"
      ]
     },
     "execution_count": 62,
     "metadata": {},
     "output_type": "execute_result"
    }
   ],
   "source": [
    "pf.process.find_reference(pf.flow) in "
   ]
  },
  {
   "cell_type": "code",
   "execution_count": 66,
   "metadata": {
    "collapsed": false
   },
   "outputs": [],
   "source": [
    "_f = (x for x in pf.process.exchanges())"
   ]
  },
  {
   "cell_type": "code",
   "execution_count": 67,
   "metadata": {
    "collapsed": false
   },
   "outputs": [],
   "source": [
    "ex = next(_f)"
   ]
  },
  {
   "cell_type": "code",
   "execution_count": 76,
   "metadata": {
    "collapsed": false
   },
   "outputs": [
    {
     "data": {
      "text/plain": [
       "'Wood fuel, hardwood, green, at sawmill, NE-NC [Sawmills]'"
      ]
     },
     "execution_count": 76,
     "metadata": {},
     "output_type": "execute_result"
    }
   ],
   "source": [
    "str(pf.flow)"
   ]
  },
  {
   "cell_type": "code",
   "execution_count": 75,
   "metadata": {
    "collapsed": false
   },
   "outputs": [
    {
     "name": "stdout",
     "output_type": "stream",
     "text": [
      "Sawn lumber, hardwood, rough, green, at sawmill, NE-NC [RNA]\n",
      " 0  Input:     [0.00313 [m3]] Roundwood, hardwood, green, at logyard, NE-NC [Logging]\n",
      " 1  Input:     [7.13e-08 [m3]] Natural gas, combusted in industrial equipment [Steam and Air-Conditioning Supply]\n",
      " 2  Input:     [0.186 [kg]] Bark, hardwood, green, at logyard, NE-NC [Logging]\n",
      " 3  Input:     [0.00175 [l]] Diesel, combusted in industrial equipment [Steam and Air-Conditioning Supply]\n",
      " 4  Input:     [0.000152 [l]] Gasoline, combusted in equipment [Steam and Air-Conditioning Supply]\n",
      " 5  Input:     [0.0162 [kg]] CUTOFF Disposal, solid waste, unspecified, to inert material landfill [None]\n",
      " 6  Input:     [0.000481 [kg]] CUTOFF Recycling, wood waste, unspecified [None]\n",
      " 7  Input:     [0.525 [MJ]] Heat, onsite boiler, hardwood mill, average, NE-NC [Steam and Air-Conditioning Supply]\n",
      " 8  Input:     [0.0999 [kWh]] Electricity, at grid, Eastern US, 2000 [Electric Power Distribution]\n",
      " 9  Input:     [0.00171 [kWh]] Electricity, onsite boiler, hardwood mill, average, NE-NC [Steam and Air-Conditioning Supply]\n",
      "10 Output: {*} [0.263 [kg]] Wood chips, hardwood, green, at sawmill, NE-NC [Sawmills]\n",
      "11 Output: {*} [0.238 [kg]] Wood fuel, hardwood, green, at sawmill, NE-NC [Sawmills]\n",
      "12 Output: {*} [0.0801 [kg]] Sawdust, hardwood, green, at sawmill, NE-NC [Sawmills]\n",
      "13 Output: {*} [0.186 [kg]] Bark, hardwood, green, at sawmill, NE-NC [Sawmills]\n",
      "14 Output: {*} [1 [kg]] Sawn lumber, hardwood, rough, green, at sawmill, NE-NC [Sawmills]\n",
      "15 Output:     [0.00248 [kg]] Particulates, unspecified [low population density]\n",
      "16 Output: {*} [0.036 [kg]] Hogged fuel, hardwood, green, at sawmill, NE-NC [Sawmills]\n"
     ]
    },
    {
     "data": {
      "text/plain": [
       "[<lcatools.exchanges.ExchangeValue at 0x7f88e0ded470>,\n",
       " <lcatools.exchanges.ExchangeValue at 0x7f88e0ded358>,\n",
       " <lcatools.exchanges.ExchangeValue at 0x7f88e0ded438>,\n",
       " <lcatools.exchanges.ExchangeValue at 0x7f88e0ded2b0>,\n",
       " <lcatools.exchanges.ExchangeValue at 0x7f88e0ded3c8>,\n",
       " <lcatools.exchanges.ExchangeValue at 0x7f88e0ded390>,\n",
       " <lcatools.exchanges.ExchangeValue at 0x7f88e0ded2e8>,\n",
       " <lcatools.exchanges.ExchangeValue at 0x7f88e0ded320>,\n",
       " <lcatools.exchanges.ExchangeValue at 0x7f88e0ded400>,\n",
       " <lcatools.exchanges.ExchangeValue at 0x7f88e0ded278>,\n",
       " <lcatools.exchanges.ExchangeValue at 0x7f88e0ded4e0>,\n",
       " <lcatools.exchanges.ExchangeValue at 0x7f88e0ded630>,\n",
       " <lcatools.exchanges.ExchangeValue at 0x7f88e0ded550>,\n",
       " <lcatools.exchanges.ExchangeValue at 0x7f88e0ded5c0>,\n",
       " <lcatools.exchanges.ExchangeValue at 0x7f88e0ded748>,\n",
       " <lcatools.exchanges.ExchangeValue at 0x7f88e0ded668>,\n",
       " <lcatools.exchanges.ExchangeValue at 0x7f88e0ded6d8>]"
      ]
     },
     "execution_count": 75,
     "metadata": {},
     "output_type": "execute_result"
    }
   ],
   "source": [
    "pf.process.inventory()"
   ]
  },
  {
   "cell_type": "code",
   "execution_count": 74,
   "metadata": {
    "collapsed": false
   },
   "outputs": [
    {
     "data": {
      "text/plain": [
       "'Roundwood, hardwood, green, at logyard, NE-NC [Logging]'"
      ]
     },
     "execution_count": 74,
     "metadata": {},
     "output_type": "execute_result"
    }
   ],
   "source": [
    "str(ex._flow)a"
   ]
  },
  {
   "cell_type": "code",
   "execution_count": 69,
   "metadata": {
    "collapsed": false
   },
   "outputs": [
    {
     "ename": "KeyError",
     "evalue": "'Key Sawn lumber, hardwood, rough, green, at sawmill, NE-NC [RNA] has Output: Wood fuel, hardwood, green, at sawmill, NE-NC [Sawmills] [kg] is not identified as a reference exchange for the parent process'",
     "output_type": "error",
     "traceback": [
      "\u001b[1;31m---------------------------------------------------------------------------\u001b[0m",
      "\u001b[1;31mKeyError\u001b[0m                                  Traceback (most recent call last)",
      "\u001b[1;32m<ipython-input-69-659dcf7c8037>\u001b[0m in \u001b[0;36m<module>\u001b[1;34m()\u001b[0m\n\u001b[1;32m----> 1\u001b[1;33m \u001b[0mExchangeValue\u001b[0m\u001b[1;33m.\u001b[0m\u001b[0mfrom_allocated\u001b[0m\u001b[1;33m(\u001b[0m\u001b[0mex\u001b[0m\u001b[1;33m,\u001b[0m \u001b[0mpf\u001b[0m\u001b[1;33m.\u001b[0m\u001b[0mprocess\u001b[0m\u001b[1;33m.\u001b[0m\u001b[0mfind_reference\u001b[0m\u001b[1;33m(\u001b[0m\u001b[0mpf\u001b[0m\u001b[1;33m.\u001b[0m\u001b[0mflow\u001b[0m\u001b[1;33m)\u001b[0m\u001b[1;33m)\u001b[0m\u001b[1;33m\u001b[0m\u001b[0m\n\u001b[0m",
      "\u001b[1;32m/data/GitHub/lca-tools/lcatools/exchanges.py\u001b[0m in \u001b[0;36mfrom_allocated\u001b[1;34m(cls, allocated, reference)\u001b[0m\n\u001b[0;32m    167\u001b[0m         \u001b[1;33m:\u001b[0m\u001b[1;32mreturn\u001b[0m\u001b[1;33m:\u001b[0m\u001b[1;33m\u001b[0m\u001b[0m\n\u001b[0;32m    168\u001b[0m         \"\"\"\n\u001b[1;32m--> 169\u001b[1;33m         return cls(allocated.process, allocated.flow, allocated.direction, value=allocated[reference],\n\u001b[0m\u001b[0;32m    170\u001b[0m                    termination=allocated.termination)\n\u001b[0;32m    171\u001b[0m \u001b[1;33m\u001b[0m\u001b[0m\n",
      "\u001b[1;32m/data/GitHub/lca-tools/lcatools/exchanges.py\u001b[0m in \u001b[0;36m__getitem__\u001b[1;34m(self, item)\u001b[0m\n\u001b[0;32m    228\u001b[0m             \u001b[1;31m# no allocation necessary -- only normalization\u001b[0m\u001b[1;33m\u001b[0m\u001b[1;33m\u001b[0m\u001b[0m\n\u001b[0;32m    229\u001b[0m             \u001b[1;32mreturn\u001b[0m \u001b[0mself\u001b[0m\u001b[1;33m.\u001b[0m\u001b[0mvalue\u001b[0m \u001b[1;33m/\u001b[0m \u001b[0mself\u001b[0m\u001b[1;33m.\u001b[0m\u001b[0mprocess\u001b[0m\u001b[1;33m.\u001b[0m\u001b[0mreference\u001b[0m\u001b[1;33m(\u001b[0m\u001b[1;33m)\u001b[0m\u001b[1;33m.\u001b[0m\u001b[0mvalue\u001b[0m\u001b[1;33m\u001b[0m\u001b[0m\n\u001b[1;32m--> 230\u001b[1;33m         \u001b[1;32mraise\u001b[0m \u001b[0mKeyError\u001b[0m\u001b[1;33m(\u001b[0m\u001b[1;34m'Key %s is not identified as a reference exchange for the parent process'\u001b[0m \u001b[1;33m%\u001b[0m \u001b[0mitem\u001b[0m\u001b[1;33m)\u001b[0m\u001b[1;33m\u001b[0m\u001b[0m\n\u001b[0m\u001b[0;32m    231\u001b[0m \u001b[1;33m\u001b[0m\u001b[0m\n\u001b[0;32m    232\u001b[0m     \u001b[1;32mdef\u001b[0m \u001b[0m__setitem__\u001b[0m\u001b[1;33m(\u001b[0m\u001b[0mself\u001b[0m\u001b[1;33m,\u001b[0m \u001b[0mkey\u001b[0m\u001b[1;33m,\u001b[0m \u001b[0mvalue\u001b[0m\u001b[1;33m)\u001b[0m\u001b[1;33m:\u001b[0m\u001b[1;33m\u001b[0m\u001b[0m\n",
      "\u001b[1;31mKeyError\u001b[0m: 'Key Sawn lumber, hardwood, rough, green, at sawmill, NE-NC [RNA] has Output: Wood fuel, hardwood, green, at sawmill, NE-NC [Sawmills] [kg] is not identified as a reference exchange for the parent process'"
     ]
    }
   ],
   "source": [
    "ExchangeValue.from_allocated(ex, pf.process.find_reference(pf.flow))"
   ]
  },
  {
   "cell_type": "code",
   "execution_count": 57,
   "metadata": {
    "collapsed": false
   },
   "outputs": [
    {
     "ename": "KeyError",
     "evalue": "'Key Sawn lumber, hardwood, rough, green, at sawmill, NE-NC [RNA] has Output: Wood fuel, hardwood, green, at sawmill, NE-NC [Sawmills] [kg] is not identified as a reference exchange for the parent process'",
     "output_type": "error",
     "traceback": [
      "\u001b[1;31m---------------------------------------------------------------------------\u001b[0m",
      "\u001b[1;31mKeyError\u001b[0m                                  Traceback (most recent call last)",
      "\u001b[1;32m<ipython-input-57-a24c1b86d959>\u001b[0m in \u001b[0;36m<module>\u001b[1;34m()\u001b[0m\n\u001b[1;32m----> 1\u001b[1;33m \u001b[0mF\u001b[0m\u001b[1;33m.\u001b[0m\u001b[0m_traverse_term_exchanges\u001b[0m\u001b[1;33m(\u001b[0m\u001b[0mUS\u001b[0m\u001b[1;33m,\u001b[0m \u001b[0mF\u001b[0m\u001b[1;33m.\u001b[0m\u001b[0mproduct_flow\u001b[0m\u001b[1;33m(\u001b[0m\u001b[1;36m1\u001b[0m\u001b[1;33m)\u001b[0m\u001b[1;33m,\u001b[0m \u001b[1;34m'mix'\u001b[0m\u001b[1;33m)\u001b[0m\u001b[1;33m\u001b[0m\u001b[0m\n\u001b[0m",
      "\u001b[1;32m/data/GitHub/lca-matrix/lcamatrix/foreground.py\u001b[0m in \u001b[0;36m_traverse_term_exchanges\u001b[1;34m(self, archive, parent, multi_term)\u001b[0m\n\u001b[0;32m    254\u001b[0m         \u001b[1;33m:\u001b[0m\u001b[1;32mreturn\u001b[0m\u001b[1;33m:\u001b[0m\u001b[1;33m\u001b[0m\u001b[0m\n\u001b[0;32m    255\u001b[0m         \"\"\"\n\u001b[1;32m--> 256\u001b[1;33m         \u001b[1;32mfor\u001b[0m \u001b[0mexch\u001b[0m \u001b[1;32min\u001b[0m \u001b[0mparent\u001b[0m\u001b[1;33m.\u001b[0m\u001b[0mprocess\u001b[0m\u001b[1;33m.\u001b[0m\u001b[0mexchanges\u001b[0m\u001b[1;33m(\u001b[0m\u001b[0mparent\u001b[0m\u001b[1;33m.\u001b[0m\u001b[0mflow\u001b[0m\u001b[1;33m)\u001b[0m\u001b[1;33m:\u001b[0m  \u001b[1;31m# generates allocated exchanges, excludes reference exchs\u001b[0m\u001b[1;33m\u001b[0m\u001b[0m\n\u001b[0m\u001b[0;32m    257\u001b[0m             \u001b[1;32mif\u001b[0m \u001b[0mexch\u001b[0m\u001b[1;33m.\u001b[0m\u001b[0mtermination\u001b[0m \u001b[1;32mis\u001b[0m \u001b[1;32mNone\u001b[0m\u001b[1;33m:\u001b[0m\u001b[1;33m\u001b[0m\u001b[0m\n\u001b[0;32m    258\u001b[0m                 \u001b[0mterms\u001b[0m \u001b[1;33m=\u001b[0m \u001b[1;33m[\u001b[0m\u001b[0mt\u001b[0m \u001b[1;32mfor\u001b[0m \u001b[0mt\u001b[0m \u001b[1;32min\u001b[0m \u001b[0marchive\u001b[0m\u001b[1;33m.\u001b[0m\u001b[0mterminate\u001b[0m\u001b[1;33m(\u001b[0m\u001b[0mexch\u001b[0m\u001b[1;33m)\u001b[0m\u001b[1;33m]\u001b[0m\u001b[1;33m\u001b[0m\u001b[0m\n",
      "\u001b[1;32m/data/GitHub/lca-tools/lcatools/entities.py\u001b[0m in \u001b[0;36mexchanges\u001b[1;34m(self, reference, scenario, strict)\u001b[0m\n\u001b[0;32m    416\u001b[0m                     \u001b[1;32melse\u001b[0m\u001b[1;33m:\u001b[0m\u001b[1;33m\u001b[0m\u001b[0m\n\u001b[0;32m    417\u001b[0m                         \u001b[1;31m# this pushes the problem up to ExchangeValue\u001b[0m\u001b[1;33m\u001b[0m\u001b[1;33m\u001b[0m\u001b[0m\n\u001b[1;32m--> 418\u001b[1;33m                         \u001b[1;32myield\u001b[0m \u001b[0mExchangeValue\u001b[0m\u001b[1;33m.\u001b[0m\u001b[0mfrom_allocated\u001b[0m\u001b[1;33m(\u001b[0m\u001b[0mi\u001b[0m\u001b[1;33m,\u001b[0m \u001b[0mreference\u001b[0m\u001b[1;33m)\u001b[0m\u001b[1;33m\u001b[0m\u001b[0m\n\u001b[0m\u001b[0;32m    419\u001b[0m \u001b[1;33m\u001b[0m\u001b[0m\n\u001b[0;32m    420\u001b[0m     \u001b[1;32mdef\u001b[0m \u001b[0mfind_reference\u001b[0m\u001b[1;33m(\u001b[0m\u001b[0mself\u001b[0m\u001b[1;33m,\u001b[0m \u001b[0mreference\u001b[0m\u001b[1;33m,\u001b[0m \u001b[0mstrict\u001b[0m\u001b[1;33m=\u001b[0m\u001b[1;32mFalse\u001b[0m\u001b[1;33m)\u001b[0m\u001b[1;33m:\u001b[0m\u001b[1;33m\u001b[0m\u001b[0m\n",
      "\u001b[1;32m/data/GitHub/lca-tools/lcatools/exchanges.py\u001b[0m in \u001b[0;36mfrom_allocated\u001b[1;34m(cls, allocated, reference)\u001b[0m\n\u001b[0;32m    167\u001b[0m         \u001b[1;33m:\u001b[0m\u001b[1;32mreturn\u001b[0m\u001b[1;33m:\u001b[0m\u001b[1;33m\u001b[0m\u001b[0m\n\u001b[0;32m    168\u001b[0m         \"\"\"\n\u001b[1;32m--> 169\u001b[1;33m         return cls(allocated.process, allocated.flow, allocated.direction, value=allocated[reference],\n\u001b[0m\u001b[0;32m    170\u001b[0m                    termination=allocated.termination)\n\u001b[0;32m    171\u001b[0m \u001b[1;33m\u001b[0m\u001b[0m\n",
      "\u001b[1;32m/data/GitHub/lca-tools/lcatools/exchanges.py\u001b[0m in \u001b[0;36m__getitem__\u001b[1;34m(self, item)\u001b[0m\n\u001b[0;32m    228\u001b[0m             \u001b[1;31m# no allocation necessary -- only normalization\u001b[0m\u001b[1;33m\u001b[0m\u001b[1;33m\u001b[0m\u001b[0m\n\u001b[0;32m    229\u001b[0m             \u001b[1;32mreturn\u001b[0m \u001b[0mself\u001b[0m\u001b[1;33m.\u001b[0m\u001b[0mvalue\u001b[0m \u001b[1;33m/\u001b[0m \u001b[0mself\u001b[0m\u001b[1;33m.\u001b[0m\u001b[0mprocess\u001b[0m\u001b[1;33m.\u001b[0m\u001b[0mreference\u001b[0m\u001b[1;33m(\u001b[0m\u001b[1;33m)\u001b[0m\u001b[1;33m.\u001b[0m\u001b[0mvalue\u001b[0m\u001b[1;33m\u001b[0m\u001b[0m\n\u001b[1;32m--> 230\u001b[1;33m         \u001b[1;32mraise\u001b[0m \u001b[0mKeyError\u001b[0m\u001b[1;33m(\u001b[0m\u001b[1;34m'Key %s is not identified as a reference exchange for the parent process'\u001b[0m \u001b[1;33m%\u001b[0m \u001b[0mitem\u001b[0m\u001b[1;33m)\u001b[0m\u001b[1;33m\u001b[0m\u001b[0m\n\u001b[0m\u001b[0;32m    231\u001b[0m \u001b[1;33m\u001b[0m\u001b[0m\n\u001b[0;32m    232\u001b[0m     \u001b[1;32mdef\u001b[0m \u001b[0m__setitem__\u001b[0m\u001b[1;33m(\u001b[0m\u001b[0mself\u001b[0m\u001b[1;33m,\u001b[0m \u001b[0mkey\u001b[0m\u001b[1;33m,\u001b[0m \u001b[0mvalue\u001b[0m\u001b[1;33m)\u001b[0m\u001b[1;33m:\u001b[0m\u001b[1;33m\u001b[0m\u001b[0m\n",
      "\u001b[1;31mKeyError\u001b[0m: 'Key Sawn lumber, hardwood, rough, green, at sawmill, NE-NC [RNA] has Output: Wood fuel, hardwood, green, at sawmill, NE-NC [Sawmills] [kg] is not identified as a reference exchange for the parent process'"
     ]
    }
   ],
   "source": [
    "F._traverse_term_exchanges(US, F.product_flow(1), 'mix')"
   ]
  },
  {
   "cell_type": "code",
   "execution_count": 55,
   "metadata": {
    "collapsed": false
   },
   "outputs": [
    {
     "data": {
      "text/plain": [
       "{'_cutoff': [],\n",
       " '_data_dir': '../lcamatrix/data',\n",
       " '_index': [<lcamatrix.foreground.ProductFlow at 0x7f88e0145f60>,\n",
       "  <lcamatrix.foreground.ProductFlow at 0x7f88e08c10b8>],\n",
       " '_interior': [],\n",
       " '_lowlink': {<lcamatrix.foreground.ProductFlow at 0x7f88e08c10b8>: 1,\n",
       "  <lcamatrix.foreground.ProductFlow at 0x7f88e0145f60>: 0},\n",
       " '_product_flows': {<lcamatrix.foreground.ProductFlow at 0x7f88e08c10b8>: 1,\n",
       "  <lcamatrix.foreground.ProductFlow at 0x7f88e0145f60>: 0},\n",
       " 'tstack': <lcamatrix.foreground.TarjanStack at 0x7f88e012fa20>}"
      ]
     },
     "execution_count": 55,
     "metadata": {},
     "output_type": "execute_result"
    }
   ],
   "source": [
    "F.__dict__"
   ]
  },
  {
   "cell_type": "code",
   "execution_count": 16,
   "metadata": {
    "collapsed": false
   },
   "outputs": [
    {
     "name": "stdout",
     "output_type": "stream",
     "text": [
      "Process Entity\n",
      "           Name: Sawn lumber, hardwood, planed, kiln dried, at planer mill, NE-NC\n",
      "        Comment: 1. Allocation on a mass basis.\n",
      "2. Important note: although most of the data in the US LCI database has \n",
      "undergone some sort of review, the database as a whole has not yet \n",
      "undergone a formal validation process.\n",
      "3. Please email comments to lci@nrel.gov.                                                                4. WRT soil carbon, what is not known, is the degree of carbon release from the decomposed fine roots in the soil and whether the net release of fine root carbon will be different over different time periods and under different treatment regimes. The results do not address soil carbon or the effect of forest management activities on total soil carbon because no reliable predictors were found that relate to the management treatments being considered.      \n",
      "  TemporalScope: {'end': '2006-01-01-07:00', 'begin': '2005-01-01-07:00'}\n",
      "Classifications: ['Wood Product Manufacturing', 'Sawmills']\n",
      "   SpatialScope: RNA\n"
     ]
    }
   ],
   "source": [
    "F.product_flow(1).process.show()"
   ]
  },
  {
   "cell_type": "code",
   "execution_count": 7,
   "metadata": {
    "collapsed": false
   },
   "outputs": [],
   "source": [
    "p = US['Sawn lumber, hardwood, planed, kiln dried, at planer mill, NE-NC']"
   ]
  },
  {
   "cell_type": "code",
   "execution_count": 29,
   "metadata": {
    "collapsed": true
   },
   "outputs": [],
   "source": [
    "_ref_g = p.references()"
   ]
  },
  {
   "cell_type": "code",
   "execution_count": 30,
   "metadata": {
    "collapsed": true
   },
   "outputs": [],
   "source": [
    "r = p.find_reference(next(_ref_g))"
   ]
  },
  {
   "cell_type": "code",
   "execution_count": 38,
   "metadata": {
    "collapsed": false
   },
   "outputs": [
    {
     "data": {
      "text/plain": [
       "<lcatools.exchanges.ExchangeValue at 0x7ff9fa5cd7f0>"
      ]
     },
     "execution_count": 38,
     "metadata": {},
     "output_type": "execute_result"
    }
   ],
   "source": [
    "f[0]"
   ]
  },
  {
   "cell_type": "code",
   "execution_count": 36,
   "metadata": {
    "collapsed": false
   },
   "outputs": [
    {
     "data": {
      "text/plain": [
       "0.0"
      ]
     },
     "execution_count": 36,
     "metadata": {},
     "output_type": "execute_result"
    }
   ],
   "source": [
    "ExchangeValue.from_allocated(f[0], r).value"
   ]
  },
  {
   "cell_type": "code",
   "execution_count": 34,
   "metadata": {
    "collapsed": false
   },
   "outputs": [
    {
     "data": {
      "text/plain": [
       "{'_direction': 'Input',\n",
       " '_flow': <lcatools.entities.LcFlow at 0x7ff9fa7a24e0>,\n",
       " '_process': <lcatools.entities.LcProcess at 0x7ff9fa5cc438>,\n",
       " '_termination': None,\n",
       " '_value': 5.3e-05,\n",
       " '_value_dict': {<lcatools.exchanges.Exchange at 0x7ff9fa5cd940>: 7.081774452164618e-08,\n",
       "  <lcatools.exchanges.Exchange at 0x7ff9fa5cd748>: 7.081774452164618e-08,\n",
       "  <lcatools.exchanges.Exchange at 0x7ff9fa5cda20>: 4.050774986638161e-05,\n",
       "  <lcatools.exchanges.Exchange at 0x7ff9fa5cd8d0>: 7.081774452164618e-08,\n",
       "  <lcatools.exchanges.Exchange at 0x7ff9fa5cd9b0>: 7.081774452164618e-08},\n",
       " 'unit': <lcatools.entities.LcUnit at 0x7ff9fa894390>}"
      ]
     },
     "execution_count": 34,
     "metadata": {},
     "output_type": "execute_result"
    }
   ],
   "source": [
    "f[0].__dict__"
   ]
  },
  {
   "cell_type": "code",
   "execution_count": 32,
   "metadata": {
    "collapsed": false
   },
   "outputs": [
    {
     "data": {
      "text/plain": [
       "'Output: {*} [44.2 [kg]] Mixings, hardwood, kiln-dried, at planer mill, NE-NC [Sawmills]'"
      ]
     },
     "execution_count": 32,
     "metadata": {},
     "output_type": "execute_result"
    }
   ],
   "source": [
    "str(r)"
   ]
  },
  {
   "cell_type": "code",
   "execution_count": 28,
   "metadata": {
    "collapsed": false
   },
   "outputs": [
    {
     "name": "stdout",
     "output_type": "stream",
     "text": [
      "Reference: Output: {*} [27.4 [kg]] Fuel wood, hardwood, kiln-dried, at planer mill, NE-NC [Sawmills]\n",
      " 0  Input:     [0 [m3]] Natural gas, combusted in industrial equipment [Steam and Air-Conditioning Supply]\n",
      " 1  Input:     [0 [m3]] Sawn lumber, hardwood, rough, kiln dried, at kiln, NE-NC [Sawmills]\n",
      " 2  Input:     [0 [l]] Gasoline, combusted in equipment [Steam and Air-Conditioning Supply]\n",
      " 3  Input:     [0 [kWh]] Electricity, at grid, Eastern US, 2000 [Electric Power Distribution]\n",
      " 4  Input:     [0 [l]] Diesel, combusted in industrial equipment [Steam and Air-Conditioning Supply]\n",
      " 5  Input:     [0 [kWh]] Electricity, onsite boiler, hardwood mill, average, NE-NC [Steam and Air-Conditioning Supply]\n"
     ]
    },
    {
     "data": {
      "text/plain": [
       "[<lcatools.exchanges.ExchangeValue at 0x7ff9f9d3a6a0>,\n",
       " <lcatools.exchanges.ExchangeValue at 0x7ff9f9d3a6d8>,\n",
       " <lcatools.exchanges.ExchangeValue at 0x7ff9f9d3a668>,\n",
       " <lcatools.exchanges.ExchangeValue at 0x7ff9f9d3a7f0>,\n",
       " <lcatools.exchanges.ExchangeValue at 0x7ff9f9d3a780>,\n",
       " <lcatools.exchanges.ExchangeValue at 0x7ff9f9d3a710>]"
      ]
     },
     "execution_count": 28,
     "metadata": {},
     "output_type": "execute_result"
    }
   ],
   "source": [
    "p.inventory(next(_ref_g))"
   ]
  },
  {
   "cell_type": "code",
   "execution_count": 8,
   "metadata": {
    "collapsed": false
   },
   "outputs": [
    {
     "name": "stdout",
     "output_type": "stream",
     "text": [
      "Sawn lumber, hardwood, planed, kiln dried, at planer mill, NE-NC [RNA]\n",
      " 0  Input:     [1.37 [m3]] Sawn lumber, hardwood, rough, kiln dried, at kiln, NE-NC [Sawmills]\n",
      " 1  Input:     [0.708 [kWh]] Electricity, onsite boiler, hardwood mill, average, NE-NC [Steam and Air-Conditioning Supply]\n",
      " 2  Input:     [0.114 [l]] Gasoline, combusted in equipment [Steam and Air-Conditioning Supply]\n",
      " 3  Input:     [1.31 [l]] Diesel, combusted in industrial equipment [Steam and Air-Conditioning Supply]\n",
      " 4  Input:     [41.4 [kWh]] Electricity, at grid, Eastern US, 2000 [Electric Power Distribution]\n",
      " 5  Input:     [5.3e-05 [m3]] Natural gas, combusted in industrial equipment [Steam and Air-Conditioning Supply]\n",
      " 6 Output: {*} [86.1 [kg]] Shavings, hardwood, kiln-dried, at planer mill, NE-NC [Sawmills]\n",
      " 7 Output: {*} [1 [m3]] Sawn lumber, hardwood, planed, kiln dried, at planer mill, NE-NC [Sawmills]\n",
      " 8 Output: {*} [18.7 [kg]] Sawdust, hardwood, kiln-dried, at planer mill, NE-NC [Sawmills]\n",
      " 9 Output: {*} [44.2 [kg]] Mixings, hardwood, kiln-dried, at planer mill, NE-NC [Sawmills]\n",
      "10 Output: {*} [27.4 [kg]] Fuel wood, hardwood, kiln-dried, at planer mill, NE-NC [Sawmills]\n"
     ]
    }
   ],
   "source": [
    "\n",
    "f = p.inventory()"
   ]
  },
  {
   "cell_type": "code",
   "execution_count": 9,
   "metadata": {
    "collapsed": false
   },
   "outputs": [
    {
     "data": {
      "text/plain": [
       "{'_direction': 'Input',\n",
       " '_flow': <lcatools.entities.LcFlow at 0x7f88e0a5ef28>,\n",
       " '_process': <lcatools.entities.LcProcess at 0x7f88e09bc320>,\n",
       " '_termination': None,\n",
       " '_value': 1.37,\n",
       " '_value_dict': {},\n",
       " 'unit': <lcatools.entities.LcUnit at 0x7f88e0c82278>}"
      ]
     },
     "execution_count": 9,
     "metadata": {},
     "output_type": "execute_result"
    }
   ],
   "source": [
    "f[0].__dict__"
   ]
  },
  {
   "cell_type": "code",
   "execution_count": 12,
   "metadata": {
    "collapsed": false
   },
   "outputs": [
    {
     "data": {
      "text/plain": [
       "38907"
      ]
     },
     "execution_count": 12,
     "metadata": {},
     "output_type": "execute_result"
    }
   ],
   "source": [
    "f[7].flow.get_external_ref()"
   ]
  },
  {
   "cell_type": "code",
   "execution_count": 10,
   "metadata": {
    "collapsed": false
   },
   "outputs": [
    {
     "name": "stdout",
     "output_type": "stream",
     "text": [
      "Sawn lumber, hardwood, planed, kiln dried, at planer mill, NE-NC [Sawmills]\n",
      " 0          1                   m3 == m3(*)EcoSpold Quantity m3 [m3]\n",
      " 1        572                   kg == m3 | EcoSpold Quantity kg [kg]\n"
     ]
    },
    {
     "data": {
      "text/plain": [
       "[<lcatools.characterizations.Characterization at 0x7f88e0a08748>,\n",
       " <lcatools.characterizations.Characterization at 0x7f88e0a08780>]"
      ]
     },
     "execution_count": 10,
     "metadata": {},
     "output_type": "execute_result"
    }
   ],
   "source": [
    "US[38907].profile()"
   ]
  },
  {
   "cell_type": "code",
   "execution_count": 11,
   "metadata": {
    "collapsed": false
   },
   "outputs": [],
   "source": [
    "p.allocate_by_quantity(US['kg'])"
   ]
  },
  {
   "cell_type": "code",
   "execution_count": 23,
   "metadata": {
    "collapsed": false
   },
   "outputs": [
    {
     "data": {
      "text/plain": [
       "0.0"
      ]
     },
     "execution_count": 23,
     "metadata": {},
     "output_type": "execute_result"
    }
   ],
   "source": [
    "xa[0].value"
   ]
  },
  {
   "cell_type": "code",
   "execution_count": 17,
   "metadata": {
    "collapsed": false
   },
   "outputs": [
    {
     "data": {
      "text/plain": [
       "'Output: {*} [1 [m3]] Sawn lumber, hardwood, planed, kiln dried, at planer mill, NE-NC [Sawmills]'"
      ]
     },
     "execution_count": 17,
     "metadata": {},
     "output_type": "execute_result"
    }
   ],
   "source": [
    "'%s' % ExchangeValue.from_allocated(f[7], f[7])"
   ]
  },
  {
   "cell_type": "code",
   "execution_count": 23,
   "metadata": {
    "collapsed": false
   },
   "outputs": [
    {
     "name": "stdout",
     "output_type": "stream",
     "text": [
      "Sawn lumber, hardwood, planed, kiln dried, at planer mill, NE-NC [RNA]\n",
      " 0  Input:     [1.37 [m3]] Sawn lumber, hardwood, rough, kiln dried, at kiln, NE-NC [Sawmills]\n",
      " 1  Input:     [0.708 [kWh]] Electricity, onsite boiler, hardwood mill, average, NE-NC [Steam and Air-Conditioning Supply]\n",
      " 2  Input:     [0.114 [l]] Gasoline, combusted in equipment [Steam and Air-Conditioning Supply]\n",
      " 3  Input:     [1.31 [l]] Diesel, combusted in industrial equipment [Steam and Air-Conditioning Supply]\n",
      " 4  Input:     [41.4 [kWh]] Electricity, at grid, Eastern US, 2000 [Electric Power Distribution]\n",
      " 5  Input:     [5.3e-05 [m3]] Natural gas, combusted in industrial equipment [Steam and Air-Conditioning Supply]\n",
      " 6 Output: {*} [86.1 [kg]] Shavings, hardwood, kiln-dried, at planer mill, NE-NC [Sawmills]\n",
      " 7 Output: {*} [1 [m3]] Sawn lumber, hardwood, planed, kiln dried, at planer mill, NE-NC [Sawmills]\n",
      " 8 Output: {*} [18.7 [kg]] Sawdust, hardwood, kiln-dried, at planer mill, NE-NC [Sawmills]\n",
      " 9 Output: {*} [44.2 [kg]] Mixings, hardwood, kiln-dried, at planer mill, NE-NC [Sawmills]\n",
      "10 Output: {*} [27.4 [kg]] Fuel wood, hardwood, kiln-dried, at planer mill, NE-NC [Sawmills]\n"
     ]
    },
    {
     "data": {
      "text/plain": [
       "[<lcatools.exchanges.ExchangeValue at 0x7f88e09bd780>,\n",
       " <lcatools.exchanges.ExchangeValue at 0x7f88e09bd668>,\n",
       " <lcatools.exchanges.ExchangeValue at 0x7f88e09bd710>,\n",
       " <lcatools.exchanges.ExchangeValue at 0x7f88e09bd6a0>,\n",
       " <lcatools.exchanges.ExchangeValue at 0x7f88e09bd748>,\n",
       " <lcatools.exchanges.ExchangeValue at 0x7f88e09bd6d8>,\n",
       " <lcatools.exchanges.ExchangeValue at 0x7f88e09bd940>,\n",
       " <lcatools.exchanges.ExchangeValue at 0x7f88e09bd9b0>,\n",
       " <lcatools.exchanges.ExchangeValue at 0x7f88e09bd860>,\n",
       " <lcatools.exchanges.ExchangeValue at 0x7f88e09bd8d0>,\n",
       " <lcatools.exchanges.ExchangeValue at 0x7f88e09bd7f0>]"
      ]
     },
     "execution_count": 23,
     "metadata": {},
     "output_type": "execute_result"
    }
   ],
   "source": [
    "p.inventory()"
   ]
  },
  {
   "cell_type": "code",
   "execution_count": 22,
   "metadata": {
    "collapsed": false
   },
   "outputs": [
    {
     "data": {
      "text/plain": [
       "0.730824298540146"
      ]
     },
     "execution_count": 22,
     "metadata": {},
     "output_type": "execute_result"
    }
   ],
   "source": [
    "1.001229289 / 1.37"
   ]
  },
  {
   "cell_type": "code",
   "execution_count": 27,
   "metadata": {
    "collapsed": false
   },
   "outputs": [],
   "source": [
    "quantity = US['kg']\n",
    "exchs = dict()\n",
    "mags = dict()\n",
    "for rf in p.reference_entity:\n",
    "    exchs[rf.flow] = p._exchanges[rf].value\n",
    "    mags[rf.flow] = exchs[rf.flow] * rf.flow.cf(quantity)\n"
   ]
  },
  {
   "cell_type": "code",
   "execution_count": 28,
   "metadata": {
    "collapsed": false
   },
   "outputs": [
    {
     "data": {
      "text/plain": [
       "{<lcatools.entities.LcFlow at 0x7f88e0c248d0>: 27.4,\n",
       " <lcatools.entities.LcFlow at 0x7f88e0aebb38>: 44.2,\n",
       " <lcatools.entities.LcFlow at 0x7f88e0b59e80>: 18.7,\n",
       " <lcatools.entities.LcFlow at 0x7f88e0a08710>: 1.0,\n",
       " <lcatools.entities.LcFlow at 0x7f88e0a4ae48>: 86.1}"
      ]
     },
     "execution_count": 28,
     "metadata": {},
     "output_type": "execute_result"
    }
   ],
   "source": [
    "exchs"
   ]
  },
  {
   "cell_type": "code",
   "execution_count": 29,
   "metadata": {
    "collapsed": false
   },
   "outputs": [
    {
     "data": {
      "text/plain": [
       "{<lcatools.entities.LcFlow at 0x7f88e0c248d0>: 27.4,\n",
       " <lcatools.entities.LcFlow at 0x7f88e0aebb38>: 44.2,\n",
       " <lcatools.entities.LcFlow at 0x7f88e0b59e80>: 18.7,\n",
       " <lcatools.entities.LcFlow at 0x7f88e0a08710>: 572.0,\n",
       " <lcatools.entities.LcFlow at 0x7f88e0a4ae48>: 86.1}"
      ]
     },
     "execution_count": 29,
     "metadata": {},
     "output_type": "execute_result"
    }
   ],
   "source": [
    "mags"
   ]
  },
  {
   "cell_type": "code",
   "execution_count": 30,
   "metadata": {
    "collapsed": true
   },
   "outputs": [],
   "source": [
    "        total = sum([v for v in mags.values()])\n"
   ]
  },
  {
   "cell_type": "code",
   "execution_count": 31,
   "metadata": {
    "collapsed": false
   },
   "outputs": [
    {
     "data": {
      "text/plain": [
       "748.4"
      ]
     },
     "execution_count": 31,
     "metadata": {},
     "output_type": "execute_result"
    }
   ],
   "source": [
    "total"
   ]
  },
  {
   "cell_type": "code",
   "execution_count": 32,
   "metadata": {
    "collapsed": false
   },
   "outputs": [
    {
     "data": {
      "text/plain": [
       "748.4000000000001"
      ]
     },
     "execution_count": 32,
     "metadata": {},
     "output_type": "execute_result"
    }
   ],
   "source": [
    "(572 + 86.1 + 18.7 + 44.2 + 27.4)"
   ]
  },
  {
   "cell_type": "code",
   "execution_count": 39,
   "metadata": {
    "collapsed": false
   },
   "outputs": [
    {
     "data": {
      "text/plain": [
       "1.153662883569"
      ]
     },
     "execution_count": 39,
     "metadata": {},
     "output_type": "execute_result"
    }
   ],
   "source": [
    "1.074087**2"
   ]
  },
  {
   "cell_type": "code",
   "execution_count": 44,
   "metadata": {
    "collapsed": false
   },
   "outputs": [
    {
     "name": "stdout",
     "output_type": "stream",
     "text": [
      "Sawn lumber, hardwood, planed, kiln dried, at planer mill, NE-NC [RNA]\n",
      " 0  Input:     [1.37 [m3]] Sawn lumber, hardwood, rough, kiln dried, at kiln, NE-NC [Sawmills]\n",
      " 1  Input:     [0.708 [kWh]] Electricity, onsite boiler, hardwood mill, average, NE-NC [Steam and Air-Conditioning Supply]\n",
      " 2  Input:     [0.114 [l]] Gasoline, combusted in equipment [Steam and Air-Conditioning Supply]\n",
      " 3  Input:     [1.31 [l]] Diesel, combusted in industrial equipment [Steam and Air-Conditioning Supply]\n",
      " 4  Input:     [41.4 [kWh]] Electricity, at grid, Eastern US, 2000 [Electric Power Distribution]\n",
      " 5  Input:     [5.3e-05 [m3]] Natural gas, combusted in industrial equipment [Steam and Air-Conditioning Supply]\n",
      " 6 Output: {*} [86.1 [kg]] Shavings, hardwood, kiln-dried, at planer mill, NE-NC [Sawmills]\n",
      " 7 Output: {*} [1 [m3]] Sawn lumber, hardwood, planed, kiln dried, at planer mill, NE-NC [Sawmills]\n",
      " 8 Output: {*} [18.7 [kg]] Sawdust, hardwood, kiln-dried, at planer mill, NE-NC [Sawmills]\n",
      " 9 Output: {*} [44.2 [kg]] Mixings, hardwood, kiln-dried, at planer mill, NE-NC [Sawmills]\n",
      "10 Output: {*} [27.4 [kg]] Fuel wood, hardwood, kiln-dried, at planer mill, NE-NC [Sawmills]\n"
     ]
    }
   ],
   "source": [
    "f = p.inventory()"
   ]
  },
  {
   "cell_type": "code",
   "execution_count": 45,
   "metadata": {
    "collapsed": false
   },
   "outputs": [
    {
     "name": "stdout",
     "output_type": "stream",
     "text": [
      "Reference: Output: {*} [1 [m3]] Sawn lumber, hardwood, planed, kiln dried, at planer mill, NE-NC [Sawmills]\n",
      " 0  Input:     [1.05 [m3]] Sawn lumber, hardwood, rough, kiln dried, at kiln, NE-NC [Sawmills]\n",
      " 1  Input:     [0.541 [kWh]] Electricity, onsite boiler, hardwood mill, average, NE-NC [Steam and Air-Conditioning Supply]\n",
      " 2  Input:     [0.0871 [l]] Gasoline, combusted in equipment [Steam and Air-Conditioning Supply]\n",
      " 3  Input:     [1 [l]] Diesel, combusted in industrial equipment [Steam and Air-Conditioning Supply]\n",
      " 4  Input:     [31.6 [kWh]] Electricity, at grid, Eastern US, 2000 [Electric Power Distribution]\n",
      " 5  Input:     [4.05e-05 [m3]] Natural gas, combusted in industrial equipment [Steam and Air-Conditioning Supply]\n"
     ]
    }
   ],
   "source": [
    "xa = p.inventory(f[7])"
   ]
  },
  {
   "cell_type": "code",
   "execution_count": 43,
   "metadata": {
    "collapsed": false
   },
   "outputs": [
    {
     "data": {
      "text/plain": [
       "{'_direction': 'Input',\n",
       " '_flow': <lcatools.entities.LcFlow at 0x7f88e0a5ef28>,\n",
       " '_process': <lcatools.entities.LcProcess at 0x7f88e09bc320>,\n",
       " '_termination': None,\n",
       " '_value': 1.0470871191876003,\n",
       " '_value_dict': {},\n",
       " 'unit': <lcatools.entities.LcUnit at 0x7f88e0c82278>}"
      ]
     },
     "execution_count": 43,
     "metadata": {},
     "output_type": "execute_result"
    }
   ],
   "source": [
    "xa[0].__dict__"
   ]
  },
  {
   "cell_type": "code",
   "execution_count": 40,
   "metadata": {
    "collapsed": false
   },
   "outputs": [
    {
     "data": {
      "text/plain": [
       "1.0470871191876003"
      ]
     },
     "execution_count": 40,
     "metadata": {},
     "output_type": "execute_result"
    }
   ],
   "source": [
    "ExchangeValue.from_allocated(f[0], f[7]).value"
   ]
  },
  {
   "cell_type": "code",
   "execution_count": 37,
   "metadata": {
    "collapsed": false
   },
   "outputs": [
    {
     "data": {
      "text/plain": [
       "{'_direction': 'Input',\n",
       " '_flow': <lcatools.entities.LcFlow at 0x7f88e0a5ef28>,\n",
       " '_process': <lcatools.entities.LcProcess at 0x7f88e09bc320>,\n",
       " '_termination': None,\n",
       " '_value': 1.37,\n",
       " '_value_dict': {<lcatools.exchanges.Exchange at 0x7f88e09bd630>: 0.001830571886691609,\n",
       "  <lcatools.exchanges.Exchange at 0x7f88e09bd898>: 0.001830571886691609,\n",
       "  <lcatools.exchanges.Exchange at 0x7f88e09bd7b8>: 0.001830571886691609,\n",
       "  <lcatools.exchanges.Exchange at 0x7f88e09bd828>: 0.001830571886691609,\n",
       "  <lcatools.exchanges.Exchange at 0x7f88e09bd908>: 1.0470871191876003},\n",
       " 'unit': <lcatools.entities.LcUnit at 0x7f88e0c82278>}"
      ]
     },
     "execution_count": 37,
     "metadata": {},
     "output_type": "execute_result"
    }
   ],
   "source": [
    "f[0].__dict__"
   ]
  },
  {
   "cell_type": "code",
   "execution_count": 33,
   "metadata": {
    "collapsed": false
   },
   "outputs": [
    {
     "data": {
      "text/plain": [
       "{'_direction': 'Input',\n",
       " '_flow': <lcatools.entities.LcFlow at 0x7f88e0bffd30>,\n",
       " '_process': <lcatools.entities.LcProcess at 0x7f88e09bc320>,\n",
       " '_termination': None,\n",
       " '_value': 1.001229289150187,\n",
       " '_value_dict': {},\n",
       " 'unit': <lcatools.entities.LcUnit at 0x7f88dff9ea58>}"
      ]
     },
     "execution_count": 33,
     "metadata": {},
     "output_type": "execute_result"
    }
   ],
   "source": [
    "xa[3].__dict__"
   ]
  },
  {
   "cell_type": "code",
   "execution_count": 34,
   "metadata": {
    "collapsed": true
   },
   "outputs": [],
   "source": [
    "_rf_gen = (x for x in p.reference_entity)"
   ]
  },
  {
   "cell_type": "code",
   "execution_count": 40,
   "metadata": {
    "collapsed": true
   },
   "outputs": [],
   "source": [
    "from lcatools.foreground.dynamic_grid import dynamic_grid"
   ]
  },
  {
   "cell_type": "code",
   "execution_count": 45,
   "metadata": {
    "collapsed": true
   },
   "outputs": [],
   "source": [
    "def compare_allocation(process):\n",
    "    def _key(exc):\n",
    "        return '%s' % exc.flow, exc.direction\n",
    "\n",
    "    exchs = dict()\n",
    "    exch_set = set()\n",
    "    cols = []\n",
    "    for p in process.reference_entity:\n",
    "        cols.append(p)\n",
    "        exchs[p] = [x for x in process.exchanges(p.flow)]\n",
    "        exch_set = exch_set.union(_key(x) for x in exchs[p])\n",
    "\n",
    "    exch_rows = sorted(exch_set, key=lambda x: x[1])\n",
    "\n",
    "    dynamic_grid(cols, exch_rows,\n",
    "                 lambda x, y: {t for t in exchs[y] if _key(t) == x},\n",
    "                 ('Direction', lambda x: x[1]),\n",
    "                 ('Flow', lambda x: x[0]), returns_sets=True)\n"
   ]
  },
  {
   "cell_type": "code",
   "execution_count": null,
   "metadata": {
    "collapsed": true
   },
   "outputs": [],
   "source": []
  },
  {
   "cell_type": "code",
   "execution_count": 53,
   "metadata": {
    "collapsed": false
   },
   "outputs": [
    {
     "data": {
      "text/plain": [
       "1.0470871191876001"
      ]
     },
     "execution_count": 53,
     "metadata": {},
     "output_type": "execute_result"
    }
   ],
   "source": [
    "1.37 * 572/(572 + 86.1 + 44.2 + 27.4 + 18.7)"
   ]
  },
  {
   "cell_type": "code",
   "execution_count": 56,
   "metadata": {
    "collapsed": false
   },
   "outputs": [
    {
     "data": {
      "text/plain": [
       "1.3683179418056357"
      ]
     },
     "execution_count": 56,
     "metadata": {},
     "output_type": "execute_result"
    }
   ],
   "source": [
    "1.37 / 1.001229289 "
   ]
  },
  {
   "cell_type": "code",
   "execution_count": 55,
   "metadata": {
    "collapsed": false
   },
   "outputs": [
    {
     "name": "stdout",
     "output_type": "stream",
     "text": [
      "Sawn lumber, hardwood, planed, kiln dried, at planer mill, NE-NC [RNA]\n",
      "Reference: Sawn lumber, hardwood, planed, kiln dried, at planer mill, NE-NC [Sawmills]\n",
      " 0  Input:     [31.6 [kWh]] Electricity, at grid, Eastern US, 2000 [Electric Power Distribution]\n",
      " 1  Input:     [1.05 [m3]] Sawn lumber, hardwood, rough, kiln dried, at kiln, NE-NC [Sawmills]\n",
      " 2  Input:     [0.541 [kWh]] Electricity, onsite boiler, hardwood mill, average, NE-NC [Steam and Air-Conditioning Supply]\n",
      " 3  Input:     [1 [l]] Diesel, combusted in industrial equipment [Steam and Air-Conditioning Supply]\n",
      " 4  Input:     [0.0871 [l]] Gasoline, combusted in equipment [Steam and Air-Conditioning Supply]\n",
      " 5  Input:     [4.05e-05 [m3]] Natural gas, combusted in industrial equipment [Steam and Air-Conditioning Supply]\n"
     ]
    },
    {
     "data": {
      "text/plain": [
       "1.001229289150187"
      ]
     },
     "execution_count": 55,
     "metadata": {},
     "output_type": "execute_result"
    }
   ],
   "source": [
    "p.inventory(f)[3].value"
   ]
  },
  {
   "cell_type": "code",
   "execution_count": 46,
   "metadata": {
    "collapsed": false
   },
   "outputs": [
    {
     "name": "stdout",
     "output_type": "stream",
     "text": [
      "    Direction  |   C0   |   C1   |   C2   |   C3   |   C4    Flow\n",
      "-----------------------------------------------------------------\n",
      "[ 0]     Input    0.0553   0.0553   0.0553     31.6   0.0553  Electricity, at grid, Eastern US, 2000 [Electric Power Distribution]\n",
      "[ 1]     Input  0.000946 0.000946 0.000946    0.541 0.000946  Electricity, onsite boiler, hardwood mill, average, NE-NC [Steam and Air-Conditioning Supply]\n",
      "[ 2]     Input  7.08e-08 7.08e-08 7.08e-08 4.05e-05 7.08e-08  Natural gas, combusted in industrial equipment [Steam and Air-Conditioning Supply]\n",
      "[ 3]     Input  0.000152 0.000152 0.000152   0.0871 0.000152  Gasoline, combusted in equipment [Steam and Air-Conditioning Supply]\n",
      "[ 4]     Input   0.00183  0.00183  0.00183     1.05  0.00183  Sawn lumber, hardwood, rough, kiln dried, at kiln, NE-NC [Sawmills]\n",
      "[ 5]     Input   0.00175  0.00175  0.00175        1  0.00175  Diesel, combusted in industrial equipment [Steam and Air-Conditioning Supply]\n",
      "    Direction  |   C0   |   C1   |   C2   |   C3   |   C4    Flow\n",
      "\n",
      "Columns:\n",
      "C0: Sawn lumber, hardwood, planed, kiln dried, at planer mill, NE-NC [RNA] has Output: Fuel wood, hardwood, kiln-dried, at planer mill, NE-NC [Sawmills] [kg]\n",
      "C1: Sawn lumber, hardwood, planed, kiln dried, at planer mill, NE-NC [RNA] has Output: Sawdust, hardwood, kiln-dried, at planer mill, NE-NC [Sawmills] [kg]\n",
      "C2: Sawn lumber, hardwood, planed, kiln dried, at planer mill, NE-NC [RNA] has Output: Shavings, hardwood, kiln-dried, at planer mill, NE-NC [Sawmills] [kg]\n",
      "C3: Sawn lumber, hardwood, planed, kiln dried, at planer mill, NE-NC [RNA] has Output: Sawn lumber, hardwood, planed, kiln dried, at planer mill, NE-NC [Sawmills] [m3]\n",
      "C4: Sawn lumber, hardwood, planed, kiln dried, at planer mill, NE-NC [RNA] has Output: Mixings, hardwood, kiln-dried, at planer mill, NE-NC [Sawmills] [kg]\n"
     ]
    }
   ],
   "source": [
    "compare_allocation(p)"
   ]
  },
  {
   "cell_type": "code",
   "execution_count": 39,
   "metadata": {
    "collapsed": false
   },
   "outputs": [
    {
     "data": {
      "text/plain": [
       "{'_direction': 'Input',\n",
       " '_flow': <lcatools.entities.LcFlow at 0x7f56d95ae160>,\n",
       " '_process': <lcatools.entities.LcProcess at 0x7f56d9ae64e0>,\n",
       " '_ref_flow': 'e8feff6e-171c-3f76-ae2e-3b6548e43ce4',\n",
       " '_termination': None,\n",
       " '_value': 1.37,\n",
       " '_value_dict': {'3de803d1-48ec-32c3-b23b-b5ca4d061be3': 0.001830571886691609,\n",
       "  '832aee40-a95c-3179-b377-4465cb8903e3': 0.001830571886691609,\n",
       "  'bc83e8bd-cf98-393f-939a-e7cb48ee16ee': 0.001830571886691609,\n",
       "  'e32544ae-94fc-32d7-b670-a8fe7b4cef29': 0.001830571886691609,\n",
       "  'f6aaf32e-1d78-355e-85d5-ec89df9a3594': 1.0470871191876003},\n",
       " 'unit': <lcatools.entities.LcUnit at 0x7f56d984a358>}"
      ]
     },
     "execution_count": 39,
     "metadata": {},
     "output_type": "execute_result"
    }
   ],
   "source": [
    "next(_x_gen).__dict__"
   ]
  },
  {
   "cell_type": "code",
   "execution_count": 24,
   "metadata": {
    "collapsed": true
   },
   "outputs": [],
   "source": [
    "US.write_to_file(os.path.join(CATALOG, USLCI), exchanges=True, characterizations=True, values=True, gzip=True)"
   ]
  },
  {
   "cell_type": "code",
   "execution_count": 23,
   "metadata": {
    "collapsed": false
   },
   "outputs": [
    {
     "name": "stdout",
     "output_type": "stream",
     "text": [
      "Sawn lumber, hardwood, planed, kiln dried, at planer mill, NE-NC [Sawmills]\n",
      " 0          1                   m3 == m3(*)EcoSpold Quantity m3 [m3]\n",
      " 1        572                   kg == m3 | EcoSpold Quantity kg [kg]\n"
     ]
    },
    {
     "data": {
      "text/plain": [
       "[<lcatools.characterizations.Characterization at 0x7f56d9554940>,\n",
       " <lcatools.characterizations.Characterization at 0x7f56da211d68>]"
      ]
     },
     "execution_count": 23,
     "metadata": {},
     "output_type": "execute_result"
    }
   ],
   "source": [
    "f.profile()"
   ]
  },
  {
   "cell_type": "code",
   "execution_count": 33,
   "metadata": {
    "collapsed": false
   },
   "outputs": [],
   "source": [
    "f.add_characterization(US['kg'], value=627)"
   ]
  },
  {
   "cell_type": "code",
   "execution_count": 36,
   "metadata": {
    "collapsed": false
   },
   "outputs": [
    {
     "name": "stdout",
     "output_type": "stream",
     "text": [
      "Flow Entity\n",
      "       Name: Sawn lumber, hardwood, planed, kiln dried, at planer mill, NE-NC\n",
      "    Comment: Wood Output = 572 kg, od basis. Based on an ovendry basis density of 627 kg/m3 and a moisture content (ovendry basis) of 9.6%. Conversion to board feet: 568 nominal board feet/m3 sawn and planed lumber.\n",
      "Compartment: ['Wood Product Manufacturing', 'Sawmills']\n",
      "  CasNumber: \n"
     ]
    }
   ],
   "source": [
    "f.show()"
   ]
  },
  {
   "cell_type": "code",
   "execution_count": 40,
   "metadata": {
    "collapsed": false
   },
   "outputs": [
    {
     "data": {
      "text/plain": [
       "0.0"
      ]
     },
     "execution_count": 40,
     "metadata": {},
     "output_type": "execute_result"
    }
   ],
   "source": [
    "f.cf(US['m2'])"
   ]
  },
  {
   "cell_type": "code",
   "execution_count": 27,
   "metadata": {
    "collapsed": false
   },
   "outputs": [
    {
     "data": {
      "text/plain": [
       "<lcatools.entities.LcQuantity at 0x7fb1493c37b8>"
      ]
     },
     "execution_count": 27,
     "metadata": {},
     "output_type": "execute_result"
    }
   ],
   "source": [
    "US['kg']"
   ]
  },
  {
   "cell_type": "code",
   "execution_count": 25,
   "metadata": {
    "collapsed": false
   },
   "outputs": [
    {
     "data": {
      "text/plain": [
       "['EcoSpold Quantity t [t]',\n",
       " 'EcoSpold Quantity Bq [Bq]',\n",
       " 'EcoSpold Quantity l [l]',\n",
       " 'EcoSpold Quantity m3 [m3]',\n",
       " 'EcoSpold Quantity btu [btu]',\n",
       " 'EcoSpold Quantity m [m]',\n",
       " 'EcoSpold Quantity m2 [m2]',\n",
       " 'EcoSpold Quantity kBq [kBq]',\n",
       " 'EcoSpold Quantity Item(s) [Item(s)]',\n",
       " 'EcoSpold Quantity kg*km [kg*km]',\n",
       " 'EcoSpold Quantity h [h]',\n",
       " 'EcoSpold Quantity MJ [MJ]',\n",
       " 'EcoSpold Quantity ha [ha]',\n",
       " 'EcoSpold Quantity t*km [t*km]',\n",
       " 'EcoSpold Quantity USD [USD]',\n",
       " 'EcoSpold Quantity p*km [p*km]',\n",
       " 'EcoSpold Quantity kg [kg]',\n",
       " 'EcoSpold Quantity m2*a [m2*a]',\n",
       " 'EcoSpold Quantity kWh [kWh]',\n",
       " 'EcoSpold Quantity sh tn [sh tn]']"
      ]
     },
     "execution_count": 25,
     "metadata": {},
     "output_type": "execute_result"
    }
   ],
   "source": [
    "[str(q) for q in US.quantities()]"
   ]
  },
  {
   "cell_type": "code",
   "execution_count": 30,
   "metadata": {
    "collapsed": false
   },
   "outputs": [
    {
     "data": {
      "text/plain": [
       "{'_flow': <lcatools.entities.LcFlow at 0x7f85b28ed940>,\n",
       " '_hash': ('ba041c7f-0a44-357d-8e8f-07583d50544a', None),\n",
       " '_process': None}"
      ]
     },
     "execution_count": 30,
     "metadata": {},
     "output_type": "execute_result"
    }
   ],
   "source": [
    "F.product_flow(0).__dict__"
   ]
  }
 ],
 "metadata": {
  "kernelspec": {
   "display_name": "Python 3",
   "language": "python",
   "name": "python3"
  },
  "language_info": {
   "codemirror_mode": {
    "name": "ipython",
    "version": 3
   },
   "file_extension": ".py",
   "mimetype": "text/x-python",
   "name": "python",
   "nbconvert_exporter": "python",
   "pygments_lexer": "ipython3",
   "version": "3.5.2"
  }
 },
 "nbformat": 4,
 "nbformat_minor": 0
}

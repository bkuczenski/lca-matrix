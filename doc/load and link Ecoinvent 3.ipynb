{
 "cells": [
  {
   "cell_type": "code",
   "execution_count": 33,
   "metadata": {
    "collapsed": true
   },
   "outputs": [],
   "source": [
    "import os\n",
    "import sys\n",
    "import json\n",
    "import uuid \n",
    "\n",
    "from itertools import groupby"
   ]
  },
  {
   "cell_type": "code",
   "execution_count": 48,
   "metadata": {
    "collapsed": true
   },
   "outputs": [],
   "source": [
    "def group_by(iterable, keyfunc):\n",
    "    groups = []\n",
    "    uniquekeys = []\n",
    "    data = sorted(iterable, key=keyfunc)\n",
    "    for k, g in groupby(data, keyfunc):\n",
    "        groups.append(list(g))      # Store group iterator as a list\n",
    "        uniquekeys.append(k)\n",
    "        \n",
    "    return groups, uniquekeys"
   ]
  },
  {
   "cell_type": "code",
   "execution_count": 22,
   "metadata": {
    "collapsed": true
   },
   "outputs": [],
   "source": [
    "CATALOG = '/data/GitHub/lca-catalog/catalogs/'\n",
    "\n",
    "EI32_A = 'ecoinvent_3.2_apos_spold.json.gz'\n",
    "USLCI = 'uslci_ecospold.json.gz'"
   ]
  },
  {
   "cell_type": "code",
   "execution_count": 3,
   "metadata": {
    "collapsed": true
   },
   "outputs": [],
   "source": [
    "import re\n",
    "import gzip\n",
    "\n",
    "from eight import USING_PYTHON2\n",
    "\n",
    "\n",
    "def from_json(fname):\n",
    "    \"\"\"\n",
    "    Routine to reconstruct a catalog from a json archive.\n",
    "    :param fname: json file, optionally gzipped\n",
    "    :return: a subclass of ArchiveInterface\n",
    "    \"\"\"\n",
    "    print('Loading JSON data from %s:' % fname)\n",
    "    if bool(re.search('\\.gz$', fname)):\n",
    "        if USING_PYTHON2:\n",
    "            with gzip.open(fname, 'r') as fp:\n",
    "                j = json.load(fp)\n",
    "        else:\n",
    "            with gzip.open(fname, 'rt') as fp:\n",
    "                j = json.load(fp)\n",
    "    else:\n",
    "        with open(fname, 'r') as fp:\n",
    "            j = json.load(fp)\n",
    "    return j\n"
   ]
  },
  {
   "cell_type": "code",
   "execution_count": 17,
   "metadata": {
    "collapsed": false
   },
   "outputs": [
    {
     "name": "stdout",
     "output_type": "stream",
     "text": [
      "Loading JSON data from /data/GitHub/lca-catalog/catalogs/uslci_ecospold.json.gz:\n"
     ]
    }
   ],
   "source": [
    "us = from_json(os.path.join(CATALOG, USLCI))"
   ]
  },
  {
   "cell_type": "code",
   "execution_count": 23,
   "metadata": {
    "collapsed": false
   },
   "outputs": [
    {
     "name": "stdout",
     "output_type": "stream",
     "text": [
      "Loading JSON data from /data/GitHub/lca-catalog/catalogs/ecoinvent_3.2_apos_spold.json.gz:\n"
     ]
    }
   ],
   "source": [
    "ei = from_json(os.path.join(CATALOG, EI32_A))"
   ]
  },
  {
   "cell_type": "code",
   "execution_count": 18,
   "metadata": {
    "collapsed": false
   },
   "outputs": [
    {
     "data": {
      "text/plain": [
       "dict_keys(['quantities', '@context', 'dataSourceType', 'processes', 'catalogNames', 'flows', 'dataSourceReference', 'nsUuid'])"
      ]
     },
     "execution_count": 18,
     "metadata": {},
     "output_type": "execute_result"
    }
   ],
   "source": [
    "us.keys()"
   ]
  },
  {
   "cell_type": "markdown",
   "metadata": {},
   "source": [
    "## utility functions\n",
    "\n",
    "these would be methods of an lca-catalog class, should I ever get around to making one that is independent of the `lca-tools` infrastructure, should there be a need."
   ]
  },
  {
   "cell_type": "code",
   "execution_count": 28,
   "metadata": {
    "collapsed": true
   },
   "outputs": [],
   "source": [
    "def make_flows(catalog):\n",
    "    flows = dict()\n",
    "    for f in catalog['flows']:\n",
    "        flows[f['entityId']] = f\n",
    "    return flows\n"
   ]
  },
  {
   "cell_type": "markdown",
   "metadata": {},
   "source": [
    "## detect interior flows\n",
    "\n",
    "The strategy here is to make two sets of UUIDs- of inputs and outputs- and then find their intersection"
   ]
  },
  {
   "cell_type": "code",
   "execution_count": 20,
   "metadata": {
    "collapsed": true
   },
   "outputs": [],
   "source": [
    "def interior_flows(catalog):\n",
    "    ins = set()\n",
    "    outs = set()\n",
    "    for p in catalog['processes']:\n",
    "        for x in p['exchanges']:\n",
    "            if x['direction'] == 'Input':\n",
    "                ins.add(x['flow'])\n",
    "            elif x['direction'] == 'Output':\n",
    "                outs.add(x['flow'])\n",
    "            else:\n",
    "                raise ValueError('mysterious direction designation \"%s\"' % x['direction'])\n",
    "    print('Found %d inputs, %d outputs' % (len(ins), len(outs)))\n",
    "    interior = ins.intersection(outs)\n",
    "    print('Found %d interior flows' % len(interior))\n",
    "    return interior\n",
    "                    "
   ]
  },
  {
   "cell_type": "code",
   "execution_count": 13,
   "metadata": {
    "collapsed": false
   },
   "outputs": [
    {
     "data": {
      "text/plain": [
       "'Output'"
      ]
     },
     "execution_count": 13,
     "metadata": {},
     "output_type": "execute_result"
    }
   ],
   "source": [
    "ei['processes'][0]['exchanges'][0]['direction']"
   ]
  },
  {
   "cell_type": "code",
   "execution_count": 24,
   "metadata": {
    "collapsed": false
   },
   "outputs": [
    {
     "name": "stdout",
     "output_type": "stream",
     "text": [
      "Found 2971 inputs, 4355 outputs\n",
      "Found 2688 interior flows\n",
      "CPU times: user 210 ms, sys: 0 ns, total: 210 ms\n",
      "Wall time: 204 ms\n"
     ]
    }
   ],
   "source": [
    "%time in_ei = interior_flows(ei)"
   ]
  },
  {
   "cell_type": "code",
   "execution_count": 27,
   "metadata": {
    "collapsed": false
   },
   "outputs": [
    {
     "data": {
      "text/plain": [
       "{'CasNumber': '',\n",
       " 'Comment': '',\n",
       " 'Compartment': ['air', 'unspecified'],\n",
       " 'Name': 'Chromium III',\n",
       " 'characterizations': [{'entityType': 'characterization',\n",
       "   'isReference': True,\n",
       "   'quantity': 'bbe8f43d-c141-3e21-b8c2-3ba1ce556ad0',\n",
       "   'value': 1.0}],\n",
       " 'entityId': '1c4485a2-5ac9-3c06-aca9-25aabf72e45c',\n",
       " 'entityType': 'flow',\n",
       " 'externalId': 9483,\n",
       " 'origin': '/home/b/Dropbox/data/USLCI/USLCI_Processes_ecospold1.zip'}"
      ]
     },
     "execution_count": 27,
     "metadata": {},
     "output_type": "execute_result"
    }
   ],
   "source": [
    "us['flows'][430]"
   ]
  },
  {
   "cell_type": "code",
   "execution_count": 26,
   "metadata": {
    "collapsed": false
   },
   "outputs": [
    {
     "data": {
      "text/plain": [
       "dict_keys(['quantities', '@context', 'dataSourceType', 'processes', 'catalogNames', 'flows', 'dataSourceReference', 'nsUuid'])"
      ]
     },
     "execution_count": 26,
     "metadata": {},
     "output_type": "execute_result"
    }
   ],
   "source": [
    "us.keys()"
   ]
  },
  {
   "cell_type": "code",
   "execution_count": 29,
   "metadata": {
    "collapsed": true
   },
   "outputs": [],
   "source": [
    "us_flows = make_flows(us)"
   ]
  },
  {
   "cell_type": "code",
   "execution_count": 30,
   "metadata": {
    "collapsed": false
   },
   "outputs": [
    {
     "data": {
      "text/plain": [
       "4176"
      ]
     },
     "execution_count": 30,
     "metadata": {},
     "output_type": "execute_result"
    }
   ],
   "source": [
    "len(us_flows)"
   ]
  },
  {
   "cell_type": "code",
   "execution_count": 49,
   "metadata": {
    "collapsed": false
   },
   "outputs": [],
   "source": [
    "gs, ks = group_by(us_flows.values(), lambda x: x['Compartment'][0])"
   ]
  },
  {
   "cell_type": "code",
   "execution_count": 52,
   "metadata": {
    "collapsed": false
   },
   "outputs": [
    {
     "data": {
      "text/plain": [
       "['Air Transportation',\n",
       " 'Biofuels Manufacturing',\n",
       " 'CUTOFF Flows',\n",
       " 'Chemical Manufacturing',\n",
       " 'Crop Production',\n",
       " 'Elec. Equip., Appliance, and Comp. Manufacturing',\n",
       " 'Elementary Flows',\n",
       " 'Fabricated Metal Product Manufacturing',\n",
       " 'Forestry and Logging',\n",
       " 'Mining (except Oil and Gas)',\n",
       " 'Nonmetallic Mineral Product Manufacturing',\n",
       " 'Oil and Gas Extraction',\n",
       " 'Paper Manufacturing',\n",
       " 'Petroleum and Coal Products Manufacturing',\n",
       " 'Plastics and Rubber Products Manufacturing',\n",
       " 'Primary Metal Manufacturing',\n",
       " 'Rail Transportation',\n",
       " 'Transit and Ground Passenger Transportation',\n",
       " 'Transportation Equipment Manufacturing',\n",
       " 'Truck Transportation',\n",
       " 'Utilities',\n",
       " 'Waste Management and Remediation Services',\n",
       " 'Water Transportation',\n",
       " 'Wood Product Manufacturing',\n",
       " 'air',\n",
       " 'final-waste-flow',\n",
       " 'non-material',\n",
       " 'others',\n",
       " 'resource',\n",
       " 'soil',\n",
       " 'water']"
      ]
     },
     "execution_count": 52,
     "metadata": {},
     "output_type": "execute_result"
    }
   ],
   "source": [
    "ks"
   ]
  },
  {
   "cell_type": "code",
   "execution_count": 60,
   "metadata": {
    "collapsed": false
   },
   "outputs": [
    {
     "name": "stdout",
     "output_type": "stream",
     "text": [
      "  0             Air Transportation:      1\n",
      "  1         Biofuels Manufacturing:      7\n",
      "  2                   CUTOFF Flows:    523\n",
      "  3         Chemical Manufacturing:    128\n",
      "  4                Crop Production:     55\n",
      "  5 Elec. Equip., Appliance, and C:     10\n",
      "  6               Elementary Flows:     19\n",
      "  7 Fabricated Metal Product Manuf:     12\n",
      "  8           Forestry and Logging:    111\n",
      "  9    Mining (except Oil and Gas):      7\n",
      " 10 Nonmetallic Mineral Product Ma:      5\n",
      " 11         Oil and Gas Extraction:      3\n",
      " 12            Paper Manufacturing:     49\n",
      " 13 Petroleum and Coal Products Ma:     11\n",
      " 14 Plastics and Rubber Products M:     22\n",
      " 15    Primary Metal Manufacturing:     50\n",
      " 16            Rail Transportation:      1\n",
      " 17 Transit and Ground Passenger T:     46\n",
      " 18 Transportation Equipment Manuf:      5\n",
      " 19           Truck Transportation:    102\n",
      " 20                      Utilities:    127\n",
      " 21 Waste Management and Remediati:     22\n",
      " 22           Water Transportation:      6\n",
      " 23     Wood Product Manufacturing:    160\n",
      " 24                            air:   1030\n",
      " 25               final-waste-flow:     19\n",
      " 26                   non-material:      2\n",
      " 27                         others:      8\n",
      " 28                       resource:    474\n",
      " 29                           soil:    237\n",
      " 30                          water:    924\n"
     ]
    }
   ],
   "source": [
    "for i, g in enumerate(gs):\n",
    "    print(' %2d %30.30s: %6d' % (i, ks[i], len(g)))"
   ]
  },
  {
   "cell_type": "code",
   "execution_count": 62,
   "metadata": {
    "collapsed": false
   },
   "outputs": [
    {
     "name": "stdout",
     "output_type": "stream",
     "text": [
      "Petroleum refining, at refinery\n",
      "Diesel, at refinery\n",
      "Residual fuel oil, at refinery\n",
      "Petroleum refining coproduct, unspecified, at refinery\n",
      "Kerosene, at refinery\n",
      "Liquefied petroleum gas, at refinery\n",
      "Gasoline, at refinery\n",
      "Petroleum refining coproduct, at refinery\n",
      "Refinery gas, at refinery\n",
      "Bitumen, at refinery\n",
      "Petroleum coke, at refinery\n"
     ]
    }
   ],
   "source": [
    "for f in gs[13]:\n",
    "    print(f['Name'])"
   ]
  },
  {
   "cell_type": "code",
   "execution_count": 167,
   "metadata": {
    "collapsed": false,
    "scrolled": false
   },
   "outputs": [
    {
     "data": {
      "text/plain": [
       "['anthracite coal, combusted in industrial boiler',\n",
       " 'bituminous coal, combusted in industrial boiler',\n",
       " 'bituminous coal, combusted in industrial boiler, at pulp and paper mill (excl.)',\n",
       " 'diesel, combusted in industrial boiler',\n",
       " 'diesel, combusted in industrial boiler, at pulp and paper mill (excl.)',\n",
       " 'diesel, combusted in industrial equipment',\n",
       " 'gasoline, combusted in equipment',\n",
       " 'gasoline, combusted in equipment, at pulp and paper mill (excl.)',\n",
       " 'hog fuel, pur., combusted in industrial boiler, at pulp and paper mill (excl.)',\n",
       " 'hog fuel, self-gen., combusted in ind. boiler, at pulp and paper mill (excl.)',\n",
       " 'lignite coal, combusted in industrial boiler',\n",
       " 'liquefied petroleum gas, combusted in industrial boiler',\n",
       " 'lpg, combusted in industrial boiler, at pulp and paper mill (excl.)',\n",
       " 'natural gas, combusted in industrial boiler',\n",
       " 'natural gas, combusted in industrial boiler, at hydrocracker, for butadiene',\n",
       " 'natural gas, combusted in industrial boiler, at hydrocracker, for ethylene',\n",
       " 'natural gas, combusted in industrial boiler, at hydrocracker, for propylene',\n",
       " 'natural gas, combusted in industrial boiler, at hydrocracker, for pyrolysis gas',\n",
       " 'natural gas, combusted in industrial boiler, at pulp and paper mill (excl.)',\n",
       " 'natural gas, combusted in industrial equipment',\n",
       " 'residual fuel oil, combusted in industrial boiler',\n",
       " 'rfo, combusted in industrial boiler, at pulp and paper mill (excl.)',\n",
       " 'tdf, combusted in industrial boiler, at pulp and paper mill (excl.)',\n",
       " 'wood fuel, hardwood, gen at lumber mill, combusted in industrial boiler, ne-nc',\n",
       " 'wood fuel, hardwood, generated at lumber mill, combusted in industrial boiler, se',\n",
       " 'wood fuel, hardwood, generated at mill, combusted in industrial boiler, e',\n",
       " 'wood fuel, hardwood, purchased, combusted in industrial boiler, e',\n",
       " 'wood fuel, hardwood, purchased, combusted in industrial boiler, ne-nc',\n",
       " 'wood fuel, hardwood, purchased, combusted in industrial boiler, se',\n",
       " 'wood fuel, hardwood,gen at flooring prod plant, combusted in industrial boiler, e',\n",
       " 'wood fuel, mdf, generated on-site, combusted in industrial boiler',\n",
       " 'wood fuel, mdf, purchased, combusted in industrial boiler',\n",
       " 'wood fuel, softwood, gen at lumber mill, combusted in industrial boiler, ne-nc',\n",
       " 'wood fuel, softwood, purchased, combusted in industrial boiler, ne-nc',\n",
       " 'wood waste, unspecified, combusted in industrial boiler',\n",
       " 'wood, particleboard, generated onsite, combusted in industrial boiler',\n",
       " 'wood, softwood, inw, generated at lumber mill, combusted in industrial boiler']"
      ]
     },
     "execution_count": 167,
     "metadata": {},
     "output_type": "execute_result"
    }
   ],
   "source": [
    "sorted([us_flows[f]['Name'].lower() for f in in_us if us_flows[f]['Name'].lower().find('combusted') >= 0])"
   ]
  },
  {
   "cell_type": "code",
   "execution_count": 171,
   "metadata": {
    "collapsed": false
   },
   "outputs": [
    {
     "data": {
      "text/plain": [
       "'a9d158e0-d48c-4427-8c55-42719e9e11cc'"
      ]
     },
     "execution_count": 171,
     "metadata": {},
     "output_type": "execute_result"
    }
   ],
   "source": [
    "us['nsUuid']"
   ]
  },
  {
   "cell_type": "code",
   "execution_count": 176,
   "metadata": {
    "collapsed": false
   },
   "outputs": [
    {
     "data": {
      "text/plain": [
       "[{'Classifications': ['Petroleum and Coal Products Manufacturing',\n",
       "   'Petroleum Refineries'],\n",
       "  'Comment': 'This module expresses data on the basis 1 kilogram of general refinery product as well as data allocated to specific refinery products. The data are allocated to specific refinery products based on the percent by mass of each product in the refinery output. Refinery products include gasoline, distillate/diesel oil, LPG, residual oil, kerosene/jet fuel, and other (still gas, petroleum, coke, asphalt, and petrochemical feedstocks).  Complete inventory data and metadata are available in full in the final report and appendices, Cradle-to-Gate Life Cycle Inventory of Nine Plastic Resins and Four Polyurethane Precursors. This report has been extensively reviewed within Franklin Associates and has undergone partial critical review by ACC Plastics Division members and is available at: www.americanchemistry.com. Quantities may vary slightly between the reference to main source and and this module due to rounding. Important note: although most of the data in the US LCI database has undergone some sort of review, the database as a whole has not yet undergone a formal validation process.  Please email comments to lci@nrel.gov.  ',\n",
       "  'Name': 'Petroleum refining, at refinery',\n",
       "  'SpatialScope': 'RNA',\n",
       "  'TemporalScope': {'begin': '2003-01-01-07:00', 'end': '2003-01-01-07:00'},\n",
       "  'entityId': 'f6e5a6e4-a968-399c-8f99-7a709cd68326',\n",
       "  'entityType': 'process',\n",
       "  'exchanges': [{'direction': 'Input',\n",
       "    'entityType': 'exchange',\n",
       "    'flow': '0759842c-5ed4-3d78-ba6c-9d0752cc9820',\n",
       "    'value': 0.00114922534711027},\n",
       "   {'direction': 'Input',\n",
       "    'entityType': 'exchange',\n",
       "    'flow': '0d9db990-e9d5-3e59-b484-56f512816098',\n",
       "    'value': 0.143108486320558},\n",
       "   {'direction': 'Input',\n",
       "    'entityType': 'exchange',\n",
       "    'flow': '25d3acbf-467a-3de6-b296-32b9f8dfe4de',\n",
       "    'value': 0.652170539921939},\n",
       "   {'direction': 'Input',\n",
       "    'entityType': 'exchange',\n",
       "    'flow': '301bb4eb-f24d-3098-bca2-f3b639e31e58',\n",
       "    'value': 1.01848017868973},\n",
       "   {'direction': 'Input',\n",
       "    'entityType': 'exchange',\n",
       "    'flow': '88a88dbd-7da8-3aeb-8741-5c189411201d',\n",
       "    'value': 0.000958091590684154},\n",
       "   {'direction': 'Input',\n",
       "    'entityType': 'exchange',\n",
       "    'flow': '98bf3c4a-6620-356a-ac49-c1020a130ea5',\n",
       "    'value': 0.00560421083986623},\n",
       "   {'direction': 'Input',\n",
       "    'entityType': 'exchange',\n",
       "    'flow': 'a0a3049d-f8a2-3360-bbc7-be143bd18d77',\n",
       "    'value': 4.40889504679002},\n",
       "   {'direction': 'Input',\n",
       "    'entityType': 'exchange',\n",
       "    'flow': 'b8e6e270-8a67-3863-972b-95872c2255bb',\n",
       "    'value': 0.0272297571929317},\n",
       "   {'direction': 'Input',\n",
       "    'entityType': 'exchange',\n",
       "    'flow': 'cc17485c-0522-3a4c-9e0e-2c7e07c6d0e1',\n",
       "    'value': 0.0111079230742684},\n",
       "   {'direction': 'Input',\n",
       "    'entityType': 'exchange',\n",
       "    'flow': 'd405b84a-bf2d-32e3-a430-f306bb12235f',\n",
       "    'value': 0.000288147846822302},\n",
       "   {'direction': 'Input',\n",
       "    'entityType': 'exchange',\n",
       "    'flow': 'f9a07d1f-22ac-3aa2-9503-128703156db9',\n",
       "    'value': 0.489877227421113},\n",
       "   {'direction': 'Output',\n",
       "    'entityType': 'exchange',\n",
       "    'flow': '026fe4d9-d329-3b7d-84ea-870dd5dfd662',\n",
       "    'value': 1.06460746460746e-05},\n",
       "   {'direction': 'Output',\n",
       "    'entityType': 'exchange',\n",
       "    'flow': '0a2cf828-2273-36fb-9887-cf00436b62a3',\n",
       "    'value': 2.57107121495646e-10},\n",
       "   {'direction': 'Output',\n",
       "    'entityType': 'exchange',\n",
       "    'flow': '0fd9a936-907e-3a8a-86bb-ef4b36da5db5',\n",
       "    'value': 2.03765912188358e-09},\n",
       "   {'direction': 'Output',\n",
       "    'entityType': 'exchange',\n",
       "    'flow': '1184ed8c-6adc-3580-9824-8cb2ec3b9bf7',\n",
       "    'value': 0.000424250845882608},\n",
       "   {'direction': 'Output',\n",
       "    'entityType': 'exchange',\n",
       "    'flow': '2023108e-c176-3345-b1ac-eba8ae6792bf',\n",
       "    'value': 0.0490831775366809},\n",
       "   {'direction': 'Output',\n",
       "    'entityType': 'exchange',\n",
       "    'flow': '21002040-1584-3ca9-b8ea-a94788250cdd',\n",
       "    'value': 1.0},\n",
       "   {'direction': 'Output',\n",
       "    'entityType': 'exchange',\n",
       "    'flow': '24e2b841-73e2-34c9-b523-97f5000a8a28',\n",
       "    'value': 5.5774254926308e-08},\n",
       "   {'direction': 'Output',\n",
       "    'entityType': 'exchange',\n",
       "    'flow': '2fb4ca68-6eb1-3f0b-b907-70cdc6f050f2',\n",
       "    'value': 0.000423482254234474},\n",
       "   {'direction': 'Output',\n",
       "    'entityType': 'exchange',\n",
       "    'flow': '300e9065-67c6-39f4-b4b9-d91e4644911f',\n",
       "    'value': 1.86306306306306e-07},\n",
       "   {'direction': 'Output',\n",
       "    'entityType': 'exchange',\n",
       "    'flow': '342af299-3bd9-3169-bdef-5e081d0e0eda',\n",
       "    'value': 2.30632374262509e-05},\n",
       "   {'direction': 'Output',\n",
       "    'entityType': 'exchange',\n",
       "    'flow': '3687205a-ae19-3a91-b7a7-1ad8ab38fa90',\n",
       "    'value': 9.84604488706027e-10},\n",
       "   {'direction': 'Output',\n",
       "    'entityType': 'exchange',\n",
       "    'flow': '3b3b2c71-65c2-3def-a3a8-2d21605d79ea',\n",
       "    'value': 3.04612013693427e-09},\n",
       "   {'direction': 'Output',\n",
       "    'entityType': 'exchange',\n",
       "    'flow': '426a863b-bef6-3161-b2d7-322fa71b4560',\n",
       "    'value': 6.75594656025398e-10},\n",
       "   {'direction': 'Output',\n",
       "    'entityType': 'exchange',\n",
       "    'flow': '4ad488d3-7b51-34f7-b076-4b2c9fb969dd',\n",
       "    'value': 0.000251403624383439},\n",
       "   {'direction': 'Output',\n",
       "    'entityType': 'exchange',\n",
       "    'flow': '59549e72-e6b8-38e5-b945-1371c7dc5e6a',\n",
       "    'value': 0.0514536791611454},\n",
       "   {'direction': 'Output',\n",
       "    'entityType': 'exchange',\n",
       "    'flow': '5e10d808-bec0-3bdd-80ca-877acee78c07',\n",
       "    'value': 0.000678355070254376},\n",
       "   {'direction': 'Output',\n",
       "    'entityType': 'exchange',\n",
       "    'flow': '5feee62f-b5bb-3c98-9c7b-23a5d99d5f58',\n",
       "    'value': 0.000246934273409001},\n",
       "   {'direction': 'Output',\n",
       "    'entityType': 'exchange',\n",
       "    'flow': '6c85ea27-e5a8-344c-ace1-b03be658546b',\n",
       "    'value': 1.5351259422688e-05},\n",
       "   {'direction': 'Output',\n",
       "    'entityType': 'exchange',\n",
       "    'flow': '72759fb3-b450-3c1c-b158-f960fc559a20',\n",
       "    'value': 0.570086670859861},\n",
       "   {'direction': 'Output',\n",
       "    'entityType': 'exchange',\n",
       "    'flow': '7b853edd-d2ff-3c89-9832-f3b15bab5aa7',\n",
       "    'value': 3.69707104398912e-05},\n",
       "   {'direction': 'Output',\n",
       "    'entityType': 'exchange',\n",
       "    'flow': '81610a58-ebb9-3f21-9b2f-8225c6cdd17e',\n",
       "    'value': 3.14805432236279e-05},\n",
       "   {'direction': 'Output',\n",
       "    'entityType': 'exchange',\n",
       "    'flow': '89e24ac6-98ad-3846-a007-9876afc95754',\n",
       "    'value': 1.075602786344e-06},\n",
       "   {'direction': 'Output',\n",
       "    'entityType': 'exchange',\n",
       "    'flow': '8aec6486-5138-38dc-a48a-daf769727f36',\n",
       "    'value': 3.57747709728232e-06},\n",
       "   {'direction': 'Output',\n",
       "    'entityType': 'exchange',\n",
       "    'flow': '9104297b-4ebd-358c-95ce-b6f956f34b9f',\n",
       "    'value': 5.35607949132008e-08},\n",
       "   {'direction': 'Output',\n",
       "    'entityType': 'exchange',\n",
       "    'flow': '9337da55-f65b-3d0c-9c16-82b3cf4d37e4',\n",
       "    'value': 1.60179222886918e-09},\n",
       "   {'direction': 'Output',\n",
       "    'entityType': 'exchange',\n",
       "    'flow': '9a1f6d4c-4470-3d91-b7b9-ba8e5ce1e8bf',\n",
       "    'value': 0.0595942417053244},\n",
       "   {'direction': 'Output',\n",
       "    'entityType': 'exchange',\n",
       "    'flow': '9c2e3208-82b9-3100-aec3-07d6358b03e1',\n",
       "    'value': 2.17973267561622e-08},\n",
       "   {'direction': 'Output',\n",
       "    'entityType': 'exchange',\n",
       "    'flow': '9fe775e1-cc00-3b29-a6c9-9328218ef527',\n",
       "    'value': 0.0518260609872601},\n",
       "   {'direction': 'Output',\n",
       "    'entityType': 'exchange',\n",
       "    'flow': 'a64879a4-7831-374e-b324-0d49f6248368',\n",
       "    'value': 6.03311573962026e-11},\n",
       "   {'direction': 'Output',\n",
       "    'entityType': 'exchange',\n",
       "    'flow': 'a76d5c91-71af-3180-b043-cb16104bc044',\n",
       "    'value': 0.0611691306116913},\n",
       "   {'direction': 'Output',\n",
       "    'entityType': 'exchange',\n",
       "    'flow': 'b1387c8e-0086-3247-adb4-aabc43f402a5',\n",
       "    'value': 2.26229086229086e-07},\n",
       "   {'direction': 'Output',\n",
       "    'entityType': 'exchange',\n",
       "    'flow': 'bc05ec4a-d762-3f9c-8a6d-df21d9678443',\n",
       "    'value': 4.26874901032316e-09},\n",
       "   {'direction': 'Output',\n",
       "    'entityType': 'exchange',\n",
       "    'flow': 'bd167198-48a2-32fe-bca8-038225944b24',\n",
       "    'value': 1.36233292226014e-09},\n",
       "   {'direction': 'Output',\n",
       "    'entityType': 'exchange',\n",
       "    'flow': 'c1703c40-ce54-3395-b48e-1dbd610adaeb',\n",
       "    'value': 0.112458221473748},\n",
       "   {'direction': 'Output',\n",
       "    'entityType': 'exchange',\n",
       "    'flow': 'c171e977-f3c5-3825-b889-0ede818a2aff',\n",
       "    'value': 2.79459459459459e-05},\n",
       "   {'direction': 'Output',\n",
       "    'entityType': 'exchange',\n",
       "    'flow': 'db1aa4bb-498f-3cb9-9cb6-e53e953d9a35',\n",
       "    'value': 3.39343629343629e-05},\n",
       "   {'direction': 'Output',\n",
       "    'entityType': 'exchange',\n",
       "    'flow': 'ea437b7f-9604-31bd-86bc-d668a3c4a1c0',\n",
       "    'value': 5.75031180659747e-09},\n",
       "   {'direction': 'Output',\n",
       "    'entityType': 'exchange',\n",
       "    'flow': 'eb16c394-cd99-37d3-a5ac-30fa6e5c3589',\n",
       "    'isReference': True,\n",
       "    'value': 0.252345277453289},\n",
       "   {'direction': 'Output',\n",
       "    'entityType': 'exchange',\n",
       "    'flow': 'f2ca9a2e-c16d-3a93-a414-c4ec0e623928',\n",
       "    'value': 0.000232882882882883},\n",
       "   {'direction': 'Output',\n",
       "    'entityType': 'exchange',\n",
       "    'flow': 'f449a1c4-e954-3c25-9469-b758c86af586',\n",
       "    'value': 0.0371747954729888}],\n",
       "  'externalId': 'Petroleum refining, at refinery',\n",
       "  'origin': '/home/b/Dropbox/data/USLCI/USLCI_Processes_ecospold1.zip'}]"
      ]
     },
     "execution_count": 176,
     "metadata": {},
     "output_type": "execute_result"
    }
   ],
   "source": [
    "[p for p in us['processes'] if p['entityId'] == str(uuid.uuid3(uuid.UUID(us['nsUuid']), 'Petroleum refining, at refinery'))]\n",
    "\n"
   ]
  },
  {
   "cell_type": "code",
   "execution_count": 85,
   "metadata": {
    "collapsed": false
   },
   "outputs": [
    {
     "data": {
      "text/plain": [
       "-1"
      ]
     },
     "execution_count": 85,
     "metadata": {},
     "output_type": "execute_result"
    }
   ],
   "source": [
    "next(f for f in us_flows.values())['Name'].lower().find('diesel')"
   ]
  },
  {
   "cell_type": "code",
   "execution_count": 68,
   "metadata": {
    "collapsed": false
   },
   "outputs": [
    {
     "data": {
      "text/plain": [
       "2"
      ]
     },
     "execution_count": 68,
     "metadata": {},
     "output_type": "execute_result"
    }
   ],
   "source": [
    "g.find('ds')"
   ]
  },
  {
   "cell_type": "code",
   "execution_count": 89,
   "metadata": {
    "collapsed": true
   },
   "outputs": [],
   "source": [
    "from collections import Counter"
   ]
  },
  {
   "cell_type": "code",
   "execution_count": 91,
   "metadata": {
    "collapsed": false
   },
   "outputs": [],
   "source": []
  },
  {
   "cell_type": "code",
   "execution_count": null,
   "metadata": {
    "collapsed": true
   },
   "outputs": [],
   "source": []
  },
  {
   "cell_type": "code",
   "execution_count": 103,
   "metadata": {
    "collapsed": false
   },
   "outputs": [],
   "source": [
    "elem = {'air', 'water', 'soil', 'resource'}\n",
    "\n",
    "output_counter = Counter()\n",
    "\n",
    "for p in us['processes']:\n",
    "    for x in p['exchanges']:\n",
    "        if x['direction'] == 'Output':\n",
    "            if x['flow'] in in_us:\n",
    "            #if us_flows[x['flow']]['Compartment'][0] not in elem:\n",
    "                output_counter[x['flow']] += 1\n",
    "            "
   ]
  },
  {
   "cell_type": "code",
   "execution_count": 105,
   "metadata": {
    "collapsed": false
   },
   "outputs": [
    {
     "name": "stdout",
     "output_type": "stream",
     "text": [
      "86: Chromium\n",
      "61: Chloride\n",
      "54: Sodium, ion\n",
      "50: Carbon dioxide, biogenic\n",
      "19: Chromium, ion\n",
      "16: Thallium\n",
      " 8: Hydrogen cyanide (prussic acid)\n",
      " 8: Chloride (unspecified)\n",
      " 8: Inorganic salts and acids, unspecified\n",
      " 8: Water, cooling\n",
      " 7: Methane, bromotrifluoro-, Halon 1301\n",
      " 7: Cooling water, non-contact\n",
      " 3: Water\n",
      " 2: Diesel, at refinery\n",
      " 2: Oil, crude, 42 MJ per kg, in ground\n",
      " 2: Kerosene, at refinery\n",
      " 2: Quartz sand (silica sand; silicon dioxide)\n",
      " 2: Sodium chloride, in ground\n",
      " 2: Residual fuel oil, at refinery\n",
      " 2: Lignite, 11 MJ per kg, in ground\n",
      " 2: Petroleum coke, at refinery\n",
      " 2: Liquefied petroleum gas, at refinery\n",
      " 2: Oxygen\n",
      " 2: Gas, natural, 46.8 MJ per kg, in ground\n",
      " 2: Coal, hard, 30.7 MJ per kg, in ground\n",
      " 2: Harvesting, fresh fruit bunch, at farm\n",
      " 2: Gasoline, at refinery\n",
      " 2: Wood fuel, hardwood, green, at veneer mill, E\n",
      " 1: Fuels, burned at coated freesheet, average production, at mill\n",
      " 1: Natural gas, combusted in industrial boiler, at pulp and paper mill (EXCL.)\n"
     ]
    }
   ],
   "source": [
    "for k in output_counter.most_common(30):\n",
    "    print('%2d: %s' % (k[1], us_flows[k[0]]['Name']))"
   ]
  },
  {
   "cell_type": "code",
   "execution_count": 111,
   "metadata": {
    "collapsed": false
   },
   "outputs": [
    {
     "data": {
      "text/plain": [
       "{'CasNumber': '',\n",
       " 'Comment': '',\n",
       " 'Compartment': ['air', 'unspecified'],\n",
       " 'Name': 'Carbon dioxide, biogenic',\n",
       " 'characterizations': [{'entityType': 'characterization',\n",
       "   'isReference': True,\n",
       "   'quantity': 'bbe8f43d-c141-3e21-b8c2-3ba1ce556ad0',\n",
       "   'value': 1.0}],\n",
       " 'entityId': '80d22a4f-d79f-3597-9e4e-23c25505d5ad',\n",
       " 'entityType': 'flow',\n",
       " 'externalId': 5875,\n",
       " 'origin': '/home/b/Dropbox/data/USLCI/USLCI_Processes_ecospold1.zip'}"
      ]
     },
     "execution_count": 111,
     "metadata": {},
     "output_type": "execute_result"
    }
   ],
   "source": [
    "us_flows[output_counter.most_common(4)[3][0]]"
   ]
  },
  {
   "cell_type": "code",
   "execution_count": 115,
   "metadata": {
    "collapsed": true
   },
   "outputs": [],
   "source": [
    "co2_biogenic =output_counter.most_common(4)[3][0]\n",
    "chromium = output_counter.most_common(1)[0][0]"
   ]
  },
  {
   "cell_type": "code",
   "execution_count": 118,
   "metadata": {
    "collapsed": false
   },
   "outputs": [
    {
     "data": {
      "text/plain": [
       "{'CasNumber': '',\n",
       " 'Comment': '',\n",
       " 'Compartment': ['resource', 'in ground'],\n",
       " 'Name': 'Chromium, 25.5 in chromite, 11.6% in crude ore, in ground',\n",
       " 'characterizations': [{'entityType': 'characterization',\n",
       "   'isReference': True,\n",
       "   'quantity': 'bbe8f43d-c141-3e21-b8c2-3ba1ce556ad0',\n",
       "   'value': 1.0}],\n",
       " 'entityId': '11183286-23c2-3521-8b55-4907c5754aaf',\n",
       " 'entityType': 'flow',\n",
       " 'externalId': 6570,\n",
       " 'origin': '/home/b/Dropbox/data/USLCI/USLCI_Processes_ecospold1.zip'}"
      ]
     },
     "execution_count": 118,
     "metadata": {},
     "output_type": "execute_result"
    }
   ],
   "source": [
    "us_flows['11183286-23c2-3521-8b55-4907c5754aaf']"
   ]
  },
  {
   "cell_type": "code",
   "execution_count": 119,
   "metadata": {
    "collapsed": false
   },
   "outputs": [
    {
     "data": {
      "text/plain": [
       "[['Primary Metal Manufacturing', 'Primary Metal Manufacturing'],\n",
       " ['Primary Metal Manufacturing', 'Primary Metal Manufacturing']]"
      ]
     },
     "execution_count": 119,
     "metadata": {},
     "output_type": "execute_result"
    }
   ],
   "source": [
    "[p['Classifications'] for p in us['processes'] if chromium in [x['flow'] for x in p['exchanges'] if x['direction'] =='Input']]"
   ]
  },
  {
   "cell_type": "code",
   "execution_count": 125,
   "metadata": {
    "collapsed": true
   },
   "outputs": [],
   "source": [
    "def set_to_index(flow_set):\n",
    "    \"\"\"\n",
    "    Creates a dict of flow UUID to enumeration.  there's probably an easier [pythonic] way to do this.\n",
    "    \"\"\"\n",
    "    index = dict()\n",
    "    count = 0\n",
    "    for f in flow_set:\n",
    "        index[f] = count\n",
    "        count +=1\n",
    "    return index"
   ]
  },
  {
   "cell_type": "code",
   "execution_count": 122,
   "metadata": {
    "collapsed": true
   },
   "outputs": [],
   "source": [
    "import scipy as sp"
   ]
  },
  {
   "cell_type": "code",
   "execution_count": 124,
   "metadata": {
    "collapsed": true
   },
   "outputs": [],
   "source": [
    "from scipy.sparse import coo_matrix"
   ]
  },
  {
   "cell_type": "code",
   "execution_count": 143,
   "metadata": {
    "collapsed": true
   },
   "outputs": [],
   "source": [
    "_process_iter = (p for p in us['processes'])"
   ]
  },
  {
   "cell_type": "code",
   "execution_count": 126,
   "metadata": {
    "collapsed": true
   },
   "outputs": [],
   "source": [
    "p = next(p for p in us['processes'])"
   ]
  },
  {
   "cell_type": "code",
   "execution_count": 130,
   "metadata": {
    "collapsed": false
   },
   "outputs": [],
   "source": [
    "def reference_exchanges(p):\n",
    "    \"\"\"\n",
    "    returns an iterable of exchange dicts that match x['isReference'] is True \n",
    "    \"\"\"\n",
    "    for x in p['exchanges']:\n",
    "        if 'isReference' in x.keys():\n",
    "            if x['isReference'] is True:\n",
    "                yield x"
   ]
  },
  {
   "cell_type": "code",
   "execution_count": 146,
   "metadata": {
    "collapsed": false
   },
   "outputs": [
    {
     "data": {
      "text/plain": [
       "[{'Classifications': ['Paper Manufacturing',\n",
       "   'Pulp, Paper, and Paperboard Mills'],\n",
       "  'Comment': 'Uncoated Freesheet, average North American production, at mill.  By-products were allocated 0% of the impacts to enable the user to choose and apply their own allocation method more easily. All flows are production-weighted means. Data were developed for a full LCA that was critically reviewed.  Reviewers were: • Martha Stevenson, Chairperson – Private Consultant to the public interest with ten years of experience in sustainability, environmental management, packaging and materials recovery; led the development of the Design Guidelines for Sustainable Packaging and the COMPASS software used to compare the environmental impacts of package designs; • Pascal Lesage – Life cycle assessment consultant, Researcher at École Polytechnique de Montréal [at the Inter-University Research Centre for the Life Cycle of Products, Processes and Services (CIRAIG) in Montreal]; and • Dale Phenicie, Environmental Affairs Consulting – Consultant with 35 years of experience in environmental protection and process consulting for the forest products industry. Has served on several U.S. EPA Task Forces dealing with water quality issues and authored several AF&PA Environmental, Health and Safety/Sustainability reports.',\n",
       "  'Name': 'Paper, freesheet, uncoated, average production, at mill, 2006',\n",
       "  'SpatialScope': 'RNA',\n",
       "  'TemporalScope': {'begin': '2006-01-01-07:00', 'end': '2006-01-01-07:00'},\n",
       "  'entityId': '1f812886-3d37-3b3d-8878-72c7ba8bfbe5',\n",
       "  'entityType': 'process',\n",
       "  'exchanges': [{'direction': 'Input',\n",
       "    'entityType': 'exchange',\n",
       "    'flow': '0049a634-7a91-3f15-a071-ab7e8d83d7a5',\n",
       "    'value': 19.051},\n",
       "   {'direction': 'Input',\n",
       "    'entityType': 'exchange',\n",
       "    'flow': '0441d8a3-b633-3caa-9a18-684e96ed0502',\n",
       "    'value': 30.3},\n",
       "   {'direction': 'Input',\n",
       "    'entityType': 'exchange',\n",
       "    'flow': '065fa0d5-7072-33c1-8cb0-150567c907e3',\n",
       "    'value': 122.0},\n",
       "   {'direction': 'Input',\n",
       "    'entityType': 'exchange',\n",
       "    'flow': '0997d300-fc5c-3950-a04f-2a44aa0b3b59',\n",
       "    'value': 27.261},\n",
       "   {'direction': 'Input',\n",
       "    'entityType': 'exchange',\n",
       "    'flow': '12433148-2b9d-3ef2-852e-15640f2de9e6',\n",
       "    'value': 0.86636},\n",
       "   {'direction': 'Input',\n",
       "    'entityType': 'exchange',\n",
       "    'flow': '16e20ab1-15d4-3820-8462-4326b9037883',\n",
       "    'value': 11.975},\n",
       "   {'direction': 'Input',\n",
       "    'entityType': 'exchange',\n",
       "    'flow': '1cf2b419-9f55-3a26-bb53-22597969bab0',\n",
       "    'value': 0.3045},\n",
       "   {'direction': 'Input',\n",
       "    'entityType': 'exchange',\n",
       "    'flow': '3012e6ee-8dfa-34e1-b648-4120cd9d8e05',\n",
       "    'value': 0.3645},\n",
       "   {'direction': 'Input',\n",
       "    'entityType': 'exchange',\n",
       "    'flow': '36bdc912-dde4-376f-82e1-f7682983cd24',\n",
       "    'value': 14.47},\n",
       "   {'direction': 'Input',\n",
       "    'entityType': 'exchange',\n",
       "    'flow': '3a8ff052-ae6a-32e5-909b-2bc307530f01',\n",
       "    'value': 7.7836},\n",
       "   {'direction': 'Input',\n",
       "    'entityType': 'exchange',\n",
       "    'flow': '3fc0b790-3af6-389a-a1f3-a00cd092d48a',\n",
       "    'value': 26.762},\n",
       "   {'direction': 'Input',\n",
       "    'entityType': 'exchange',\n",
       "    'flow': '41fdbf80-af1d-3d82-b1ba-df0c954efd9a',\n",
       "    'value': 4.3998},\n",
       "   {'direction': 'Input',\n",
       "    'entityType': 'exchange',\n",
       "    'flow': '42f37b1b-0447-3fd1-a117-4f9bf8af0ac8',\n",
       "    'value': 837.5668000000001},\n",
       "   {'direction': 'Input',\n",
       "    'entityType': 'exchange',\n",
       "    'flow': '43273c91-3086-3526-98d9-a40f218e28fd',\n",
       "    'value': 18.699845235956666},\n",
       "   {'direction': 'Input',\n",
       "    'entityType': 'exchange',\n",
       "    'flow': '4e45fef0-d70b-3df1-bc0c-2368401607e9',\n",
       "    'value': 823.72},\n",
       "   {'direction': 'Input',\n",
       "    'entityType': 'exchange',\n",
       "    'flow': '51353b5d-0851-372b-8bd1-30b14db4a163',\n",
       "    'value': 39.281},\n",
       "   {'direction': 'Input',\n",
       "    'entityType': 'exchange',\n",
       "    'flow': '539e9e94-0728-36f8-b378-064c3783006f',\n",
       "    'value': 4.8807},\n",
       "   {'direction': 'Input',\n",
       "    'entityType': 'exchange',\n",
       "    'flow': '6c87f55b-43ca-3aaf-b6ac-929fcb700394',\n",
       "    'value': 61.725},\n",
       "   {'direction': 'Input',\n",
       "    'entityType': 'exchange',\n",
       "    'flow': '7001122e-2015-386d-956d-72bf39ac4cdf',\n",
       "    'value': 62892.0},\n",
       "   {'direction': 'Input',\n",
       "    'entityType': 'exchange',\n",
       "    'flow': '7302213a-3437-3db1-bb9f-872f28b76aec',\n",
       "    'value': 0.065},\n",
       "   {'direction': 'Input',\n",
       "    'entityType': 'exchange',\n",
       "    'flow': '743220db-5299-3973-aa66-89c728428420',\n",
       "    'value': 0.0548},\n",
       "   {'direction': 'Input',\n",
       "    'entityType': 'exchange',\n",
       "    'flow': '76a99562-86e3-3c09-aa7f-1cc8362226a4',\n",
       "    'value': 10890.0},\n",
       "   {'direction': 'Input',\n",
       "    'entityType': 'exchange',\n",
       "    'flow': '79bad894-210b-3a5a-b2ee-3f331c6e05ab',\n",
       "    'value': 7.3269},\n",
       "   {'direction': 'Input',\n",
       "    'entityType': 'exchange',\n",
       "    'flow': '7cebbe3c-cce3-39eb-9b88-1703b17924a9',\n",
       "    'value': 0.0016329},\n",
       "   {'direction': 'Input',\n",
       "    'entityType': 'exchange',\n",
       "    'flow': '87d87cb6-0c8d-32c4-97f3-f56d40edea77',\n",
       "    'value': 0.83915},\n",
       "   {'direction': 'Input',\n",
       "    'entityType': 'exchange',\n",
       "    'flow': '8eeba28e-1320-3bbc-9d2b-e3a3e3ce868f',\n",
       "    'value': 7.3573},\n",
       "   {'direction': 'Input',\n",
       "    'entityType': 'exchange',\n",
       "    'flow': '9331f114-995d-39d7-9a88-be42984f0c36',\n",
       "    'value': 29.484},\n",
       "   {'direction': 'Input',\n",
       "    'entityType': 'exchange',\n",
       "    'flow': '99dbd0d2-5ab3-3c84-a660-cb71b442e176',\n",
       "    'value': 15.513},\n",
       "   {'direction': 'Input',\n",
       "    'entityType': 'exchange',\n",
       "    'flow': '9ef18b8f-c549-38cd-850e-6b17dffcb503',\n",
       "    'value': 0.1674},\n",
       "   {'direction': 'Input',\n",
       "    'entityType': 'exchange',\n",
       "    'flow': 'a04388aa-8549-3b2f-94a2-03e17fa903fb',\n",
       "    'value': 5.3373},\n",
       "   {'direction': 'Input',\n",
       "    'entityType': 'exchange',\n",
       "    'flow': 'a0dd4506-0ba9-35bf-bcf1-dfac4f33b7da',\n",
       "    'value': 25.583},\n",
       "   {'direction': 'Input',\n",
       "    'entityType': 'exchange',\n",
       "    'flow': 'a986965e-a335-3dfb-8370-1f087d23e7ad',\n",
       "    'value': 6.0328},\n",
       "   {'direction': 'Input',\n",
       "    'entityType': 'exchange',\n",
       "    'flow': 'aae62d01-e0f9-350a-8b03-26c193be7360',\n",
       "    'value': 0.02044},\n",
       "   {'direction': 'Input',\n",
       "    'entityType': 'exchange',\n",
       "    'flow': 'ab9a78bf-80ee-3e87-a316-932a324d2077',\n",
       "    'value': 92.237},\n",
       "   {'direction': 'Input',\n",
       "    'entityType': 'exchange',\n",
       "    'flow': 'aeef9be6-bd32-3720-9a01-297fb6161c2d',\n",
       "    'value': 19.323},\n",
       "   {'direction': 'Input',\n",
       "    'entityType': 'exchange',\n",
       "    'flow': 'b6957096-5df2-3b86-b01d-eb08f9c281f9',\n",
       "    'value': 13563.0},\n",
       "   {'direction': 'Input',\n",
       "    'entityType': 'exchange',\n",
       "    'flow': 'bcdbc12d-45b4-315b-8ade-070893aa52f6',\n",
       "    'value': 1.2156},\n",
       "   {'direction': 'Input',\n",
       "    'entityType': 'exchange',\n",
       "    'flow': 'bed1039e-b2b5-37af-b661-df6e757614a5',\n",
       "    'value': 0.9608},\n",
       "   {'direction': 'Input',\n",
       "    'entityType': 'exchange',\n",
       "    'flow': 'cc18be17-789f-35a5-82e7-c092419b3755',\n",
       "    'value': 12.247},\n",
       "   {'direction': 'Input',\n",
       "    'entityType': 'exchange',\n",
       "    'flow': 'd52bbe64-4d4b-3d2a-883b-2015d4ebe138',\n",
       "    'value': 463.1113},\n",
       "   {'direction': 'Input',\n",
       "    'entityType': 'exchange',\n",
       "    'flow': 'd7fb7c3d-525e-3dbf-a26c-87db636cee82',\n",
       "    'value': 6.7041},\n",
       "   {'direction': 'Input',\n",
       "    'entityType': 'exchange',\n",
       "    'flow': 'deca876f-5cfd-3139-94f1-8db9ad41f3e7',\n",
       "    'value': 387.2},\n",
       "   {'direction': 'Input',\n",
       "    'entityType': 'exchange',\n",
       "    'flow': 'e2e6a6a8-590a-30d1-a55f-9fcd680ccbca',\n",
       "    'value': 3.2114},\n",
       "   {'direction': 'Input',\n",
       "    'entityType': 'exchange',\n",
       "    'flow': 'e6475bad-3749-3da6-a51a-d28d6d92ce1c',\n",
       "    'value': 7.6657},\n",
       "   {'direction': 'Input',\n",
       "    'entityType': 'exchange',\n",
       "    'flow': 'eb7372d4-3930-3c10-b8ce-521a20a3167b',\n",
       "    'value': 13.88},\n",
       "   {'direction': 'Input',\n",
       "    'entityType': 'exchange',\n",
       "    'flow': 'ecfd78e5-90e6-3637-a798-8d4432613e2e',\n",
       "    'value': 32.84},\n",
       "   {'direction': 'Input',\n",
       "    'entityType': 'exchange',\n",
       "    'flow': 'fef63e19-4293-307d-974d-53e14dfd1403',\n",
       "    'value': 64.41},\n",
       "   {'direction': 'Output',\n",
       "    'entityType': 'exchange',\n",
       "    'flow': '077d4f8e-b8f3-3374-90f5-2a56ecf9b9e4',\n",
       "    'value': 0.0011237},\n",
       "   {'direction': 'Output',\n",
       "    'entityType': 'exchange',\n",
       "    'flow': '08ee99c1-b525-3828-ac4c-beba7a2e7cb0',\n",
       "    'value': 21.818},\n",
       "   {'direction': 'Output',\n",
       "    'entityType': 'exchange',\n",
       "    'flow': '11ba6194-74b3-3b69-a09e-f3c20df3b701',\n",
       "    'value': 4.3902e-09},\n",
       "   {'direction': 'Output',\n",
       "    'entityType': 'exchange',\n",
       "    'flow': '18a1444a-08c6-3a4f-82ed-ee0783bab8d9',\n",
       "    'value': 63372.0},\n",
       "   {'direction': 'Output',\n",
       "    'entityType': 'exchange',\n",
       "    'flow': '278ffba2-4000-3696-9632-0f4f77dff4df',\n",
       "    'value': 0.007293},\n",
       "   {'direction': 'Output',\n",
       "    'entityType': 'exchange',\n",
       "    'flow': '3687205a-ae19-3a91-b7a7-1ad8ab38fa90',\n",
       "    'value': 4.4642e-05},\n",
       "   {'direction': 'Output',\n",
       "    'entityType': 'exchange',\n",
       "    'flow': '38754ad6-c15b-377d-8f4b-7a948e565d48',\n",
       "    'value': 2.3321e-05},\n",
       "   {'direction': 'Output',\n",
       "    'entityType': 'exchange',\n",
       "    'flow': '38bea2d4-7905-33aa-9817-1c040b5b1718',\n",
       "    'value': 0.45089},\n",
       "   {'direction': 'Output',\n",
       "    'entityType': 'exchange',\n",
       "    'flow': '3b3b2c71-65c2-3def-a3a8-2d21605d79ea',\n",
       "    'value': 0.00018805},\n",
       "   {'direction': 'Output',\n",
       "    'entityType': 'exchange',\n",
       "    'flow': '3d46d0f3-f28e-3015-87f5-c1e8d4f27711',\n",
       "    'value': 0.00013705},\n",
       "   {'direction': 'Output',\n",
       "    'entityType': 'exchange',\n",
       "    'flow': '3ea570e2-8c59-3d9c-babd-348e40e45287',\n",
       "    'value': 0.12383},\n",
       "   {'direction': 'Output',\n",
       "    'entityType': 'exchange',\n",
       "    'flow': '4455f2f3-101c-3071-ae14-ba3d5d43a23f',\n",
       "    'value': 0.002519},\n",
       "   {'direction': 'Output',\n",
       "    'entityType': 'exchange',\n",
       "    'flow': '45f0ad72-1279-3082-82db-1dc66aa63810',\n",
       "    'value': 0.046004},\n",
       "   {'direction': 'Output',\n",
       "    'entityType': 'exchange',\n",
       "    'flow': '4a89b282-aaf9-3b57-b0b7-99da219c13bd',\n",
       "    'value': 65.0},\n",
       "   {'direction': 'Output',\n",
       "    'entityType': 'exchange',\n",
       "    'flow': '4ad488d3-7b51-34f7-b076-4b2c9fb969dd',\n",
       "    'value': -16.203},\n",
       "   {'direction': 'Output',\n",
       "    'entityType': 'exchange',\n",
       "    'flow': '5aec616d-c3e1-38c9-993b-bcb71d9fc23a',\n",
       "    'value': 0.034881},\n",
       "   {'direction': 'Output',\n",
       "    'entityType': 'exchange',\n",
       "    'flow': '62ea1aa7-033c-3f1c-915f-a386c8f3dfd0',\n",
       "    'value': 0.00015365},\n",
       "   {'direction': 'Output',\n",
       "    'entityType': 'exchange',\n",
       "    'flow': '689c1b0e-ed4e-3612-845b-da376e861673',\n",
       "    'value': 0.045591},\n",
       "   {'direction': 'Output',\n",
       "    'entityType': 'exchange',\n",
       "    'flow': '7620a760-d628-3fda-8fae-08bc98b3a57f',\n",
       "    'value': 1.6919},\n",
       "   {'direction': 'Output',\n",
       "    'entityType': 'exchange',\n",
       "    'flow': '76a99562-86e3-3c09-aa7f-1cc8362226a4',\n",
       "    'value': 10890.0},\n",
       "   {'direction': 'Output',\n",
       "    'entityType': 'exchange',\n",
       "    'flow': '77aad089-093d-39f0-ba0d-14905042d80a',\n",
       "    'value': 0.021633},\n",
       "   {'direction': 'Output',\n",
       "    'entityType': 'exchange',\n",
       "    'flow': '7a65c54e-82f3-39cb-abde-4c1e8b7d5e5e',\n",
       "    'value': 129.0},\n",
       "   {'direction': 'Output',\n",
       "    'entityType': 'exchange',\n",
       "    'flow': '80d22a4f-d79f-3597-9e4e-23c25505d5ad',\n",
       "    'value': -32.295},\n",
       "   {'direction': 'Output',\n",
       "    'entityType': 'exchange',\n",
       "    'flow': '8aec6486-5138-38dc-a48a-daf769727f36',\n",
       "    'value': 0.1041},\n",
       "   {'direction': 'Output',\n",
       "    'entityType': 'exchange',\n",
       "    'flow': '9104297b-4ebd-358c-95ce-b6f956f34b9f',\n",
       "    'value': 0.00069256},\n",
       "   {'direction': 'Output',\n",
       "    'entityType': 'exchange',\n",
       "    'flow': '952bd4ad-f98d-34c8-aad1-bb70de4c7895',\n",
       "    'value': 0.10431},\n",
       "   {'direction': 'Output',\n",
       "    'entityType': 'exchange',\n",
       "    'flow': '9932832d-9436-39df-b3cc-80c71952d3ef',\n",
       "    'value': 0.00013912},\n",
       "   {'direction': 'Output',\n",
       "    'entityType': 'exchange',\n",
       "    'flow': 'a0a315a8-9e63-3444-a2a3-1035a6e0dd9f',\n",
       "    'value': 1.0417e-05},\n",
       "   {'direction': 'Output',\n",
       "    'entityType': 'exchange',\n",
       "    'flow': 'a300ace9-8d08-3cf7-a78c-ad8abf8e1f2b',\n",
       "    'value': 0.0028363},\n",
       "   {'direction': 'Output',\n",
       "    'entityType': 'exchange',\n",
       "    'flow': 'a64879a4-7831-374e-b324-0d49f6248368',\n",
       "    'value': 2.3697e-07},\n",
       "   {'direction': 'Output',\n",
       "    'entityType': 'exchange',\n",
       "    'flow': 'af5dac61-d267-3656-ace4-a5374d66f0f5',\n",
       "    'value': 0.0024205},\n",
       "   {'direction': 'Output',\n",
       "    'entityType': 'exchange',\n",
       "    'flow': 'b1387c8e-0086-3247-adb4-aabc43f402a5',\n",
       "    'value': 5.6344e-05},\n",
       "   {'direction': 'Output',\n",
       "    'entityType': 'exchange',\n",
       "    'flow': 'bcdf85c9-9021-3710-bb37-57f48d234290',\n",
       "    'value': 4.5162e-06},\n",
       "   {'direction': 'Output',\n",
       "    'entityType': 'exchange',\n",
       "    'flow': 'c171e977-f3c5-3825-b889-0ede818a2aff',\n",
       "    'value': 2.15},\n",
       "   {'direction': 'Output',\n",
       "    'entityType': 'exchange',\n",
       "    'flow': 'c37dada2-b9a6-32a3-ba7d-5c9fe6dd8dca',\n",
       "    'value': 0.391},\n",
       "   {'direction': 'Output',\n",
       "    'entityType': 'exchange',\n",
       "    'flow': 'c47b8229-d703-320f-b1fb-772f5811f79b',\n",
       "    'value': 0.017095},\n",
       "   {'direction': 'Output',\n",
       "    'entityType': 'exchange',\n",
       "    'flow': 'ca12f560-f744-39ce-91a6-0fab709602c7',\n",
       "    'value': 0.013586},\n",
       "   {'direction': 'Output',\n",
       "    'entityType': 'exchange',\n",
       "    'flow': 'cf657508-f1d7-3d03-80d7-e79e38cb4b9e',\n",
       "    'value': 0.0016988},\n",
       "   {'direction': 'Output',\n",
       "    'entityType': 'exchange',\n",
       "    'flow': 'd5eadbb9-b8e1-3b6a-a78c-601f9c705f27',\n",
       "    'value': 0.0030806},\n",
       "   {'direction': 'Output',\n",
       "    'entityType': 'exchange',\n",
       "    'flow': 'd74bdddc-4ef3-3095-9d02-82a8a92b39ff',\n",
       "    'value': 0.057065},\n",
       "   {'direction': 'Output',\n",
       "    'entityType': 'exchange',\n",
       "    'flow': 'db1aa4bb-498f-3cb9-9cb6-e53e953d9a35',\n",
       "    'value': 1.4622},\n",
       "   {'direction': 'Output',\n",
       "    'entityType': 'exchange',\n",
       "    'flow': 'dbbdcd7f-29fa-378a-aab8-83b5f747a39c',\n",
       "    'value': 1042.0},\n",
       "   {'direction': 'Output',\n",
       "    'entityType': 'exchange',\n",
       "    'flow': 'dbbf7baf-1ac1-3cdf-a673-ef56bcabbaed',\n",
       "    'value': 0.00011886},\n",
       "   {'direction': 'Output',\n",
       "    'entityType': 'exchange',\n",
       "    'flow': 'e4ebec1b-2305-3324-b003-e9e6011b5399',\n",
       "    'value': 5.8399e-05},\n",
       "   {'direction': 'Output',\n",
       "    'entityType': 'exchange',\n",
       "    'flow': 'e6475bad-3749-3da6-a51a-d28d6d92ce1c',\n",
       "    'value': 861.83},\n",
       "   {'direction': 'Output',\n",
       "    'entityType': 'exchange',\n",
       "    'flow': 'ee0a53bd-bb38-3522-9979-5f5bfda1f070',\n",
       "    'value': 0.0075148},\n",
       "   {'direction': 'Output',\n",
       "    'entityType': 'exchange',\n",
       "    'flow': 'f339a553-7672-3a1a-9d90-d81b96c0bfdf',\n",
       "    'value': 0.013123},\n",
       "   {'direction': 'Output',\n",
       "    'entityType': 'exchange',\n",
       "    'flow': 'f705beef-4c97-345c-be6e-8d0afe22d1bc',\n",
       "    'value': 0.0019921},\n",
       "   {'direction': 'Output',\n",
       "    'entityType': 'exchange',\n",
       "    'flow': 'fc87ac9d-9a5c-31ed-96f3-5fd3ab97ea58',\n",
       "    'value': 0.00015976},\n",
       "   {'direction': 'Output',\n",
       "    'entityType': 'exchange',\n",
       "    'flow': 'ff33a2a7-d6a4-3c31-ad00-3f7f98b08f31',\n",
       "    'value': 1.7969e-05}],\n",
       "  'externalId': 'Paper, freesheet, uncoated, average production, at mill, 2006',\n",
       "  'origin': '/home/b/Dropbox/data/USLCI/USLCI_Processes_ecospold1.zip'}]"
      ]
     },
     "execution_count": 146,
     "metadata": {},
     "output_type": "execute_result"
    }
   ],
   "source": [
    "[p for p in us['processes'] if len([x for x in reference_exchanges(p)]) < 1]"
   ]
  },
  {
   "cell_type": "code",
   "execution_count": 123,
   "metadata": {
    "collapsed": false
   },
   "outputs": [
    {
     "ename": "AttributeError",
     "evalue": "module 'scipy' has no attribute 'sparse'",
     "output_type": "error",
     "traceback": [
      "\u001b[1;31m---------------------------------------------------------------------------\u001b[0m",
      "\u001b[1;31mAttributeError\u001b[0m                            Traceback (most recent call last)",
      "\u001b[1;32m<ipython-input-123-0cd498ef2c6c>\u001b[0m in \u001b[0;36m<module>\u001b[1;34m()\u001b[0m\n\u001b[1;32m----> 1\u001b[1;33m \u001b[0mA\u001b[0m \u001b[1;33m=\u001b[0m \u001b[0msp\u001b[0m\u001b[1;33m.\u001b[0m\u001b[0msparse\u001b[0m\u001b[1;33m.\u001b[0m\u001b[0mcoo_matrix\u001b[0m\u001b[1;33m\u001b[0m\u001b[0m\n\u001b[0m",
      "\u001b[1;31mAttributeError\u001b[0m: module 'scipy' has no attribute 'sparse'"
     ]
    }
   ],
   "source": [
    "def create_technology_matrix(catalog):\n",
    "    interior = interior_flows(catalog)\n",
    "    index = set_to_index(interior)  # this is a dict that maps interior flow to index\n",
    "    "
   ]
  },
  {
   "cell_type": "code",
   "execution_count": 149,
   "metadata": {
    "collapsed": false
   },
   "outputs": [
    {
     "data": {
      "text/plain": [
       "2688"
      ]
     },
     "execution_count": 149,
     "metadata": {},
     "output_type": "execute_result"
    }
   ],
   "source": [
    "len(in_ei)"
   ]
  },
  {
   "cell_type": "code",
   "execution_count": 150,
   "metadata": {
    "collapsed": true
   },
   "outputs": [],
   "source": [
    "ei_flows = make_flows(ei)"
   ]
  },
  {
   "cell_type": "code",
   "execution_count": null,
   "metadata": {
    "collapsed": true
   },
   "outputs": [],
   "source": []
  },
  {
   "cell_type": "code",
   "execution_count": 151,
   "metadata": {
    "collapsed": false
   },
   "outputs": [
    {
     "data": {
      "text/plain": [
       "['operation, computer, laptop, video mode, label-certified electricity',\n",
       " 'electricity, for reuse in municipal waste incineration only',\n",
       " 'energy use and operation emissions, electric bicycle, label-certified electricity',\n",
       " 'operation, internet access equipment, label-certified electricity',\n",
       " 'mini CHP plant, common components for heat+electricity',\n",
       " 'electricity, low voltage',\n",
       " 'heat and power co-generation unit, 6400kW thermal, components for electricity only',\n",
       " 'transmission network, electricity, high voltage',\n",
       " 'heat and power co-generation unit, 1MW electrical, components for electricity only',\n",
       " 'operation, computer, laptop, 68% active work, label-certified electricity',\n",
       " 'electricity, high voltage, for internal use in coal mining',\n",
       " 'heat and power co-generation unit, 200kW electrical, diesel SCR, common components for heat+electricity',\n",
       " 'transport, passenger, electric bicycle, label-certified electricity',\n",
       " 'heat and power co-generation unit, 6400kW thermal, common components for heat+electricity',\n",
       " 'heat and power co-generation unit, 50kW electrical, components for electricity only',\n",
       " 'heat and power co-generation unit, 160kW electrical, components for electricity only',\n",
       " 'electricity, medium voltage, aluminium industry',\n",
       " 'operation, computer, laptop, videoconference, label-certified electricity',\n",
       " 'distribution network, electricity, low voltage',\n",
       " 'heat and power co-generation unit, 500kW electrical, common components for heat+electricity',\n",
       " 'electricity, high voltage',\n",
       " 'transmission network, electricity, medium voltage',\n",
       " 'electricity, medium voltage',\n",
       " 'heat and power co-generation unit, 1MW electrical, common components for heat+electricity',\n",
       " 'heat and power co-generation unit, 500kW electrical, components for electricity only',\n",
       " 'heat and power co-generation unit, 200kW electrical, common components for heat+electricity',\n",
       " 'foam glass, electricity, label-certified',\n",
       " 'electricity, high voltage, label-certified',\n",
       " 'electricity, low voltage, label-certified',\n",
       " 'heat and power co-generation unit, organic Rankine cycle, 1400kW thermal, common components, heat+electricity',\n",
       " 'electricity, high voltage, for Swiss Federal Railways',\n",
       " 'operation, computer, laptop, 68% active work with internet access 0.2 Mbit/s, label-certified electricity',\n",
       " 'electricity, high voltage, aluminium industry',\n",
       " 'heat and power co-generation unit, 160kW electrical, common components for heat+electricity',\n",
       " 'heat and power co-generation unit, organic Rankine cycle, 1400kW thermal, components for electricity only',\n",
       " 'heat and power co-generation unit, 50kW electrical, common components for heat+electricity',\n",
       " 'mini CHP plant, components for electricity only',\n",
       " 'heat and power co-generation unit, 200kW electrical, diesel SCR, components for electricity only',\n",
       " 'electricity, medium voltage, label-certified',\n",
       " 'heat and power co-generation unit, 200kW electrical, components for electricity only']"
      ]
     },
     "execution_count": 151,
     "metadata": {},
     "output_type": "execute_result"
    }
   ],
   "source": [
    "[ei_flows[x]['Name'] for x in in_ei if ei_flows[x]['Name'].lower().find('electricity') >= 0 ]"
   ]
  },
  {
   "cell_type": "code",
   "execution_count": 164,
   "metadata": {
    "collapsed": false
   },
   "outputs": [
    {
     "data": {
      "text/plain": [
       "['RME      market group for electricity, high voltage',\n",
       " 'RER      market group for heavy fuel oil',\n",
       " 'CA       market group for electricity, high voltage',\n",
       " 'GLO      market group for natural gas, high pressure',\n",
       " 'RAS      market group for electricity, high voltage',\n",
       " 'RAS      market group for electricity, medium voltage',\n",
       " 'GLO      market group for diesel',\n",
       " 'GLO      market group for transport, freight train',\n",
       " 'Canada w market group for electricity, high voltage',\n",
       " 'US       market group for electricity, medium voltage',\n",
       " 'RER      market group for heat, district or industrial, other than natural gas',\n",
       " 'RER      market group for tap water',\n",
       " 'Europe w market group for electricity, high voltage',\n",
       " 'UCTE     market group for electricity, low voltage',\n",
       " 'Canada w market group for electricity, low voltage',\n",
       " 'ENTSO-E  market group for electricity, high voltage',\n",
       " 'GLO      market group for tap water',\n",
       " 'RNA      market group for electricity, medium voltage',\n",
       " 'US       market group for electricity, low voltage',\n",
       " 'RER      market group for electricity, high voltage',\n",
       " 'GLO      market group for electricity, high voltage',\n",
       " 'Europe w market group for natural gas, high pressure',\n",
       " 'GLO      market group for heat, district or industrial, natural gas',\n",
       " 'CA       market group for natural gas, high pressure',\n",
       " 'CN       market group for electricity, high voltage',\n",
       " 'ENTSO-E  market group for electricity, low voltage',\n",
       " 'RER      market group for heat, central or small-scale, other than natural gas',\n",
       " 'CN       market group for electricity, low voltage',\n",
       " 'GLO      market group for diesel, low-sulfur',\n",
       " 'GLO      market group for heat, district or industrial, other than natural gas',\n",
       " 'GLO      market group for irrigation',\n",
       " 'US       market group for electricity, high voltage',\n",
       " 'RME      market group for electricity, low voltage',\n",
       " 'CN       market group for electricity, medium voltage',\n",
       " 'RLA      market group for electricity, medium voltage',\n",
       " 'RER      market group for diesel, low-sulfur',\n",
       " 'RER      market group for light fuel oil',\n",
       " 'Canada w market group for electricity, medium voltage',\n",
       " 'CA       market group for electricity, low voltage',\n",
       " 'RAS      market group for electricity, low voltage',\n",
       " 'RER      market group for heat, district or industrial, natural gas',\n",
       " 'GLO      market group for electricity, medium voltage',\n",
       " 'Europe w market group for electricity, medium voltage',\n",
       " 'GLO      market group for heat, central or small-scale, other than natural gas',\n",
       " 'UCTE     market group for electricity, medium voltage',\n",
       " 'GLO      market group for electricity, low voltage',\n",
       " 'RAF      market group for electricity, low voltage',\n",
       " 'RME      market group for electricity, medium voltage',\n",
       " 'RLA      market group for electricity, low voltage',\n",
       " 'GLO      market group for heat, central or small-scale, natural gas',\n",
       " 'RER      market group for diesel',\n",
       " 'ENTSO-E  market group for electricity, medium voltage',\n",
       " 'RNA      market group for electricity, high voltage',\n",
       " 'RER      market group for electricity, medium voltage',\n",
       " 'RER      market group for electricity, low voltage',\n",
       " 'Europe w market group for electricity, low voltage',\n",
       " 'RNA      market group for electricity, low voltage',\n",
       " 'RER      market group for heat, central or small-scale, natural gas',\n",
       " 'CA       market group for electricity, medium voltage',\n",
       " 'UCTE     market group for electricity, high voltage',\n",
       " 'RLA      market group for electricity, high voltage',\n",
       " 'RAF      market group for electricity, high voltage',\n",
       " 'RAF      market group for electricity, medium voltage']"
      ]
     },
     "execution_count": 164,
     "metadata": {},
     "output_type": "execute_result"
    }
   ],
   "source": [
    "['%-8.8s %s' % (p['SpatialScope'], p['Name']) for p in ei['processes'] if re.search('^market group', p['Name'], flags=re.I)]"
   ]
  }
 ],
 "metadata": {
  "kernelspec": {
   "display_name": "Python 3",
   "language": "python",
   "name": "python3"
  },
  "language_info": {
   "codemirror_mode": {
    "name": "ipython",
    "version": 3
   },
   "file_extension": ".py",
   "mimetype": "text/x-python",
   "name": "python",
   "nbconvert_exporter": "python",
   "pygments_lexer": "ipython3",
   "version": "3.5.2"
  }
 },
 "nbformat": 4,
 "nbformat_minor": 0
}

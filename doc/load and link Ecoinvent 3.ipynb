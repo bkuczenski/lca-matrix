{
 "cells": [
  {
   "cell_type": "code",
   "execution_count": 1,
   "metadata": {
    "collapsed": true,
    "deletable": true,
    "editable": true
   },
   "outputs": [],
   "source": [
    "import sys\n",
    "import os\n",
    "sys.path.append('/data/GitHub/lca-tools/')\n",
    "\n",
    "import lcatools"
   ]
  },
  {
   "cell_type": "code",
   "execution_count": 2,
   "metadata": {
    "collapsed": false,
    "deletable": true,
    "editable": true
   },
   "outputs": [],
   "source": [
    "from lcatools.providers.ecospold2 import EcospoldV2Archive\n",
    "from lcatools.entities import NoReferenceFound"
   ]
  },
  {
   "cell_type": "code",
   "execution_count": 3,
   "metadata": {
    "collapsed": true,
    "deletable": true,
    "editable": true
   },
   "outputs": [],
   "source": [
    "sys.path.append('..')\n",
    "import lcamatrix"
   ]
  },
  {
   "cell_type": "code",
   "execution_count": 4,
   "metadata": {
    "collapsed": true,
    "deletable": true,
    "editable": true
   },
   "outputs": [],
   "source": [
    "CATALOG = '/data/GitHub/lca-catalog/catalogs/'\n",
    "\n",
    "EI32_A = 'ecoinvent_3.2_apos_spold.json.gz'\n",
    "#USLCI = 'uslci_ecospold.json.gz'"
   ]
  },
  {
   "cell_type": "code",
   "execution_count": 134,
   "metadata": {
    "collapsed": false,
    "deletable": true,
    "editable": true
   },
   "outputs": [
    {
     "name": "stdout",
     "output_type": "stream",
     "text": [
      "Found Extension: zip\n"
     ]
    }
   ],
   "source": [
    "EA = EcospoldV2Archive('/data/LCI/Ecoinvent/3.2/current_Version_3.2_apos_ecoSpold02.zip', prefix='datasets')"
   ]
  },
  {
   "cell_type": "code",
   "execution_count": 135,
   "metadata": {
    "collapsed": false,
    "deletable": true,
    "editable": true,
    "scrolled": true
   },
   "outputs": [
    {
     "name": "stdout",
     "output_type": "stream",
     "text": [
      "Loading /data/LCI/Ecoinvent/3.2/current_Version_3.2_apos_ecoSpold02.zip\n",
      " Loaded 100 processes (t=0.96 s)\n",
      " Loaded 200 processes (t=1.78 s)\n",
      " Loaded 300 processes (t=2.37 s)\n",
      " Loaded 400 processes (t=2.90 s)\n",
      " Loaded 500 processes (t=3.29 s)\n",
      "activity ID 0a3fc02d-87cb-4200-88ac-ce5fc0ad5f42: no comment\n",
      " Loaded 600 processes (t=4.01 s)\n",
      " Loaded 700 processes (t=4.57 s)\n",
      " Loaded 800 processes (t=5.01 s)\n",
      " Loaded 900 processes (t=5.82 s)\n",
      " Loaded 1000 processes (t=6.37 s)\n",
      " Loaded 1100 processes (t=6.82 s)\n",
      " Loaded 1200 processes (t=7.49 s)\n",
      " Loaded 1300 processes (t=8.35 s)\n",
      " Loaded 1400 processes (t=8.95 s)\n",
      " Loaded 1500 processes (t=9.43 s)\n",
      " Loaded 1600 processes (t=10.23 s)\n",
      " Loaded 1700 processes (t=10.78 s)\n",
      " Loaded 1800 processes (t=11.22 s)\n",
      " Loaded 1900 processes (t=11.96 s)\n",
      " Loaded 2000 processes (t=13.06 s)\n",
      " Loaded 2100 processes (t=13.62 s)\n",
      " Loaded 2200 processes (t=14.45 s)\n",
      " Loaded 2300 processes (t=15.21 s)\n",
      " Loaded 2400 processes (t=15.67 s)\n",
      " Loaded 2500 processes (t=16.26 s)\n",
      " Loaded 2600 processes (t=16.82 s)\n",
      " Loaded 2700 processes (t=17.37 s)\n",
      " Loaded 2800 processes (t=17.81 s)\n",
      " Loaded 2900 processes (t=19.01 s)\n",
      " Loaded 3000 processes (t=19.51 s)\n",
      " Loaded 3100 processes (t=20.67 s)\n",
      " Loaded 3200 processes (t=21.31 s)\n",
      " Loaded 3300 processes (t=21.88 s)\n",
      " Loaded 3400 processes (t=22.48 s)\n",
      " Loaded 3500 processes (t=23.66 s)\n",
      " Loaded 3600 processes (t=24.09 s)\n",
      " Loaded 3700 processes (t=24.79 s)\n",
      " Loaded 3800 processes (t=25.58 s)\n",
      " Loaded 3900 processes (t=26.12 s)\n",
      " Loaded 4000 processes (t=26.62 s)\n",
      " Loaded 4100 processes (t=27.74 s)\n",
      " Loaded 4200 processes (t=28.51 s)\n",
      " Loaded 4300 processes (t=29.02 s)\n",
      " Loaded 4400 processes (t=30.47 s)\n",
      " Loaded 4500 processes (t=31.07 s)\n",
      " Loaded 4600 processes (t=31.77 s)\n",
      " Loaded 4700 processes (t=32.19 s)\n",
      " Loaded 4800 processes (t=33.19 s)\n",
      " Loaded 4900 processes (t=33.97 s)\n",
      " Loaded 5000 processes (t=34.60 s)\n",
      " Loaded 5100 processes (t=35.03 s)\n",
      " Loaded 5200 processes (t=35.54 s)\n",
      " Loaded 5300 processes (t=36.12 s)\n",
      " Loaded 5400 processes (t=37.22 s)\n",
      " Loaded 5500 processes (t=38.37 s)\n",
      " Loaded 5600 processes (t=39.02 s)\n",
      " Loaded 5700 processes (t=39.61 s)\n",
      " Loaded 5800 processes (t=40.12 s)\n",
      " Loaded 5900 processes (t=41.00 s)\n",
      " Loaded 6000 processes (t=41.72 s)\n",
      " Loaded 6100 processes (t=42.19 s)\n",
      " Loaded 6200 processes (t=42.74 s)\n",
      " Loaded 6300 processes (t=43.25 s)\n",
      " Loaded 6400 processes (t=43.81 s)\n",
      " Loaded 6500 processes (t=44.30 s)\n",
      " Loaded 6600 processes (t=44.95 s)\n",
      " Loaded 6700 processes (t=46.18 s)\n",
      " Loaded 6800 processes (t=46.73 s)\n",
      " Loaded 6900 processes (t=47.38 s)\n",
      " Loaded 7000 processes (t=48.01 s)\n",
      " Loaded 7100 processes (t=48.50 s)\n",
      " Loaded 7200 processes (t=49.02 s)\n",
      "Squashing bad termination in linked reference exchange, 8d44da1b-8c02-4640-a965-55ca57bc8bfe\n",
      "Flow 361e78e0-0094-48d2-b9a2-2c70921e5c1e Term fac190d7-a9e8-488b-9075-178f5c8492c0\n",
      "Squashing bad termination in linked reference exchange, 8d44da1b-8c02-4640-a965-55ca57bc8bfe\n",
      "Flow 3a9b33f8-d1b1-4bea-9df7-7db6846c6df6 Term f3622e6c-b364-4108-9574-925359b64f51\n",
      "Squashing bad termination in linked reference exchange, 8d44da1b-8c02-4640-a965-55ca57bc8bfe\n",
      "Flow cfbc8873-47d4-4411-a18e-578ef35ab871 Term 321f69ba-2874-45a2-956a-4857c4b1a381\n",
      "Squashing bad termination in linked reference exchange, 8d44da1b-8c02-4640-a965-55ca57bc8bfe\n",
      "Flow df12f8f5-a3e3-4506-9d86-b33205d21a52 Term af48e232-5ae1-43f1-8e2a-cce5bbcc6ecb\n",
      "Squashing bad termination in linked reference exchange, 8d44da1b-8c02-4640-a965-55ca57bc8bfe\n",
      "Flow e1126956-dc57-4837-849f-57fb25c8effa Term 3723d90c-8a3f-499e-9c35-3853bcab2c0a\n",
      " Loaded 7300 processes (t=49.58 s)\n",
      "Squashing bad termination in linked reference exchange, 8e418a97-3504-4105-ae1a-f537206157dc\n",
      "Flow 76ab0018-e176-43e0-b42c-12e82b937fef Term e2d5e68d-7b1c-4cce-b7ca-49ea693096dd\n",
      " Loaded 7400 processes (t=50.00 s)\n",
      " Loaded 7500 processes (t=50.42 s)\n",
      " Loaded 7600 processes (t=50.93 s)\n",
      " Loaded 7700 processes (t=51.69 s)\n",
      " Loaded 7800 processes (t=52.35 s)\n",
      " Loaded 7900 processes (t=52.76 s)\n",
      " Loaded 8000 processes (t=53.10 s)\n",
      " Loaded 8100 processes (t=53.68 s)\n",
      " Loaded 8200 processes (t=54.24 s)\n",
      " Loaded 8300 processes (t=54.76 s)\n",
      " Loaded 8400 processes (t=55.61 s)\n",
      " Loaded 8500 processes (t=55.98 s)\n",
      " Loaded 8600 processes (t=56.54 s)\n",
      " Loaded 8700 processes (t=57.31 s)\n",
      " Loaded 8800 processes (t=57.87 s)\n",
      " Loaded 8900 processes (t=58.53 s)\n",
      " Loaded 9000 processes (t=59.01 s)\n",
      " Loaded 9100 processes (t=59.54 s)\n",
      " Loaded 9200 processes (t=60.20 s)\n",
      " Loaded 9300 processes (t=60.86 s)\n",
      " Loaded 9400 processes (t=61.33 s)\n",
      " Loaded 9500 processes (t=61.86 s)\n",
      "Squashing bad termination in linked reference exchange, bb2eff39-6693-49bc-b735-3762193f0039\n",
      "Flow 361e78e0-0094-48d2-b9a2-2c70921e5c1e Term fac190d7-a9e8-488b-9075-178f5c8492c0\n",
      "Squashing bad termination in linked reference exchange, bb2eff39-6693-49bc-b735-3762193f0039\n",
      "Flow 3a9b33f8-d1b1-4bea-9df7-7db6846c6df6 Term f3622e6c-b364-4108-9574-925359b64f51\n",
      "Squashing bad termination in linked reference exchange, bb2eff39-6693-49bc-b735-3762193f0039\n",
      "Flow df12f8f5-a3e3-4506-9d86-b33205d21a52 Term af48e232-5ae1-43f1-8e2a-cce5bbcc6ecb\n",
      "Squashing bad termination in linked reference exchange, bb2eff39-6693-49bc-b735-3762193f0039\n",
      "Flow e1126956-dc57-4837-849f-57fb25c8effa Term 3723d90c-8a3f-499e-9c35-3853bcab2c0a\n",
      "Squashing bad termination in linked reference exchange, bb2eff39-6693-49bc-b735-3762193f0039\n",
      "Flow cfbc8873-47d4-4411-a18e-578ef35ab871 Term 321f69ba-2874-45a2-956a-4857c4b1a381\n",
      " Loaded 9600 processes (t=62.63 s)\n",
      " Loaded 9700 processes (t=63.19 s)\n",
      " Loaded 9800 processes (t=64.08 s)\n",
      " Loaded 9900 processes (t=64.65 s)\n",
      " Loaded 10000 processes (t=65.14 s)\n",
      " Loaded 10100 processes (t=65.81 s)\n",
      " Loaded 10200 processes (t=66.29 s)\n",
      " Loaded 10300 processes (t=66.81 s)\n",
      " Loaded 10400 processes (t=67.74 s)\n",
      " Loaded 10500 processes (t=68.43 s)\n",
      " Loaded 10600 processes (t=68.98 s)\n",
      " Loaded 10700 processes (t=69.57 s)\n",
      " Loaded 10800 processes (t=70.43 s)\n",
      " Loaded 10900 processes (t=71.06 s)\n",
      " Loaded 11000 processes (t=71.75 s)\n",
      " Loaded 11100 processes (t=72.65 s)\n",
      " Loaded 11200 processes (t=73.46 s)\n",
      " Loaded 11300 processes (t=74.05 s)\n",
      " Loaded 11400 processes (t=74.58 s)\n",
      " Loaded 11500 processes (t=75.24 s)\n",
      " Loaded 11600 processes (t=75.66 s)\n",
      " Loaded 11700 processes (t=76.19 s)\n",
      " Loaded 11800 processes (t=77.32 s)\n",
      " Loaded 11900 processes (t=77.82 s)\n",
      " Loaded 12000 processes (t=78.65 s)\n",
      " Loaded 12100 processes (t=79.06 s)\n",
      " Loaded 12200 processes (t=79.78 s)\n",
      " Loaded 12300 processes (t=80.93 s)\n",
      " Loaded 12400 processes (t=81.50 s)\n",
      " Loaded 12500 processes (t=82.08 s)\n",
      " Loaded 12600 processes (t=82.51 s)\n",
      " Loaded 12700 processes (t=83.05 s)\n",
      " Loaded 12800 processes (t=83.64 s)\n",
      " Loaded 12900 processes (t=84.60 s)\n",
      " Loaded 12966 processes (t=85.09 s)\n",
      "11420 new process entities added (11420 total)\n",
      "4650 new flow entities added (4650 total)\n",
      "19 new quantity entities added (19 total)\n"
     ]
    }
   ],
   "source": [
    "EA.load_all()"
   ]
  },
  {
   "cell_type": "code",
   "execution_count": 8,
   "metadata": {
    "collapsed": false,
    "deletable": true,
    "editable": true
   },
   "outputs": [
    {
     "name": "stdout",
     "output_type": "stream",
     "text": [
      "CPU times: user 28.3 s, sys: 200 ms, total: 28.5 s\n",
      "Wall time: 28.8 s\n"
     ]
    }
   ],
   "source": [
    "%time EA.write_to_file(os.path.join(CATALOG, EI32_A), exchanges=True, values=True, characterizations=True, gzip=True)"
   ]
  },
  {
   "cell_type": "code",
   "execution_count": 5,
   "metadata": {
    "collapsed": false
   },
   "outputs": [
    {
     "name": "stdout",
     "output_type": "stream",
     "text": [
      "Loading JSON data from /data/GitHub/lca-catalog/catalogs/ecoinvent_3.2_apos_spold.json.gz:\n",
      "Found Extension: zip\n",
      "11420 new process entities added (11420 total)\n",
      "4650 new flow entities added (4650 total)\n",
      "19 new quantity entities added (19 total)\n",
      "CPU times: user 13.5 s, sys: 297 ms, total: 13.8 s\n",
      "Wall time: 13.8 s\n"
     ]
    }
   ],
   "source": [
    "%time EA_j = lcatools.archive_from_json(os.path.join(CATALOG, EI32_A))"
   ]
  },
  {
   "cell_type": "code",
   "execution_count": 5,
   "metadata": {
    "collapsed": true
   },
   "outputs": [],
   "source": [
    "import cProfile"
   ]
  },
  {
   "cell_type": "code",
   "execution_count": 6,
   "metadata": {
    "collapsed": false,
    "deletable": true,
    "editable": true,
    "scrolled": true
   },
   "outputs": [
    {
     "name": "stdout",
     "output_type": "stream",
     "text": [
      "Loading JSON data from /data/GitHub/lca-catalog/catalogs/ecoinvent_3.2_apos_spold.json.gz:\n",
      "Found Extension: zip\n",
      "11420 new process entities added (11420 total)\n",
      "4650 new flow entities added (4650 total)\n",
      "19 new quantity entities added (19 total)\n",
      "         26159639 function calls (26139571 primitive calls) in 17.902 seconds\n",
      "\n",
      "   Ordered by: standard name\n",
      "\n",
      "   ncalls  tottime  percall  cumtime  percall filename:lineno(function)\n",
      "        1    0.000    0.000    0.000    0.000 <frozen importlib._bootstrap>:102(release)\n",
      "        1    0.000    0.000    0.000    0.000 <frozen importlib._bootstrap>:142(__init__)\n",
      "        1    0.000    0.000    0.000    0.000 <frozen importlib._bootstrap>:146(__enter__)\n",
      "        1    0.000    0.000    0.000    0.000 <frozen importlib._bootstrap>:153(__exit__)\n",
      "        1    0.000    0.000    0.000    0.000 <frozen importlib._bootstrap>:159(_get_module_lock)\n",
      "        1    0.000    0.000    0.000    0.000 <frozen importlib._bootstrap>:173(cb)\n",
      "        1    0.000    0.000    0.000    0.000 <frozen importlib._bootstrap>:197(_call_with_frames_removed)\n",
      "        7    0.000    0.000    0.000    0.000 <frozen importlib._bootstrap>:208(_verbose_message)\n",
      "        1    0.000    0.000    0.000    0.000 <frozen importlib._bootstrap>:293(__init__)\n",
      "        1    0.000    0.000    0.000    0.000 <frozen importlib._bootstrap>:297(__enter__)\n",
      "        1    0.000    0.000    0.000    0.000 <frozen importlib._bootstrap>:304(__exit__)\n",
      "        4    0.000    0.000    0.000    0.000 <frozen importlib._bootstrap>:307(<genexpr>)\n",
      "        1    0.000    0.000    0.000    0.000 <frozen importlib._bootstrap>:35(_new_module)\n",
      "        1    0.000    0.000    0.000    0.000 <frozen importlib._bootstrap>:355(__init__)\n",
      "        2    0.000    0.000    0.000    0.000 <frozen importlib._bootstrap>:389(cached)\n",
      "        1    0.000    0.000    0.000    0.000 <frozen importlib._bootstrap>:402(parent)\n",
      "        1    0.000    0.000    0.000    0.000 <frozen importlib._bootstrap>:410(has_location)\n",
      "        1    0.000    0.000    0.000    0.000 <frozen importlib._bootstrap>:493(_init_module_attrs)\n",
      "        1    0.000    0.000    0.000    0.000 <frozen importlib._bootstrap>:553(module_from_spec)\n",
      "        1    0.000    0.000    0.000    0.000 <frozen importlib._bootstrap>:57(__init__)\n",
      "        1    0.000    0.000    0.000    0.000 <frozen importlib._bootstrap>:641(_load_unlocked)\n",
      "        1    0.000    0.000    0.000    0.000 <frozen importlib._bootstrap>:698(find_spec)\n",
      "        1    0.000    0.000    0.000    0.000 <frozen importlib._bootstrap>:77(acquire)\n",
      "        1    0.000    0.000    0.000    0.000 <frozen importlib._bootstrap>:771(find_spec)\n",
      "        3    0.000    0.000    0.000    0.000 <frozen importlib._bootstrap>:834(__enter__)\n",
      "        3    0.000    0.000    0.000    0.000 <frozen importlib._bootstrap>:838(__exit__)\n",
      "        1    0.000    0.000    0.000    0.000 <frozen importlib._bootstrap>:861(_find_spec)\n",
      "        1    0.000    0.000    0.001    0.001 <frozen importlib._bootstrap>:931(_find_and_load_unlocked)\n",
      "        1    0.000    0.000    0.001    0.001 <frozen importlib._bootstrap>:958(_find_and_load)\n",
      "        1    0.000    0.000    0.000    0.000 <frozen importlib._bootstrap>:989(_handle_fromlist)\n",
      "        1    0.000    0.000    0.000    0.000 <frozen importlib._bootstrap_external>:1080(_path_importer_cache)\n",
      "        1    0.000    0.000    0.000    0.000 <frozen importlib._bootstrap_external>:1117(_get_spec)\n",
      "        1    0.000    0.000    0.000    0.000 <frozen importlib._bootstrap_external>:1149(find_spec)\n",
      "        1    0.000    0.000    0.000    0.000 <frozen importlib._bootstrap_external>:1228(_get_spec)\n",
      "        1    0.000    0.000    0.000    0.000 <frozen importlib._bootstrap_external>:1233(find_spec)\n",
      "        2    0.000    0.000    0.000    0.000 <frozen importlib._bootstrap_external>:263(cache_from_source)\n",
      "        1    0.000    0.000    0.000    0.000 <frozen importlib._bootstrap_external>:361(_get_cached)\n",
      "        1    0.000    0.000    0.000    0.000 <frozen importlib._bootstrap_external>:393(_check_name_wrapper)\n",
      "        1    0.000    0.000    0.000    0.000 <frozen importlib._bootstrap_external>:41(_relax_case)\n",
      "        1    0.000    0.000    0.000    0.000 <frozen importlib._bootstrap_external>:430(_validate_bytecode_header)\n",
      "        1    0.000    0.000    0.000    0.000 <frozen importlib._bootstrap_external>:485(_compile_bytecode)\n",
      "        2    0.000    0.000    0.000    0.000 <frozen importlib._bootstrap_external>:52(_r_long)\n",
      "        1    0.000    0.000    0.000    0.000 <frozen importlib._bootstrap_external>:524(spec_from_file_location)\n",
      "        6    0.000    0.000    0.000    0.000 <frozen importlib._bootstrap_external>:57(_path_join)\n",
      "        6    0.000    0.000    0.000    0.000 <frozen importlib._bootstrap_external>:59(<listcomp>)\n",
      "        2    0.000    0.000    0.000    0.000 <frozen importlib._bootstrap_external>:63(_path_split)\n",
      "        1    0.000    0.000    0.000    0.000 <frozen importlib._bootstrap_external>:669(create_module)\n",
      "        1    0.000    0.000    0.000    0.000 <frozen importlib._bootstrap_external>:672(exec_module)\n",
      "        1    0.000    0.000    0.000    0.000 <frozen importlib._bootstrap_external>:743(get_code)\n",
      "        3    0.000    0.000    0.000    0.000 <frozen importlib._bootstrap_external>:75(_path_stat)\n",
      "        1    0.000    0.000    0.000    0.000 <frozen importlib._bootstrap_external>:800(__init__)\n",
      "        1    0.000    0.000    0.000    0.000 <frozen importlib._bootstrap_external>:825(get_filename)\n",
      "        1    0.000    0.000    0.000    0.000 <frozen importlib._bootstrap_external>:830(get_data)\n",
      "        1    0.000    0.000    0.000    0.000 <frozen importlib._bootstrap_external>:840(path_stats)\n",
      "        1    0.000    0.000    0.000    0.000 <frozen importlib._bootstrap_external>:85(_path_is_mode_type)\n",
      "        1    0.000    0.000    0.000    0.000 <frozen importlib._bootstrap_external>:94(_path_isfile)\n",
      "        1    0.004    0.004   17.902   17.902 <string>:1(<module>)\n",
      "        1    0.009    0.009    2.633    2.633 __init__.py:274(load)\n",
      "        1    0.000    0.000    1.716    1.716 __init__.py:302(loads)\n",
      "        1    0.000    0.000    0.000    0.000 __init__.py:43(normalize_encoding)\n",
      "        1    0.000    0.000    0.001    0.001 __init__.py:71(search_function)\n",
      "        1    0.000    0.000    0.000    0.000 _bootlocale.py:23(getpreferredencoding)\n",
      "        2    0.000    0.000    0.000    0.000 _compression.py:12(_check_not_closed)\n",
      "        1    0.000    0.000    0.000    0.000 _compression.py:150(tell)\n",
      "        1    0.000    0.000    0.000    0.000 _compression.py:36(readable)\n",
      "        1    0.000    0.000    0.000    0.000 _compression.py:39(__init__)\n",
      "        1    0.001    0.001    0.001    0.001 _compression.py:59(close)\n",
      "        1    0.006    0.006    0.037    0.037 archive.py:130(_prefix_zip)\n",
      "        1    0.000    0.000    0.000    0.000 archive.py:18(get_ext)\n",
      "        1    0.000    0.000    0.176    0.176 archive.py:43(_access_zip)\n",
      "        1    0.000    0.000    0.213    0.213 archive.py:51(__init__)\n",
      "    16089    2.186    0.000   14.965    0.001 base.py:103(entity_from_json)\n",
      "       19    0.000    0.000    0.000    0.000 base.py:31(_create_unit)\n",
      "        1    0.070    0.070   15.051   15.051 base.py:94(load_json)\n",
      "     4650    0.005    0.000    0.005    0.000 characterizations.py:14(__init__)\n",
      "     4650    0.002    0.000    0.002    0.000 characterizations.py:58(__setitem__)\n",
      "     4650    0.003    0.000    0.005    0.000 characterizations.py:67(add_value)\n",
      "        1    0.000    0.000    0.000    0.000 codecs.py:1048(make_identity_dict)\n",
      "        1    0.000    0.000    0.000    0.000 codecs.py:1056(<dictcomp>)\n",
      "        1    0.000    0.000    0.000    0.000 codecs.py:259(__init__)\n",
      "        1    0.000    0.000    0.000    0.000 codecs.py:308(__init__)\n",
      "        1    0.000    0.000    0.063    0.063 codecs.py:318(decode)\n",
      "        1    0.000    0.000    0.000    0.000 codecs.py:93(__new__)\n",
      "    12990    0.005    0.000    0.014    0.000 cp437.py:14(decode)\n",
      "        1    0.000    0.000    0.000    0.000 cp437.py:17(IncrementalEncoder)\n",
      "        1    0.000    0.000    0.000    0.000 cp437.py:21(IncrementalDecoder)\n",
      "        1    0.000    0.000    0.000    0.000 cp437.py:25(StreamWriter)\n",
      "        1    0.000    0.000    0.000    0.000 cp437.py:28(StreamReader)\n",
      "        1    0.000    0.000    0.000    0.000 cp437.py:3(<module>)\n",
      "        1    0.000    0.000    0.000    0.000 cp437.py:33(getregentry)\n",
      "        1    0.000    0.000    0.000    0.000 cp437.py:9(Codec)\n",
      "        1    0.000    0.000    1.716    1.716 decoder.py:334(decode)\n",
      "        1    1.716    1.716    1.716    1.716 decoder.py:345(raw_decode)\n",
      "        1    0.000    0.000    0.213    0.213 ecospold2.py:61(__init__)\n",
      "    35270    0.016    0.000    0.016    0.000 entities.py:104(_validate_reference)\n",
      "     4669    0.003    0.000    0.004    0.000 entities.py:112(_set_reference)\n",
      "    16089    0.073    0.000    0.205    0.000 entities.py:140(validate)\n",
      "    16089    0.008    0.000    0.008    0.000 entities.py:16(concatenate)\n",
      "   101146    0.066    0.000    0.091    0.000 entities.py:179(__getitem__)\n",
      "    75757    0.070    0.000    0.096    0.000 entities.py:188(__setitem__)\n",
      "    16089    0.103    0.000    0.325    0.000 entities.py:33(__init__)\n",
      "   512073    0.143    0.000    0.143    0.000 entities.py:54(origin)\n",
      "    16089    0.006    0.000    0.006    0.000 entities.py:58(origin)\n",
      "    16089    0.016    0.000    0.024    0.000 entities.py:65(signature_fields)\n",
      "    16089    0.004    0.000    0.004    0.000 entities.py:70(set_external_ref)\n",
      "    16089    0.004    0.000    0.004    0.000 entities.py:79(get_external_ref)\n",
      "     4650    0.001    0.000    0.001    0.000 entities.py:90(get_uuid)\n",
      "  2348778    0.302    0.000    0.302    0.000 entities.py:97(uuid)\n",
      "        4    0.000    0.000    0.000    0.000 enum.py:265(__call__)\n",
      "        4    0.000    0.000    0.000    0.000 enum.py:515(__new__)\n",
      "        2    0.000    0.000    0.000    0.000 enum.py:797(__and__)\n",
      "  2743104    0.311    0.000    0.311    0.000 exchanges.py:105(key)\n",
      "  3229326    0.778    0.000    1.195    0.000 exchanges.py:109(__hash__)\n",
      "  1135491    0.855    0.000    1.255    0.000 exchanges.py:112(__eq__)\n",
      "   459156    1.356    0.000    2.145    0.000 exchanges.py:199(__init__)\n",
      "   689301    1.530    0.000    3.435    0.000 exchanges.py:262(__setitem__)\n",
      "   472122    0.697    0.000    0.809    0.000 exchanges.py:49(__init__)\n",
      "  1378602    0.167    0.000    0.167    0.000 exchanges.py:89(process)\n",
      "   689301    0.105    0.000    0.105    0.000 exchanges.py:97(direction)\n",
      "     4650    0.021    0.000    0.049    0.000 flows.py:103(add_characterization)\n",
      "     4650    0.014    0.000    0.099    0.000 flows.py:40(__init__)\n",
      "     4650    0.005    0.000    0.009    0.000 flows.py:58(_set_reference)\n",
      "     4650    0.001    0.000    0.001    0.000 flows.py:77(set_local_unit)\n",
      "        1    0.000    0.000    2.635    2.635 from_json.py:8(from_json)\n",
      "        1    0.000    0.000    0.000    0.000 genericpath.py:16(exists)\n",
      "        1    0.000    0.000    0.000    0.000 genericpath.py:39(isdir)\n",
      "        1    0.000    0.000    0.001    0.001 gzip.py:123(__init__)\n",
      "        1    0.000    0.000    0.001    0.001 gzip.py:20(open)\n",
      "        1    0.000    0.000    0.828    0.828 gzip.py:271(read)\n",
      "        8    0.000    0.000    0.000    0.000 gzip.py:298(closed)\n",
      "        1    0.000    0.000    0.001    0.001 gzip.py:302(close)\n",
      "        1    0.000    0.000    0.000    0.000 gzip.py:321(flush)\n",
      "        1    0.000    0.000    0.000    0.000 gzip.py:328(fileno)\n",
      "        1    0.000    0.000    0.000    0.000 gzip.py:343(readable)\n",
      "        1    0.000    0.000    0.000    0.000 gzip.py:346(writable)\n",
      "        1    0.000    0.000    0.000    0.000 gzip.py:349(seekable)\n",
      "        1    0.000    0.000    0.000    0.000 gzip.py:378(__init__)\n",
      "        2    0.000    0.000    0.000    0.000 gzip.py:385(_init_read)\n",
      "        2    0.000    0.000    0.000    0.000 gzip.py:389(_read_exact)\n",
      "        2    0.000    0.000    0.000    0.000 gzip.py:405(_read_gzip_header)\n",
      "    20031    0.054    0.000    0.754    0.000 gzip.py:438(read)\n",
      "    20030    0.016    0.000    0.179    0.000 gzip.py:489(_add_read_data)\n",
      "        1    0.000    0.000    0.000    0.000 gzip.py:493(_read_eof)\n",
      "        1    0.000    0.000    0.000    0.000 gzip.py:74(__init__)\n",
      "    20065    0.030    0.000    0.056    0.000 gzip.py:80(read)\n",
      "    20030    0.014    0.000    0.016    0.000 gzip.py:93(prepend)\n",
      "   463806    0.592    0.000    2.167    0.000 interfaces.py:119(_get_entity)\n",
      "   463806    0.205    0.000    2.372    0.000 interfaces.py:144(__getitem__)\n",
      "    16089    0.061    0.000    0.329    0.000 interfaces.py:147(add)\n",
      "      4/1    0.000    0.000    0.015    0.015 interfaces.py:171(check_counter)\n",
      "        1    0.000    0.000    0.015    0.015 interfaces.py:173(<listcomp>)\n",
      "        3    0.002    0.001    0.014    0.005 interfaces.py:176(<listcomp>)\n",
      "   495984    0.541    0.000    1.359    0.000 interfaces.py:29(to_uuid)\n",
      "    16092    0.013    0.000    0.013    0.000 interfaces.py:312(_entities_by_type)\n",
      "   495984    0.185    0.000    1.544    0.000 interfaces.py:54(_key_to_id)\n",
      "        1    0.000    0.000    0.000    0.000 interfaces.py:65(__init__)\n",
      "       13    0.001    0.000    0.001    0.000 iostream.py:180(schedule)\n",
      "       10    0.000    0.000    0.000    0.000 iostream.py:285(_is_master_process)\n",
      "       10    0.000    0.000    0.000    0.000 iostream.py:298(_schedule_flush)\n",
      "       10    0.000    0.000    0.001    0.000 iostream.py:361(write)\n",
      "       13    0.000    0.000    0.000    0.000 iostream.py:89(_event_pipe)\n",
      "    12990    0.016    0.000    0.029    0.000 posixpath.py:102(split)\n",
      "    12991    0.003    0.000    0.005    0.000 posixpath.py:39(_get_sep)\n",
      "        1    0.000    0.000    0.000    0.000 posixpath.py:73(join)\n",
      "    12966    0.034    0.000    0.079    0.000 processes.py:105(_set_reference)\n",
      "    12966    0.017    0.000    0.116    0.000 processes.py:234(add_reference)\n",
      "   702267    2.363    0.000    8.979    0.000 processes.py:328(add_exchange)\n",
      "    11420    0.039    0.000    0.283    0.000 processes.py:36(__init__)\n",
      "    24386    0.031    0.000    0.044    0.000 processes.py:96(_validate_reference)\n",
      "       19    0.000    0.000    0.000    0.000 quantities.py:21(__init__)\n",
      "       19    0.000    0.000    0.000    0.000 quantities.py:95(__init__)\n",
      "        1    0.000    0.000    0.000    0.000 re.py:179(search)\n",
      "        1    0.000    0.000    0.000    0.000 re.py:286(_compile)\n",
      "        1    0.000    0.000    0.000    0.000 sre_compile.py:393(_generate_overlap_table)\n",
      "        1    0.000    0.000    0.000    0.000 sre_compile.py:414(_get_literal_prefix)\n",
      "        1    0.000    0.000    0.000    0.000 sre_compile.py:482(_compile_info)\n",
      "        2    0.000    0.000    0.000    0.000 sre_compile.py:539(isstring)\n",
      "        1    0.000    0.000    0.000    0.000 sre_compile.py:542(_code)\n",
      "        1    0.000    0.000    0.000    0.000 sre_compile.py:557(compile)\n",
      "        1    0.000    0.000    0.000    0.000 sre_compile.py:64(_compile)\n",
      "        1    0.000    0.000    0.000    0.000 sre_parse.py:111(__init__)\n",
      "        4    0.000    0.000    0.000    0.000 sre_parse.py:171(append)\n",
      "        1    0.000    0.000    0.000    0.000 sre_parse.py:173(getwidth)\n",
      "        1    0.000    0.000    0.000    0.000 sre_parse.py:223(__init__)\n",
      "        5    0.000    0.000    0.000    0.000 sre_parse.py:232(__next)\n",
      "        1    0.000    0.000    0.000    0.000 sre_parse.py:248(match)\n",
      "        4    0.000    0.000    0.000    0.000 sre_parse.py:253(get)\n",
      "        1    0.000    0.000    0.000    0.000 sre_parse.py:285(tell)\n",
      "        1    0.000    0.000    0.000    0.000 sre_parse.py:342(_escape)\n",
      "        1    0.000    0.000    0.000    0.000 sre_parse.py:407(_parse_sub)\n",
      "        1    0.000    0.000    0.000    0.000 sre_parse.py:469(_parse)\n",
      "        1    0.000    0.000    0.000    0.000 sre_parse.py:76(__init__)\n",
      "        2    0.000    0.000    0.000    0.000 sre_parse.py:81(groups)\n",
      "        1    0.000    0.000    0.000    0.000 sre_parse.py:829(fix_flags)\n",
      "        1    0.000    0.000    0.000    0.000 sre_parse.py:845(parse)\n",
      "       13    0.000    0.000    0.000    0.000 threading.py:1062(_wait_for_tstate_lock)\n",
      "       13    0.000    0.000    0.000    0.000 threading.py:1104(is_alive)\n",
      "       13    0.000    0.000    0.000    0.000 threading.py:506(is_set)\n",
      "        1    0.000    0.000    0.000    0.000 threading.py:74(RLock)\n",
      "        1    0.000    0.000    0.213    0.213 tools.py:38(archive_factory)\n",
      "        1    0.000    0.000   17.899   17.899 tools.py:65(archive_from_json)\n",
      "    16089    0.055    0.000    0.084    0.000 uuid.py:106(__init__)\n",
      "    16089    0.037    0.000    0.037    0.000 uuid.py:226(__str__)\n",
      "        1    0.000    0.000    0.176    0.176 zipfile.py:1054(__init__)\n",
      "        1    0.070    0.070    0.175    0.175 zipfile.py:1159(_RealGetContents)\n",
      "        1    0.000    0.000    0.001    0.001 zipfile.py:1238(namelist)\n",
      "        1    0.001    0.001    0.001    0.001 zipfile.py:1240(<listcomp>)\n",
      "        1    0.000    0.000    0.000    0.000 zipfile.py:191(_EndRecData64)\n",
      "        1    0.000    0.000    0.000    0.000 zipfile.py:234(_EndRecData)\n",
      "    12990    0.019    0.000    0.024    0.000 zipfile.py:320(__init__)\n",
      "    12990    0.020    0.000    0.028    0.000 zipfile.py:436(_decodeExtra)\n",
      "        1    0.000    0.000    0.000    0.000 zipfile.py:641(_check_compression)\n",
      "        1    0.000    0.000    0.000    0.000 {built-in method __new__ of type object at 0x7fd4aa268be0}\n",
      "    12990    0.009    0.000    0.009    0.000 {built-in method _codecs.charmap_decode}\n",
      "        1    0.063    0.063    0.063    0.063 {built-in method _codecs.utf_8_decode}\n",
      "        1    0.000    0.000    0.000    0.000 {built-in method _imp._fix_co_filename}\n",
      "        3    0.000    0.000    0.000    0.000 {built-in method _imp.acquire_lock}\n",
      "        1    0.000    0.000    0.000    0.000 {built-in method _imp.is_frozen}\n",
      "        4    0.000    0.000    0.000    0.000 {built-in method _imp.release_lock}\n",
      "        1    0.000    0.000    0.000    0.000 {built-in method _locale.nl_langinfo}\n",
      "        1    0.000    0.000    0.000    0.000 {built-in method _sre.compile}\n",
      "        1    0.000    0.000    0.000    0.000 {built-in method _stat.S_ISDIR}\n",
      "    38974    0.011    0.000    0.011    0.000 {built-in method _struct.unpack}\n",
      "        2    0.000    0.000    0.000    0.000 {built-in method _thread.allocate_lock}\n",
      "        2    0.000    0.000    0.000    0.000 {built-in method _thread.get_ident}\n",
      "        5    0.000    0.000    0.000    0.000 {built-in method builtins.__build_class__}\n",
      "        1    0.000    0.000    0.001    0.001 {built-in method builtins.__import__}\n",
      "        1    0.000    0.000    0.000    0.000 {built-in method builtins.any}\n",
      "    12990    0.002    0.000    0.002    0.000 {built-in method builtins.chr}\n",
      "      2/1    0.000    0.000   17.902   17.902 {built-in method builtins.exec}\n",
      "        6    0.000    0.000    0.000    0.000 {built-in method builtins.getattr}\n",
      "        4    0.000    0.000    0.000    0.000 {built-in method builtins.hasattr}\n",
      "  3229326    0.417    0.000    0.417    0.000 {built-in method builtins.hash}\n",
      "  2376796    0.355    0.000    0.355    0.000 {built-in method builtins.isinstance}\n",
      "   141153    0.013    0.000    0.013    0.000 {built-in method builtins.len}\n",
      "        3    0.000    0.000    0.000    0.000 {built-in method builtins.min}\n",
      "        3    0.000    0.000    0.000    0.000 {built-in method builtins.ord}\n",
      "        5    0.000    0.000    0.001    0.000 {built-in method builtins.print}\n",
      "        1    0.000    0.000    0.000    0.000 {built-in method builtins.setattr}\n",
      "        2    0.000    0.000    0.000    0.000 {built-in method from_bytes}\n",
      "        2    0.001    0.000    0.001    0.000 {built-in method io.open}\n",
      "        1    0.000    0.000    0.000    0.000 {built-in method marshal.loads}\n",
      "    12995    0.002    0.000    0.002    0.000 {built-in method posix.fspath}\n",
      "       10    0.000    0.000    0.000    0.000 {built-in method posix.getpid}\n",
      "        5    0.000    0.000    0.000    0.000 {built-in method posix.stat}\n",
      "       13    0.000    0.000    0.000    0.000 {built-in method posix.urandom}\n",
      "    20032    0.161    0.000    0.161    0.000 {built-in method zlib.crc32}\n",
      "        2    0.000    0.000    0.000    0.000 {built-in method zlib.decompressobj}\n",
      "        1    0.000    0.000    0.000    0.000 {function DecompressReader.close at 0x7fd4a8457378}\n",
      "       13    0.000    0.000    0.000    0.000 {method 'acquire' of '_thread.lock' objects}\n",
      "    25956    0.008    0.000    0.014    0.000 {method 'add' of 'set' objects}\n",
      "   472177    0.034    0.000    0.034    0.000 {method 'append' of 'list' objects}\n",
      "        2    0.000    0.000    0.001    0.000 {method 'close' of '_io.BufferedReader' objects}\n",
      "    16089    0.005    0.000    0.005    0.000 {method 'count' of 'list' objects}\n",
      "    12990    0.021    0.000    0.035    0.000 {method 'decode' of 'bytes' objects}\n",
      "    20030    0.447    0.000    0.447    0.000 {method 'decompress' of 'zlib.Decompress' objects}\n",
      "        1    0.000    0.000    0.000    0.000 {method 'disable' of '_lsprof.Profiler' objects}\n",
      "        2    0.000    0.000    0.000    0.000 {method 'end' of '_sre.SRE_Match' objects}\n",
      "        2    0.000    0.000    0.000    0.000 {method 'endswith' of 'str' objects}\n",
      "        2    0.000    0.000    0.000    0.000 {method 'extend' of 'list' objects}\n",
      "        1    0.000    0.000    0.000    0.000 {method 'fileno' of '_io.BufferedReader' objects}\n",
      "    12990    0.003    0.000    0.003    0.000 {method 'find' of 'str' objects}\n",
      "        6    0.000    0.000    0.000    0.000 {method 'get' of 'dict' objects}\n",
      "   495985    0.108    0.000    0.108    0.000 {method 'groups' of '_sre.SRE_Match' objects}\n",
      "        5    0.000    0.000    0.000    0.000 {method 'isalnum' of 'str' objects}\n",
      "   462280    0.058    0.000    0.058    0.000 {method 'items' of 'dict' objects}\n",
      "        9    0.000    0.000    0.000    0.000 {method 'join' of 'str' objects}\n",
      "     4652    0.004    0.000    0.004    0.000 {method 'keys' of 'dict' objects}\n",
      "   429546    0.050    0.000    0.050    0.000 {method 'lower' of 'str' objects}\n",
      "        2    0.000    0.000    0.000    0.000 {method 'match' of '_sre.SRE_Pattern' objects}\n",
      "    80445    0.019    0.000    0.019    0.000 {method 'pop' of 'dict' objects}\n",
      "  20068/4    0.101    0.000    0.829    0.207 {method 'read' of '_io.BufferedReader' objects}\n",
      "    51960    0.009    0.000    0.009    0.000 {method 'read' of '_io.BytesIO' objects}\n",
      "        1    0.000    0.000    0.000    0.000 {method 'read' of '_io.FileIO' objects}\n",
      "        1    0.016    0.016    0.908    0.908 {method 'read' of '_io.TextIOWrapper' objects}\n",
      "    48269    0.017    0.000    0.017    0.000 {method 'replace' of 'str' objects}\n",
      "    12990    0.002    0.000    0.002    0.000 {method 'rfind' of 'str' objects}\n",
      "        8    0.000    0.000    0.000    0.000 {method 'rpartition' of 'str' objects}\n",
      "    13003    0.002    0.000    0.002    0.000 {method 'rstrip' of 'str' objects}\n",
      "   495987    0.603    0.000    0.603    0.000 {method 'search' of '_sre.SRE_Pattern' objects}\n",
      "        4    0.000    0.000    0.000    0.000 {method 'seek' of '_io.BufferedReader' objects}\n",
      "   689301    0.277    0.000    0.277    0.000 {method 'split' of 'str' objects}\n",
      "        3    0.000    0.000    0.000    0.000 {method 'startswith' of 'str' objects}\n",
      "    16089    0.005    0.000    0.005    0.000 {method 'strip' of 'str' objects}\n",
      "        1    0.000    0.000    0.000    0.000 {method 'tell' of '_io.BufferedReader' objects}\n",
      "        1    0.000    0.000    0.000    0.000 {method 'update' of 'dict' objects}\n",
      "        3    0.000    0.000    0.000    0.000 {method 'values' of 'dict' objects}\n",
      "\n",
      "\n"
     ]
    }
   ],
   "source": [
    "cProfile.run('EA_j = lcatools.archive_from_json(os.path.join(CATALOG, EI32_A))')"
   ]
  },
  {
   "cell_type": "markdown",
   "metadata": {},
   "source": [
    "## Validate json allocated exchange integrity\n",
    "Someday I will actually start to run test-driven development. but not today.\n"
   ]
  },
  {
   "cell_type": "code",
   "execution_count": 136,
   "metadata": {
    "collapsed": false
   },
   "outputs": [],
   "source": [
    "def compare_all_exchanges(defender, contender):\n",
    "    failed = False\n",
    "    for x in defender.exchanges():\n",
    "        xj = contender._exchanges[x.key]\n",
    "        # if x in defender.reference_entity:\n",
    "        if x.value != xj.value:\n",
    "            if failed is False:\n",
    "                failed = True\n",
    "                defender.show()\n",
    "            print('Fail on reference %s' % x)\n",
    "        if x._value_dict != xj._value_dict:\n",
    "            if failed is False:\n",
    "                failed = True\n",
    "                defender.show()\n",
    "            print('fail on %s' % x)\n",
    "    return not failed"
   ]
  },
  {
   "cell_type": "code",
   "execution_count": 137,
   "metadata": {
    "collapsed": false
   },
   "outputs": [],
   "source": [
    "for p in EA.processes():\n",
    "    failed = []\n",
    "    json_p = EA_j[p.uuid]\n",
    "    if compare_all_exchanges(p, json_p) is False:\n",
    "        failed.append(p)\n"
   ]
  },
  {
   "cell_type": "code",
   "execution_count": 138,
   "metadata": {
    "collapsed": false
   },
   "outputs": [
    {
     "data": {
      "text/plain": [
       "[]"
      ]
     },
     "execution_count": 138,
     "metadata": {},
     "output_type": "execute_result"
    }
   ],
   "source": [
    "failed"
   ]
  },
  {
   "cell_type": "code",
   "execution_count": 139,
   "metadata": {
    "collapsed": false,
    "deletable": true,
    "editable": true
   },
   "outputs": [
    {
     "data": {
      "text/plain": [
       "11420"
      ]
     },
     "execution_count": 139,
     "metadata": {},
     "output_type": "execute_result"
    }
   ],
   "source": [
    "len(EA.processes())"
   ]
  },
  {
   "cell_type": "code",
   "execution_count": 140,
   "metadata": {
    "collapsed": false,
    "deletable": true,
    "editable": true
   },
   "outputs": [],
   "source": [
    "ps = EA.search(entity_type='process', Name='yogurt')"
   ]
  },
  {
   "cell_type": "code",
   "execution_count": 141,
   "metadata": {
    "collapsed": false,
    "deletable": true,
    "editable": true
   },
   "outputs": [
    {
     "data": {
      "text/plain": [
       "True"
      ]
     },
     "execution_count": 141,
     "metadata": {},
     "output_type": "execute_result"
    }
   ],
   "source": [
    "str(ps[0]) == 'yogurt production, from cow milk [CA-QC]'"
   ]
  },
  {
   "cell_type": "code",
   "execution_count": 142,
   "metadata": {
    "collapsed": false,
    "deletable": true,
    "editable": true
   },
   "outputs": [],
   "source": [
    "p = ps[0]"
   ]
  },
  {
   "cell_type": "code",
   "execution_count": 143,
   "metadata": {
    "collapsed": false,
    "deletable": true,
    "editable": true
   },
   "outputs": [
    {
     "data": {
      "text/plain": [
       "True"
      ]
     },
     "execution_count": 143,
     "metadata": {},
     "output_type": "execute_result"
    }
   ],
   "source": [
    "p.get_uuid() == '580dc5e1-8866-4caa-848e-456476fde542'"
   ]
  },
  {
   "cell_type": "code",
   "execution_count": 144,
   "metadata": {
    "collapsed": false,
    "deletable": true,
    "editable": true
   },
   "outputs": [
    {
     "name": "stdout",
     "output_type": "stream",
     "text": [
      "yogurt production, from cow milk [CA-QC] has Output: cheese, from cow milk, fresh, unripened [By-product classification: allocatable product] [kg]\n",
      "yogurt production, from cow milk [CA-QC] has Output: cream, from cow milk [By-product classification: allocatable product] [kg]\n",
      "yogurt production, from cow milk [CA-QC] has Output: yogurt, from cow milk [By-product classification: allocatable product] [kg]\n"
     ]
    }
   ],
   "source": [
    "for x in p.reference_entity:\n",
    "    print(str(x))"
   ]
  },
  {
   "cell_type": "code",
   "execution_count": 145,
   "metadata": {
    "collapsed": true,
    "deletable": true,
    "editable": true
   },
   "outputs": [],
   "source": [
    "yog = p.find_reference('yogurt')"
   ]
  },
  {
   "cell_type": "code",
   "execution_count": 146,
   "metadata": {
    "collapsed": false,
    "deletable": true,
    "editable": true
   },
   "outputs": [
    {
     "data": {
      "text/plain": [
       "<lcatools.exchanges.ExchangeValue at 0x7f59351764e0>"
      ]
     },
     "execution_count": 146,
     "metadata": {},
     "output_type": "execute_result"
    }
   ],
   "source": [
    "yog"
   ]
  },
  {
   "cell_type": "code",
   "execution_count": 147,
   "metadata": {
    "collapsed": true,
    "deletable": true,
    "editable": true
   },
   "outputs": [],
   "source": [
    "import cProfile"
   ]
  },
  {
   "cell_type": "code",
   "execution_count": 64,
   "metadata": {
    "collapsed": true,
    "deletable": true,
    "editable": true
   },
   "outputs": [],
   "source": [
    "import importlib"
   ]
  },
  {
   "cell_type": "code",
   "execution_count": 119,
   "metadata": {
    "collapsed": false,
    "deletable": true,
    "editable": true
   },
   "outputs": [
    {
     "data": {
      "text/plain": [
       "<module 'lcamatrix.background' from '../lcamatrix/background.py'>"
      ]
     },
     "execution_count": 119,
     "metadata": {},
     "output_type": "execute_result"
    }
   ],
   "source": [
    "importlib.reload(lcamatrix.background)"
   ]
  },
  {
   "cell_type": "code",
   "execution_count": 120,
   "metadata": {
    "collapsed": false,
    "deletable": true,
    "editable": true
   },
   "outputs": [],
   "source": [
    "from lcamatrix.background import BackgroundManager"
   ]
  },
  {
   "cell_type": "code",
   "execution_count": 148,
   "metadata": {
    "collapsed": false,
    "deletable": true,
    "editable": true
   },
   "outputs": [],
   "source": [
    "B = BackgroundManager(EA)"
   ]
  },
  {
   "cell_type": "code",
   "execution_count": 151,
   "metadata": {
    "collapsed": false
   },
   "outputs": [],
   "source": [
    "## and it's even faster without the profiler ~~ 10 secs to add ALL product flows and construct matrices!\n",
    "#14.801 - 4.481 - 2.799(1.430) - 0.769 -0.344 - 0.599 - 0.67 - 0.560 - 0.360  ### process _exchanges key; ditch from_allocated; other extensive optimizations\n",
    "## ^^major work exchanges--> exchanges.__getitem__\n",
    "#22.832 -11.135 - 3.813(1.979) - 2.279(0.369) - 1.159 - 0.92 - 0.859 - 0.404  ### take out sorting from process.exchanges(); take out unit from exchange.__init__\n",
    "#22.558 -11.126 - 3.622(1.884) - 2.437(0.358) - 1.128 - 0.91 - 0.781 - 0.378  ### finish out the static exchange hash- ffs\n",
    "#26.739 -15.131 - 3.843(2.022) - 1.982(0.369) - 1.235 - 0.97 - 0.830 - 0.435  ### take 3 on try:except, with prior - better\n",
    "#26.839 -14.975 - 4.122(2.014) - 2.005(0.366) - 1.234 - 0.97 - 0.817 - 0.437  ### uuid key AGAIN! in _terminations\n",
    "#28.251 -15.266 - 4.520(2.107) - 2.086(0.395) - 1.278 - 1.38 - 0.869 - 0.446  ### nope nope nope no effect.\n",
    "#28.561 -15.826 - 4.640()  ### revert try:except, make resolve_termination static class method\n",
    "#27.160 -14.882 - 4.193(1.999) - 2.334(0.388) - 1.224 - 0.97 - 0.826 - 0.444  ### finish lowlink rework\n",
    "#27.156 -14.465 - 4.151(2.002) - 1.967(0.348) - 1.229 - 1.89 - 0.803 - 0.422  ### static exchange hash -- full reload\n",
    "#32.509 -19.952 - 4.197(2.004) - 2.021(0.378) - 1.165 - xxxx - 0.835 - 0.461  ### _lowlink and index key use\n",
    "#32.909 -20.001 - 4.144(1.985) - 2.227(0.377) - 1.168 - 1.20 - 0.836 - 0.469  ### fix Emission._hash!!\n",
    "#34.984 -19.904 - 4.300(2.027) - 3.845(2.160) - 1.184 - 1.53 - 0.848 - 0.457  ### get uuid.UUID out of to_uuid (except when required)-- full reload \n",
    "#37.140 -19.265 - 7.578(5.410) - 3.750(2.086) - 1.214 - 1.15 - 0.880 - 0.436  ### try:except KeyError in terminate\n",
    "#36.769 -18.346 - 7.249(4.893) - 4.784(2.854) - 1.217 - 1.12 - 0.842 - 0.418  ### cache cutoffs in _terminations\n",
    "#36.420 -19.178 - 6.907        - 4.038(2.402) - 1.173 - 1.13 - 0.837 - 0.428  ## pf / ef keys to tuples\n",
    "#37.782 - 19.522 - 7.111 - 3.904 - 1.211 - 1.16 - 2.217 - 0.453 \n",
    "# _traverse - exchanges - terminate(__getitem__) - add_cutoff(_add_emission) - add_interior - _set_lowlink - _check_product_flow - _create_product_flow\n",
    "# leaves remainder:"
   ]
  },
  {
   "cell_type": "code",
   "execution_count": 149,
   "metadata": {
    "collapsed": false,
    "deletable": true,
    "editable": true,
    "scrolled": true
   },
   "outputs": [
    {
     "name": "stdout",
     "output_type": "stream",
     "text": [
      "         37914055 function calls (37903508 primitive calls) in 18.514 seconds\n",
      "\n",
      "   Ordered by: standard name\n",
      "\n",
      "   ncalls  tottime  percall  cumtime  percall filename:lineno(function)\n",
      "        4    0.000    0.000    0.000    0.000 <frozen importlib._bootstrap>:402(parent)\n",
      "        4    0.000    0.000    0.000    0.000 <frozen importlib._bootstrap>:989(_handle_fromlist)\n",
      "        1    0.000    0.000   18.514   18.514 <string>:1(<module>)\n",
      "   603227    0.216    0.000    0.478    0.000 <string>:12(__new__)\n",
      "        4    0.000    0.000    0.001    0.000 _methods.py:25(_amax)\n",
      "        4    0.000    0.000    0.001    0.000 _methods.py:28(_amin)\n",
      "   251199    0.173    0.000    0.327    0.000 background.py:102(check_stack)\n",
      "    10283    0.016    0.000    0.044    0.000 background.py:109(add_to_stack)\n",
      "      263    0.014    0.000    0.034    0.000 background.py:117(label_scc)\n",
      "        1    0.000    0.000    0.009    0.009 background.py:132(_set_background)\n",
      "    262/1    0.000    0.000    0.000    0.000 background.py:144(_set_downstream)\n",
      "        1    0.001    0.001    0.009    0.009 background.py:160(_generate_bg_index)\n",
      "        1    0.003    0.003    0.006    0.006 background.py:164(<listcomp>)\n",
      "    10283    0.001    0.000    0.001    0.000 background.py:165(<genexpr>)\n",
      "        1    0.242    0.242    0.651    0.651 background.py:167(add_to_graph)\n",
      "        1    0.000    0.000    0.000    0.000 background.py:179(background)\n",
      "        2    0.000    0.000    0.000    0.000 background.py:183(ndim)\n",
      "    10283    0.001    0.000    0.001    0.000 background.py:219(background_flows)\n",
      "   854366    0.136    0.000    0.136    0.000 background.py:232(bg_dict)\n",
      "  1206426    0.156    0.000    0.156    0.000 background.py:235(is_background)\n",
      "   502396    0.182    0.000    0.363    0.000 background.py:244(scc_id)\n",
      "      262    0.000    0.000    0.000    0.000 background.py:250(scc)\n",
      "    10283    0.062    0.000    0.241    0.000 background.py:268(__init__)\n",
      "    10283    0.018    0.000    0.063    0.000 background.py:289(<listcomp>)\n",
      "   794727    0.244    0.000    0.351    0.000 background.py:313(__hash__)\n",
      "  2091640    0.236    0.000    0.236    0.000 background.py:316(index)\n",
      "  1060408    0.121    0.000    0.121    0.000 background.py:321(key)\n",
      "    10283    0.002    0.000    0.002    0.000 background.py:329(flow)\n",
      "   820768    0.110    0.000    0.110    0.000 background.py:333(process)\n",
      "   603227    0.109    0.000    0.109    0.000 background.py:337(inbound_ev)\n",
      "     1878    0.004    0.000    0.004    0.000 background.py:350(__init__)\n",
      "   352026    0.043    0.000    0.043    0.000 background.py:379(index)\n",
      "     1878    0.000    0.000    0.000    0.000 background.py:383(key)\n",
      "        1    0.000    0.000    0.000    0.000 background.py:437(required_recursion_limit)\n",
      "   249810    0.115    0.000    0.146    0.000 background.py:441(index)\n",
      "   240916    0.072    0.000    0.072    0.000 background.py:444(product_flow)\n",
      "   270111    0.104    0.000    0.133    0.000 background.py:447(_lowlink)\n",
      "    10283    0.029    0.000    0.092    0.000 background.py:450(_add_product_flow)\n",
      "   259829    0.352    0.000    0.667    0.000 background.py:456(_set_lowlink)\n",
      "   251199    0.384    0.000    0.560    0.000 background.py:468(_check_product_flow)\n",
      "    10283    0.025    0.000    0.360    0.000 background.py:484(_create_product_flow)\n",
      "   352029    0.296    0.000    0.344    0.000 background.py:490(_add_emission)\n",
      "   603227    1.043    0.000    2.799    0.000 background.py:511(terminate)\n",
      "        1    0.030    0.030    1.243    1.243 background.py:534(_construct_b_matrix)\n",
      "        1    0.523    0.523    0.733    0.733 background.py:542(<listcomp>)\n",
      "        1    0.167    0.167    0.246    0.246 background.py:546(<listcomp>)\n",
      "        1    0.010    0.010    1.421    1.421 background.py:548(_construct_a_matrix)\n",
      "        1    1.016    1.016    1.234    1.234 background.py:550(<listcomp>)\n",
      "        1    0.271    0.271    3.712    3.712 background.py:555(_update_component_graph)\n",
      "        1    0.000    0.000   18.513   18.513 background.py:576(add_ref_product)\n",
      "        1    0.000    0.000   14.801   14.801 background.py:597(_add_ref_product)\n",
      "  10283/1    2.526    0.000   14.801   14.801 background.py:607(_traverse_term_exchanges)\n",
      "    10144    0.096    0.000    0.192    0.000 background.py:625(<listcomp>)\n",
      "   352029    0.381    0.000    0.769    0.000 background.py:663(add_cutoff)\n",
      "   251198    0.335    0.000    0.599    0.000 background.py:673(add_interior)\n",
      "        6    0.000    0.000    0.000    0.000 base.py:1081(isspmatrix)\n",
      "       32    0.000    0.000    0.000    0.000 base.py:181(nnz)\n",
      "        2    0.000    0.000    0.169    0.085 base.py:236(asformat)\n",
      "        8    0.000    0.000    0.000    0.000 base.py:70(__init__)\n",
      "       10    0.000    0.000    0.000    0.000 base.py:77(set_shape)\n",
      "       30    0.000    0.000    0.000    0.000 base.py:99(get_shape)\n",
      "        6    0.000    0.000    0.000    0.000 compressed.py:1021(prune)\n",
      "        4    0.000    0.000    0.000    0.000 compressed.py:116(_set_self)\n",
      "        6    0.000    0.000    0.000    0.000 compressed.py:127(check_format)\n",
      "      6/2    0.000    0.000    0.175    0.087 compressed.py:24(__init__)\n",
      "       24    0.000    0.000    0.000    0.000 compressed.py:99(getnnz)\n",
      "        2    0.000    0.000    0.005    0.002 coo.py:118(__init__)\n",
      "        8    0.000    0.000    0.000    0.000 coo.py:186(getnnz)\n",
      "        2    0.000    0.000    0.002    0.001 coo.py:212(_check)\n",
      "        2    0.000    0.000    0.169    0.085 coo.py:261(tocsc)\n",
      "        2    0.000    0.000    0.166    0.083 coo.py:449(sum_duplicates)\n",
      "        2    0.010    0.005    0.166    0.083 coo.py:460(_sum_duplicates)\n",
      "       18    0.000    0.000    0.000    0.000 csc.py:215(_swap)\n",
      "        8    0.000    0.000    0.000    0.000 data.py:22(__init__)\n",
      "        4    0.000    0.000    0.000    0.000 data.py:25(_get_dtype)\n",
      "    41797    0.065    0.000    0.100    0.000 entities.py:239(__eq__)\n",
      "   312896    0.090    0.000    0.090    0.000 entities.py:54(origin)\n",
      "    83594    0.017    0.000    0.017    0.000 entities.py:79(get_external_ref)\n",
      "  1239183    0.225    0.000    0.225    0.000 entities.py:97(uuid)\n",
      "   854425    0.109    0.000    0.109    0.000 exchanges.py:101(termination)\n",
      "  2879457    0.408    0.000    0.408    0.000 exchanges.py:105(key)\n",
      "  3200083    0.872    0.000    1.350    0.000 exchanges.py:109(__hash__)\n",
      "  1424304    1.072    0.000    1.670    0.000 exchanges.py:112(__eq__)\n",
      "    10283    0.004    0.000    0.004    0.000 exchanges.py:208(value)\n",
      "    30986    0.019    0.000    0.042    0.000 exchanges.py:234(is_allocated)\n",
      "   775726    1.790    0.000    4.481    0.000 exchanges.py:237(__getitem__)\n",
      "  1551452    0.190    0.000    0.190    0.000 exchanges.py:89(process)\n",
      "  1007336    0.155    0.000    0.155    0.000 exchanges.py:93(flow)\n",
      "   965539    0.122    0.000    0.122    0.000 exchanges.py:97(direction)\n",
      "        2    0.000    0.000    0.000    0.000 fromnumeric.py:1364(ravel)\n",
      "        2    0.000    0.000    0.001    0.001 fromnumeric.py:1471(nonzero)\n",
      "        2    0.000    0.000    0.001    0.001 fromnumeric.py:55(_wrapfunc)\n",
      "        2    0.000    0.000    0.000    0.000 function_base.py:4951(append)\n",
      "       14    0.000    0.000    0.000    0.000 getlimits.py:250(__init__)\n",
      "       14    0.000    0.000    0.000    0.000 getlimits.py:275(max)\n",
      "   251198    0.394    0.000    1.314    0.000 interfaces.py:119(_get_entity)\n",
      "   251198    0.116    0.000    1.430    0.000 interfaces.py:144(__getitem__)\n",
      "   251198    0.284    0.000    0.741    0.000 interfaces.py:29(to_uuid)\n",
      "   251198    0.098    0.000    0.838    0.000 interfaces.py:54(_key_to_id)\n",
      "       44    0.000    0.000    0.000    0.000 numeric.py:463(asarray)\n",
      "        4    0.000    0.000    0.000    0.000 numeric.py:534(asanyarray)\n",
      "   800202    0.093    0.000    0.096    0.000 processes.py:176(exchanges)\n",
      "    20566    0.059    0.000    0.144    0.000 processes.py:207(find_reference)\n",
      "    20566    0.017    0.000    0.048    0.000 processes.py:222(<genexpr>)\n",
      "    20566    0.031    0.000    0.066    0.000 processes.py:244(references)\n",
      "    10283    0.024    0.000    0.105    0.000 processes.py:252(reference)\n",
      "    10283    0.010    0.000    0.076    0.000 processes.py:255(<listcomp>)\n",
      "    20427    0.067    0.000    0.204    0.000 processes.py:288(is_allocated)\n",
      "       14    0.000    0.000    0.000    0.000 sputils.py:119(get_index_dtype)\n",
      "        4    0.000    0.000    0.000    0.000 sputils.py:188(isintlike)\n",
      "        2    0.000    0.000    0.000    0.000 sputils.py:20(upcast)\n",
      "        6    0.000    0.000    0.000    0.000 sputils.py:200(isshape)\n",
      "        4    0.000    0.000    0.000    0.000 sputils.py:215(issequence)\n",
      "        8    0.000    0.000    0.000    0.000 sputils.py:91(to_native)\n",
      "   603227    0.262    0.000    0.262    0.000 {built-in method __new__ of type object at 0x7f599242abe0}\n",
      "        1    0.000    0.000   18.514   18.514 {built-in method builtins.exec}\n",
      "        4    0.000    0.000    0.000    0.000 {built-in method builtins.getattr}\n",
      "        4    0.000    0.000    0.000    0.000 {built-in method builtins.hasattr}\n",
      "  3994812    0.585    0.000    0.585    0.000 {built-in method builtins.hash}\n",
      "  1789316    0.283    0.000    0.283    0.000 {built-in method builtins.isinstance}\n",
      "   676115    0.070    0.000    0.070    0.000 {built-in method builtins.len}\n",
      "        8    0.000    0.000    0.000    0.000 {built-in method builtins.max}\n",
      "   249546    0.136    0.000    0.136    0.000 {built-in method builtins.min}\n",
      "    10283    0.005    0.000    0.048    0.000 {built-in method builtins.next}\n",
      "       62    0.239    0.004    0.239    0.004 {built-in method numpy.core.multiarray.array}\n",
      "        2    0.000    0.000    0.000    0.000 {built-in method numpy.core.multiarray.concatenate}\n",
      "        4    0.000    0.000    0.000    0.000 {built-in method numpy.core.multiarray.empty_like}\n",
      "        2    0.000    0.000    0.000    0.000 {built-in method numpy.core.multiarray.empty}\n",
      "        2    0.149    0.074    0.149    0.074 {built-in method numpy.core.multiarray.lexsort}\n",
      "        2    0.003    0.002    0.003    0.002 {built-in method scipy.sparse._sparsetools.coo_tocsr}\n",
      "        1    0.000    0.000    0.000    0.000 {built-in method sys.getrecursionlimit}\n",
      "        2    0.000    0.000    0.000    0.000 {built-in method sys.setrecursionlimit}\n",
      "   523223    0.044    0.000    0.052    0.000 {method 'add' of 'set' objects}\n",
      "   909733    0.091    0.000    0.091    0.000 {method 'append' of 'list' objects}\n",
      "        4    0.000    0.000    0.000    0.000 {method 'astype' of 'numpy.ndarray' objects}\n",
      "        1    0.000    0.000    0.000    0.000 {method 'disable' of '_lsprof.Profiler' objects}\n",
      "        2    0.000    0.000    0.000    0.000 {method 'get' of 'dict' objects}\n",
      "   251198    0.055    0.000    0.055    0.000 {method 'groups' of '_sre.SRE_Match' objects}\n",
      "        1    0.000    0.000    0.000    0.000 {method 'items' of 'dict' objects}\n",
      "        4    0.000    0.000    0.001    0.000 {method 'max' of 'numpy.ndarray' objects}\n",
      "        4    0.000    0.000    0.001    0.000 {method 'min' of 'numpy.ndarray' objects}\n",
      "        8    0.000    0.000    0.000    0.000 {method 'newbyteorder' of 'numpy.dtype' objects}\n",
      "        2    0.001    0.001    0.001    0.001 {method 'nonzero' of 'numpy.ndarray' objects}\n",
      "   261481    0.027    0.000    0.027    0.000 {method 'pop' of 'list' objects}\n",
      "        4    0.000    0.000    0.000    0.000 {method 'ravel' of 'numpy.ndarray' objects}\n",
      "        8    0.002    0.000    0.002    0.000 {method 'reduce' of 'numpy.ufunc' objects}\n",
      "        2    0.005    0.002    0.005    0.002 {method 'reduceat' of 'numpy.ufunc' objects}\n",
      "    10283    0.004    0.000    0.009    0.000 {method 'remove' of 'set' objects}\n",
      "        4    0.000    0.000    0.000    0.000 {method 'rpartition' of 'str' objects}\n",
      "   251198    0.339    0.000    0.339    0.000 {method 'search' of '_sre.SRE_Pattern' objects}\n",
      "    20427    0.004    0.000    0.004    0.000 {method 'values' of 'dict' objects}\n",
      "\n",
      "\n"
     ]
    }
   ],
   "source": [
    "cProfile.run('B.add_ref_product(yog.flow, p)')"
   ]
  },
  {
   "cell_type": "code",
   "execution_count": 121,
   "metadata": {
    "collapsed": false
   },
   "outputs": [],
   "source": [
    "Bj = BackgroundManager(EA_j)"
   ]
  },
  {
   "cell_type": "code",
   "execution_count": 122,
   "metadata": {
    "collapsed": false
   },
   "outputs": [
    {
     "name": "stdout",
     "output_type": "stream",
     "text": [
      "CPU times: user 10.9 s, sys: 30 ms, total: 10.9 s\n",
      "Wall time: 10.9 s\n"
     ]
    }
   ],
   "source": [
    "%time Bj.add_all_ref_products()"
   ]
  },
  {
   "cell_type": "code",
   "execution_count": 123,
   "metadata": {
    "collapsed": false
   },
   "outputs": [
    {
     "data": {
      "text/plain": [
       "58500"
      ]
     },
     "execution_count": 123,
     "metadata": {},
     "output_type": "execute_result"
    }
   ],
   "source": [
    "len(Bj._cutoff)"
   ]
  },
  {
   "cell_type": "code",
   "execution_count": 124,
   "metadata": {
    "collapsed": false
   },
   "outputs": [
    {
     "data": {
      "text/plain": [
       "10282"
      ]
     },
     "execution_count": 124,
     "metadata": {},
     "output_type": "execute_result"
    }
   ],
   "source": [
    "len([b for b in Bj.tstack.background_flows()])"
   ]
  },
  {
   "cell_type": "code",
   "execution_count": 125,
   "metadata": {
    "collapsed": false
   },
   "outputs": [
    {
     "data": {
      "text/plain": [
       "[10021,\n",
       " 6,\n",
       " 6,\n",
       " 6,\n",
       " 6,\n",
       " 5,\n",
       " 5,\n",
       " 3,\n",
       " 1,\n",
       " 1,\n",
       " 1,\n",
       " 1,\n",
       " 1,\n",
       " 1,\n",
       " 1,\n",
       " 1,\n",
       " 1,\n",
       " 1,\n",
       " 1,\n",
       " 1,\n",
       " 1,\n",
       " 1,\n",
       " 1,\n",
       " 1,\n",
       " 1,\n",
       " 1,\n",
       " 1,\n",
       " 1,\n",
       " 1,\n",
       " 1]"
      ]
     },
     "execution_count": 125,
     "metadata": {},
     "output_type": "execute_result"
    }
   ],
   "source": [
    "sorted([len(scc) for k, scc in Bj.tstack._sccs.items()], reverse=True)[:30]"
   ]
  },
  {
   "cell_type": "code",
   "execution_count": 126,
   "metadata": {
    "collapsed": false
   },
   "outputs": [
    {
     "data": {
      "text/plain": [
       "261"
      ]
     },
     "execution_count": 126,
     "metadata": {},
     "output_type": "execute_result"
    }
   ],
   "source": [
    "len(Bj.tstack._downstream)"
   ]
  },
  {
   "cell_type": "code",
   "execution_count": 127,
   "metadata": {
    "collapsed": false
   },
   "outputs": [
    {
     "data": {
      "text/plain": [
       "12966"
      ]
     },
     "execution_count": 127,
     "metadata": {},
     "output_type": "execute_result"
    }
   ],
   "source": [
    "len(Bj._product_flows)"
   ]
  },
  {
   "cell_type": "code",
   "execution_count": 128,
   "metadata": {
    "collapsed": false
   },
   "outputs": [
    {
     "data": {
      "text/plain": [
       "251170"
      ]
     },
     "execution_count": 128,
     "metadata": {},
     "output_type": "execute_result"
    }
   ],
   "source": [
    "len(Bj._interior)"
   ]
  },
  {
   "cell_type": "code",
   "execution_count": 129,
   "metadata": {
    "collapsed": false
   },
   "outputs": [
    {
     "data": {
      "text/plain": [
       "251170"
      ]
     },
     "execution_count": 129,
     "metadata": {},
     "output_type": "execute_result"
    }
   ],
   "source": [
    "Bj._a_matrix.nnz"
   ]
  },
  {
   "cell_type": "code",
   "execution_count": 130,
   "metadata": {
    "collapsed": false
   },
   "outputs": [
    {
     "data": {
      "text/plain": [
       "27605"
      ]
     },
     "execution_count": 130,
     "metadata": {},
     "output_type": "execute_result"
    }
   ],
   "source": [
    "278775 - 251170"
   ]
  },
  {
   "cell_type": "code",
   "execution_count": 131,
   "metadata": {
    "collapsed": false
   },
   "outputs": [
    {
     "data": {
      "text/plain": [
       "27605"
      ]
     },
     "execution_count": 131,
     "metadata": {},
     "output_type": "execute_result"
    }
   ],
   "source": [
    "len(Bj._foreground)"
   ]
  },
  {
   "cell_type": "code",
   "execution_count": 132,
   "metadata": {
    "collapsed": true
   },
   "outputs": [],
   "source": [
    "fg = [f for f in Bj.tstack.foreground_flows()]"
   ]
  },
  {
   "cell_type": "code",
   "execution_count": 133,
   "metadata": {
    "collapsed": false
   },
   "outputs": [
    {
     "data": {
      "text/plain": [
       "2654"
      ]
     },
     "execution_count": 133,
     "metadata": {},
     "output_type": "execute_result"
    }
   ],
   "source": [
    "len(fg)"
   ]
  },
  {
   "cell_type": "code",
   "execution_count": 72,
   "metadata": {
    "collapsed": false
   },
   "outputs": [
    {
     "data": {
      "text/plain": [
       "958"
      ]
     },
     "execution_count": 72,
     "metadata": {},
     "output_type": "execute_result"
    }
   ],
   "source": [
    "fgo = [f for f in Bj.tstack.foreground_flows(outputs=True)]\n",
    "len(fgo)"
   ]
  },
  {
   "cell_type": "code",
   "execution_count": 89,
   "metadata": {
    "collapsed": false
   },
   "outputs": [
    {
     "name": "stdout",
     "output_type": "stream",
     "text": [
      "CPU times: user 6.67 ms, sys: 0 ns, total: 6.67 ms\n",
      "Wall time: 5 ms\n"
     ]
    }
   ],
   "source": [
    "%time fg_size = [len(Bj.tstack.foreground(k)) for k in fgo]"
   ]
  },
  {
   "cell_type": "code",
   "execution_count": 90,
   "metadata": {
    "collapsed": false
   },
   "outputs": [
    {
     "data": {
      "text/plain": [
       "43"
      ]
     },
     "execution_count": 90,
     "metadata": {},
     "output_type": "execute_result"
    }
   ],
   "source": [
    "max(fg_size)"
   ]
  },
  {
   "cell_type": "code",
   "execution_count": 91,
   "metadata": {
    "collapsed": false
   },
   "outputs": [
    {
     "data": {
      "text/plain": [
       "735"
      ]
     },
     "execution_count": 91,
     "metadata": {},
     "output_type": "execute_result"
    }
   ],
   "source": [
    "fg_size.index(max(fg_size))"
   ]
  },
  {
   "cell_type": "code",
   "execution_count": 92,
   "metadata": {
    "collapsed": false
   },
   "outputs": [],
   "source": [
    "fg_tree = Bj.tstack.foreground(fgo[735])"
   ]
  },
  {
   "cell_type": "code",
   "execution_count": 93,
   "metadata": {
    "collapsed": false
   },
   "outputs": [
    {
     "data": {
      "text/plain": [
       "['market for operation, computer, desktop, home use',\n",
       " 'operation, computer, desktop, with liquid crystal display, home use',\n",
       " 'operation, computer, desktop, with liquid crystal display, home use',\n",
       " 'operation, computer, desktop, with cathode ray tube display, home use',\n",
       " 'operation, computer, desktop, with liquid crystal display, home use',\n",
       " 'operation, computer, desktop, with cathode ray tube display, home use',\n",
       " 'operation, computer, desktop, with cathode ray tube display, home use',\n",
       " 'operation, computer, desktop, with cathode ray tube display, home use',\n",
       " 'operation, computer, desktop, with liquid crystal display, home use',\n",
       " 'operation, computer, desktop, with liquid crystal display, active mode',\n",
       " 'operation, computer, desktop, with liquid crystal display, off mode',\n",
       " 'operation, computer, desktop, with liquid crystal display, standby mode',\n",
       " 'market for operation, computer, desktop, with liquid crystal display, active mode',\n",
       " 'market for operation, computer, desktop, with liquid crystal display, off mode',\n",
       " 'market for operation, computer, desktop, with liquid crystal display, standby mode',\n",
       " 'operation, computer, desktop, with cathode ray tube display, active mode',\n",
       " 'operation, computer, desktop, with cathode ray tube display, off mode',\n",
       " 'operation, computer, desktop, with cathode ray tube display, standby mode',\n",
       " 'operation, computer, desktop, with cathode ray tube display, active mode',\n",
       " 'operation, computer, desktop, with cathode ray tube display, off mode',\n",
       " 'operation, computer, desktop, with cathode ray tube display, standby mode',\n",
       " 'market for operation, computer, desktop, with cathode ray tube display, off mode',\n",
       " 'market for operation, computer, desktop, with cathode ray tube display, active mode',\n",
       " 'market for operation, computer, desktop, with cathode ray tube display, standby mode',\n",
       " 'operation, computer, desktop, with liquid crystal display, active mode',\n",
       " 'operation, computer, desktop, with liquid crystal display, standby mode',\n",
       " 'operation, computer, desktop, with liquid crystal display, off mode',\n",
       " 'operation, computer, desktop, with liquid crystal display, active mode',\n",
       " 'operation, computer, desktop, with liquid crystal display, active mode',\n",
       " 'operation, computer, desktop, with liquid crystal display, off mode',\n",
       " 'operation, computer, desktop, with liquid crystal display, off mode',\n",
       " 'operation, computer, desktop, with liquid crystal display, standby mode',\n",
       " 'operation, computer, desktop, with liquid crystal display, standby mode',\n",
       " 'market for display, cathode ray tube, 17 inches',\n",
       " 'operation, computer, desktop, with cathode ray tube display, off mode',\n",
       " 'operation, computer, desktop, with cathode ray tube display, off mode',\n",
       " 'operation, computer, desktop, with cathode ray tube display, active mode',\n",
       " 'operation, computer, desktop, with cathode ray tube display, active mode',\n",
       " 'operation, computer, desktop, with cathode ray tube display, standby mode',\n",
       " 'operation, computer, desktop, with cathode ray tube display, standby mode',\n",
       " 'display production, cathode ray tube, 17 inches',\n",
       " 'market for cathode-ray tube, cathode ray tube display',\n",
       " 'cathode-ray tube production, cathode ray tube display']"
      ]
     },
     "execution_count": 93,
     "metadata": {},
     "output_type": "execute_result"
    }
   ],
   "source": [
    "[Bj.product_flow(k).process['Name'] for k in fg_tree]"
   ]
  },
  {
   "cell_type": "code",
   "execution_count": null,
   "metadata": {
    "collapsed": true
   },
   "outputs": [],
   "source": []
  },
  {
   "cell_type": "code",
   "execution_count": 42,
   "metadata": {
    "collapsed": false
   },
   "outputs": [
    {
     "ename": "KeyboardInterrupt",
     "evalue": "",
     "output_type": "error",
     "traceback": [
      "\u001b[0;31m---------------------------------------------------------------------------\u001b[0m",
      "\u001b[0;31mKeyboardInterrupt\u001b[0m                         Traceback (most recent call last)",
      "\u001b[0;32m<ipython-input-42-1da5aef886db>\u001b[0m in \u001b[0;36m<module>\u001b[0;34m()\u001b[0m\n\u001b[0;32m----> 1\u001b[0;31m \u001b[0mlen\u001b[0m\u001b[0;34m(\u001b[0m\u001b[0mBj\u001b[0m\u001b[0;34m.\u001b[0m\u001b[0mtstack\u001b[0m\u001b[0;34m.\u001b[0m\u001b[0mforeground\u001b[0m\u001b[0;34m(\u001b[0m\u001b[0mfgo\u001b[0m\u001b[0;34m[\u001b[0m\u001b[0;36m63\u001b[0m\u001b[0;34m]\u001b[0m\u001b[0;34m)\u001b[0m\u001b[0;34m)\u001b[0m\u001b[0;34m\u001b[0m\u001b[0m\n\u001b[0m",
      "\u001b[0;32m/data/GitHub/lca-matrix/lcamatrix/background.py\u001b[0m in \u001b[0;36mforeground\u001b[0;34m(self, index)\u001b[0m\n\u001b[1;32m    195\u001b[0m             \u001b[0mcurrent\u001b[0m \u001b[0;34m=\u001b[0m \u001b[0mqueue\u001b[0m\u001b[0;34m.\u001b[0m\u001b[0mpop\u001b[0m\u001b[0;34m(\u001b[0m\u001b[0;36m0\u001b[0m\u001b[0;34m)\u001b[0m\u001b[0;34m\u001b[0m\u001b[0m\n\u001b[1;32m    196\u001b[0m             \u001b[0;32mif\u001b[0m \u001b[0mcurrent\u001b[0m \u001b[0;32mnot\u001b[0m \u001b[0;32min\u001b[0m \u001b[0mqueue\u001b[0m\u001b[0;34m:\u001b[0m\u001b[0;34m\u001b[0m\u001b[0m\n\u001b[0;32m--> 197\u001b[0;31m                 \u001b[0mqueue\u001b[0m\u001b[0;34m.\u001b[0m\u001b[0mextend\u001b[0m\u001b[0;34m(\u001b[0m\u001b[0;34m[\u001b[0m\u001b[0mk\u001b[0m \u001b[0;32mfor\u001b[0m \u001b[0mk\u001b[0m \u001b[0;32min\u001b[0m \u001b[0mself\u001b[0m\u001b[0;34m.\u001b[0m\u001b[0m_component_rows_by_col\u001b[0m\u001b[0;34m[\u001b[0m\u001b[0mcurrent\u001b[0m\u001b[0;34m]\u001b[0m \u001b[0;32mif\u001b[0m \u001b[0;32mnot\u001b[0m \u001b[0mself\u001b[0m\u001b[0;34m.\u001b[0m\u001b[0mis_background\u001b[0m\u001b[0;34m(\u001b[0m\u001b[0mk\u001b[0m\u001b[0;34m)\u001b[0m\u001b[0;34m]\u001b[0m\u001b[0;34m)\u001b[0m\u001b[0;34m\u001b[0m\u001b[0m\n\u001b[0m\u001b[1;32m    198\u001b[0m                 \u001b[0mfg\u001b[0m\u001b[0;34m.\u001b[0m\u001b[0mappend\u001b[0m\u001b[0;34m(\u001b[0m\u001b[0mcurrent\u001b[0m\u001b[0;34m)\u001b[0m\u001b[0;34m\u001b[0m\u001b[0m\n\u001b[1;32m    199\u001b[0m         \u001b[0;32mreturn\u001b[0m \u001b[0mfg\u001b[0m\u001b[0;34m\u001b[0m\u001b[0m\n",
      "\u001b[0;31mKeyboardInterrupt\u001b[0m: "
     ]
    }
   ],
   "source": [
    "len(Bj.tstack.foreground(fgo[63]))"
   ]
  },
  {
   "cell_type": "code",
   "execution_count": 45,
   "metadata": {
    "collapsed": false
   },
   "outputs": [],
   "source": [
    "from time import sleep"
   ]
  },
  {
   "cell_type": "code",
   "execution_count": 60,
   "metadata": {
    "collapsed": true
   },
   "outputs": [],
   "source": [
    "    def foreground(self, index):\n",
    "        \"\"\"\n",
    "        returns a list of foreground SCCs that are downstream of the supplied scc ID (itself included)\n",
    "        This is a list of components necessary to build the foreground fragment tree\n",
    "        :param index:\n",
    "        :return: topologically-ordered, loop-detecting list of non-background SCC IDs\n",
    "        \"\"\"\n",
    "        if self.is_background(index):\n",
    "            return []\n",
    "        queue = [index]\n",
    "        fg = []\n",
    "        while len(queue) > 0:\n",
    "            print('  nq: %s' % queue)\n",
    "            current = queue.pop(0)\n",
    "            print('c: %d' % current)\n",
    "            sleep(0.020)\n",
    "            if current not in fg:\n",
    "                queue.extend([k for k in self._component_rows_by_col[current] if not self.is_background(k)])\n",
    "                print('   q: %s' % queue)\n",
    "                sleep(0.050)\n",
    "                fg.append(current)\n",
    "            else:\n",
    "                print('     loop')\n",
    "        return fg\n"
   ]
  },
  {
   "cell_type": "code",
   "execution_count": 61,
   "metadata": {
    "collapsed": false
   },
   "outputs": [
    {
     "name": "stdout",
     "output_type": "stream",
     "text": [
      "  nq: [10748]\n",
      "c: 10748\n",
      "   q: [10749, 10647]\n",
      "  nq: [10749, 10647]\n",
      "c: 10749\n",
      "   q: [10647, 10648]\n",
      "  nq: [10647, 10648]\n",
      "c: 10647\n",
      "   q: [10648, 10648]\n",
      "  nq: [10648, 10648]\n",
      "c: 10648\n",
      "   q: [10648, 10648]\n",
      "  nq: [10648, 10648]\n",
      "c: 10648\n",
      "     loop\n",
      "  nq: [10648]\n",
      "c: 10648\n",
      "     loop\n"
     ]
    },
    {
     "data": {
      "text/plain": [
       "[10748, 10749, 10647, 10648]"
      ]
     },
     "execution_count": 61,
     "metadata": {},
     "output_type": "execute_result"
    }
   ],
   "source": [
    "foreground(Bj.tstack, fgo[63])"
   ]
  },
  {
   "cell_type": "code",
   "execution_count": 32,
   "metadata": {
    "collapsed": false
   },
   "outputs": [
    {
     "data": {
      "text/plain": [
       "[10340, 10344, 10341, 10284, 10342, 10284, 10342, 10285, 10343, 10285, 10343]"
      ]
     },
     "execution_count": 32,
     "metadata": {},
     "output_type": "execute_result"
    }
   ],
   "source": [
    "Bj.tstack.foreground(fgo[8])"
   ]
  },
  {
   "cell_type": "code",
   "execution_count": 45,
   "metadata": {
    "collapsed": false
   },
   "outputs": [
    {
     "data": {
      "text/plain": [
       "2840"
      ]
     },
     "execution_count": 45,
     "metadata": {},
     "output_type": "execute_result"
    }
   ],
   "source": [
    "len(Bj.tstack._sccs)"
   ]
  },
  {
   "cell_type": "code",
   "execution_count": 46,
   "metadata": {
    "collapsed": false
   },
   "outputs": [
    {
     "data": {
      "text/plain": [
       "186"
      ]
     },
     "execution_count": 46,
     "metadata": {},
     "output_type": "execute_result"
    }
   ],
   "source": [
    "2840-2654"
   ]
  },
  {
   "cell_type": "code",
   "execution_count": 48,
   "metadata": {
    "collapsed": false
   },
   "outputs": [
    {
     "data": {
      "text/plain": [
       "10282"
      ]
     },
     "execution_count": 48,
     "metadata": {},
     "output_type": "execute_result"
    }
   ],
   "source": [
    "10097 + 185"
   ]
  },
  {
   "cell_type": "code",
   "execution_count": 66,
   "metadata": {
    "collapsed": false
   },
   "outputs": [
    {
     "data": {
      "text/plain": [
       "10283"
      ]
     },
     "execution_count": 66,
     "metadata": {},
     "output_type": "execute_result"
    }
   ],
   "source": [
    "len(Bj._product_flows)"
   ]
  },
  {
   "cell_type": "code",
   "execution_count": 57,
   "metadata": {
    "collapsed": false
   },
   "outputs": [],
   "source": [
    "bgen = (b for b in Bj.tstack.background_flows())"
   ]
  },
  {
   "cell_type": "code",
   "execution_count": 59,
   "metadata": {
    "collapsed": false
   },
   "outputs": [],
   "source": [
    "pf = next(bgen)"
   ]
  },
  {
   "cell_type": "code",
   "execution_count": 63,
   "metadata": {
    "collapsed": false
   },
   "outputs": [
    {
     "data": {
      "text/plain": [
       "'electricity, high voltage [By-product classification: allocatable product]'"
      ]
     },
     "execution_count": 63,
     "metadata": {},
     "output_type": "execute_result"
    }
   ],
   "source": [
    "str(pf.flow)"
   ]
  },
  {
   "cell_type": "code",
   "execution_count": 53,
   "metadata": {
    "collapsed": false
   },
   "outputs": [
    {
     "data": {
      "text/plain": [
       "1937"
      ]
     },
     "execution_count": 53,
     "metadata": {},
     "output_type": "execute_result"
    }
   ],
   "source": [
    "len(Bj._emissions)"
   ]
  },
  {
   "cell_type": "code",
   "execution_count": null,
   "metadata": {
    "collapsed": true
   },
   "outputs": [],
   "source": [
    "        "
   ]
  },
  {
   "cell_type": "code",
   "execution_count": 50,
   "metadata": {
    "collapsed": false
   },
   "outputs": [
    {
     "name": "stdout",
     "output_type": "stream",
     "text": [
      "CPU times: user 0 ns, sys: 0 ns, total: 0 ns\n",
      "Wall time: 21 µs\n"
     ]
    },
    {
     "data": {
      "text/plain": [
       "['yogurt production, from cow milk [CA-QC]',\n",
       " 'market for yogurt, from cow milk [GLO]',\n",
       " 'yogurt production, from cow milk [RoW]']"
      ]
     },
     "execution_count": 50,
     "metadata": {},
     "output_type": "execute_result"
    }
   ],
   "source": [
    "%time [str(x) for x in Bj._terminations[(pf.key[0], 'Input')]]"
   ]
  },
  {
   "cell_type": "code",
   "execution_count": 44,
   "metadata": {
    "collapsed": false
   },
   "outputs": [
    {
     "data": {
      "text/plain": [
       "'yogurt production, from cow milk [CA-QC]'"
      ]
     },
     "execution_count": 44,
     "metadata": {},
     "output_type": "execute_result"
    }
   ],
   "source": [
    "str(EA_j[pf.key[1]])"
   ]
  },
  {
   "cell_type": "code",
   "execution_count": 75,
   "metadata": {
    "collapsed": false
   },
   "outputs": [
    {
     "data": {
      "text/plain": [
       "10283"
      ]
     },
     "execution_count": 75,
     "metadata": {},
     "output_type": "execute_result"
    }
   ],
   "source": [
    "len(B._product_flows)"
   ]
  },
  {
   "cell_type": "code",
   "execution_count": 54,
   "metadata": {
    "collapsed": false
   },
   "outputs": [
    {
     "name": "stdout",
     "output_type": "stream",
     "text": [
      "CPU times: user 3.33 ms, sys: 3.33 ms, total: 6.67 ms\n",
      "Wall time: 6.26 ms\n"
     ]
    }
   ],
   "source": [
    "%time bg = [b.index for b in B.tstack.background_flows()]"
   ]
  },
  {
   "cell_type": "code",
   "execution_count": 55,
   "metadata": {
    "collapsed": false
   },
   "outputs": [
    {
     "name": "stdout",
     "output_type": "stream",
     "text": [
      "CPU times: user 0 ns, sys: 0 ns, total: 0 ns\n",
      "Wall time: 3.07 ms\n"
     ]
    }
   ],
   "source": [
    "%time bg_dict = dict((v, k) for k, v in enumerate(bg))"
   ]
  },
  {
   "cell_type": "code",
   "execution_count": 56,
   "metadata": {
    "collapsed": false
   },
   "outputs": [
    {
     "name": "stdout",
     "output_type": "stream",
     "text": [
      "CPU times: user 690 ms, sys: 20 ms, total: 710 ms\n",
      "Wall time: 708 ms\n"
     ]
    }
   ],
   "source": [
    "%time B._construct_b_matrix(bg_dict)"
   ]
  },
  {
   "cell_type": "code",
   "execution_count": 58,
   "metadata": {
    "collapsed": false
   },
   "outputs": [
    {
     "data": {
      "text/plain": [
       "[MatrixEntry(parent=<lcamatrix.foreground.ProductFlow object at 0x7fc807651278>, term=<lcamatrix.foreground.Emission object at 0x7fc80e21de80>, value=0.00391255795812271),\n",
       " MatrixEntry(parent=<lcamatrix.foreground.ProductFlow object at 0x7fc807651278>, term=<lcamatrix.foreground.Emission object at 0x7fc80e037208>, value=5.25921928345733e-09),\n",
       " MatrixEntry(parent=<lcamatrix.foreground.ProductFlow object at 0x7fc807651278>, term=<lcamatrix.foreground.Emission object at 0x7fc80e0cf7b8>, value=1.33893853637212e-07)]"
      ]
     },
     "execution_count": 58,
     "metadata": {},
     "output_type": "execute_result"
    }
   ],
   "source": [
    "B._cutoff"
   ]
  },
  {
   "cell_type": "code",
   "execution_count": 60,
   "metadata": {
    "collapsed": false
   },
   "outputs": [
    {
     "data": {
      "text/plain": [
       "39.324999999999996"
      ]
     },
     "execution_count": 60,
     "metadata": {},
     "output_type": "execute_result"
    }
   ],
   "source": [
    ".865 + .678 + 37.782"
   ]
  },
  {
   "cell_type": "code",
   "execution_count": 34,
   "metadata": {
    "collapsed": false
   },
   "outputs": [],
   "source": [
    "pd = EA['55ee5166-8fd9-4955-937c-69b0a66f30ee']"
   ]
  },
  {
   "cell_type": "code",
   "execution_count": 37,
   "metadata": {
    "collapsed": false
   },
   "outputs": [],
   "source": [
    "refs = list(pd.reference_entity)"
   ]
  },
  {
   "cell_type": "code",
   "execution_count": 49,
   "metadata": {
    "collapsed": false
   },
   "outputs": [
    {
     "data": {
      "text/plain": [
       "True"
      ]
     },
     "execution_count": 49,
     "metadata": {},
     "output_type": "execute_result"
    }
   ],
   "source": [
    "pd.is_allocated(refs[0])"
   ]
  },
  {
   "cell_type": "code",
   "execution_count": 56,
   "metadata": {
    "collapsed": false,
    "deletable": true,
    "editable": true
   },
   "outputs": [
    {
     "data": {
      "text/plain": [
       "True"
      ]
     },
     "execution_count": 56,
     "metadata": {},
     "output_type": "execute_result"
    }
   ],
   "source": [
    "len(F._cutoff) + len(F._interior) == 791758"
   ]
  },
  {
   "cell_type": "code",
   "execution_count": 68,
   "metadata": {
    "collapsed": false,
    "deletable": true,
    "editable": true
   },
   "outputs": [],
   "source": [
    "pf = list(F._product_flows.keys())"
   ]
  },
  {
   "cell_type": "code",
   "execution_count": 74,
   "metadata": {
    "collapsed": false,
    "deletable": true,
    "editable": true
   },
   "outputs": [
    {
     "data": {
      "text/plain": [
       "1"
      ]
     },
     "execution_count": 74,
     "metadata": {},
     "output_type": "execute_result"
    }
   ],
   "source": [
    "F.tstack.scc_id(pf[3336])"
   ]
  },
  {
   "cell_type": "code",
   "execution_count": 79,
   "metadata": {
    "collapsed": false,
    "deletable": true,
    "editable": true
   },
   "outputs": [
    {
     "data": {
      "text/plain": [
       "['market for electricity, low voltage: electricity, low voltage',\n",
       " 'electricity production, photovoltaic, 3kWp slanted-roof installation, multi-Si, panel, mounted: electricity, low voltage']"
      ]
     },
     "execution_count": 79,
     "metadata": {},
     "output_type": "execute_result"
    }
   ],
   "source": [
    "['%s: %s' % (pf[i]._process['Name'], pf[i]._flow['Name']) for i in (3337, 3338)]"
   ]
  },
  {
   "cell_type": "code",
   "execution_count": 80,
   "metadata": {
    "collapsed": true,
    "deletable": true,
    "editable": true
   },
   "outputs": [],
   "source": [
    "from collections import defaultdict"
   ]
  },
  {
   "cell_type": "code",
   "execution_count": 81,
   "metadata": {
    "collapsed": false,
    "deletable": true,
    "editable": true
   },
   "outputs": [],
   "source": [
    "d = defaultdict(set)"
   ]
  },
  {
   "cell_type": "code",
   "execution_count": 89,
   "metadata": {
    "collapsed": true,
    "deletable": true,
    "editable": true
   },
   "outputs": [],
   "source": [
    "from collections import Counter"
   ]
  },
  {
   "cell_type": "code",
   "execution_count": 91,
   "metadata": {
    "collapsed": false,
    "deletable": true,
    "editable": true
   },
   "outputs": [],
   "source": []
  },
  {
   "cell_type": "code",
   "execution_count": null,
   "metadata": {
    "collapsed": true,
    "deletable": true,
    "editable": true
   },
   "outputs": [],
   "source": []
  },
  {
   "cell_type": "code",
   "execution_count": 103,
   "metadata": {
    "collapsed": false,
    "deletable": true,
    "editable": true
   },
   "outputs": [],
   "source": [
    "elem = {'air', 'water', 'soil', 'resource'}\n",
    "\n",
    "output_counter = Counter()\n",
    "\n",
    "for p in us['processes']:\n",
    "    for x in p['exchanges']:\n",
    "        if x['direction'] == 'Output':\n",
    "            if x['flow'] in in_us:\n",
    "            #if us_flows[x['flow']]['Compartment'][0] not in elem:\n",
    "                output_counter[x['flow']] += 1\n",
    "            "
   ]
  },
  {
   "cell_type": "code",
   "execution_count": 182,
   "metadata": {
    "collapsed": false,
    "deletable": true,
    "editable": true
   },
   "outputs": [
    {
     "name": "stdout",
     "output_type": "stream",
     "text": [
      "86: (5853) Chromium\n",
      "61: (6619) Chloride\n",
      "54: (6621) Sodium, ion\n",
      "50: (5875) Carbon dioxide, biogenic\n",
      "19: (6615) Chromium, ion\n",
      "16: (6601) Thallium\n",
      " 8: (6605) Hydrogen cyanide (prussic acid)\n",
      " 8: (6603) Chloride (unspecified)\n",
      " 8: (7907) Inorganic salts and acids, unspecified\n",
      " 8: (9688) Water, cooling\n",
      " 7: (6617) Methane, bromotrifluoro-, Halon 1301\n",
      " 7: (15462) Cooling water, non-contact\n",
      " 3: (13968) Water\n",
      " 2: (775) Diesel, at refinery\n",
      " 2: (6403) Oil, crude, 42 MJ per kg, in ground\n",
      " 2: (16700) Kerosene, at refinery\n",
      " 2: (7295) Quartz sand (silica sand; silicon dioxide)\n",
      " 2: (7293) Sodium chloride, in ground\n",
      " 2: (16696) Residual fuel oil, at refinery\n",
      " 2: (7352) Lignite, 11 MJ per kg, in ground\n",
      " 2: (13406) Petroleum coke, at refinery\n",
      " 2: (16694) Liquefied petroleum gas, at refinery\n",
      " 2: (6903) Oxygen\n",
      " 2: (6401) Gas, natural, 46.8 MJ per kg, in ground\n",
      " 2: (7350) Coal, hard, 30.7 MJ per kg, in ground\n",
      " 2: (23293) Harvesting, fresh fruit bunch, at farm\n",
      " 2: (869) Gasoline, at refinery\n",
      " 2: (5339) Wood fuel, hardwood, green, at veneer mill, E\n",
      " 1: (23475) Fuels, burned at coated freesheet, average production, at mill\n",
      " 1: (23368) Natural gas, combusted in industrial boiler, at pulp and paper mill (EXCL.)\n"
     ]
    }
   ],
   "source": [
    "for k in output_counter.most_common(30):\n",
    "    print('%2d: (%s) %s' % (k[1], us_flows[k[0]]['externalId'], us_flows[k[0]]['Name']))"
   ]
  }
 ],
 "metadata": {
  "kernelspec": {
   "display_name": "Python 3",
   "language": "python",
   "name": "python3"
  },
  "language_info": {
   "codemirror_mode": {
    "name": "ipython",
    "version": 3
   },
   "file_extension": ".py",
   "mimetype": "text/x-python",
   "name": "python",
   "nbconvert_exporter": "python",
   "pygments_lexer": "ipython3",
   "version": "3.6.0"
  }
 },
 "nbformat": 4,
 "nbformat_minor": 0
}

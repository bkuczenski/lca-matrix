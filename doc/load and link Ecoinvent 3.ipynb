{
 "cells": [
  {
   "cell_type": "code",
   "execution_count": 1,
   "metadata": {
    "collapsed": true,
    "deletable": true,
    "editable": true
   },
   "outputs": [],
   "source": [
    "import sys\n",
    "import os\n",
    "sys.path.append('/data/GitHub/lca-tools/')\n",
    "\n",
    "import lcatools"
   ]
  },
  {
   "cell_type": "code",
   "execution_count": 2,
   "metadata": {
    "collapsed": true,
    "deletable": true,
    "editable": true
   },
   "outputs": [],
   "source": [
    "from lcatools.entities import NoReferenceFound, NoAllocation"
   ]
  },
  {
   "cell_type": "code",
   "execution_count": 3,
   "metadata": {
    "collapsed": true,
    "deletable": true,
    "editable": true
   },
   "outputs": [],
   "source": [
    "sys.path.append('..')\n",
    "import lcamatrix"
   ]
  },
  {
   "cell_type": "code",
   "execution_count": 4,
   "metadata": {
    "collapsed": true,
    "deletable": true,
    "editable": true
   },
   "outputs": [],
   "source": [
    "CATALOG = '/data/GitHub/lca-catalog/catalogs/'\n",
    "\n",
    "EI32_A = 'ecoinvent_3.2_apos_spold.json.gz'\n",
    "#USLCI = 'uslci_ecospold.json.gz'"
   ]
  },
  {
   "cell_type": "code",
   "execution_count": 5,
   "metadata": {
    "collapsed": true,
    "deletable": true,
    "editable": true
   },
   "outputs": [],
   "source": [
    "from lcatools.providers.ecospold2 import EcospoldV2Archive"
   ]
  },
  {
   "cell_type": "code",
   "execution_count": 6,
   "metadata": {
    "collapsed": false,
    "deletable": true,
    "editable": true
   },
   "outputs": [
    {
     "name": "stdout",
     "output_type": "stream",
     "text": [
      "Found Extension: zip\n"
     ]
    }
   ],
   "source": [
    "EA = EcospoldV2Archive('/data/LCI/Ecoinvent/3.2/current_Version_3.2_apos_ecoSpold02.zip', prefix='datasets')"
   ]
  },
  {
   "cell_type": "code",
   "execution_count": 7,
   "metadata": {
    "collapsed": false,
    "deletable": true,
    "editable": true
   },
   "outputs": [
    {
     "name": "stdout",
     "output_type": "stream",
     "text": [
      "Loading /data/LCI/Ecoinvent/3.2/current_Version_3.2_apos_ecoSpold02.zip\n",
      " Loaded 100 processes (t=1.03 s)\n",
      " Loaded 200 processes (t=2.01 s)\n",
      " Loaded 300 processes (t=2.67 s)\n",
      " Loaded 400 processes (t=3.25 s)\n",
      " Loaded 500 processes (t=3.63 s)\n",
      "activity ID 0a3fc02d-87cb-4200-88ac-ce5fc0ad5f42: no comment\n",
      " Loaded 600 processes (t=4.51 s)\n",
      " Loaded 700 processes (t=5.12 s)\n",
      " Loaded 800 processes (t=5.69 s)\n",
      " Loaded 900 processes (t=6.66 s)\n",
      " Loaded 1000 processes (t=7.23 s)\n",
      " Loaded 1100 processes (t=7.73 s)\n",
      " Loaded 1200 processes (t=8.51 s)\n",
      " Loaded 1300 processes (t=9.55 s)\n",
      " Loaded 1400 processes (t=10.23 s)\n",
      " Loaded 1500 processes (t=10.78 s)\n",
      " Loaded 1600 processes (t=11.85 s)\n",
      " Loaded 1700 processes (t=12.51 s)\n",
      " Loaded 1800 processes (t=12.99 s)\n",
      " Loaded 1900 processes (t=13.88 s)\n",
      " Loaded 2000 processes (t=15.24 s)\n",
      " Loaded 2100 processes (t=16.00 s)\n",
      " Loaded 2200 processes (t=16.99 s)\n",
      " Loaded 2300 processes (t=18.15 s)\n",
      " Loaded 2400 processes (t=18.65 s)\n",
      " Loaded 2500 processes (t=19.32 s)\n",
      " Loaded 2600 processes (t=19.95 s)\n",
      " Loaded 2700 processes (t=20.56 s)\n",
      " Loaded 2800 processes (t=21.06 s)\n",
      " Loaded 2900 processes (t=22.13 s)\n",
      " Loaded 3000 processes (t=22.69 s)\n",
      " Loaded 3100 processes (t=24.20 s)\n",
      " Loaded 3200 processes (t=25.16 s)\n",
      " Loaded 3300 processes (t=25.91 s)\n",
      " Loaded 3400 processes (t=26.66 s)\n",
      " Loaded 3500 processes (t=28.20 s)\n",
      " Loaded 3600 processes (t=28.68 s)\n",
      " Loaded 3700 processes (t=29.66 s)\n",
      " Loaded 3800 processes (t=30.74 s)\n",
      " Loaded 3900 processes (t=31.40 s)\n",
      " Loaded 4000 processes (t=32.02 s)\n",
      " Loaded 4100 processes (t=33.39 s)\n",
      " Loaded 4200 processes (t=34.30 s)\n",
      " Loaded 4300 processes (t=34.89 s)\n",
      " Loaded 4400 processes (t=36.72 s)\n",
      " Loaded 4500 processes (t=37.54 s)\n",
      " Loaded 4600 processes (t=38.34 s)\n",
      " Loaded 4700 processes (t=38.83 s)\n",
      " Loaded 4800 processes (t=40.18 s)\n",
      " Loaded 4900 processes (t=41.26 s)\n",
      " Loaded 5000 processes (t=42.00 s)\n",
      " Loaded 5100 processes (t=42.58 s)\n",
      " Loaded 5200 processes (t=43.24 s)\n",
      " Loaded 5300 processes (t=43.94 s)\n",
      " Loaded 5400 processes (t=45.27 s)\n",
      " Loaded 5500 processes (t=46.81 s)\n",
      " Loaded 5600 processes (t=47.89 s)\n",
      " Loaded 5700 processes (t=48.50 s)\n",
      " Loaded 5800 processes (t=49.19 s)\n",
      " Loaded 5900 processes (t=50.19 s)\n",
      " Loaded 6000 processes (t=51.00 s)\n",
      " Loaded 6100 processes (t=51.51 s)\n",
      " Loaded 6200 processes (t=52.14 s)\n",
      " Loaded 6300 processes (t=52.70 s)\n",
      " Loaded 6400 processes (t=53.34 s)\n",
      " Loaded 6500 processes (t=53.91 s)\n",
      " Loaded 6600 processes (t=54.71 s)\n",
      " Loaded 6700 processes (t=55.82 s)\n",
      " Loaded 6800 processes (t=56.49 s)\n",
      " Loaded 6900 processes (t=57.29 s)\n",
      " Loaded 7000 processes (t=58.08 s)\n",
      " Loaded 7100 processes (t=58.75 s)\n",
      " Loaded 7200 processes (t=59.51 s)\n",
      "Squashing bad termination in linked reference exchange, 8d44da1b-8c02-4640-a965-55ca57bc8bfe\n",
      "Flow 361e78e0-0094-48d2-b9a2-2c70921e5c1e Term fac190d7-a9e8-488b-9075-178f5c8492c0\n",
      "Squashing bad termination in linked reference exchange, 8d44da1b-8c02-4640-a965-55ca57bc8bfe\n",
      "Flow 3a9b33f8-d1b1-4bea-9df7-7db6846c6df6 Term f3622e6c-b364-4108-9574-925359b64f51\n",
      "Squashing bad termination in linked reference exchange, 8d44da1b-8c02-4640-a965-55ca57bc8bfe\n",
      "Flow cfbc8873-47d4-4411-a18e-578ef35ab871 Term 321f69ba-2874-45a2-956a-4857c4b1a381\n",
      "Squashing bad termination in linked reference exchange, 8d44da1b-8c02-4640-a965-55ca57bc8bfe\n",
      "Flow df12f8f5-a3e3-4506-9d86-b33205d21a52 Term af48e232-5ae1-43f1-8e2a-cce5bbcc6ecb\n",
      "Squashing bad termination in linked reference exchange, 8d44da1b-8c02-4640-a965-55ca57bc8bfe\n",
      "Flow e1126956-dc57-4837-849f-57fb25c8effa Term 3723d90c-8a3f-499e-9c35-3853bcab2c0a\n",
      " Loaded 7300 processes (t=60.35 s)\n",
      "Squashing bad termination in linked reference exchange, 8e418a97-3504-4105-ae1a-f537206157dc\n",
      "Flow 76ab0018-e176-43e0-b42c-12e82b937fef Term e2d5e68d-7b1c-4cce-b7ca-49ea693096dd\n",
      " Loaded 7400 processes (t=60.98 s)\n",
      " Loaded 7500 processes (t=61.64 s)\n",
      " Loaded 7600 processes (t=62.60 s)\n",
      " Loaded 7700 processes (t=63.67 s)\n",
      " Loaded 7800 processes (t=64.55 s)\n",
      " Loaded 7900 processes (t=65.02 s)\n",
      " Loaded 8000 processes (t=65.40 s)\n",
      " Loaded 8100 processes (t=66.06 s)\n",
      " Loaded 8200 processes (t=66.70 s)\n",
      " Loaded 8300 processes (t=67.27 s)\n",
      " Loaded 8400 processes (t=68.29 s)\n",
      " Loaded 8500 processes (t=68.71 s)\n",
      " Loaded 8600 processes (t=69.34 s)\n",
      " Loaded 8700 processes (t=70.22 s)\n",
      " Loaded 8800 processes (t=70.93 s)\n",
      " Loaded 8900 processes (t=71.64 s)\n",
      " Loaded 9000 processes (t=72.18 s)\n",
      " Loaded 9100 processes (t=72.74 s)\n",
      " Loaded 9200 processes (t=73.57 s)\n",
      " Loaded 9300 processes (t=74.35 s)\n",
      " Loaded 9400 processes (t=74.87 s)\n",
      " Loaded 9500 processes (t=75.81 s)\n",
      "Squashing bad termination in linked reference exchange, bb2eff39-6693-49bc-b735-3762193f0039\n",
      "Flow 361e78e0-0094-48d2-b9a2-2c70921e5c1e Term fac190d7-a9e8-488b-9075-178f5c8492c0\n",
      "Squashing bad termination in linked reference exchange, bb2eff39-6693-49bc-b735-3762193f0039\n",
      "Flow 3a9b33f8-d1b1-4bea-9df7-7db6846c6df6 Term f3622e6c-b364-4108-9574-925359b64f51\n",
      "Squashing bad termination in linked reference exchange, bb2eff39-6693-49bc-b735-3762193f0039\n",
      "Flow df12f8f5-a3e3-4506-9d86-b33205d21a52 Term af48e232-5ae1-43f1-8e2a-cce5bbcc6ecb\n",
      "Squashing bad termination in linked reference exchange, bb2eff39-6693-49bc-b735-3762193f0039\n",
      "Flow e1126956-dc57-4837-849f-57fb25c8effa Term 3723d90c-8a3f-499e-9c35-3853bcab2c0a\n",
      "Squashing bad termination in linked reference exchange, bb2eff39-6693-49bc-b735-3762193f0039\n",
      "Flow cfbc8873-47d4-4411-a18e-578ef35ab871 Term 321f69ba-2874-45a2-956a-4857c4b1a381\n",
      " Loaded 9600 processes (t=76.79 s)\n",
      " Loaded 9700 processes (t=77.78 s)\n",
      " Loaded 9800 processes (t=79.27 s)\n",
      " Loaded 9900 processes (t=80.12 s)\n",
      " Loaded 10000 processes (t=80.82 s)\n",
      " Loaded 10100 processes (t=81.73 s)\n",
      " Loaded 10200 processes (t=82.49 s)\n",
      " Loaded 10300 processes (t=83.09 s)\n",
      " Loaded 10400 processes (t=84.41 s)\n",
      " Loaded 10500 processes (t=85.47 s)\n",
      " Loaded 10600 processes (t=86.21 s)\n",
      " Loaded 10700 processes (t=86.88 s)\n",
      " Loaded 10800 processes (t=88.02 s)\n",
      " Loaded 10900 processes (t=88.81 s)\n",
      " Loaded 11000 processes (t=89.67 s)\n",
      " Loaded 11100 processes (t=90.94 s)\n",
      " Loaded 11200 processes (t=92.00 s)\n",
      " Loaded 11300 processes (t=92.76 s)\n",
      " Loaded 11400 processes (t=93.44 s)\n",
      " Loaded 11500 processes (t=94.28 s)\n",
      " Loaded 11600 processes (t=94.85 s)\n",
      " Loaded 11700 processes (t=95.75 s)\n",
      " Loaded 11800 processes (t=97.43 s)\n",
      " Loaded 11900 processes (t=98.19 s)\n",
      " Loaded 12000 processes (t=99.17 s)\n",
      " Loaded 12100 processes (t=99.68 s)\n",
      " Loaded 12200 processes (t=100.58 s)\n",
      " Loaded 12300 processes (t=101.38 s)\n",
      " Loaded 12400 processes (t=102.06 s)\n",
      " Loaded 12500 processes (t=102.82 s)\n",
      " Loaded 12600 processes (t=103.39 s)\n",
      " Loaded 12700 processes (t=104.06 s)\n",
      " Loaded 12800 processes (t=104.87 s)\n",
      " Loaded 12900 processes (t=106.29 s)\n",
      " Loaded 12966 processes (t=106.97 s)\n",
      "11420 new process entities added (11420 total)\n",
      "4650 new flow entities added (4650 total)\n",
      "19 new quantity entities added (19 total)\n"
     ]
    }
   ],
   "source": [
    "EA.load_all()"
   ]
  },
  {
   "cell_type": "code",
   "execution_count": 8,
   "metadata": {
    "collapsed": false,
    "deletable": true,
    "editable": true
   },
   "outputs": [],
   "source": [
    "EA.write_to_file(os.path.join(CATALOG, EI32_A), exchanges=True, values=True, characterizations=True, gzip=True)"
   ]
  },
  {
   "cell_type": "code",
   "execution_count": 7,
   "metadata": {
    "collapsed": false,
    "deletable": true,
    "editable": true
   },
   "outputs": [
    {
     "name": "stdout",
     "output_type": "stream",
     "text": [
      "Loading JSON data from /data/GitHub/lca-catalog/catalogs/ecoinvent_3.2_apos_spold.json.gz:\n",
      "Found Extension: zip\n"
     ]
    },
    {
     "ename": "AmbiguousReferenceError",
     "evalue": "Allocation key is not a reference exchange",
     "output_type": "error",
     "traceback": [
      "\u001b[1;31m---------------------------------------------------------------------------\u001b[0m",
      "\u001b[1;31mAmbiguousReferenceError\u001b[0m                   Traceback (most recent call last)",
      "\u001b[1;32m<ipython-input-7-cba6e1a3d050>\u001b[0m in \u001b[0;36m<module>\u001b[1;34m()\u001b[0m\n\u001b[1;32m----> 1\u001b[1;33m \u001b[0mget_ipython\u001b[0m\u001b[1;33m(\u001b[0m\u001b[1;33m)\u001b[0m\u001b[1;33m.\u001b[0m\u001b[0mmagic\u001b[0m\u001b[1;33m(\u001b[0m\u001b[1;34m'time EA_j = lcatools.archive_from_json(os.path.join(CATALOG, EI32_A))'\u001b[0m\u001b[1;33m)\u001b[0m\u001b[1;33m\u001b[0m\u001b[0m\n\u001b[0m",
      "\u001b[1;32m/home/b/.virtualenvs/lca-tools/lib/python3.5/site-packages/IPython/core/interactiveshell.py\u001b[0m in \u001b[0;36mmagic\u001b[1;34m(self, arg_s)\u001b[0m\n\u001b[0;32m   2161\u001b[0m         \u001b[0mmagic_name\u001b[0m\u001b[1;33m,\u001b[0m \u001b[0m_\u001b[0m\u001b[1;33m,\u001b[0m \u001b[0mmagic_arg_s\u001b[0m \u001b[1;33m=\u001b[0m \u001b[0marg_s\u001b[0m\u001b[1;33m.\u001b[0m\u001b[0mpartition\u001b[0m\u001b[1;33m(\u001b[0m\u001b[1;34m' '\u001b[0m\u001b[1;33m)\u001b[0m\u001b[1;33m\u001b[0m\u001b[0m\n\u001b[0;32m   2162\u001b[0m         \u001b[0mmagic_name\u001b[0m \u001b[1;33m=\u001b[0m \u001b[0mmagic_name\u001b[0m\u001b[1;33m.\u001b[0m\u001b[0mlstrip\u001b[0m\u001b[1;33m(\u001b[0m\u001b[0mprefilter\u001b[0m\u001b[1;33m.\u001b[0m\u001b[0mESC_MAGIC\u001b[0m\u001b[1;33m)\u001b[0m\u001b[1;33m\u001b[0m\u001b[0m\n\u001b[1;32m-> 2163\u001b[1;33m         \u001b[1;32mreturn\u001b[0m \u001b[0mself\u001b[0m\u001b[1;33m.\u001b[0m\u001b[0mrun_line_magic\u001b[0m\u001b[1;33m(\u001b[0m\u001b[0mmagic_name\u001b[0m\u001b[1;33m,\u001b[0m \u001b[0mmagic_arg_s\u001b[0m\u001b[1;33m)\u001b[0m\u001b[1;33m\u001b[0m\u001b[0m\n\u001b[0m\u001b[0;32m   2164\u001b[0m \u001b[1;33m\u001b[0m\u001b[0m\n\u001b[0;32m   2165\u001b[0m     \u001b[1;31m#-------------------------------------------------------------------------\u001b[0m\u001b[1;33m\u001b[0m\u001b[1;33m\u001b[0m\u001b[0m\n",
      "\u001b[1;32m/home/b/.virtualenvs/lca-tools/lib/python3.5/site-packages/IPython/core/interactiveshell.py\u001b[0m in \u001b[0;36mrun_line_magic\u001b[1;34m(self, magic_name, line)\u001b[0m\n\u001b[0;32m   2082\u001b[0m                 \u001b[0mkwargs\u001b[0m\u001b[1;33m[\u001b[0m\u001b[1;34m'local_ns'\u001b[0m\u001b[1;33m]\u001b[0m \u001b[1;33m=\u001b[0m \u001b[0msys\u001b[0m\u001b[1;33m.\u001b[0m\u001b[0m_getframe\u001b[0m\u001b[1;33m(\u001b[0m\u001b[0mstack_depth\u001b[0m\u001b[1;33m)\u001b[0m\u001b[1;33m.\u001b[0m\u001b[0mf_locals\u001b[0m\u001b[1;33m\u001b[0m\u001b[0m\n\u001b[0;32m   2083\u001b[0m             \u001b[1;32mwith\u001b[0m \u001b[0mself\u001b[0m\u001b[1;33m.\u001b[0m\u001b[0mbuiltin_trap\u001b[0m\u001b[1;33m:\u001b[0m\u001b[1;33m\u001b[0m\u001b[0m\n\u001b[1;32m-> 2084\u001b[1;33m                 \u001b[0mresult\u001b[0m \u001b[1;33m=\u001b[0m \u001b[0mfn\u001b[0m\u001b[1;33m(\u001b[0m\u001b[1;33m*\u001b[0m\u001b[0margs\u001b[0m\u001b[1;33m,\u001b[0m\u001b[1;33m**\u001b[0m\u001b[0mkwargs\u001b[0m\u001b[1;33m)\u001b[0m\u001b[1;33m\u001b[0m\u001b[0m\n\u001b[0m\u001b[0;32m   2085\u001b[0m             \u001b[1;32mreturn\u001b[0m \u001b[0mresult\u001b[0m\u001b[1;33m\u001b[0m\u001b[0m\n\u001b[0;32m   2086\u001b[0m \u001b[1;33m\u001b[0m\u001b[0m\n",
      "\u001b[1;32m<decorator-gen-60>\u001b[0m in \u001b[0;36mtime\u001b[1;34m(self, line, cell, local_ns)\u001b[0m\n",
      "\u001b[1;32m/home/b/.virtualenvs/lca-tools/lib/python3.5/site-packages/IPython/core/magic.py\u001b[0m in \u001b[0;36m<lambda>\u001b[1;34m(f, *a, **k)\u001b[0m\n\u001b[0;32m    191\u001b[0m     \u001b[1;31m# but it's overkill for just that one bit of state.\u001b[0m\u001b[1;33m\u001b[0m\u001b[1;33m\u001b[0m\u001b[0m\n\u001b[0;32m    192\u001b[0m     \u001b[1;32mdef\u001b[0m \u001b[0mmagic_deco\u001b[0m\u001b[1;33m(\u001b[0m\u001b[0marg\u001b[0m\u001b[1;33m)\u001b[0m\u001b[1;33m:\u001b[0m\u001b[1;33m\u001b[0m\u001b[0m\n\u001b[1;32m--> 193\u001b[1;33m         \u001b[0mcall\u001b[0m \u001b[1;33m=\u001b[0m \u001b[1;32mlambda\u001b[0m \u001b[0mf\u001b[0m\u001b[1;33m,\u001b[0m \u001b[1;33m*\u001b[0m\u001b[0ma\u001b[0m\u001b[1;33m,\u001b[0m \u001b[1;33m**\u001b[0m\u001b[0mk\u001b[0m\u001b[1;33m:\u001b[0m \u001b[0mf\u001b[0m\u001b[1;33m(\u001b[0m\u001b[1;33m*\u001b[0m\u001b[0ma\u001b[0m\u001b[1;33m,\u001b[0m \u001b[1;33m**\u001b[0m\u001b[0mk\u001b[0m\u001b[1;33m)\u001b[0m\u001b[1;33m\u001b[0m\u001b[0m\n\u001b[0m\u001b[0;32m    194\u001b[0m \u001b[1;33m\u001b[0m\u001b[0m\n\u001b[0;32m    195\u001b[0m         \u001b[1;32mif\u001b[0m \u001b[0mcallable\u001b[0m\u001b[1;33m(\u001b[0m\u001b[0marg\u001b[0m\u001b[1;33m)\u001b[0m\u001b[1;33m:\u001b[0m\u001b[1;33m\u001b[0m\u001b[0m\n",
      "\u001b[1;32m/home/b/.virtualenvs/lca-tools/lib/python3.5/site-packages/IPython/core/magics/execution.py\u001b[0m in \u001b[0;36mtime\u001b[1;34m(self, line, cell, local_ns)\u001b[0m\n\u001b[0;32m   1175\u001b[0m         \u001b[1;32melse\u001b[0m\u001b[1;33m:\u001b[0m\u001b[1;33m\u001b[0m\u001b[0m\n\u001b[0;32m   1176\u001b[0m             \u001b[0mst\u001b[0m \u001b[1;33m=\u001b[0m \u001b[0mclock2\u001b[0m\u001b[1;33m(\u001b[0m\u001b[1;33m)\u001b[0m\u001b[1;33m\u001b[0m\u001b[0m\n\u001b[1;32m-> 1177\u001b[1;33m             \u001b[0mexec\u001b[0m\u001b[1;33m(\u001b[0m\u001b[0mcode\u001b[0m\u001b[1;33m,\u001b[0m \u001b[0mglob\u001b[0m\u001b[1;33m,\u001b[0m \u001b[0mlocal_ns\u001b[0m\u001b[1;33m)\u001b[0m\u001b[1;33m\u001b[0m\u001b[0m\n\u001b[0m\u001b[0;32m   1178\u001b[0m             \u001b[0mend\u001b[0m \u001b[1;33m=\u001b[0m \u001b[0mclock2\u001b[0m\u001b[1;33m(\u001b[0m\u001b[1;33m)\u001b[0m\u001b[1;33m\u001b[0m\u001b[0m\n\u001b[0;32m   1179\u001b[0m             \u001b[0mout\u001b[0m \u001b[1;33m=\u001b[0m \u001b[1;32mNone\u001b[0m\u001b[1;33m\u001b[0m\u001b[0m\n",
      "\u001b[1;32m<timed exec>\u001b[0m in \u001b[0;36m<module>\u001b[1;34m()\u001b[0m\n",
      "\u001b[1;32m/data/GitHub/lca-tools/lcatools/tools.py\u001b[0m in \u001b[0;36marchive_from_json\u001b[1;34m(fname, **archive_kwargs)\u001b[0m\n\u001b[0;32m     93\u001b[0m         \u001b[0ma\u001b[0m\u001b[1;33m.\u001b[0m\u001b[0m_serialize_dict\u001b[0m\u001b[1;33m[\u001b[0m\u001b[1;34m'upstreamReference'\u001b[0m\u001b[1;33m]\u001b[0m \u001b[1;33m=\u001b[0m \u001b[0mj\u001b[0m\u001b[1;33m[\u001b[0m\u001b[1;34m'upstreamReference'\u001b[0m\u001b[1;33m]\u001b[0m\u001b[1;33m\u001b[0m\u001b[0m\n\u001b[0;32m     94\u001b[0m \u001b[1;33m\u001b[0m\u001b[0m\n\u001b[1;32m---> 95\u001b[1;33m     \u001b[0ma\u001b[0m\u001b[1;33m.\u001b[0m\u001b[0mload_json\u001b[0m\u001b[1;33m(\u001b[0m\u001b[0mj\u001b[0m\u001b[1;33m)\u001b[0m\u001b[1;33m\u001b[0m\u001b[0m\n\u001b[0m\u001b[0;32m     96\u001b[0m     \u001b[1;32mreturn\u001b[0m \u001b[0ma\u001b[0m\u001b[1;33m\u001b[0m\u001b[0m\n\u001b[0;32m     97\u001b[0m \u001b[1;33m\u001b[0m\u001b[0m\n",
      "\u001b[1;32m/data/GitHub/lca-tools/lcatools/providers/base.py\u001b[0m in \u001b[0;36mload_json\u001b[1;34m(self, j)\u001b[0m\n\u001b[0;32m     94\u001b[0m             \u001b[0mself\u001b[0m\u001b[1;33m.\u001b[0m\u001b[0mentity_from_json\u001b[0m\u001b[1;33m(\u001b[0m\u001b[0me\u001b[0m\u001b[1;33m)\u001b[0m\u001b[1;33m\u001b[0m\u001b[0m\n\u001b[0;32m     95\u001b[0m         \u001b[1;32mfor\u001b[0m \u001b[0me\u001b[0m \u001b[1;32min\u001b[0m \u001b[0mj\u001b[0m\u001b[1;33m[\u001b[0m\u001b[1;34m'processes'\u001b[0m\u001b[1;33m]\u001b[0m\u001b[1;33m:\u001b[0m\u001b[1;33m\u001b[0m\u001b[0m\n\u001b[1;32m---> 96\u001b[1;33m             \u001b[0mself\u001b[0m\u001b[1;33m.\u001b[0m\u001b[0mentity_from_json\u001b[0m\u001b[1;33m(\u001b[0m\u001b[0me\u001b[0m\u001b[1;33m)\u001b[0m\u001b[1;33m\u001b[0m\u001b[0m\n\u001b[0m\u001b[0;32m     97\u001b[0m         \u001b[1;32mif\u001b[0m \u001b[1;34m'exchanges'\u001b[0m \u001b[1;32min\u001b[0m \u001b[0mj\u001b[0m\u001b[1;33m:\u001b[0m\u001b[1;33m\u001b[0m\u001b[0m\n\u001b[0;32m     98\u001b[0m             \u001b[0mself\u001b[0m\u001b[1;33m.\u001b[0m\u001b[0mhandle_old_exchanges\u001b[0m\u001b[1;33m(\u001b[0m\u001b[0mj\u001b[0m\u001b[1;33m[\u001b[0m\u001b[1;34m'exchanges'\u001b[0m\u001b[1;33m]\u001b[0m\u001b[1;33m)\u001b[0m\u001b[1;33m\u001b[0m\u001b[0m\n",
      "\u001b[1;32m/data/GitHub/lca-tools/lcatools/providers/base.py\u001b[0m in \u001b[0;36mentity_from_json\u001b[1;34m(self, e)\u001b[0m\n\u001b[0;32m    178\u001b[0m                             \u001b[0mdrr\u001b[0m\u001b[1;33m,\u001b[0m \u001b[0mfuu\u001b[0m \u001b[1;33m=\u001b[0m \u001b[0mk\u001b[0m\u001b[1;33m.\u001b[0m\u001b[0msplit\u001b[0m\u001b[1;33m(\u001b[0m\u001b[1;34m':'\u001b[0m\u001b[1;33m)\u001b[0m\u001b[1;33m\u001b[0m\u001b[0m\n\u001b[0;32m    179\u001b[0m                             \u001b[0mrx\u001b[0m \u001b[1;33m=\u001b[0m \u001b[0mExchange\u001b[0m\u001b[1;33m(\u001b[0m\u001b[0mentity\u001b[0m\u001b[1;33m,\u001b[0m \u001b[0mself\u001b[0m\u001b[1;33m[\u001b[0m\u001b[0mfuu\u001b[0m\u001b[1;33m]\u001b[0m\u001b[1;33m,\u001b[0m \u001b[0mdrr\u001b[0m\u001b[1;33m)\u001b[0m\u001b[1;33m\u001b[0m\u001b[0m\n\u001b[1;32m--> 180\u001b[1;33m                             \u001b[0mentity\u001b[0m\u001b[1;33m.\u001b[0m\u001b[0madd_exchange\u001b[0m\u001b[1;33m(\u001b[0m\u001b[0mf\u001b[0m\u001b[1;33m,\u001b[0m \u001b[0md\u001b[0m\u001b[1;33m,\u001b[0m \u001b[0mreference\u001b[0m\u001b[1;33m=\u001b[0m\u001b[0mrx\u001b[0m\u001b[1;33m,\u001b[0m \u001b[0mvalue\u001b[0m\u001b[1;33m=\u001b[0m\u001b[0mv\u001b[0m\u001b[1;33m,\u001b[0m \u001b[0mtermination\u001b[0m\u001b[1;33m=\u001b[0m\u001b[0mt\u001b[0m\u001b[1;33m)\u001b[0m\u001b[1;33m\u001b[0m\u001b[0m\n\u001b[0m\u001b[0;32m    181\u001b[0m \u001b[1;33m\u001b[0m\u001b[0m\n\u001b[0;32m    182\u001b[0m                 \u001b[0mrx\u001b[0m \u001b[1;33m=\u001b[0m \u001b[1;32mNone\u001b[0m\u001b[1;33m\u001b[0m\u001b[0m\n",
      "\u001b[1;32m/data/GitHub/lca-tools/lcatools/entities.py\u001b[0m in \u001b[0;36madd_exchange\u001b[1;34m(self, flow, dirn, reference, value, add_dups, **kwargs)\u001b[0m\n\u001b[0;32m    617\u001b[0m             \u001b[1;32melse\u001b[0m\u001b[1;33m:\u001b[0m\u001b[1;33m\u001b[0m\u001b[0m\n\u001b[0;32m    618\u001b[0m                 \u001b[1;32mtry\u001b[0m\u001b[1;33m:\u001b[0m\u001b[1;33m\u001b[0m\u001b[0m\n\u001b[1;32m--> 619\u001b[1;33m                     \u001b[0me\u001b[0m\u001b[1;33m[\u001b[0m\u001b[0mreference\u001b[0m\u001b[1;33m]\u001b[0m \u001b[1;33m=\u001b[0m \u001b[0mvalue\u001b[0m  \u001b[1;31m# this will catch already-set errors\u001b[0m\u001b[1;33m\u001b[0m\u001b[0m\n\u001b[0m\u001b[0;32m    620\u001b[0m                 \u001b[1;32mexcept\u001b[0m \u001b[0mDuplicateExchangeError\u001b[0m\u001b[1;33m:\u001b[0m\u001b[1;33m\u001b[0m\u001b[0m\n\u001b[0;32m    621\u001b[0m                     \u001b[1;32mif\u001b[0m \u001b[0madd_dups\u001b[0m\u001b[1;33m:\u001b[0m\u001b[1;33m\u001b[0m\u001b[0m\n",
      "\u001b[1;32m/data/GitHub/lca-tools/lcatools/exchanges.py\u001b[0m in \u001b[0;36m__setitem__\u001b[1;34m(self, key, value)\u001b[0m\n\u001b[0;32m    258\u001b[0m     \u001b[1;32mdef\u001b[0m \u001b[0m__setitem__\u001b[0m\u001b[1;33m(\u001b[0m\u001b[0mself\u001b[0m\u001b[1;33m,\u001b[0m \u001b[0mkey\u001b[0m\u001b[1;33m,\u001b[0m \u001b[0mvalue\u001b[0m\u001b[1;33m)\u001b[0m\u001b[1;33m:\u001b[0m\u001b[1;33m\u001b[0m\u001b[0m\n\u001b[0;32m    259\u001b[0m         \u001b[1;32mif\u001b[0m \u001b[0mkey\u001b[0m \u001b[1;32mnot\u001b[0m \u001b[1;32min\u001b[0m \u001b[0mself\u001b[0m\u001b[1;33m.\u001b[0m\u001b[0mprocess\u001b[0m\u001b[1;33m.\u001b[0m\u001b[0mreference_entity\u001b[0m\u001b[1;33m:\u001b[0m\u001b[1;33m\u001b[0m\u001b[0m\n\u001b[1;32m--> 260\u001b[1;33m             \u001b[1;32mraise\u001b[0m \u001b[0mAmbiguousReferenceError\u001b[0m\u001b[1;33m(\u001b[0m\u001b[1;34m'Allocation key is not a reference exchange'\u001b[0m\u001b[1;33m)\u001b[0m\u001b[1;33m\u001b[0m\u001b[0m\n\u001b[0m\u001b[0;32m    261\u001b[0m         \u001b[1;32mif\u001b[0m \u001b[0mkey\u001b[0m \u001b[1;32min\u001b[0m \u001b[0mself\u001b[0m\u001b[1;33m.\u001b[0m\u001b[0m_value_dict\u001b[0m\u001b[1;33m:\u001b[0m\u001b[1;33m\u001b[0m\u001b[0m\n\u001b[0;32m    262\u001b[0m             \u001b[1;31m# print(self._value_dict)\u001b[0m\u001b[1;33m\u001b[0m\u001b[1;33m\u001b[0m\u001b[0m\n",
      "\u001b[1;31mAmbiguousReferenceError\u001b[0m: Allocation key is not a reference exchange"
     ]
    }
   ],
   "source": [
    "%time EA_j = lcatools.archive_from_json(os.path.join(CATALOG, EI32_A))"
   ]
  },
  {
   "cell_type": "code",
   "execution_count": 8,
   "metadata": {
    "collapsed": false,
    "deletable": true,
    "editable": true
   },
   "outputs": [
    {
     "data": {
      "text/plain": [
       "11420"
      ]
     },
     "execution_count": 8,
     "metadata": {},
     "output_type": "execute_result"
    }
   ],
   "source": [
    "len(EA.processes())"
   ]
  },
  {
   "cell_type": "code",
   "execution_count": 9,
   "metadata": {
    "collapsed": false,
    "deletable": true,
    "editable": true
   },
   "outputs": [],
   "source": [
    "ps = EA.search(entity_type='process', Name='yogurt')"
   ]
  },
  {
   "cell_type": "code",
   "execution_count": 10,
   "metadata": {
    "collapsed": false,
    "deletable": true,
    "editable": true
   },
   "outputs": [
    {
     "data": {
      "text/plain": [
       "True"
      ]
     },
     "execution_count": 10,
     "metadata": {},
     "output_type": "execute_result"
    }
   ],
   "source": [
    "str(ps[0]) == 'yogurt production, from cow milk [CA-QC]'"
   ]
  },
  {
   "cell_type": "code",
   "execution_count": 11,
   "metadata": {
    "collapsed": false,
    "deletable": true,
    "editable": true
   },
   "outputs": [],
   "source": [
    "p = ps[0]"
   ]
  },
  {
   "cell_type": "code",
   "execution_count": 12,
   "metadata": {
    "collapsed": false,
    "deletable": true,
    "editable": true
   },
   "outputs": [
    {
     "data": {
      "text/plain": [
       "True"
      ]
     },
     "execution_count": 12,
     "metadata": {},
     "output_type": "execute_result"
    }
   ],
   "source": [
    "p.get_uuid() == '580dc5e1-8866-4caa-848e-456476fde542'"
   ]
  },
  {
   "cell_type": "code",
   "execution_count": 13,
   "metadata": {
    "collapsed": false,
    "deletable": true,
    "editable": true
   },
   "outputs": [
    {
     "name": "stdout",
     "output_type": "stream",
     "text": [
      "yogurt production, from cow milk [CA-QC] has Output: cream, from cow milk [By-product classification: allocatable product] [kg]\n",
      "yogurt production, from cow milk [CA-QC] has Output: cheese, from cow milk, fresh, unripened [By-product classification: allocatable product] [kg]\n",
      "yogurt production, from cow milk [CA-QC] has Output: yogurt, from cow milk [By-product classification: allocatable product] [kg]\n"
     ]
    }
   ],
   "source": [
    "for x in p.reference_entity:\n",
    "    print(str(x))"
   ]
  },
  {
   "cell_type": "code",
   "execution_count": 14,
   "metadata": {
    "collapsed": true,
    "deletable": true,
    "editable": true
   },
   "outputs": [],
   "source": [
    "yog = p.find_reference('yogurt')"
   ]
  },
  {
   "cell_type": "code",
   "execution_count": 15,
   "metadata": {
    "collapsed": false,
    "deletable": true,
    "editable": true
   },
   "outputs": [
    {
     "data": {
      "text/plain": [
       "<lcatools.exchanges.ExchangeValue at 0x7fc81a200eb8>"
      ]
     },
     "execution_count": 15,
     "metadata": {},
     "output_type": "execute_result"
    }
   ],
   "source": [
    "yog"
   ]
  },
  {
   "cell_type": "code",
   "execution_count": 47,
   "metadata": {
    "collapsed": true,
    "deletable": true,
    "editable": true
   },
   "outputs": [],
   "source": [
    "import importlib"
   ]
  },
  {
   "cell_type": "code",
   "execution_count": 50,
   "metadata": {
    "collapsed": false,
    "deletable": true,
    "editable": true
   },
   "outputs": [
    {
     "data": {
      "text/plain": [
       "<module 'lcamatrix.foreground' from '../lcamatrix/foreground.py'>"
      ]
     },
     "execution_count": 50,
     "metadata": {},
     "output_type": "execute_result"
    }
   ],
   "source": [
    "importlib.reload(lcamatrix.foreground)"
   ]
  },
  {
   "cell_type": "code",
   "execution_count": 51,
   "metadata": {
    "collapsed": true,
    "deletable": true,
    "editable": true
   },
   "outputs": [],
   "source": [
    "from lcamatrix.foreground import BackgroundManager"
   ]
  },
  {
   "cell_type": "code",
   "execution_count": 52,
   "metadata": {
    "collapsed": false,
    "deletable": true,
    "editable": true
   },
   "outputs": [],
   "source": [
    "B = BackgroundManager(EA)"
   ]
  },
  {
   "cell_type": "code",
   "execution_count": 31,
   "metadata": {
    "collapsed": true,
    "deletable": true,
    "editable": true
   },
   "outputs": [],
   "source": [
    "import cProfile"
   ]
  },
  {
   "cell_type": "code",
   "execution_count": 62,
   "metadata": {
    "collapsed": false
   },
   "outputs": [
    {
     "data": {
      "text/plain": [
       "2.203999999999997"
      ]
     },
     "execution_count": 62,
     "metadata": {},
     "output_type": "execute_result"
    }
   ],
   "source": [
    "37.782 - 19.522 - 7.111 - 3.904 - 1.211 - 1.16 - 2.217 - .453 \n",
    "# _traverse - exchanges - terminate - add_cutoff - add_interior - _set_lowlink - _check_product_flow - _create_product_flow\n",
    "# leaves remainder:"
   ]
  },
  {
   "cell_type": "code",
   "execution_count": 53,
   "metadata": {
    "collapsed": false,
    "deletable": true,
    "editable": true,
    "scrolled": true
   },
   "outputs": [
    {
     "name": "stdout",
     "output_type": "stream",
     "text": [
      "         83863151 function calls (81764818 primitive calls) in 39.341 seconds\n",
      "\n",
      "   Ordered by: standard name\n",
      "\n",
      "   ncalls  tottime  percall  cumtime  percall filename:lineno(function)\n",
      "        2    0.000    0.000    0.000    0.000 <frozen importlib._bootstrap>:402(parent)\n",
      "        2    0.000    0.000    0.000    0.000 <frozen importlib._bootstrap>:989(_handle_fromlist)\n",
      "        1    0.000    0.000   39.341   39.341 <string>:1(<module>)\n",
      "   603418    0.208    0.000    0.449    0.000 <string>:12(__new__)\n",
      "        4    0.000    0.000    0.001    0.000 _methods.py:25(_amax)\n",
      "        2    0.000    0.000    0.000    0.000 _methods.py:28(_amin)\n",
      "        3    0.000    0.000    0.000    0.000 base.py:1081(isspmatrix)\n",
      "       16    0.000    0.000    0.000    0.000 base.py:181(nnz)\n",
      "        1    0.000    0.000    0.075    0.075 base.py:236(asformat)\n",
      "        1    0.000    0.000    0.010    0.010 base.py:253(processes)\n",
      "        1    0.002    0.002    0.010    0.010 base.py:254(<listcomp>)\n",
      "        4    0.000    0.000    0.000    0.000 base.py:70(__init__)\n",
      "        4    0.000    0.000    0.000    0.000 base.py:77(set_shape)\n",
      "       16    0.000    0.000    0.000    0.000 base.py:99(get_shape)\n",
      "        3    0.000    0.000    0.000    0.000 compressed.py:1021(prune)\n",
      "        2    0.000    0.000    0.000    0.000 compressed.py:116(_set_self)\n",
      "        3    0.000    0.000    0.000    0.000 compressed.py:127(check_format)\n",
      "      3/1    0.000    0.000    0.078    0.078 compressed.py:24(__init__)\n",
      "       12    0.000    0.000    0.000    0.000 compressed.py:99(getnnz)\n",
      "        1    0.000    0.000    0.003    0.003 coo.py:118(__init__)\n",
      "        4    0.000    0.000    0.000    0.000 coo.py:186(getnnz)\n",
      "        1    0.000    0.000    0.001    0.001 coo.py:212(_check)\n",
      "        1    0.000    0.000    0.075    0.075 coo.py:261(tocsc)\n",
      "        1    0.000    0.000    0.074    0.074 coo.py:449(sum_duplicates)\n",
      "        1    0.005    0.005    0.074    0.074 coo.py:460(_sum_duplicates)\n",
      "        9    0.000    0.000    0.000    0.000 csc.py:215(_swap)\n",
      "        4    0.000    0.000    0.000    0.000 data.py:22(__init__)\n",
      "        2    0.000    0.000    0.000    0.000 data.py:25(_get_dtype)\n",
      "    83586    0.018    0.000    0.018    0.000 entities.py:102(get_external_ref)\n",
      "  6474084    0.762    0.000    0.762    0.000 entities.py:113(get_uuid)\n",
      "  6613160    0.805    0.000    0.805    0.000 entities.py:120(uuid)\n",
      "  1841179    0.514    0.000    0.704    0.000 entities.py:254(__hash__)\n",
      "    41793    0.070    0.000    0.103    0.000 entities.py:257(__eq__)\n",
      "   802041    0.834    0.000   19.315    0.000 entities.py:425(exchanges)\n",
      "   806229    0.199    0.000    0.290    0.000 entities.py:443(<lambda>)\n",
      "    20566    0.070    0.000    0.344    0.000 entities.py:456(find_reference)\n",
      "    20566    0.018    0.000    0.051    0.000 entities.py:471(<genexpr>)\n",
      "    20566    0.035    0.000    0.144    0.000 entities.py:493(references)\n",
      "    10283    0.025    0.000    0.186    0.000 entities.py:501(reference)\n",
      "    10283    0.011    0.000    0.155    0.000 entities.py:504(<listcomp>)\n",
      "    10283    0.071    0.000    0.468    0.000 entities.py:537(is_allocated)\n",
      "   415346    0.105    0.000    0.105    0.000 entities.py:77(origin)\n",
      "  3230932    3.068    0.000    4.283    0.000 exchanges.py:101(__hash__)\n",
      "  1471324    4.702    0.000    6.979    0.000 exchanges.py:104(__eq__)\n",
      "   775726    1.823    0.000   15.978    0.000 exchanges.py:173(from_allocated)\n",
      "   775726    1.290    0.000    2.013    0.000 exchanges.py:200(__init__)\n",
      "  2181376    0.304    0.000    0.304    0.000 exchanges.py:209(value)\n",
      "    30986    0.020    0.000    0.106    0.000 exchanges.py:235(is_allocated)\n",
      "   775726    2.155    0.000   11.748    0.000 exchanges.py:238(__getitem__)\n",
      "   775726    0.724    0.000    0.724    0.000 exchanges.py:49(__init__)\n",
      "  5269826    0.609    0.000    0.609    0.000 exchanges.py:85(process)\n",
      "  5268076    0.689    0.000    0.689    0.000 exchanges.py:89(flow)\n",
      "  5898050    0.804    0.000    0.804    0.000 exchanges.py:93(direction)\n",
      "  4831716    0.636    0.000    0.636    0.000 exchanges.py:97(termination)\n",
      "    10283    0.017    0.000    0.041    0.000 foreground.py:104(add_to_stack)\n",
      "      187    0.014    0.000    0.035    0.000 foreground.py:112(label_scc)\n",
      "        1    0.000    0.000    0.000    0.000 foreground.py:127(_set_background)\n",
      "    186/1    0.000    0.000    0.000    0.000 foreground.py:136(_set_downstream)\n",
      "        1    0.254    0.254    0.678    0.678 foreground.py:150(add_to_graph)\n",
      "        1    0.000    0.000    0.000    0.000 foreground.py:163(background)\n",
      "    10283    0.002    0.000    0.002    0.000 foreground.py:167(background_flows)\n",
      "   502396    0.182    0.000    0.387    0.000 foreground.py:178(scc_id)\n",
      "      186    0.000    0.000    0.000    0.000 foreground.py:181(scc)\n",
      "    10283    0.064    0.000    0.324    0.000 foreground.py:199(__init__)\n",
      "    10283    0.019    0.000    0.063    0.000 foreground.py:220(<listcomp>)\n",
      "   686732    0.288    0.000    0.999    0.000 foreground.py:233(__eq__)\n",
      "  3042359    0.854    0.000    1.220    0.000 foreground.py:244(__hash__)\n",
      "   784386    0.105    0.000    0.105    0.000 foreground.py:247(index)\n",
      "    10470    0.001    0.000    0.001    0.000 foreground.py:252(key)\n",
      "    10283    0.002    0.000    0.002    0.000 foreground.py:256(flow)\n",
      "    10283    0.002    0.000    0.002    0.000 foreground.py:260(process)\n",
      "   603418    0.114    0.000    0.114    0.000 foreground.py:264(inbound_ev)\n",
      "     1937    0.002    0.000    0.003    0.000 foreground.py:274(__init__)\n",
      "   700566    0.270    0.000    1.350    0.000 foreground.py:289(__eq__)\n",
      "   702503    0.238    0.000    0.324    0.000 foreground.py:300(__hash__)\n",
      "   695266    0.360    0.000    0.891    0.000 foreground.py:349(index)\n",
      "   343366    0.093    0.000    0.093    0.000 foreground.py:352(product_flow)\n",
      "   372277    0.156    0.000    0.279    0.000 foreground.py:355(_lowlink)\n",
      "    10283    0.033    0.000    0.104    0.000 foreground.py:358(_add_product_flow)\n",
      "   361995    0.510    0.000    1.160    0.000 foreground.py:364(_set_lowlink)\n",
      "   353649    0.762    0.000    2.217    0.000 foreground.py:376(_check_product_flow)\n",
      "    10283    0.024    0.000    0.453    0.000 foreground.py:392(_create_product_flow)\n",
      "   352220    0.631    0.000    2.226    0.000 foreground.py:398(_add_emission)\n",
      "   791758    1.354    0.000    7.111    0.000 foreground.py:421(terminate)\n",
      "        1    0.012    0.012    0.865    0.865 foreground.py:453(_construct_a_matrix)\n",
      "        1    0.003    0.003    0.008    0.008 foreground.py:454(<listcomp>)\n",
      "    10283    0.002    0.000    0.002    0.000 foreground.py:455(<genexpr>)\n",
      "        1    0.575    0.575    0.673    0.673 foreground.py:456(<listcomp>)\n",
      "        1    0.003    0.003    1.549    1.549 foreground.py:461(_update_component_graph)\n",
      "        1    0.000    0.000   39.341   39.341 foreground.py:469(add_ref_product)\n",
      "  10283/1    1.496    0.000   37.782   37.782 foreground.py:497(_traverse_term_exchanges)\n",
      "    10283    0.207    0.000   19.522    0.002 foreground.py:505(<listcomp>)\n",
      "   438110    1.062    0.000    3.904    0.000 foreground.py:536(add_cutoff)\n",
      "   353648    0.761    0.000    1.211    0.000 foreground.py:549(add_interior)\n",
      "   353649    0.210    0.000    0.337    0.000 foreground.py:97(check_stack)\n",
      "        1    0.000    0.000    0.000    0.000 fromnumeric.py:1364(ravel)\n",
      "        1    0.000    0.000    0.001    0.001 fromnumeric.py:1471(nonzero)\n",
      "        2    0.000    0.000    0.001    0.000 fromnumeric.py:2154(amax)\n",
      "        1    0.000    0.000    0.001    0.001 fromnumeric.py:55(_wrapfunc)\n",
      "        1    0.000    0.000    0.000    0.000 function_base.py:4951(append)\n",
      "        7    0.000    0.000    0.000    0.000 getlimits.py:250(__init__)\n",
      "        7    0.000    0.000    0.000    0.000 getlimits.py:275(max)\n",
      "   353648    1.062    0.000    4.872    0.000 interfaces.py:118(_get_entity)\n",
      "   353648    0.217    0.000    5.089    0.000 interfaces.py:143(__getitem__)\n",
      "   353648    0.705    0.000    2.752    0.000 interfaces.py:29(to_uuid)\n",
      "    11421    0.007    0.000    0.007    0.000 interfaces.py:311(_entities_by_type)\n",
      "   353648    0.162    0.000    2.914    0.000 interfaces.py:54(_key_to_id)\n",
      "       22    0.000    0.000    0.000    0.000 numeric.py:463(asarray)\n",
      "        2    0.000    0.000    0.000    0.000 numeric.py:534(asanyarray)\n",
      "        7    0.000    0.000    0.000    0.000 sputils.py:119(get_index_dtype)\n",
      "        2    0.000    0.000    0.000    0.000 sputils.py:188(isintlike)\n",
      "        1    0.000    0.000    0.000    0.000 sputils.py:20(upcast)\n",
      "        3    0.000    0.000    0.000    0.000 sputils.py:200(isshape)\n",
      "        2    0.000    0.000    0.000    0.000 sputils.py:215(issequence)\n",
      "        4    0.000    0.000    0.000    0.000 sputils.py:91(to_native)\n",
      "   353648    0.866    0.000    1.373    0.000 uuid.py:106(__init__)\n",
      "   707296    0.391    0.000    0.497    0.000 uuid.py:186(__eq__)\n",
      "   707296    0.200    0.000    0.301    0.000 uuid.py:214(__hash__)\n",
      "   603418    0.241    0.000    0.241    0.000 {built-in method __new__ of type object at 0x7fc855e71be0}\n",
      "        1    0.000    0.000   39.341   39.341 {built-in method builtins.exec}\n",
      "        2    0.000    0.000    0.000    0.000 {built-in method builtins.getattr}\n",
      "        2    0.000    0.000    0.000    0.000 {built-in method builtins.hasattr}\n",
      "12298866/10211002    2.067    0.000    2.752    0.000 {built-in method builtins.hash}\n",
      "  2646060    0.431    0.000    0.431    0.000 {built-in method builtins.isinstance}\n",
      "   428353    0.059    0.000    0.059    0.000 {built-in method builtins.len}\n",
      "        4    0.000    0.000    0.000    0.000 {built-in method builtins.max}\n",
      "   351712    0.134    0.000    0.134    0.000 {built-in method builtins.min}\n",
      "    10283    0.005    0.000    0.050    0.000 {built-in method builtins.next}\n",
      "    10283    0.206    0.000    0.496    0.000 {built-in method builtins.sorted}\n",
      "       31    0.093    0.003    0.093    0.003 {built-in method numpy.core.multiarray.array}\n",
      "        1    0.000    0.000    0.000    0.000 {built-in method numpy.core.multiarray.concatenate}\n",
      "        2    0.000    0.000    0.000    0.000 {built-in method numpy.core.multiarray.empty_like}\n",
      "        1    0.000    0.000    0.000    0.000 {built-in method numpy.core.multiarray.empty}\n",
      "        1    0.065    0.065    0.065    0.065 {built-in method numpy.core.multiarray.lexsort}\n",
      "        1    0.001    0.001    0.001    0.001 {built-in method scipy.sparse._sparsetools.coo_tocsr}\n",
      "        1    0.000    0.000    0.000    0.000 {built-in method sys.getrecursionlimit}\n",
      "        2    0.000    0.000    0.000    0.000 {built-in method sys.setrecursionlimit}\n",
      "   523147    0.045    0.000    0.053    0.000 {method 'add' of 'set' objects}\n",
      "   656907    0.072    0.000    0.072    0.000 {method 'append' of 'list' objects}\n",
      "        2    0.000    0.000    0.000    0.000 {method 'astype' of 'numpy.ndarray' objects}\n",
      "   353648    0.071    0.000    0.071    0.000 {method 'count' of 'list' objects}\n",
      "        1    0.000    0.000    0.000    0.000 {method 'disable' of '_lsprof.Profiler' objects}\n",
      "        1    0.003    0.003    0.003    0.003 {method 'extend' of 'list' objects}\n",
      "        1    0.000    0.000    0.000    0.000 {method 'get' of 'dict' objects}\n",
      "   353648    0.084    0.000    0.084    0.000 {method 'groups' of '_sre.SRE_Match' objects}\n",
      "        1    0.000    0.000    0.000    0.000 {method 'items' of 'dict' objects}\n",
      "        2    0.000    0.000    0.000    0.000 {method 'max' of 'numpy.ndarray' objects}\n",
      "        2    0.000    0.000    0.000    0.000 {method 'min' of 'numpy.ndarray' objects}\n",
      "        4    0.000    0.000    0.000    0.000 {method 'newbyteorder' of 'numpy.dtype' objects}\n",
      "        1    0.001    0.001    0.001    0.001 {method 'nonzero' of 'numpy.ndarray' objects}\n",
      "    10283    0.001    0.000    0.001    0.000 {method 'pop' of 'list' objects}\n",
      "        2    0.000    0.000    0.000    0.000 {method 'ravel' of 'numpy.ndarray' objects}\n",
      "        6    0.002    0.000    0.002    0.000 {method 'reduce' of 'numpy.ufunc' objects}\n",
      "        1    0.002    0.002    0.002    0.002 {method 'reduceat' of 'numpy.ufunc' objects}\n",
      "    10283    0.004    0.000    0.009    0.000 {method 'remove' of 'set' objects}\n",
      "  1060944    0.307    0.000    0.307    0.000 {method 'replace' of 'str' objects}\n",
      "        2    0.000    0.000    0.000    0.000 {method 'rpartition' of 'str' objects}\n",
      "   353648    0.495    0.000    0.495    0.000 {method 'search' of '_sre.SRE_Pattern' objects}\n",
      "   353648    0.081    0.000    0.081    0.000 {method 'strip' of 'str' objects}\n",
      "    20567    0.004    0.000    0.004    0.000 {method 'values' of 'dict' objects}\n",
      "\n",
      "\n"
     ]
    }
   ],
   "source": [
    "cProfile.run('B.add_ref_product(yog.flow, p)')"
   ]
  },
  {
   "cell_type": "code",
   "execution_count": 54,
   "metadata": {
    "collapsed": false
   },
   "outputs": [
    {
     "name": "stdout",
     "output_type": "stream",
     "text": [
      "CPU times: user 3.33 ms, sys: 3.33 ms, total: 6.67 ms\n",
      "Wall time: 6.26 ms\n"
     ]
    }
   ],
   "source": [
    "%time bg = [b.index for b in B.tstack.background_flows()]"
   ]
  },
  {
   "cell_type": "code",
   "execution_count": 55,
   "metadata": {
    "collapsed": false
   },
   "outputs": [
    {
     "name": "stdout",
     "output_type": "stream",
     "text": [
      "CPU times: user 0 ns, sys: 0 ns, total: 0 ns\n",
      "Wall time: 3.07 ms\n"
     ]
    }
   ],
   "source": [
    "%time bg_dict = dict((v, k) for k, v in enumerate(bg))"
   ]
  },
  {
   "cell_type": "code",
   "execution_count": 56,
   "metadata": {
    "collapsed": false
   },
   "outputs": [
    {
     "name": "stdout",
     "output_type": "stream",
     "text": [
      "CPU times: user 690 ms, sys: 20 ms, total: 710 ms\n",
      "Wall time: 708 ms\n"
     ]
    }
   ],
   "source": [
    "%time B._construct_b_matrix(bg_dict)"
   ]
  },
  {
   "cell_type": "code",
   "execution_count": 58,
   "metadata": {
    "collapsed": false
   },
   "outputs": [
    {
     "data": {
      "text/plain": [
       "[MatrixEntry(parent=<lcamatrix.foreground.ProductFlow object at 0x7fc807651278>, term=<lcamatrix.foreground.Emission object at 0x7fc80e21de80>, value=0.00391255795812271),\n",
       " MatrixEntry(parent=<lcamatrix.foreground.ProductFlow object at 0x7fc807651278>, term=<lcamatrix.foreground.Emission object at 0x7fc80e037208>, value=5.25921928345733e-09),\n",
       " MatrixEntry(parent=<lcamatrix.foreground.ProductFlow object at 0x7fc807651278>, term=<lcamatrix.foreground.Emission object at 0x7fc80e0cf7b8>, value=1.33893853637212e-07)]"
      ]
     },
     "execution_count": 58,
     "metadata": {},
     "output_type": "execute_result"
    }
   ],
   "source": [
    "B._cutoff"
   ]
  },
  {
   "cell_type": "code",
   "execution_count": 60,
   "metadata": {
    "collapsed": false
   },
   "outputs": [
    {
     "data": {
      "text/plain": [
       "39.324999999999996"
      ]
     },
     "execution_count": 60,
     "metadata": {},
     "output_type": "execute_result"
    }
   ],
   "source": [
    ".865 + .678 + 37.782"
   ]
  },
  {
   "cell_type": "code",
   "execution_count": 34,
   "metadata": {
    "collapsed": false
   },
   "outputs": [],
   "source": [
    "pd = EA['55ee5166-8fd9-4955-937c-69b0a66f30ee']"
   ]
  },
  {
   "cell_type": "code",
   "execution_count": 37,
   "metadata": {
    "collapsed": false
   },
   "outputs": [],
   "source": [
    "refs = list(pd.reference_entity)"
   ]
  },
  {
   "cell_type": "code",
   "execution_count": 49,
   "metadata": {
    "collapsed": false
   },
   "outputs": [
    {
     "data": {
      "text/plain": [
       "True"
      ]
     },
     "execution_count": 49,
     "metadata": {},
     "output_type": "execute_result"
    }
   ],
   "source": [
    "pd.is_allocated(refs[0])"
   ]
  },
  {
   "cell_type": "code",
   "execution_count": 56,
   "metadata": {
    "collapsed": false,
    "deletable": true,
    "editable": true
   },
   "outputs": [
    {
     "data": {
      "text/plain": [
       "True"
      ]
     },
     "execution_count": 56,
     "metadata": {},
     "output_type": "execute_result"
    }
   ],
   "source": [
    "len(F._cutoff) + len(F._interior) == 791758"
   ]
  },
  {
   "cell_type": "code",
   "execution_count": 59,
   "metadata": {
    "collapsed": false,
    "deletable": true,
    "editable": true
   },
   "outputs": [
    {
     "data": {
      "text/plain": [
       "[1,\n",
       " 1,\n",
       " 1,\n",
       " 1,\n",
       " 1,\n",
       " 1,\n",
       " 1,\n",
       " 1,\n",
       " 1,\n",
       " 1,\n",
       " 1,\n",
       " 1,\n",
       " 1,\n",
       " 1,\n",
       " 1,\n",
       " 1,\n",
       " 1,\n",
       " 1,\n",
       " 1,\n",
       " 1,\n",
       " 1,\n",
       " 1,\n",
       " 1,\n",
       " 1,\n",
       " 1,\n",
       " 1,\n",
       " 1,\n",
       " 1,\n",
       " 1,\n",
       " 1,\n",
       " 1,\n",
       " 1,\n",
       " 1,\n",
       " 1,\n",
       " 1,\n",
       " 1,\n",
       " 1,\n",
       " 1,\n",
       " 1,\n",
       " 1,\n",
       " 1,\n",
       " 1,\n",
       " 1,\n",
       " 1,\n",
       " 1,\n",
       " 1,\n",
       " 1,\n",
       " 1,\n",
       " 1,\n",
       " 1,\n",
       " 1,\n",
       " 1,\n",
       " 1,\n",
       " 1,\n",
       " 1,\n",
       " 1,\n",
       " 1,\n",
       " 1,\n",
       " 1,\n",
       " 1,\n",
       " 1,\n",
       " 1,\n",
       " 1,\n",
       " 1,\n",
       " 1,\n",
       " 1,\n",
       " 1,\n",
       " 1,\n",
       " 1,\n",
       " 1,\n",
       " 1,\n",
       " 1,\n",
       " 1,\n",
       " 1,\n",
       " 1,\n",
       " 1,\n",
       " 1,\n",
       " 1,\n",
       " 1,\n",
       " 1,\n",
       " 1,\n",
       " 1,\n",
       " 1,\n",
       " 1,\n",
       " 1,\n",
       " 1,\n",
       " 1,\n",
       " 1,\n",
       " 1,\n",
       " 1,\n",
       " 1,\n",
       " 1,\n",
       " 1,\n",
       " 1,\n",
       " 1,\n",
       " 1,\n",
       " 1,\n",
       " 1,\n",
       " 1,\n",
       " 1,\n",
       " 1,\n",
       " 1,\n",
       " 1,\n",
       " 1,\n",
       " 1,\n",
       " 1,\n",
       " 1,\n",
       " 1,\n",
       " 1,\n",
       " 1,\n",
       " 1,\n",
       " 1,\n",
       " 1,\n",
       " 1,\n",
       " 1,\n",
       " 1,\n",
       " 1,\n",
       " 1,\n",
       " 1,\n",
       " 1,\n",
       " 1,\n",
       " 1,\n",
       " 1,\n",
       " 1,\n",
       " 1,\n",
       " 1,\n",
       " 1,\n",
       " 1,\n",
       " 1,\n",
       " 1,\n",
       " 1,\n",
       " 1,\n",
       " 1,\n",
       " 1,\n",
       " 1,\n",
       " 1,\n",
       " 1,\n",
       " 1,\n",
       " 1,\n",
       " 1,\n",
       " 1,\n",
       " 1,\n",
       " 1,\n",
       " 1,\n",
       " 1,\n",
       " 1,\n",
       " 1,\n",
       " 1,\n",
       " 1,\n",
       " 1,\n",
       " 1,\n",
       " 1,\n",
       " 1,\n",
       " 1,\n",
       " 1,\n",
       " 1,\n",
       " 1,\n",
       " 1,\n",
       " 1,\n",
       " 1,\n",
       " 1,\n",
       " 1,\n",
       " 1,\n",
       " 1,\n",
       " 1,\n",
       " 1,\n",
       " 1,\n",
       " 1,\n",
       " 1,\n",
       " 1,\n",
       " 1,\n",
       " 1,\n",
       " 1,\n",
       " 1,\n",
       " 1,\n",
       " 1,\n",
       " 1,\n",
       " 1,\n",
       " 1,\n",
       " 1,\n",
       " 1,\n",
       " 1,\n",
       " 1,\n",
       " 1,\n",
       " 1,\n",
       " 10097,\n",
       " 1]"
      ]
     },
     "execution_count": 59,
     "metadata": {},
     "output_type": "execute_result"
    }
   ],
   "source": [
    "[len(t) for t in F.tstack._sccs.values()]"
   ]
  },
  {
   "cell_type": "code",
   "execution_count": 68,
   "metadata": {
    "collapsed": false,
    "deletable": true,
    "editable": true
   },
   "outputs": [],
   "source": [
    "pf = list(F._product_flows.keys())"
   ]
  },
  {
   "cell_type": "code",
   "execution_count": 74,
   "metadata": {
    "collapsed": false,
    "deletable": true,
    "editable": true
   },
   "outputs": [
    {
     "data": {
      "text/plain": [
       "1"
      ]
     },
     "execution_count": 74,
     "metadata": {},
     "output_type": "execute_result"
    }
   ],
   "source": [
    "F.tstack.scc_id(pf[3336])"
   ]
  },
  {
   "cell_type": "code",
   "execution_count": 79,
   "metadata": {
    "collapsed": false,
    "deletable": true,
    "editable": true
   },
   "outputs": [
    {
     "data": {
      "text/plain": [
       "['market for electricity, low voltage: electricity, low voltage',\n",
       " 'electricity production, photovoltaic, 3kWp slanted-roof installation, multi-Si, panel, mounted: electricity, low voltage']"
      ]
     },
     "execution_count": 79,
     "metadata": {},
     "output_type": "execute_result"
    }
   ],
   "source": [
    "['%s: %s' % (pf[i]._process['Name'], pf[i]._flow['Name']) for i in (3337, 3338)]"
   ]
  },
  {
   "cell_type": "code",
   "execution_count": 80,
   "metadata": {
    "collapsed": true,
    "deletable": true,
    "editable": true
   },
   "outputs": [],
   "source": [
    "from collections import defaultdict"
   ]
  },
  {
   "cell_type": "code",
   "execution_count": 81,
   "metadata": {
    "collapsed": false,
    "deletable": true,
    "editable": true
   },
   "outputs": [],
   "source": [
    "d = defaultdict(set)"
   ]
  },
  {
   "cell_type": "code",
   "execution_count": 84,
   "metadata": {
    "collapsed": true,
    "deletable": true,
    "editable": true
   },
   "outputs": [],
   "source": [
    "def make_scc_dict(matrix):\n",
    "    # exchs is a list of MatrixEntries (parent, term, exch)\n",
    "    # corresponds to column, row, value\n",
    "    # we want a list of nonzero columns for each row\n",
    "    d = defaultdict(set)\n",
    "    for i in matrix._interior:\n",
    "        d[matrix.tstack.scc_id(i.term)].add(matrix.tstack.scc_id(i.parent))\n",
    "    return d"
   ]
  },
  {
   "cell_type": "code",
   "execution_count": 99,
   "metadata": {
    "collapsed": true,
    "deletable": true,
    "editable": true
   },
   "outputs": [],
   "source": [
    "import json"
   ]
  },
  {
   "cell_type": "code",
   "execution_count": 107,
   "metadata": {
    "collapsed": false,
    "deletable": true,
    "editable": true
   },
   "outputs": [],
   "source": [
    "ind = None\n",
    "ml = 0\n",
    "for k, t in F.tstack._sccs.items():\n",
    "    if len(t) > ml:\n",
    "        ind = k\n",
    "        ml = len(t)"
   ]
  },
  {
   "cell_type": "code",
   "execution_count": 118,
   "metadata": {
    "collapsed": false,
    "deletable": true,
    "editable": true
   },
   "outputs": [
    {
     "data": {
      "text/plain": [
       "353648"
      ]
     },
     "execution_count": 118,
     "metadata": {},
     "output_type": "execute_result"
    }
   ],
   "source": [
    "len(F._interior)"
   ]
  },
  {
   "cell_type": "code",
   "execution_count": 122,
   "metadata": {
    "collapsed": false,
    "deletable": true,
    "editable": true
   },
   "outputs": [],
   "source": [
    "co = F._cutoff[33700]"
   ]
  },
  {
   "cell_type": "code",
   "execution_count": 135,
   "metadata": {
    "collapsed": false,
    "deletable": true,
    "editable": true
   },
   "outputs": [
    {
     "data": {
      "text/plain": [
       "438109"
      ]
     },
     "execution_count": 135,
     "metadata": {},
     "output_type": "execute_result"
    }
   ],
   "source": [
    "len(F._cutoff)"
   ]
  },
  {
   "cell_type": "code",
   "execution_count": 134,
   "metadata": {
    "collapsed": true,
    "deletable": true,
    "editable": true
   },
   "outputs": [],
   "source": [
    "F._cutoff.remove(co)"
   ]
  },
  {
   "cell_type": "code",
   "execution_count": 132,
   "metadata": {
    "collapsed": false,
    "deletable": true,
    "editable": true
   },
   "outputs": [
    {
     "data": {
      "text/plain": [
       "'Output'"
      ]
     },
     "execution_count": 132,
     "metadata": {},
     "output_type": "execute_result"
    }
   ],
   "source": [
    "co.exchange.direction"
   ]
  },
  {
   "cell_type": "code",
   "execution_count": 110,
   "metadata": {
    "collapsed": false,
    "deletable": true,
    "editable": true
   },
   "outputs": [
    {
     "ename": "TypeError",
     "evalue": "object of type 'NoneType' has no len()",
     "output_type": "error",
     "traceback": [
      "\u001b[0;31m---------------------------------------------------------------------------\u001b[0m",
      "\u001b[0;31mTypeError\u001b[0m                                 Traceback (most recent call last)",
      "\u001b[0;32m<ipython-input-110-48ab06a8724d>\u001b[0m in \u001b[0;36m<module>\u001b[0;34m()\u001b[0m\n\u001b[0;32m----> 1\u001b[0;31m \u001b[0mlen\u001b[0m\u001b[0;34m(\u001b[0m\u001b[0;32mNone\u001b[0m\u001b[0;34m)\u001b[0m\u001b[0;34m\u001b[0m\u001b[0m\n\u001b[0m",
      "\u001b[0;31mTypeError\u001b[0m: object of type 'NoneType' has no len()"
     ]
    }
   ],
   "source": [
    "len(None)"
   ]
  },
  {
   "cell_type": "code",
   "execution_count": 100,
   "metadata": {
    "collapsed": false,
    "deletable": true,
    "editable": true
   },
   "outputs": [
    {
     "ename": "TypeError",
     "evalue": "Object of type 'ProductFlow' is not JSON serializable",
     "output_type": "error",
     "traceback": [
      "\u001b[0;31m---------------------------------------------------------------------------\u001b[0m",
      "\u001b[0;31mTypeError\u001b[0m                                 Traceback (most recent call last)",
      "\u001b[0;32m<ipython-input-100-4bac3d84ffe6>\u001b[0m in \u001b[0;36m<module>\u001b[0;34m()\u001b[0m\n\u001b[0;32m----> 1\u001b[0;31m \u001b[0mjson\u001b[0m\u001b[0;34m.\u001b[0m\u001b[0mdumps\u001b[0m\u001b[0;34m(\u001b[0m\u001b[0mF\u001b[0m\u001b[0;34m.\u001b[0m\u001b[0m_interior\u001b[0m\u001b[0;34m[\u001b[0m\u001b[0;36m0\u001b[0m\u001b[0;34m]\u001b[0m\u001b[0;34m)\u001b[0m\u001b[0;34m\u001b[0m\u001b[0m\n\u001b[0m",
      "\u001b[0;32m/usr/lib64/python3.6/json/__init__.py\u001b[0m in \u001b[0;36mdumps\u001b[0;34m(obj, skipkeys, ensure_ascii, check_circular, allow_nan, cls, indent, separators, default, sort_keys, **kw)\u001b[0m\n\u001b[1;32m    229\u001b[0m         \u001b[0mcls\u001b[0m \u001b[0;32mis\u001b[0m \u001b[0;32mNone\u001b[0m \u001b[0;32mand\u001b[0m \u001b[0mindent\u001b[0m \u001b[0;32mis\u001b[0m \u001b[0;32mNone\u001b[0m \u001b[0;32mand\u001b[0m \u001b[0mseparators\u001b[0m \u001b[0;32mis\u001b[0m \u001b[0;32mNone\u001b[0m \u001b[0;32mand\u001b[0m\u001b[0;34m\u001b[0m\u001b[0m\n\u001b[1;32m    230\u001b[0m         default is None and not sort_keys and not kw):\n\u001b[0;32m--> 231\u001b[0;31m         \u001b[0;32mreturn\u001b[0m \u001b[0m_default_encoder\u001b[0m\u001b[0;34m.\u001b[0m\u001b[0mencode\u001b[0m\u001b[0;34m(\u001b[0m\u001b[0mobj\u001b[0m\u001b[0;34m)\u001b[0m\u001b[0;34m\u001b[0m\u001b[0m\n\u001b[0m\u001b[1;32m    232\u001b[0m     \u001b[0;32mif\u001b[0m \u001b[0mcls\u001b[0m \u001b[0;32mis\u001b[0m \u001b[0;32mNone\u001b[0m\u001b[0;34m:\u001b[0m\u001b[0;34m\u001b[0m\u001b[0m\n\u001b[1;32m    233\u001b[0m         \u001b[0mcls\u001b[0m \u001b[0;34m=\u001b[0m \u001b[0mJSONEncoder\u001b[0m\u001b[0;34m\u001b[0m\u001b[0m\n",
      "\u001b[0;32m/usr/lib64/python3.6/json/encoder.py\u001b[0m in \u001b[0;36mencode\u001b[0;34m(self, o)\u001b[0m\n\u001b[1;32m    197\u001b[0m         \u001b[0;31m# exceptions aren't as detailed.  The list call should be roughly\u001b[0m\u001b[0;34m\u001b[0m\u001b[0;34m\u001b[0m\u001b[0m\n\u001b[1;32m    198\u001b[0m         \u001b[0;31m# equivalent to the PySequence_Fast that ''.join() would do.\u001b[0m\u001b[0;34m\u001b[0m\u001b[0;34m\u001b[0m\u001b[0m\n\u001b[0;32m--> 199\u001b[0;31m         \u001b[0mchunks\u001b[0m \u001b[0;34m=\u001b[0m \u001b[0mself\u001b[0m\u001b[0;34m.\u001b[0m\u001b[0miterencode\u001b[0m\u001b[0;34m(\u001b[0m\u001b[0mo\u001b[0m\u001b[0;34m,\u001b[0m \u001b[0m_one_shot\u001b[0m\u001b[0;34m=\u001b[0m\u001b[0;32mTrue\u001b[0m\u001b[0;34m)\u001b[0m\u001b[0;34m\u001b[0m\u001b[0m\n\u001b[0m\u001b[1;32m    200\u001b[0m         \u001b[0;32mif\u001b[0m \u001b[0;32mnot\u001b[0m \u001b[0misinstance\u001b[0m\u001b[0;34m(\u001b[0m\u001b[0mchunks\u001b[0m\u001b[0;34m,\u001b[0m \u001b[0;34m(\u001b[0m\u001b[0mlist\u001b[0m\u001b[0;34m,\u001b[0m \u001b[0mtuple\u001b[0m\u001b[0;34m)\u001b[0m\u001b[0;34m)\u001b[0m\u001b[0;34m:\u001b[0m\u001b[0;34m\u001b[0m\u001b[0m\n\u001b[1;32m    201\u001b[0m             \u001b[0mchunks\u001b[0m \u001b[0;34m=\u001b[0m \u001b[0mlist\u001b[0m\u001b[0;34m(\u001b[0m\u001b[0mchunks\u001b[0m\u001b[0;34m)\u001b[0m\u001b[0;34m\u001b[0m\u001b[0m\n",
      "\u001b[0;32m/usr/lib64/python3.6/json/encoder.py\u001b[0m in \u001b[0;36miterencode\u001b[0;34m(self, o, _one_shot)\u001b[0m\n\u001b[1;32m    255\u001b[0m                 \u001b[0mself\u001b[0m\u001b[0;34m.\u001b[0m\u001b[0mkey_separator\u001b[0m\u001b[0;34m,\u001b[0m \u001b[0mself\u001b[0m\u001b[0;34m.\u001b[0m\u001b[0mitem_separator\u001b[0m\u001b[0;34m,\u001b[0m \u001b[0mself\u001b[0m\u001b[0;34m.\u001b[0m\u001b[0msort_keys\u001b[0m\u001b[0;34m,\u001b[0m\u001b[0;34m\u001b[0m\u001b[0m\n\u001b[1;32m    256\u001b[0m                 self.skipkeys, _one_shot)\n\u001b[0;32m--> 257\u001b[0;31m         \u001b[0;32mreturn\u001b[0m \u001b[0m_iterencode\u001b[0m\u001b[0;34m(\u001b[0m\u001b[0mo\u001b[0m\u001b[0;34m,\u001b[0m \u001b[0;36m0\u001b[0m\u001b[0;34m)\u001b[0m\u001b[0;34m\u001b[0m\u001b[0m\n\u001b[0m\u001b[1;32m    258\u001b[0m \u001b[0;34m\u001b[0m\u001b[0m\n\u001b[1;32m    259\u001b[0m def _make_iterencode(markers, _default, _encoder, _indent, _floatstr,\n",
      "\u001b[0;32m/usr/lib64/python3.6/json/encoder.py\u001b[0m in \u001b[0;36mdefault\u001b[0;34m(self, o)\u001b[0m\n\u001b[1;32m    178\u001b[0m         \"\"\"\n\u001b[1;32m    179\u001b[0m         raise TypeError(\"Object of type '%s' is not JSON serializable\" %\n\u001b[0;32m--> 180\u001b[0;31m                         o.__class__.__name__)\n\u001b[0m\u001b[1;32m    181\u001b[0m \u001b[0;34m\u001b[0m\u001b[0m\n\u001b[1;32m    182\u001b[0m     \u001b[0;32mdef\u001b[0m \u001b[0mencode\u001b[0m\u001b[0;34m(\u001b[0m\u001b[0mself\u001b[0m\u001b[0;34m,\u001b[0m \u001b[0mo\u001b[0m\u001b[0;34m)\u001b[0m\u001b[0;34m:\u001b[0m\u001b[0;34m\u001b[0m\u001b[0m\n",
      "\u001b[0;31mTypeError\u001b[0m: Object of type 'ProductFlow' is not JSON serializable"
     ]
    }
   ],
   "source": [
    "json.dumps(F._interior[0])"
   ]
  },
  {
   "cell_type": "code",
   "execution_count": 85,
   "metadata": {
    "collapsed": false,
    "deletable": true,
    "editable": true
   },
   "outputs": [
    {
     "name": "stdout",
     "output_type": "stream",
     "text": [
      "CPU times: user 510 ms, sys: 0 ns, total: 510 ms\n",
      "Wall time: 510 ms\n"
     ]
    }
   ],
   "source": [
    "%time d = make_scc_dict(F)"
   ]
  },
  {
   "cell_type": "code",
   "execution_count": 90,
   "metadata": {
    "collapsed": false,
    "deletable": true,
    "editable": true
   },
   "outputs": [
    {
     "data": {
      "text/plain": [
       "['treatment of lignite ash, opencast refill [DE]']"
      ]
     },
     "execution_count": 90,
     "metadata": {},
     "output_type": "execute_result"
    }
   ],
   "source": [
    "[str(p._process) for p in F.tstack._sccs[815]]"
   ]
  },
  {
   "cell_type": "code",
   "execution_count": 93,
   "metadata": {
    "collapsed": false,
    "deletable": true,
    "editable": true
   },
   "outputs": [],
   "source": [
    "ds = list(F.tstack._sccs[815])[0]"
   ]
  },
  {
   "cell_type": "code",
   "execution_count": 96,
   "metadata": {
    "collapsed": false,
    "deletable": true,
    "editable": true
   },
   "outputs": [
    {
     "name": "stdout",
     "output_type": "stream",
     "text": [
      "treatment of lignite ash, opencast refill [DE]\n",
      " 0 Output: {*} [-1 [kg]] lignite ash [By-product classification: Waste]\n",
      " 1 Output:     [ ---  [kg]] Tungsten (CAS 007440-33-7) [ground-]\n",
      " 2 Output:     [ ---  [kg]] Chloride (CAS 016887-00-6) [ground-, long-term]\n",
      " 3 Output:     [ ---  [kg]] Antimony (CAS 007440-36-0) [ground-, long-term]\n",
      " 4 Output:     [ ---  [kg]] Nickel, ion (CAS 014701-22-5) [ground-, long-term]\n",
      " 5 Output:     [ ---  [kg]] Arsenic, ion (CAS 017428-41-0) [ground-]\n",
      " 6 Output:     [ ---  [kg]] Strontium (CAS 007440-24-6) [ground-, long-term]\n",
      " 7 Output:     [ ---  [kg]] Selenium (CAS 007782-49-2) [ground-, long-term]\n",
      " 8 Output:     [ ---  [kg]] Sodium, ion (CAS 017341-25-2) [ground-]\n",
      " 9 Output:     [ ---  [kg]] Calcium, ion (CAS 014127-61-8) [ground-, long-term]\n",
      "10 Output:     [ ---  [kg]] Chromium VI (CAS 018540-29-9) [ground-]\n",
      "11 Output:     [ ---  [kg]] Strontium (CAS 007440-24-6) [ground-]\n",
      "12 Output:     [ ---  [kg]] Fluoride (CAS 016984-48-8) [ground-]\n",
      "13 Output:     [ ---  [kg]] Selenium (CAS 007782-49-2) [ground-]\n",
      "14 Output:     [ ---  [kg]] Iron, ion (CAS 015438-31-0) [ground-, long-term]\n",
      "15 Output:     [ ---  [kg]] Fluoride (CAS 016984-48-8) [ground-, long-term]\n",
      "16 Output:     [ ---  [kg]] Copper, ion (CAS 017493-86-6) [ground-, long-term]\n",
      "17 Output:     [ ---  [kg]] Chloride (CAS 016887-00-6) [ground-]\n",
      "18 Output:     [ ---  [kg]] Mercury (CAS 007439-97-6) [ground-]\n",
      "19 Output:     [ ---  [kg]] Boron (CAS 007440-42-8) [ground-]\n",
      "20 Output:     [ ---  [kg]] Sulfate (CAS 014808-79-8) [ground-, long-term]\n",
      "21 Output:     [ ---  [kg]] Barium (CAS 007440-39-3) [ground-, long-term]\n",
      "22 Output:     [ ---  [kg]] Phosphate (CAS 014265-44-2) [ground-, long-term]\n",
      "23 Output:     [ ---  [kg]] Zinc, ion (CAS 023713-49-7) [ground-]\n",
      "24 Output:     [ ---  [kg]] Phosphate (CAS 014265-44-2) [ground-]\n",
      "25 Output:     [ ---  [kg]] Vanadium, ion (CAS 022541-77-1) [ground-, long-term]\n",
      "26 Output:     [ ---  [kg]] Aluminium (CAS 007429-90-5) [ground-, long-term]\n",
      "27 Output:     [ ---  [kg]] Potassium, ion (CAS 024203-36-9) [ground-]\n",
      "28 Output:     [ ---  [kg]] Zinc, ion (CAS 023713-49-7) [ground-, long-term]\n",
      "29 Output:     [ ---  [kg]] Antimony (CAS 007440-36-0) [ground-]\n",
      "30 Output:     [ ---  [kg]] Magnesium (CAS 007439-95-4) [ground-, long-term]\n",
      "31 Output:     [ ---  [kg]] Bromine (CAS 007726-95-6) [ground-]\n",
      "32 Output:     [ ---  [kg]] Mercury (CAS 007439-97-6) [ground-, long-term]\n",
      "33 Output:     [ ---  [kg]] Cadmium, ion (CAS 022537-48-0) [ground-]\n",
      "34 Output:     [ ---  [kg]] Barium (CAS 007440-39-3) [ground-]\n",
      "35 Output:     [ ---  [kg]] Cobalt (CAS 007440-48-4) [ground-, long-term]\n",
      "36 Output:     [ ---  [kg]] Manganese (CAS 007439-96-5) [ground-, long-term]\n",
      "37 Output:     [ ---  [kg]] Scandium (CAS 007440-20-2) [ground-]\n",
      "38 Output:     [ ---  [kg]] Lead (CAS 007439-92-1) [ground-]\n",
      "39 Output:     [ ---  [kg]] Cadmium, ion (CAS 022537-48-0) [ground-, long-term]\n",
      "40 Output:     [ ---  [kg]] Beryllium (CAS 007440-41-7) [ground-, long-term]\n",
      "41 Output:     [ ---  [kg]] Molybdenum (CAS 007439-98-7) [ground-]\n",
      "42 Output:     [ ---  [kg]] Vanadium, ion (CAS 022541-77-1) [ground-]\n",
      "43 Output:     [ ---  [kg]] Magnesium (CAS 007439-95-4) [ground-]\n",
      "44 Output:     [ ---  [kg]] Tin, ion (CAS 022537-50-4) [ground-, long-term]\n",
      "45 Output:     [ ---  [kg]] Titanium, ion (CAS 022541-75-9) [ground-, long-term]\n",
      "46 Output:     [ ---  [kg]] Lead (CAS 007439-92-1) [ground-, long-term]\n",
      "47 Output:     [ ---  [kg]] Beryllium (CAS 007440-41-7) [ground-]\n",
      "48 Output:     [ ---  [kg]] Sodium, ion (CAS 017341-25-2) [ground-, long-term]\n",
      "49 Output:     [ ---  [kg]] Tin, ion (CAS 022537-50-4) [ground-]\n",
      "50 Output:     [ ---  [kg]] Sulfate (CAS 014808-79-8) [ground-]\n",
      "51 Output:     [ ---  [kg]] Arsenic, ion (CAS 017428-41-0) [ground-, long-term]\n",
      "52 Output:     [ ---  [kg]] Silicon (CAS 007440-21-3) [ground-]\n",
      "53 Output:     [ ---  [kg]] Scandium (CAS 007440-20-2) [ground-, long-term]\n",
      "54 Output:     [ ---  [kg]] Thallium (CAS 007440-28-0) [ground-, long-term]\n",
      "55 Output:     [ ---  [kg]] Cobalt (CAS 007440-48-4) [ground-]\n",
      "56 Output:     [ ---  [kg]] Boron (CAS 007440-42-8) [ground-, long-term]\n",
      "57 Output:     [ ---  [kg]] Potassium, ion (CAS 024203-36-9) [ground-, long-term]\n",
      "58 Output:     [ ---  [kg]] Bromine (CAS 007726-95-6) [ground-, long-term]\n",
      "59 Output:     [ ---  [kg]] Copper, ion (CAS 017493-86-6) [ground-]\n",
      "60 Output:     [ ---  [kg]] Iodide (CAS 020461-54-5) [ground-]\n",
      "61 Output:     [ ---  [kg]] Tungsten (CAS 007440-33-7) [ground-, long-term]\n",
      "62 Output:     [ ---  [kg]] Titanium, ion (CAS 022541-75-9) [ground-]\n",
      "63 Output:     [ ---  [kg]] Iron, ion (CAS 015438-31-0) [ground-]\n",
      "64 Output:     [ ---  [kg]] Chromium VI (CAS 018540-29-9) [ground-, long-term]\n",
      "65 Output:     [ ---  [kg]] Manganese (CAS 007439-96-5) [ground-]\n",
      "66 Output:     [ ---  [kg]] Calcium, ion (CAS 014127-61-8) [ground-]\n",
      "67 Output:     [ ---  [kg]] Silicon (CAS 007440-21-3) [ground-, long-term]\n",
      "68 Output:     [ ---  [kg]] Thallium (CAS 007440-28-0) [ground-]\n",
      "69 Output:     [ ---  [kg]] Aluminium (CAS 007429-90-5) [ground-]\n",
      "70 Output:     [ ---  [kg]] Iodide (CAS 020461-54-5) [ground-, long-term]\n",
      "71 Output:     [ ---  [kg]] Nickel, ion (CAS 014701-22-5) [ground-]\n",
      "72 Output:     [ ---  [kg]] Molybdenum (CAS 007439-98-7) [ground-, long-term]\n"
     ]
    },
    {
     "data": {
      "text/plain": [
       "[<lcatools.exchanges.ExchangeValue at 0x7fbc06990b00>,\n",
       " <lcatools.exchanges.ExchangeValue at 0x7fbc06990b38>,\n",
       " <lcatools.exchanges.ExchangeValue at 0x7fbc06990b70>,\n",
       " <lcatools.exchanges.ExchangeValue at 0x7fbc06990ba8>,\n",
       " <lcatools.exchanges.ExchangeValue at 0x7fbc06990be0>,\n",
       " <lcatools.exchanges.ExchangeValue at 0x7fbc06990c18>,\n",
       " <lcatools.exchanges.ExchangeValue at 0x7fbc06990c50>,\n",
       " <lcatools.exchanges.ExchangeValue at 0x7fbc06990c88>,\n",
       " <lcatools.exchanges.ExchangeValue at 0x7fbc06990cc0>,\n",
       " <lcatools.exchanges.ExchangeValue at 0x7fbc06990cf8>,\n",
       " <lcatools.exchanges.ExchangeValue at 0x7fbc06990d30>,\n",
       " <lcatools.exchanges.ExchangeValue at 0x7fbc06990d68>,\n",
       " <lcatools.exchanges.ExchangeValue at 0x7fbc06990da0>,\n",
       " <lcatools.exchanges.ExchangeValue at 0x7fbc06990dd8>,\n",
       " <lcatools.exchanges.ExchangeValue at 0x7fbc06990e10>,\n",
       " <lcatools.exchanges.ExchangeValue at 0x7fbc06990e48>,\n",
       " <lcatools.exchanges.ExchangeValue at 0x7fbc06990e80>,\n",
       " <lcatools.exchanges.ExchangeValue at 0x7fbc06990eb8>,\n",
       " <lcatools.exchanges.ExchangeValue at 0x7fbc06990ef0>,\n",
       " <lcatools.exchanges.ExchangeValue at 0x7fbc06990f28>,\n",
       " <lcatools.exchanges.ExchangeValue at 0x7fbc06990f60>,\n",
       " <lcatools.exchanges.ExchangeValue at 0x7fbc06990f98>,\n",
       " <lcatools.exchanges.ExchangeValue at 0x7fbc06990fd0>,\n",
       " <lcatools.exchanges.ExchangeValue at 0x7fbc068d8048>,\n",
       " <lcatools.exchanges.ExchangeValue at 0x7fbc068d8080>,\n",
       " <lcatools.exchanges.ExchangeValue at 0x7fbc068d80b8>,\n",
       " <lcatools.exchanges.ExchangeValue at 0x7fbc068d80f0>,\n",
       " <lcatools.exchanges.ExchangeValue at 0x7fbc068d8128>,\n",
       " <lcatools.exchanges.ExchangeValue at 0x7fbc068d8160>,\n",
       " <lcatools.exchanges.ExchangeValue at 0x7fbc068d8198>,\n",
       " <lcatools.exchanges.ExchangeValue at 0x7fbc068d81d0>,\n",
       " <lcatools.exchanges.ExchangeValue at 0x7fbc068d8208>,\n",
       " <lcatools.exchanges.ExchangeValue at 0x7fbc068d8240>,\n",
       " <lcatools.exchanges.ExchangeValue at 0x7fbc068d8278>,\n",
       " <lcatools.exchanges.ExchangeValue at 0x7fbc068d82b0>,\n",
       " <lcatools.exchanges.ExchangeValue at 0x7fbc068d82e8>,\n",
       " <lcatools.exchanges.ExchangeValue at 0x7fbc068d8320>,\n",
       " <lcatools.exchanges.ExchangeValue at 0x7fbc068d8358>,\n",
       " <lcatools.exchanges.ExchangeValue at 0x7fbc068d8390>,\n",
       " <lcatools.exchanges.ExchangeValue at 0x7fbc068d83c8>,\n",
       " <lcatools.exchanges.ExchangeValue at 0x7fbc068d8400>,\n",
       " <lcatools.exchanges.ExchangeValue at 0x7fbc068d8438>,\n",
       " <lcatools.exchanges.ExchangeValue at 0x7fbc068d8470>,\n",
       " <lcatools.exchanges.ExchangeValue at 0x7fbc068d84a8>,\n",
       " <lcatools.exchanges.ExchangeValue at 0x7fbc068d84e0>,\n",
       " <lcatools.exchanges.ExchangeValue at 0x7fbc068d8518>,\n",
       " <lcatools.exchanges.ExchangeValue at 0x7fbc068d8550>,\n",
       " <lcatools.exchanges.ExchangeValue at 0x7fbc068d8588>,\n",
       " <lcatools.exchanges.ExchangeValue at 0x7fbc068d85c0>,\n",
       " <lcatools.exchanges.ExchangeValue at 0x7fbc068d85f8>,\n",
       " <lcatools.exchanges.ExchangeValue at 0x7fbc068d8630>,\n",
       " <lcatools.exchanges.ExchangeValue at 0x7fbc068d8668>,\n",
       " <lcatools.exchanges.ExchangeValue at 0x7fbc068d86a0>,\n",
       " <lcatools.exchanges.ExchangeValue at 0x7fbc068d86d8>,\n",
       " <lcatools.exchanges.ExchangeValue at 0x7fbc068d8710>,\n",
       " <lcatools.exchanges.ExchangeValue at 0x7fbc068d8748>,\n",
       " <lcatools.exchanges.ExchangeValue at 0x7fbc068d8780>,\n",
       " <lcatools.exchanges.ExchangeValue at 0x7fbc068d87b8>,\n",
       " <lcatools.exchanges.ExchangeValue at 0x7fbc068d87f0>,\n",
       " <lcatools.exchanges.ExchangeValue at 0x7fbc068d8828>,\n",
       " <lcatools.exchanges.ExchangeValue at 0x7fbc068d8860>,\n",
       " <lcatools.exchanges.ExchangeValue at 0x7fbc068d8898>,\n",
       " <lcatools.exchanges.ExchangeValue at 0x7fbc068d88d0>,\n",
       " <lcatools.exchanges.ExchangeValue at 0x7fbc068d8908>,\n",
       " <lcatools.exchanges.ExchangeValue at 0x7fbc068d8940>,\n",
       " <lcatools.exchanges.ExchangeValue at 0x7fbc068d8978>,\n",
       " <lcatools.exchanges.ExchangeValue at 0x7fbc068d89b0>,\n",
       " <lcatools.exchanges.ExchangeValue at 0x7fbc068d89e8>,\n",
       " <lcatools.exchanges.ExchangeValue at 0x7fbc068d8a20>,\n",
       " <lcatools.exchanges.ExchangeValue at 0x7fbc068d8a58>,\n",
       " <lcatools.exchanges.ExchangeValue at 0x7fbc068d8a90>,\n",
       " <lcatools.exchanges.ExchangeValue at 0x7fbc068d8ac8>,\n",
       " <lcatools.exchanges.ExchangeValue at 0x7fbc068d8b00>]"
      ]
     },
     "execution_count": 96,
     "metadata": {},
     "output_type": "execute_result"
    }
   ],
   "source": [
    "ds._process.inventory()"
   ]
  },
  {
   "cell_type": "code",
   "execution_count": 87,
   "metadata": {
    "collapsed": false,
    "deletable": true,
    "editable": true
   },
   "outputs": [
    {
     "data": {
      "text/plain": [
       "defaultdict(set,\n",
       "            {1: {0, 1},\n",
       "             28: {1},\n",
       "             29: {28},\n",
       "             177: {1},\n",
       "             178: {177},\n",
       "             197: {1},\n",
       "             242: {1},\n",
       "             243: {1},\n",
       "             277: {1},\n",
       "             278: {277},\n",
       "             379: {1},\n",
       "             380: {379},\n",
       "             523: {1},\n",
       "             524: {523},\n",
       "             525: {523},\n",
       "             526: {1},\n",
       "             527: {526},\n",
       "             528: {526},\n",
       "             547: {1},\n",
       "             548: {1},\n",
       "             676: {1},\n",
       "             677: {1},\n",
       "             678: {1},\n",
       "             812: {1},\n",
       "             813: {1},\n",
       "             814: {1},\n",
       "             815: {1},\n",
       "             816: {1},\n",
       "             817: {1},\n",
       "             818: {1},\n",
       "             819: {1},\n",
       "             820: {1},\n",
       "             821: {1},\n",
       "             822: {1},\n",
       "             823: {1},\n",
       "             912: {1},\n",
       "             913: {912},\n",
       "             914: {912},\n",
       "             1034: {1},\n",
       "             1035: {1},\n",
       "             1036: {1},\n",
       "             1260: {1},\n",
       "             1261: {1},\n",
       "             1432: {1},\n",
       "             1433: {1},\n",
       "             1460: {1},\n",
       "             1461: {1460},\n",
       "             1514: {1},\n",
       "             1515: {1514},\n",
       "             1522: {1},\n",
       "             1523: {1},\n",
       "             1859: {1},\n",
       "             1860: {1859},\n",
       "             1861: {1859},\n",
       "             1887: {1},\n",
       "             2009: {1},\n",
       "             2223: {1},\n",
       "             2224: {1},\n",
       "             2225: {1},\n",
       "             2239: {1},\n",
       "             2240: {2239},\n",
       "             2338: {1},\n",
       "             2339: {1},\n",
       "             2597: {1},\n",
       "             2600: {1},\n",
       "             2601: {1},\n",
       "             2602: {1},\n",
       "             2746: {1},\n",
       "             2747: {2746},\n",
       "             2789: {1},\n",
       "             2790: {1},\n",
       "             2791: {1},\n",
       "             2922: {1},\n",
       "             2923: {1},\n",
       "             2928: {1},\n",
       "             2929: {1},\n",
       "             2988: {1},\n",
       "             2989: {1},\n",
       "             2990: {1},\n",
       "             2991: {1},\n",
       "             3367: {1},\n",
       "             3368: {3367},\n",
       "             3371: {1},\n",
       "             3372: {3371},\n",
       "             3373: {1},\n",
       "             3374: {3373},\n",
       "             3375: {1},\n",
       "             3376: {3375},\n",
       "             3418: {1},\n",
       "             3419: {1},\n",
       "             3715: {1},\n",
       "             3716: {1},\n",
       "             3717: {1},\n",
       "             3718: {1},\n",
       "             3984: {1},\n",
       "             3985: {1},\n",
       "             4101: {1},\n",
       "             4102: {1},\n",
       "             4103: {1},\n",
       "             4278: {1},\n",
       "             4279: {1},\n",
       "             4744: {1},\n",
       "             4745: {4744},\n",
       "             4746: {4744},\n",
       "             4747: {1},\n",
       "             4748: {4747},\n",
       "             4749: {4747},\n",
       "             5253: {1},\n",
       "             5254: {1},\n",
       "             5942: {1},\n",
       "             5943: {1},\n",
       "             5944: {1},\n",
       "             5945: {1},\n",
       "             5956: {1},\n",
       "             5957: {1},\n",
       "             6232: {1},\n",
       "             6859: {1},\n",
       "             6860: {1},\n",
       "             6861: {1},\n",
       "             6862: {1},\n",
       "             7121: {1},\n",
       "             7375: {1},\n",
       "             7500: {1},\n",
       "             7582: {1},\n",
       "             7641: {1},\n",
       "             7642: {7641},\n",
       "             7643: {7642},\n",
       "             7741: {1},\n",
       "             8145: {1},\n",
       "             8147: {1},\n",
       "             8235: {1},\n",
       "             8236: {1},\n",
       "             8237: {1},\n",
       "             8238: {1},\n",
       "             8555: {1},\n",
       "             8723: {1},\n",
       "             8869: {1},\n",
       "             8870: {8869},\n",
       "             8963: {1},\n",
       "             8964: {1},\n",
       "             8965: {1},\n",
       "             8966: {1},\n",
       "             9047: {1},\n",
       "             9307: {1},\n",
       "             9308: {1},\n",
       "             9309: {1},\n",
       "             9310: {1},\n",
       "             9311: {1},\n",
       "             9312: {1},\n",
       "             9313: {1},\n",
       "             9314: {1},\n",
       "             9315: {1},\n",
       "             9316: {1},\n",
       "             9317: {1},\n",
       "             9318: {1},\n",
       "             9319: {1},\n",
       "             9320: {1},\n",
       "             9321: {1},\n",
       "             9322: {1},\n",
       "             9323: {1},\n",
       "             9324: {1},\n",
       "             9325: {1},\n",
       "             9326: {1},\n",
       "             9428: {1},\n",
       "             9700: {1},\n",
       "             9701: {1},\n",
       "             9702: {1},\n",
       "             9703: {1},\n",
       "             10067: {1},\n",
       "             10101: {1},\n",
       "             10102: {1},\n",
       "             10103: {1},\n",
       "             10104: {1},\n",
       "             10113: {1},\n",
       "             10114: {1},\n",
       "             10115: {1},\n",
       "             10116: {1},\n",
       "             10153: {1},\n",
       "             10154: {1},\n",
       "             10155: {1},\n",
       "             10156: {1},\n",
       "             10176: {1},\n",
       "             10177: {1},\n",
       "             10178: {1},\n",
       "             10179: {1},\n",
       "             10230: {1}})"
      ]
     },
     "execution_count": 87,
     "metadata": {},
     "output_type": "execute_result"
    }
   ],
   "source": [
    "d"
   ]
  },
  {
   "cell_type": "code",
   "execution_count": 46,
   "metadata": {
    "collapsed": false,
    "deletable": true,
    "editable": true
   },
   "outputs": [
    {
     "name": "stdout",
     "output_type": "stream",
     "text": [
      "CPU times: user 6.67 ms, sys: 0 ns, total: 6.67 ms\n",
      "Wall time: 7.87 ms\n"
     ]
    },
    {
     "data": {
      "text/plain": [
       "['yogurt production, from cow milk [CA-QC]']"
      ]
     },
     "execution_count": 46,
     "metadata": {},
     "output_type": "execute_result"
    }
   ],
   "source": [
    "%time [str(r._process) for r in F._product_flows if r not in d]"
   ]
  },
  {
   "cell_type": "code",
   "execution_count": null,
   "metadata": {
    "collapsed": true,
    "deletable": true,
    "editable": true
   },
   "outputs": [],
   "source": []
  },
  {
   "cell_type": "code",
   "execution_count": 30,
   "metadata": {
    "collapsed": false,
    "deletable": true,
    "editable": true
   },
   "outputs": [
    {
     "data": {
      "text/plain": [
       "282.7707142857143"
      ]
     },
     "execution_count": 30,
     "metadata": {},
     "output_type": "execute_result"
    }
   ],
   "source": [
    "791758 / 2800"
   ]
  },
  {
   "cell_type": "code",
   "execution_count": 31,
   "metadata": {
    "collapsed": false,
    "deletable": true,
    "editable": true
   },
   "outputs": [
    {
     "data": {
      "text/plain": [
       "0.1347517730496454"
      ]
     },
     "execution_count": 31,
     "metadata": {},
     "output_type": "execute_result"
    }
   ],
   "source": [
    "38 / 282"
   ]
  },
  {
   "cell_type": "code",
   "execution_count": 22,
   "metadata": {
    "collapsed": false,
    "deletable": true,
    "editable": true
   },
   "outputs": [
    {
     "data": {
      "text/plain": [
       "[1,\n",
       " 1,\n",
       " 1,\n",
       " 1,\n",
       " 1,\n",
       " 1,\n",
       " 1,\n",
       " 1,\n",
       " 1,\n",
       " 1,\n",
       " 1,\n",
       " 1,\n",
       " 1,\n",
       " 1,\n",
       " 1,\n",
       " 1,\n",
       " 1,\n",
       " 1,\n",
       " 1,\n",
       " 1,\n",
       " 1,\n",
       " 1,\n",
       " 1,\n",
       " 1,\n",
       " 1,\n",
       " 1,\n",
       " 1,\n",
       " 1,\n",
       " 1,\n",
       " 1,\n",
       " 1,\n",
       " 1,\n",
       " 1,\n",
       " 1,\n",
       " 1,\n",
       " 1,\n",
       " 1,\n",
       " 1,\n",
       " 1,\n",
       " 1,\n",
       " 1,\n",
       " 1,\n",
       " 1,\n",
       " 1,\n",
       " 1,\n",
       " 1,\n",
       " 1,\n",
       " 1,\n",
       " 1,\n",
       " 1,\n",
       " 1,\n",
       " 1,\n",
       " 1,\n",
       " 1,\n",
       " 1,\n",
       " 1,\n",
       " 1,\n",
       " 1,\n",
       " 1,\n",
       " 1,\n",
       " 1,\n",
       " 1,\n",
       " 1,\n",
       " 1,\n",
       " 1,\n",
       " 1,\n",
       " 1,\n",
       " 1,\n",
       " 1,\n",
       " 1,\n",
       " 1,\n",
       " 1,\n",
       " 1,\n",
       " 1,\n",
       " 1,\n",
       " 1,\n",
       " 1,\n",
       " 1,\n",
       " 1,\n",
       " 1,\n",
       " 1,\n",
       " 1,\n",
       " 1,\n",
       " 1,\n",
       " 1,\n",
       " 1,\n",
       " 1,\n",
       " 1,\n",
       " 1,\n",
       " 1,\n",
       " 1,\n",
       " 1,\n",
       " 1,\n",
       " 1,\n",
       " 1,\n",
       " 1,\n",
       " 1,\n",
       " 1,\n",
       " 1,\n",
       " 1,\n",
       " 1,\n",
       " 1,\n",
       " 1,\n",
       " 1,\n",
       " 1,\n",
       " 1,\n",
       " 1,\n",
       " 1,\n",
       " 1,\n",
       " 1,\n",
       " 1,\n",
       " 1,\n",
       " 1,\n",
       " 1,\n",
       " 1,\n",
       " 1,\n",
       " 1,\n",
       " 1,\n",
       " 1,\n",
       " 1,\n",
       " 1,\n",
       " 1,\n",
       " 1,\n",
       " 1,\n",
       " 1,\n",
       " 1,\n",
       " 1,\n",
       " 1,\n",
       " 1,\n",
       " 1,\n",
       " 1,\n",
       " 1,\n",
       " 1,\n",
       " 1,\n",
       " 1,\n",
       " 1,\n",
       " 1,\n",
       " 1,\n",
       " 1,\n",
       " 1,\n",
       " 1,\n",
       " 1,\n",
       " 1,\n",
       " 1,\n",
       " 1,\n",
       " 1,\n",
       " 1,\n",
       " 1,\n",
       " 1,\n",
       " 1,\n",
       " 1,\n",
       " 1,\n",
       " 1,\n",
       " 1,\n",
       " 1,\n",
       " 1,\n",
       " 1,\n",
       " 1,\n",
       " 1,\n",
       " 1,\n",
       " 1,\n",
       " 1,\n",
       " 1,\n",
       " 1,\n",
       " 1,\n",
       " 1,\n",
       " 1,\n",
       " 1,\n",
       " 1,\n",
       " 1,\n",
       " 1,\n",
       " 1,\n",
       " 1,\n",
       " 1,\n",
       " 1,\n",
       " 10097,\n",
       " 1,\n",
       " 1,\n",
       " 1,\n",
       " 1,\n",
       " 1,\n",
       " 1,\n",
       " 1,\n",
       " 1,\n",
       " 1,\n",
       " 1,\n",
       " 1]"
      ]
     },
     "execution_count": 22,
     "metadata": {},
     "output_type": "execute_result"
    }
   ],
   "source": [
    "[len([f for f in F.scc(s)]) for s in F.sccs]"
   ]
  },
  {
   "cell_type": "code",
   "execution_count": 19,
   "metadata": {
    "collapsed": false,
    "deletable": true,
    "editable": true
   },
   "outputs": [
    {
     "data": {
      "text/plain": [
       "187"
      ]
     },
     "execution_count": 19,
     "metadata": {},
     "output_type": "execute_result"
    }
   ],
   "source": [
    "len(F.sccs)"
   ]
  },
  {
   "cell_type": "code",
   "execution_count": 23,
   "metadata": {
    "collapsed": false,
    "deletable": true,
    "editable": true
   },
   "outputs": [],
   "source": [
    "pb = EA['f3622e6c-b364-4108-9574-925359b64f51']"
   ]
  },
  {
   "cell_type": "code",
   "execution_count": 20,
   "metadata": {
    "collapsed": true,
    "deletable": true,
    "editable": true
   },
   "outputs": [],
   "source": [
    "xs = [x for x in EA.exchanges(EA['3a9b33f8-d1b1-4bea-9df7-7db6846c6df6'])]"
   ]
  },
  {
   "cell_type": "code",
   "execution_count": 35,
   "metadata": {
    "collapsed": false,
    "deletable": true,
    "editable": true
   },
   "outputs": [
    {
     "data": {
      "text/plain": [
       "8"
      ]
     },
     "execution_count": 35,
     "metadata": {},
     "output_type": "execute_result"
    }
   ],
   "source": [
    "len(xs)"
   ]
  },
  {
   "cell_type": "code",
   "execution_count": 38,
   "metadata": {
    "collapsed": true,
    "deletable": true,
    "editable": true
   },
   "outputs": [],
   "source": [
    "x_cand = [x for x in xs if x.termination == pb.uuid]\n",
    "x_excl = [x for x in xs if x.termination != pb.uuid]"
   ]
  },
  {
   "cell_type": "code",
   "execution_count": 46,
   "metadata": {
    "collapsed": false,
    "deletable": true,
    "editable": true
   },
   "outputs": [
    {
     "name": "stdout",
     "output_type": "stream",
     "text": [
      "Flow Entity (ref 3a9b33f8-d1b1-4bea-9df7-7db6846c6df6)\n",
      "       Name: samarium europium gadolinium concentrate, 94% rare earth oxide\n",
      "    Comment: EcoSpold02 Flow\n",
      "  CasNumber: \n",
      "Compartment: ['By-product classification: allocatable product']\n"
     ]
    }
   ],
   "source": [
    "x_cand[0].flow.show()\n"
   ]
  },
  {
   "cell_type": "code",
   "execution_count": 43,
   "metadata": {
    "collapsed": false,
    "deletable": true,
    "editable": true
   },
   "outputs": [
    {
     "data": {
      "text/plain": [
       "[('bb2eff39-6693-49bc-b735-3762193f0039',\n",
       "  <lcatools.entities.LcProcess at 0x7f1749dffbe0>),\n",
       " ('8d44da1b-8c02-4640-a965-55ca57bc8bfe',\n",
       "  <lcatools.entities.LcProcess at 0x7f174b229438>),\n",
       " ('None', None),\n",
       " ('None', None),\n",
       " ('None', None),\n",
       " ('4296051c-2908-4a6c-ac19-f1dd2bc7c9b9',\n",
       "  <lcatools.entities.LcProcess at 0x7f174dc0e048>)]"
      ]
     },
     "execution_count": 43,
     "metadata": {},
     "output_type": "execute_result"
    }
   ],
   "source": [
    "[(str(x.termination), EA[x.termination]) for x in x_excl]"
   ]
  },
  {
   "cell_type": "code",
   "execution_count": 22,
   "metadata": {
    "collapsed": false,
    "deletable": true,
    "editable": true
   },
   "outputs": [
    {
     "data": {
      "text/plain": [
       "[' Input:     [ ---  [kg]] samarium europium gadolinium concentrate, 94% rare earth oxide [By-product classification: allocatable product] (#)',\n",
       " ' Input:     [ ---  [kg]] samarium europium gadolinium concentrate, 94% rare earth oxide [By-product classification: allocatable product] (#)',\n",
       " 'Output: {*} [1 [kg]] samarium europium gadolinium concentrate, 94% rare earth oxide [By-product classification: allocatable product]',\n",
       " 'rare earth oxides production from bastnäsite concentrate [RoW] has Output: samarium europium gadolinium concentrate, 94% rare earth oxide [By-product classification: allocatable product] [kg]',\n",
       " 'Output:     [ ---  [kg]] samarium europium gadolinium concentrate, 94% rare earth oxide [By-product classification: allocatable product] (#)',\n",
       " 'Output:     [ ---  [kg]] samarium europium gadolinium concentrate, 94% rare earth oxide [By-product classification: allocatable product] (#)',\n",
       " 'rare earth oxides production from bastnäsite concentrate [CN] has Output: samarium europium gadolinium concentrate, 94% rare earth oxide [By-product classification: allocatable product] [kg]',\n",
       " ' Input:     [ ---  [kg]] samarium europium gadolinium concentrate, 94% rare earth oxide [By-product classification: allocatable product] (#)']"
      ]
     },
     "execution_count": 22,
     "metadata": {},
     "output_type": "execute_result"
    }
   ],
   "source": [
    "[str(x) for x in xs]"
   ]
  },
  {
   "cell_type": "code",
   "execution_count": 61,
   "metadata": {
    "collapsed": false,
    "deletable": true,
    "editable": true
   },
   "outputs": [
    {
     "data": {
      "text/plain": [
       "[{'_direction': 'Output',\n",
       "  '_flow': <lcatools.entities.LcFlow at 0x7f174dc0e390>,\n",
       "  '_process': <lcatools.entities.LcProcess at 0x7f174b229438>,\n",
       "  '_termination': None,\n",
       "  'unit': <lcatools.entities.LcUnit at 0x7f1750f64588>},\n",
       " {'_direction': 'Output',\n",
       "  '_flow': <lcatools.entities.LcFlow at 0x7f174dc0e390>,\n",
       "  '_process': <lcatools.entities.LcProcess at 0x7f174b229438>,\n",
       "  '_termination': 'f3622e6c-b364-4108-9574-925359b64f51',\n",
       "  '_value': None,\n",
       "  '_value_dict': {<lcatools.exchanges.Exchange at 0x7f174b229b00>: 1.0},\n",
       "  'unit': <lcatools.entities.LcUnit at 0x7f1750f64588>}]"
      ]
     },
     "execution_count": 61,
     "metadata": {},
     "output_type": "execute_result"
    }
   ],
   "source": [
    "[x.__dict__ for p in EA.search('8d44da1b') for x in p.exchange(EA['3a9b33f8-d1b1-4bea-9df7-7db6846c6df6'])]"
   ]
  },
  {
   "cell_type": "code",
   "execution_count": 57,
   "metadata": {
    "collapsed": false,
    "deletable": true,
    "editable": true
   },
   "outputs": [
    {
     "name": "stdout",
     "output_type": "stream",
     "text": [
      "[parent process] dirn-wrt-parent term -> resolved term ref? (match?)\n",
      "[4296051c-2908-4a6c-ac19-f1dd2bc7c9b9] I bb2eff39-6693-49bc-b735-3762193f0039 -> rare earth oxides production from bastnäsite concentrate [CN] False (1)\n",
      "[4296051c-2908-4a6c-ac19-f1dd2bc7c9b9] I 8d44da1b-8c02-4640-a965-55ca57bc8bfe -> rare earth oxides production from bastnäsite concentrate [RoW] False (1)\n",
      "[4296051c-2908-4a6c-ac19-f1dd2bc7c9b9] O None -> None False ()\n",
      "[8d44da1b-8c02-4640-a965-55ca57bc8bfe] O None -> None False ()\n",
      "[8d44da1b-8c02-4640-a965-55ca57bc8bfe] O f3622e6c-b364-4108-9574-925359b64f51 -> samarium europium gadolinium concentrate to generic market for mischmetal [GLO] False (0)\n",
      "[bb2eff39-6693-49bc-b735-3762193f0039] O f3622e6c-b364-4108-9574-925359b64f51 -> samarium europium gadolinium concentrate to generic market for mischmetal [GLO] False (0)\n",
      "[bb2eff39-6693-49bc-b735-3762193f0039] O None -> None False ()\n",
      "[f3622e6c-b364-4108-9574-925359b64f51] I 4296051c-2908-4a6c-ac19-f1dd2bc7c9b9 -> market for samarium europium gadolinium concentrate, 94% rare earth oxide [GLO] False (1)\n"
     ]
    }
   ],
   "source": [
    "print('[%s] %s %s -> %s %s (%s)' % ('parent process', 'dirn-wrt-parent', 'term', 'resolved term', 'ref?', 'match?'))\n",
    "for x in xs:\n",
    "    t = x.termination\n",
    "    p = EA[t]\n",
    "    if p is None:\n",
    "        r = ''\n",
    "        is_ref = False\n",
    "    else:\n",
    "        #try:\n",
    "        r = len([z for z in p.reference_entity if z.flow == x.flow])\n",
    "        #    r = '+'\n",
    "        #except NoReferenceFound:\n",
    "        #    r = 'xxxx'\n",
    "        is_ref = x in x.process.reference_entity\n",
    "    print('[%s] %1.1s %s -> %s %s (%s)' % (x.process.uuid, x.direction, t, p, is_ref, r))"
   ]
  },
  {
   "cell_type": "code",
   "execution_count": 53,
   "metadata": {
    "collapsed": false,
    "deletable": true,
    "editable": true
   },
   "outputs": [
    {
     "name": "stdout",
     "output_type": "stream",
     "text": [
      "Flow Entity (ref cfbc8873-47d4-4411-a18e-578ef35ab871)\n",
      "       Name: lanthanum oxide\n",
      "    Comment: EcoSpold02 Flow\n",
      "  CasNumber: 001312-81-8\n",
      "Compartment: ['By-product classification: allocatable product']\n",
      "Flow Entity (ref df12f8f5-a3e3-4506-9d86-b33205d21a52)\n",
      "       Name: cerium concentrate, 60% cerium oxide\n",
      "    Comment: EcoSpold02 Flow\n",
      "  CasNumber: \n",
      "Compartment: ['By-product classification: allocatable product']\n",
      "Flow Entity (ref 361e78e0-0094-48d2-b9a2-2c70921e5c1e)\n",
      "       Name: neodymium oxide\n",
      "    Comment: EcoSpold02 Flow\n",
      "  CasNumber: 001313-97-9\n",
      "Compartment: ['By-product classification: allocatable product']\n",
      "Flow Entity (ref 3a9b33f8-d1b1-4bea-9df7-7db6846c6df6)\n",
      "       Name: samarium europium gadolinium concentrate, 94% rare earth oxide\n",
      "    Comment: EcoSpold02 Flow\n",
      "  CasNumber: \n",
      "Compartment: ['By-product classification: allocatable product']\n",
      "Flow Entity (ref e1126956-dc57-4837-849f-57fb25c8effa)\n",
      "       Name: praseodymium oxide\n",
      "    Comment: EcoSpold02 Flow\n",
      "  CasNumber: 012037-29-5\n",
      "Compartment: ['By-product classification: allocatable product']\n"
     ]
    },
    {
     "data": {
      "text/plain": [
       "[None, None, None, None, None]"
      ]
     },
     "execution_count": 53,
     "metadata": {},
     "output_type": "execute_result"
    }
   ],
   "source": [
    "[x.flow.show() for x in xs[4].process.references()]"
   ]
  },
  {
   "cell_type": "code",
   "execution_count": 24,
   "metadata": {
    "collapsed": false,
    "deletable": true,
    "editable": true
   },
   "outputs": [
    {
     "name": "stdout",
     "output_type": "stream",
     "text": [
      "Process Entity (ref f3622e6c-b364-4108-9574-925359b64f51)\n",
      "           Name: samarium europium gadolinium concentrate to generic market for mischmetal\n",
      "        Comment: This dataset provides an outlet for surplus samarium europium gadolinium concentrate from co-production with other rare earth oxides. This dataset implies an assumption that a surplus will add to the content of these elements in the general mischmetal (mixed rare earths). This route should be replaced by a dataset representing the marginal application of the samarium europium gadolinium concentrate, as soon as this becomes available.\n",
      "Classifications: ['EcoSpold01Categories: chemicals/inorganics', 'ISIC rev.4 ecoinvent: 2011:Manufacture of basic chemicals']\n",
      "  TemporalScope: {'end': '2015-12-31', 'begin': '2011-01-01'}\n",
      "   SpatialScope: GLO\n"
     ]
    }
   ],
   "source": [
    "pb.show()"
   ]
  },
  {
   "cell_type": "code",
   "execution_count": 31,
   "metadata": {
    "collapsed": false,
    "deletable": true,
    "editable": true
   },
   "outputs": [],
   "source": [
    "RX = next(x for x in pb.reference_entity)"
   ]
  },
  {
   "cell_type": "code",
   "execution_count": 34,
   "metadata": {
    "collapsed": false,
    "deletable": true,
    "editable": true
   },
   "outputs": [
    {
     "name": "stdout",
     "output_type": "stream",
     "text": [
      "Flow Entity (ref 474e7001-a158-4379-8793-e02f0c14bbfe)\n",
      "       Name: mischmetal\n",
      "    Comment: EcoSpold02 Flow\n",
      "  CasNumber: \n",
      "Compartment: ['By-product classification: allocatable product']\n"
     ]
    }
   ],
   "source": [
    "RX.flow.show()"
   ]
  },
  {
   "cell_type": "code",
   "execution_count": 32,
   "metadata": {
    "collapsed": true,
    "deletable": true,
    "editable": true
   },
   "outputs": [],
   "source": [
    "rf = EA['3a9b33f8-d1b1-4bea-9df7-7db6846c6df6']"
   ]
  },
  {
   "cell_type": "code",
   "execution_count": 26,
   "metadata": {
    "collapsed": false,
    "deletable": true,
    "editable": true
   },
   "outputs": [
    {
     "ename": "NoReferenceFound",
     "evalue": "",
     "output_type": "error",
     "traceback": [
      "\u001b[1;31m---------------------------------------------------------------------------\u001b[0m",
      "\u001b[1;31mNoReferenceFound\u001b[0m                          Traceback (most recent call last)",
      "\u001b[1;32m<ipython-input-26-0a0d4449cdce>\u001b[0m in \u001b[0;36m<module>\u001b[1;34m()\u001b[0m\n\u001b[1;32m----> 1\u001b[1;33m \u001b[1;32mfor\u001b[0m \u001b[0mr\u001b[0m \u001b[1;32min\u001b[0m \u001b[0mpb\u001b[0m\u001b[1;33m.\u001b[0m\u001b[0mreference\u001b[0m\u001b[1;33m(\u001b[0m\u001b[0mEA\u001b[0m\u001b[1;33m[\u001b[0m\u001b[1;34m'3a9b33f8-d1b1-4bea-9df7-7db6846c6df6'\u001b[0m\u001b[1;33m]\u001b[0m\u001b[1;33m)\u001b[0m\u001b[1;33m:\u001b[0m\u001b[1;33m\u001b[0m\u001b[0m\n\u001b[0m\u001b[0;32m      2\u001b[0m     \u001b[0mprint\u001b[0m\u001b[1;33m(\u001b[0m\u001b[0mstr\u001b[0m\u001b[1;33m(\u001b[0m\u001b[0mr\u001b[0m\u001b[1;33m)\u001b[0m\u001b[1;33m)\u001b[0m\u001b[1;33m\u001b[0m\u001b[0m\n\u001b[0;32m      3\u001b[0m     \u001b[1;32mif\u001b[0m \u001b[0mr\u001b[0m\u001b[1;33m.\u001b[0m\u001b[0mtermination\u001b[0m \u001b[1;32mis\u001b[0m \u001b[1;32mnot\u001b[0m \u001b[1;32mNone\u001b[0m\u001b[1;33m:\u001b[0m\u001b[1;33m\u001b[0m\u001b[0m\n\u001b[0;32m      4\u001b[0m         \u001b[0mprint\u001b[0m\u001b[1;33m(\u001b[0m\u001b[1;34m'TERM: \\n'\u001b[0m \u001b[1;33m%\u001b[0m \u001b[0mr\u001b[0m\u001b[1;33m.\u001b[0m\u001b[0mtermination\u001b[0m\u001b[1;33m)\u001b[0m\u001b[1;33m\u001b[0m\u001b[0m\n",
      "\u001b[1;32m/data/GitHub/lca-tools/lcatools/entities.py\u001b[0m in \u001b[0;36mreference\u001b[1;34m(self, flow)\u001b[0m\n\u001b[0;32m    501\u001b[0m         \u001b[0mref\u001b[0m \u001b[1;33m=\u001b[0m \u001b[1;33m[\u001b[0m\u001b[0mrf\u001b[0m \u001b[1;32mfor\u001b[0m \u001b[0mrf\u001b[0m \u001b[1;32min\u001b[0m \u001b[0mself\u001b[0m\u001b[1;33m.\u001b[0m\u001b[0mreferences\u001b[0m\u001b[1;33m(\u001b[0m\u001b[0mflow\u001b[0m\u001b[1;33m)\u001b[0m\u001b[1;33m]\u001b[0m\u001b[1;33m\u001b[0m\u001b[0m\n\u001b[0;32m    502\u001b[0m         \u001b[1;32mif\u001b[0m \u001b[0mlen\u001b[0m\u001b[1;33m(\u001b[0m\u001b[0mref\u001b[0m\u001b[1;33m)\u001b[0m \u001b[1;33m==\u001b[0m \u001b[1;36m0\u001b[0m\u001b[1;33m:\u001b[0m\u001b[1;33m\u001b[0m\u001b[0m\n\u001b[1;32m--> 503\u001b[1;33m             \u001b[1;32mraise\u001b[0m \u001b[0mNoReferenceFound\u001b[0m\u001b[1;33m\u001b[0m\u001b[0m\n\u001b[0m\u001b[0;32m    504\u001b[0m         \u001b[1;32melif\u001b[0m \u001b[0mlen\u001b[0m\u001b[1;33m(\u001b[0m\u001b[0mref\u001b[0m\u001b[1;33m)\u001b[0m \u001b[1;33m>\u001b[0m \u001b[1;36m1\u001b[0m\u001b[1;33m:\u001b[0m\u001b[1;33m\u001b[0m\u001b[0m\n\u001b[0;32m    505\u001b[0m             \u001b[1;32mraise\u001b[0m \u001b[0mAmbiguousReferenceError\u001b[0m\u001b[1;33m(\u001b[0m\u001b[1;34m'Multiple matching references found'\u001b[0m\u001b[1;33m)\u001b[0m\u001b[1;33m\u001b[0m\u001b[0m\n",
      "\u001b[1;31mNoReferenceFound\u001b[0m: "
     ]
    }
   ],
   "source": [
    "for r in pb.reference(EA['3a9b33f8-d1b1-4bea-9df7-7db6846c6df6']):\n",
    "    print(str(r))\n",
    "    if r.termination is not None:\n",
    "        print('TERM: \\n' % r.termination)"
   ]
  },
  {
   "cell_type": "code",
   "execution_count": 33,
   "metadata": {
    "collapsed": true,
    "deletable": true,
    "editable": true
   },
   "outputs": [],
   "source": [
    "import os\n",
    "import sys\n",
    "import json\n",
    "import uuid \n",
    "\n",
    "from itertools import groupby"
   ]
  },
  {
   "cell_type": "code",
   "execution_count": 48,
   "metadata": {
    "collapsed": true,
    "deletable": true,
    "editable": true
   },
   "outputs": [],
   "source": [
    "def group_by(iterable, keyfunc):\n",
    "    groups = []\n",
    "    uniquekeys = []\n",
    "    data = sorted(iterable, key=keyfunc)\n",
    "    for k, g in groupby(data, keyfunc):\n",
    "        groups.append(list(g))      # Store group iterator as a list\n",
    "        uniquekeys.append(k)\n",
    "        \n",
    "    return groups, uniquekeys"
   ]
  },
  {
   "cell_type": "code",
   "execution_count": 3,
   "metadata": {
    "collapsed": true,
    "deletable": true,
    "editable": true
   },
   "outputs": [],
   "source": [
    "import re\n",
    "import gzip\n",
    "\n",
    "from eight import USING_PYTHON2\n",
    "\n",
    "\n",
    "def from_json(fname):\n",
    "    \"\"\"\n",
    "    Routine to reconstruct a catalog from a json archive.\n",
    "    :param fname: json file, optionally gzipped\n",
    "    :return: a subclass of ArchiveInterface\n",
    "    \"\"\"\n",
    "    print('Loading JSON data from %s:' % fname)\n",
    "    if bool(re.search('\\.gz$', fname)):\n",
    "        if USING_PYTHON2:\n",
    "            with gzip.open(fname, 'r') as fp:\n",
    "                j = json.load(fp)\n",
    "        else:\n",
    "            with gzip.open(fname, 'rt') as fp:\n",
    "                j = json.load(fp)\n",
    "    else:\n",
    "        with open(fname, 'r') as fp:\n",
    "            j = json.load(fp)\n",
    "    return j\n"
   ]
  },
  {
   "cell_type": "code",
   "execution_count": 17,
   "metadata": {
    "collapsed": false,
    "deletable": true,
    "editable": true
   },
   "outputs": [
    {
     "name": "stdout",
     "output_type": "stream",
     "text": [
      "Loading JSON data from /data/GitHub/lca-catalog/catalogs/uslci_ecospold.json.gz:\n"
     ]
    }
   ],
   "source": [
    "us = from_json(os.path.join(CATALOG, USLCI))"
   ]
  },
  {
   "cell_type": "code",
   "execution_count": 23,
   "metadata": {
    "collapsed": false,
    "deletable": true,
    "editable": true
   },
   "outputs": [
    {
     "name": "stdout",
     "output_type": "stream",
     "text": [
      "Loading JSON data from /data/GitHub/lca-catalog/catalogs/ecoinvent_3.2_apos_spold.json.gz:\n"
     ]
    }
   ],
   "source": [
    "ei = from_json(os.path.join(CATALOG, EI32_A))"
   ]
  },
  {
   "cell_type": "code",
   "execution_count": 18,
   "metadata": {
    "collapsed": false,
    "deletable": true,
    "editable": true
   },
   "outputs": [
    {
     "data": {
      "text/plain": [
       "dict_keys(['quantities', '@context', 'dataSourceType', 'processes', 'catalogNames', 'flows', 'dataSourceReference', 'nsUuid'])"
      ]
     },
     "execution_count": 18,
     "metadata": {},
     "output_type": "execute_result"
    }
   ],
   "source": [
    "us.keys()"
   ]
  },
  {
   "cell_type": "markdown",
   "metadata": {
    "deletable": true,
    "editable": true
   },
   "source": [
    "## utility functions\n",
    "\n",
    "these would be methods of an lca-catalog class, should I ever get around to making one that is independent of the `lca-tools` infrastructure, should there be a need."
   ]
  },
  {
   "cell_type": "code",
   "execution_count": 28,
   "metadata": {
    "collapsed": true,
    "deletable": true,
    "editable": true
   },
   "outputs": [],
   "source": [
    "def make_flows(catalog):\n",
    "    flows = dict()\n",
    "    for f in catalog['flows']:\n",
    "        flows[f['entityId']] = f\n",
    "    return flows\n"
   ]
  },
  {
   "cell_type": "markdown",
   "metadata": {
    "deletable": true,
    "editable": true
   },
   "source": [
    "## detect interior flows\n",
    "\n",
    "The strategy here is to make two sets of UUIDs- of inputs and outputs- and then find their intersection"
   ]
  },
  {
   "cell_type": "code",
   "execution_count": 20,
   "metadata": {
    "collapsed": true,
    "deletable": true,
    "editable": true
   },
   "outputs": [],
   "source": [
    "def interior_flows(catalog):\n",
    "    ins = set()\n",
    "    outs = set()\n",
    "    for p in catalog['processes']:\n",
    "        for x in p['exchanges']:\n",
    "            if x['direction'] == 'Input':\n",
    "                ins.add(x['flow'])\n",
    "            elif x['direction'] == 'Output':\n",
    "                outs.add(x['flow'])\n",
    "            else:\n",
    "                raise ValueError('mysterious direction designation \"%s\"' % x['direction'])\n",
    "    print('Found %d inputs, %d outputs' % (len(ins), len(outs)))\n",
    "    interior = ins.intersection(outs)\n",
    "    print('Found %d interior flows' % len(interior))\n",
    "    return interior\n",
    "                    "
   ]
  },
  {
   "cell_type": "code",
   "execution_count": 13,
   "metadata": {
    "collapsed": false,
    "deletable": true,
    "editable": true
   },
   "outputs": [
    {
     "data": {
      "text/plain": [
       "'Output'"
      ]
     },
     "execution_count": 13,
     "metadata": {},
     "output_type": "execute_result"
    }
   ],
   "source": [
    "ei['processes'][0]['exchanges'][0]['direction']"
   ]
  },
  {
   "cell_type": "code",
   "execution_count": 24,
   "metadata": {
    "collapsed": false,
    "deletable": true,
    "editable": true
   },
   "outputs": [
    {
     "name": "stdout",
     "output_type": "stream",
     "text": [
      "Found 2971 inputs, 4355 outputs\n",
      "Found 2688 interior flows\n",
      "CPU times: user 210 ms, sys: 0 ns, total: 210 ms\n",
      "Wall time: 204 ms\n"
     ]
    }
   ],
   "source": [
    "%time in_ei = interior_flows(ei)"
   ]
  },
  {
   "cell_type": "code",
   "execution_count": 27,
   "metadata": {
    "collapsed": false,
    "deletable": true,
    "editable": true
   },
   "outputs": [
    {
     "data": {
      "text/plain": [
       "{'CasNumber': '',\n",
       " 'Comment': '',\n",
       " 'Compartment': ['air', 'unspecified'],\n",
       " 'Name': 'Chromium III',\n",
       " 'characterizations': [{'entityType': 'characterization',\n",
       "   'isReference': True,\n",
       "   'quantity': 'bbe8f43d-c141-3e21-b8c2-3ba1ce556ad0',\n",
       "   'value': 1.0}],\n",
       " 'entityId': '1c4485a2-5ac9-3c06-aca9-25aabf72e45c',\n",
       " 'entityType': 'flow',\n",
       " 'externalId': 9483,\n",
       " 'origin': '/home/b/Dropbox/data/USLCI/USLCI_Processes_ecospold1.zip'}"
      ]
     },
     "execution_count": 27,
     "metadata": {},
     "output_type": "execute_result"
    }
   ],
   "source": [
    "us['flows'][430]"
   ]
  },
  {
   "cell_type": "code",
   "execution_count": 26,
   "metadata": {
    "collapsed": false,
    "deletable": true,
    "editable": true
   },
   "outputs": [
    {
     "data": {
      "text/plain": [
       "dict_keys(['quantities', '@context', 'dataSourceType', 'processes', 'catalogNames', 'flows', 'dataSourceReference', 'nsUuid'])"
      ]
     },
     "execution_count": 26,
     "metadata": {},
     "output_type": "execute_result"
    }
   ],
   "source": [
    "us.keys()"
   ]
  },
  {
   "cell_type": "code",
   "execution_count": 29,
   "metadata": {
    "collapsed": true,
    "deletable": true,
    "editable": true
   },
   "outputs": [],
   "source": [
    "us_flows = make_flows(us)"
   ]
  },
  {
   "cell_type": "code",
   "execution_count": 30,
   "metadata": {
    "collapsed": false,
    "deletable": true,
    "editable": true
   },
   "outputs": [
    {
     "data": {
      "text/plain": [
       "4176"
      ]
     },
     "execution_count": 30,
     "metadata": {},
     "output_type": "execute_result"
    }
   ],
   "source": [
    "len(us_flows)"
   ]
  },
  {
   "cell_type": "code",
   "execution_count": 49,
   "metadata": {
    "collapsed": false,
    "deletable": true,
    "editable": true
   },
   "outputs": [],
   "source": [
    "gs, ks = group_by(us_flows.values(), lambda x: x['Compartment'][0])"
   ]
  },
  {
   "cell_type": "code",
   "execution_count": 52,
   "metadata": {
    "collapsed": false,
    "deletable": true,
    "editable": true
   },
   "outputs": [
    {
     "data": {
      "text/plain": [
       "['Air Transportation',\n",
       " 'Biofuels Manufacturing',\n",
       " 'CUTOFF Flows',\n",
       " 'Chemical Manufacturing',\n",
       " 'Crop Production',\n",
       " 'Elec. Equip., Appliance, and Comp. Manufacturing',\n",
       " 'Elementary Flows',\n",
       " 'Fabricated Metal Product Manufacturing',\n",
       " 'Forestry and Logging',\n",
       " 'Mining (except Oil and Gas)',\n",
       " 'Nonmetallic Mineral Product Manufacturing',\n",
       " 'Oil and Gas Extraction',\n",
       " 'Paper Manufacturing',\n",
       " 'Petroleum and Coal Products Manufacturing',\n",
       " 'Plastics and Rubber Products Manufacturing',\n",
       " 'Primary Metal Manufacturing',\n",
       " 'Rail Transportation',\n",
       " 'Transit and Ground Passenger Transportation',\n",
       " 'Transportation Equipment Manufacturing',\n",
       " 'Truck Transportation',\n",
       " 'Utilities',\n",
       " 'Waste Management and Remediation Services',\n",
       " 'Water Transportation',\n",
       " 'Wood Product Manufacturing',\n",
       " 'air',\n",
       " 'final-waste-flow',\n",
       " 'non-material',\n",
       " 'others',\n",
       " 'resource',\n",
       " 'soil',\n",
       " 'water']"
      ]
     },
     "execution_count": 52,
     "metadata": {},
     "output_type": "execute_result"
    }
   ],
   "source": [
    "ks"
   ]
  },
  {
   "cell_type": "code",
   "execution_count": 60,
   "metadata": {
    "collapsed": false,
    "deletable": true,
    "editable": true
   },
   "outputs": [
    {
     "name": "stdout",
     "output_type": "stream",
     "text": [
      "  0             Air Transportation:      1\n",
      "  1         Biofuels Manufacturing:      7\n",
      "  2                   CUTOFF Flows:    523\n",
      "  3         Chemical Manufacturing:    128\n",
      "  4                Crop Production:     55\n",
      "  5 Elec. Equip., Appliance, and C:     10\n",
      "  6               Elementary Flows:     19\n",
      "  7 Fabricated Metal Product Manuf:     12\n",
      "  8           Forestry and Logging:    111\n",
      "  9    Mining (except Oil and Gas):      7\n",
      " 10 Nonmetallic Mineral Product Ma:      5\n",
      " 11         Oil and Gas Extraction:      3\n",
      " 12            Paper Manufacturing:     49\n",
      " 13 Petroleum and Coal Products Ma:     11\n",
      " 14 Plastics and Rubber Products M:     22\n",
      " 15    Primary Metal Manufacturing:     50\n",
      " 16            Rail Transportation:      1\n",
      " 17 Transit and Ground Passenger T:     46\n",
      " 18 Transportation Equipment Manuf:      5\n",
      " 19           Truck Transportation:    102\n",
      " 20                      Utilities:    127\n",
      " 21 Waste Management and Remediati:     22\n",
      " 22           Water Transportation:      6\n",
      " 23     Wood Product Manufacturing:    160\n",
      " 24                            air:   1030\n",
      " 25               final-waste-flow:     19\n",
      " 26                   non-material:      2\n",
      " 27                         others:      8\n",
      " 28                       resource:    474\n",
      " 29                           soil:    237\n",
      " 30                          water:    924\n"
     ]
    }
   ],
   "source": [
    "for i, g in enumerate(gs):\n",
    "    print(' %2d %30.30s: %6d' % (i, ks[i], len(g)))"
   ]
  },
  {
   "cell_type": "code",
   "execution_count": 62,
   "metadata": {
    "collapsed": false,
    "deletable": true,
    "editable": true
   },
   "outputs": [
    {
     "name": "stdout",
     "output_type": "stream",
     "text": [
      "Petroleum refining, at refinery\n",
      "Diesel, at refinery\n",
      "Residual fuel oil, at refinery\n",
      "Petroleum refining coproduct, unspecified, at refinery\n",
      "Kerosene, at refinery\n",
      "Liquefied petroleum gas, at refinery\n",
      "Gasoline, at refinery\n",
      "Petroleum refining coproduct, at refinery\n",
      "Refinery gas, at refinery\n",
      "Bitumen, at refinery\n",
      "Petroleum coke, at refinery\n"
     ]
    }
   ],
   "source": [
    "for f in gs[13]:\n",
    "    print(f['Name'])"
   ]
  },
  {
   "cell_type": "code",
   "execution_count": 167,
   "metadata": {
    "collapsed": false,
    "deletable": true,
    "editable": true,
    "scrolled": false
   },
   "outputs": [
    {
     "data": {
      "text/plain": [
       "['anthracite coal, combusted in industrial boiler',\n",
       " 'bituminous coal, combusted in industrial boiler',\n",
       " 'bituminous coal, combusted in industrial boiler, at pulp and paper mill (excl.)',\n",
       " 'diesel, combusted in industrial boiler',\n",
       " 'diesel, combusted in industrial boiler, at pulp and paper mill (excl.)',\n",
       " 'diesel, combusted in industrial equipment',\n",
       " 'gasoline, combusted in equipment',\n",
       " 'gasoline, combusted in equipment, at pulp and paper mill (excl.)',\n",
       " 'hog fuel, pur., combusted in industrial boiler, at pulp and paper mill (excl.)',\n",
       " 'hog fuel, self-gen., combusted in ind. boiler, at pulp and paper mill (excl.)',\n",
       " 'lignite coal, combusted in industrial boiler',\n",
       " 'liquefied petroleum gas, combusted in industrial boiler',\n",
       " 'lpg, combusted in industrial boiler, at pulp and paper mill (excl.)',\n",
       " 'natural gas, combusted in industrial boiler',\n",
       " 'natural gas, combusted in industrial boiler, at hydrocracker, for butadiene',\n",
       " 'natural gas, combusted in industrial boiler, at hydrocracker, for ethylene',\n",
       " 'natural gas, combusted in industrial boiler, at hydrocracker, for propylene',\n",
       " 'natural gas, combusted in industrial boiler, at hydrocracker, for pyrolysis gas',\n",
       " 'natural gas, combusted in industrial boiler, at pulp and paper mill (excl.)',\n",
       " 'natural gas, combusted in industrial equipment',\n",
       " 'residual fuel oil, combusted in industrial boiler',\n",
       " 'rfo, combusted in industrial boiler, at pulp and paper mill (excl.)',\n",
       " 'tdf, combusted in industrial boiler, at pulp and paper mill (excl.)',\n",
       " 'wood fuel, hardwood, gen at lumber mill, combusted in industrial boiler, ne-nc',\n",
       " 'wood fuel, hardwood, generated at lumber mill, combusted in industrial boiler, se',\n",
       " 'wood fuel, hardwood, generated at mill, combusted in industrial boiler, e',\n",
       " 'wood fuel, hardwood, purchased, combusted in industrial boiler, e',\n",
       " 'wood fuel, hardwood, purchased, combusted in industrial boiler, ne-nc',\n",
       " 'wood fuel, hardwood, purchased, combusted in industrial boiler, se',\n",
       " 'wood fuel, hardwood,gen at flooring prod plant, combusted in industrial boiler, e',\n",
       " 'wood fuel, mdf, generated on-site, combusted in industrial boiler',\n",
       " 'wood fuel, mdf, purchased, combusted in industrial boiler',\n",
       " 'wood fuel, softwood, gen at lumber mill, combusted in industrial boiler, ne-nc',\n",
       " 'wood fuel, softwood, purchased, combusted in industrial boiler, ne-nc',\n",
       " 'wood waste, unspecified, combusted in industrial boiler',\n",
       " 'wood, particleboard, generated onsite, combusted in industrial boiler',\n",
       " 'wood, softwood, inw, generated at lumber mill, combusted in industrial boiler']"
      ]
     },
     "execution_count": 167,
     "metadata": {},
     "output_type": "execute_result"
    }
   ],
   "source": [
    "sorted([us_flows[f]['Name'].lower() for f in in_us if us_flows[f]['Name'].lower().find('combusted') >= 0])"
   ]
  },
  {
   "cell_type": "code",
   "execution_count": 171,
   "metadata": {
    "collapsed": false,
    "deletable": true,
    "editable": true
   },
   "outputs": [
    {
     "data": {
      "text/plain": [
       "'a9d158e0-d48c-4427-8c55-42719e9e11cc'"
      ]
     },
     "execution_count": 171,
     "metadata": {},
     "output_type": "execute_result"
    }
   ],
   "source": [
    "us['nsUuid']"
   ]
  },
  {
   "cell_type": "code",
   "execution_count": 176,
   "metadata": {
    "collapsed": false,
    "deletable": true,
    "editable": true
   },
   "outputs": [
    {
     "data": {
      "text/plain": [
       "[{'Classifications': ['Petroleum and Coal Products Manufacturing',\n",
       "   'Petroleum Refineries'],\n",
       "  'Comment': 'This module expresses data on the basis 1 kilogram of general refinery product as well as data allocated to specific refinery products. The data are allocated to specific refinery products based on the percent by mass of each product in the refinery output. Refinery products include gasoline, distillate/diesel oil, LPG, residual oil, kerosene/jet fuel, and other (still gas, petroleum, coke, asphalt, and petrochemical feedstocks).  Complete inventory data and metadata are available in full in the final report and appendices, Cradle-to-Gate Life Cycle Inventory of Nine Plastic Resins and Four Polyurethane Precursors. This report has been extensively reviewed within Franklin Associates and has undergone partial critical review by ACC Plastics Division members and is available at: www.americanchemistry.com. Quantities may vary slightly between the reference to main source and and this module due to rounding. Important note: although most of the data in the US LCI database has undergone some sort of review, the database as a whole has not yet undergone a formal validation process.  Please email comments to lci@nrel.gov.  ',\n",
       "  'Name': 'Petroleum refining, at refinery',\n",
       "  'SpatialScope': 'RNA',\n",
       "  'TemporalScope': {'begin': '2003-01-01-07:00', 'end': '2003-01-01-07:00'},\n",
       "  'entityId': 'f6e5a6e4-a968-399c-8f99-7a709cd68326',\n",
       "  'entityType': 'process',\n",
       "  'exchanges': [{'direction': 'Input',\n",
       "    'entityType': 'exchange',\n",
       "    'flow': '0759842c-5ed4-3d78-ba6c-9d0752cc9820',\n",
       "    'value': 0.00114922534711027},\n",
       "   {'direction': 'Input',\n",
       "    'entityType': 'exchange',\n",
       "    'flow': '0d9db990-e9d5-3e59-b484-56f512816098',\n",
       "    'value': 0.143108486320558},\n",
       "   {'direction': 'Input',\n",
       "    'entityType': 'exchange',\n",
       "    'flow': '25d3acbf-467a-3de6-b296-32b9f8dfe4de',\n",
       "    'value': 0.652170539921939},\n",
       "   {'direction': 'Input',\n",
       "    'entityType': 'exchange',\n",
       "    'flow': '301bb4eb-f24d-3098-bca2-f3b639e31e58',\n",
       "    'value': 1.01848017868973},\n",
       "   {'direction': 'Input',\n",
       "    'entityType': 'exchange',\n",
       "    'flow': '88a88dbd-7da8-3aeb-8741-5c189411201d',\n",
       "    'value': 0.000958091590684154},\n",
       "   {'direction': 'Input',\n",
       "    'entityType': 'exchange',\n",
       "    'flow': '98bf3c4a-6620-356a-ac49-c1020a130ea5',\n",
       "    'value': 0.00560421083986623},\n",
       "   {'direction': 'Input',\n",
       "    'entityType': 'exchange',\n",
       "    'flow': 'a0a3049d-f8a2-3360-bbc7-be143bd18d77',\n",
       "    'value': 4.40889504679002},\n",
       "   {'direction': 'Input',\n",
       "    'entityType': 'exchange',\n",
       "    'flow': 'b8e6e270-8a67-3863-972b-95872c2255bb',\n",
       "    'value': 0.0272297571929317},\n",
       "   {'direction': 'Input',\n",
       "    'entityType': 'exchange',\n",
       "    'flow': 'cc17485c-0522-3a4c-9e0e-2c7e07c6d0e1',\n",
       "    'value': 0.0111079230742684},\n",
       "   {'direction': 'Input',\n",
       "    'entityType': 'exchange',\n",
       "    'flow': 'd405b84a-bf2d-32e3-a430-f306bb12235f',\n",
       "    'value': 0.000288147846822302},\n",
       "   {'direction': 'Input',\n",
       "    'entityType': 'exchange',\n",
       "    'flow': 'f9a07d1f-22ac-3aa2-9503-128703156db9',\n",
       "    'value': 0.489877227421113},\n",
       "   {'direction': 'Output',\n",
       "    'entityType': 'exchange',\n",
       "    'flow': '026fe4d9-d329-3b7d-84ea-870dd5dfd662',\n",
       "    'value': 1.06460746460746e-05},\n",
       "   {'direction': 'Output',\n",
       "    'entityType': 'exchange',\n",
       "    'flow': '0a2cf828-2273-36fb-9887-cf00436b62a3',\n",
       "    'value': 2.57107121495646e-10},\n",
       "   {'direction': 'Output',\n",
       "    'entityType': 'exchange',\n",
       "    'flow': '0fd9a936-907e-3a8a-86bb-ef4b36da5db5',\n",
       "    'value': 2.03765912188358e-09},\n",
       "   {'direction': 'Output',\n",
       "    'entityType': 'exchange',\n",
       "    'flow': '1184ed8c-6adc-3580-9824-8cb2ec3b9bf7',\n",
       "    'value': 0.000424250845882608},\n",
       "   {'direction': 'Output',\n",
       "    'entityType': 'exchange',\n",
       "    'flow': '2023108e-c176-3345-b1ac-eba8ae6792bf',\n",
       "    'value': 0.0490831775366809},\n",
       "   {'direction': 'Output',\n",
       "    'entityType': 'exchange',\n",
       "    'flow': '21002040-1584-3ca9-b8ea-a94788250cdd',\n",
       "    'value': 1.0},\n",
       "   {'direction': 'Output',\n",
       "    'entityType': 'exchange',\n",
       "    'flow': '24e2b841-73e2-34c9-b523-97f5000a8a28',\n",
       "    'value': 5.5774254926308e-08},\n",
       "   {'direction': 'Output',\n",
       "    'entityType': 'exchange',\n",
       "    'flow': '2fb4ca68-6eb1-3f0b-b907-70cdc6f050f2',\n",
       "    'value': 0.000423482254234474},\n",
       "   {'direction': 'Output',\n",
       "    'entityType': 'exchange',\n",
       "    'flow': '300e9065-67c6-39f4-b4b9-d91e4644911f',\n",
       "    'value': 1.86306306306306e-07},\n",
       "   {'direction': 'Output',\n",
       "    'entityType': 'exchange',\n",
       "    'flow': '342af299-3bd9-3169-bdef-5e081d0e0eda',\n",
       "    'value': 2.30632374262509e-05},\n",
       "   {'direction': 'Output',\n",
       "    'entityType': 'exchange',\n",
       "    'flow': '3687205a-ae19-3a91-b7a7-1ad8ab38fa90',\n",
       "    'value': 9.84604488706027e-10},\n",
       "   {'direction': 'Output',\n",
       "    'entityType': 'exchange',\n",
       "    'flow': '3b3b2c71-65c2-3def-a3a8-2d21605d79ea',\n",
       "    'value': 3.04612013693427e-09},\n",
       "   {'direction': 'Output',\n",
       "    'entityType': 'exchange',\n",
       "    'flow': '426a863b-bef6-3161-b2d7-322fa71b4560',\n",
       "    'value': 6.75594656025398e-10},\n",
       "   {'direction': 'Output',\n",
       "    'entityType': 'exchange',\n",
       "    'flow': '4ad488d3-7b51-34f7-b076-4b2c9fb969dd',\n",
       "    'value': 0.000251403624383439},\n",
       "   {'direction': 'Output',\n",
       "    'entityType': 'exchange',\n",
       "    'flow': '59549e72-e6b8-38e5-b945-1371c7dc5e6a',\n",
       "    'value': 0.0514536791611454},\n",
       "   {'direction': 'Output',\n",
       "    'entityType': 'exchange',\n",
       "    'flow': '5e10d808-bec0-3bdd-80ca-877acee78c07',\n",
       "    'value': 0.000678355070254376},\n",
       "   {'direction': 'Output',\n",
       "    'entityType': 'exchange',\n",
       "    'flow': '5feee62f-b5bb-3c98-9c7b-23a5d99d5f58',\n",
       "    'value': 0.000246934273409001},\n",
       "   {'direction': 'Output',\n",
       "    'entityType': 'exchange',\n",
       "    'flow': '6c85ea27-e5a8-344c-ace1-b03be658546b',\n",
       "    'value': 1.5351259422688e-05},\n",
       "   {'direction': 'Output',\n",
       "    'entityType': 'exchange',\n",
       "    'flow': '72759fb3-b450-3c1c-b158-f960fc559a20',\n",
       "    'value': 0.570086670859861},\n",
       "   {'direction': 'Output',\n",
       "    'entityType': 'exchange',\n",
       "    'flow': '7b853edd-d2ff-3c89-9832-f3b15bab5aa7',\n",
       "    'value': 3.69707104398912e-05},\n",
       "   {'direction': 'Output',\n",
       "    'entityType': 'exchange',\n",
       "    'flow': '81610a58-ebb9-3f21-9b2f-8225c6cdd17e',\n",
       "    'value': 3.14805432236279e-05},\n",
       "   {'direction': 'Output',\n",
       "    'entityType': 'exchange',\n",
       "    'flow': '89e24ac6-98ad-3846-a007-9876afc95754',\n",
       "    'value': 1.075602786344e-06},\n",
       "   {'direction': 'Output',\n",
       "    'entityType': 'exchange',\n",
       "    'flow': '8aec6486-5138-38dc-a48a-daf769727f36',\n",
       "    'value': 3.57747709728232e-06},\n",
       "   {'direction': 'Output',\n",
       "    'entityType': 'exchange',\n",
       "    'flow': '9104297b-4ebd-358c-95ce-b6f956f34b9f',\n",
       "    'value': 5.35607949132008e-08},\n",
       "   {'direction': 'Output',\n",
       "    'entityType': 'exchange',\n",
       "    'flow': '9337da55-f65b-3d0c-9c16-82b3cf4d37e4',\n",
       "    'value': 1.60179222886918e-09},\n",
       "   {'direction': 'Output',\n",
       "    'entityType': 'exchange',\n",
       "    'flow': '9a1f6d4c-4470-3d91-b7b9-ba8e5ce1e8bf',\n",
       "    'value': 0.0595942417053244},\n",
       "   {'direction': 'Output',\n",
       "    'entityType': 'exchange',\n",
       "    'flow': '9c2e3208-82b9-3100-aec3-07d6358b03e1',\n",
       "    'value': 2.17973267561622e-08},\n",
       "   {'direction': 'Output',\n",
       "    'entityType': 'exchange',\n",
       "    'flow': '9fe775e1-cc00-3b29-a6c9-9328218ef527',\n",
       "    'value': 0.0518260609872601},\n",
       "   {'direction': 'Output',\n",
       "    'entityType': 'exchange',\n",
       "    'flow': 'a64879a4-7831-374e-b324-0d49f6248368',\n",
       "    'value': 6.03311573962026e-11},\n",
       "   {'direction': 'Output',\n",
       "    'entityType': 'exchange',\n",
       "    'flow': 'a76d5c91-71af-3180-b043-cb16104bc044',\n",
       "    'value': 0.0611691306116913},\n",
       "   {'direction': 'Output',\n",
       "    'entityType': 'exchange',\n",
       "    'flow': 'b1387c8e-0086-3247-adb4-aabc43f402a5',\n",
       "    'value': 2.26229086229086e-07},\n",
       "   {'direction': 'Output',\n",
       "    'entityType': 'exchange',\n",
       "    'flow': 'bc05ec4a-d762-3f9c-8a6d-df21d9678443',\n",
       "    'value': 4.26874901032316e-09},\n",
       "   {'direction': 'Output',\n",
       "    'entityType': 'exchange',\n",
       "    'flow': 'bd167198-48a2-32fe-bca8-038225944b24',\n",
       "    'value': 1.36233292226014e-09},\n",
       "   {'direction': 'Output',\n",
       "    'entityType': 'exchange',\n",
       "    'flow': 'c1703c40-ce54-3395-b48e-1dbd610adaeb',\n",
       "    'value': 0.112458221473748},\n",
       "   {'direction': 'Output',\n",
       "    'entityType': 'exchange',\n",
       "    'flow': 'c171e977-f3c5-3825-b889-0ede818a2aff',\n",
       "    'value': 2.79459459459459e-05},\n",
       "   {'direction': 'Output',\n",
       "    'entityType': 'exchange',\n",
       "    'flow': 'db1aa4bb-498f-3cb9-9cb6-e53e953d9a35',\n",
       "    'value': 3.39343629343629e-05},\n",
       "   {'direction': 'Output',\n",
       "    'entityType': 'exchange',\n",
       "    'flow': 'ea437b7f-9604-31bd-86bc-d668a3c4a1c0',\n",
       "    'value': 5.75031180659747e-09},\n",
       "   {'direction': 'Output',\n",
       "    'entityType': 'exchange',\n",
       "    'flow': 'eb16c394-cd99-37d3-a5ac-30fa6e5c3589',\n",
       "    'isReference': True,\n",
       "    'value': 0.252345277453289},\n",
       "   {'direction': 'Output',\n",
       "    'entityType': 'exchange',\n",
       "    'flow': 'f2ca9a2e-c16d-3a93-a414-c4ec0e623928',\n",
       "    'value': 0.000232882882882883},\n",
       "   {'direction': 'Output',\n",
       "    'entityType': 'exchange',\n",
       "    'flow': 'f449a1c4-e954-3c25-9469-b758c86af586',\n",
       "    'value': 0.0371747954729888}],\n",
       "  'externalId': 'Petroleum refining, at refinery',\n",
       "  'origin': '/home/b/Dropbox/data/USLCI/USLCI_Processes_ecospold1.zip'}]"
      ]
     },
     "execution_count": 176,
     "metadata": {},
     "output_type": "execute_result"
    }
   ],
   "source": [
    "[p for p in us['processes'] if p['entityId'] == str(uuid.uuid3(uuid.UUID(us['nsUuid']), 'Petroleum refining, at refinery'))]\n",
    "\n"
   ]
  },
  {
   "cell_type": "code",
   "execution_count": 85,
   "metadata": {
    "collapsed": false,
    "deletable": true,
    "editable": true
   },
   "outputs": [
    {
     "data": {
      "text/plain": [
       "-1"
      ]
     },
     "execution_count": 85,
     "metadata": {},
     "output_type": "execute_result"
    }
   ],
   "source": [
    "next(f for f in us_flows.values())['Name'].lower().find('diesel')"
   ]
  },
  {
   "cell_type": "code",
   "execution_count": 68,
   "metadata": {
    "collapsed": false,
    "deletable": true,
    "editable": true
   },
   "outputs": [
    {
     "data": {
      "text/plain": [
       "2"
      ]
     },
     "execution_count": 68,
     "metadata": {},
     "output_type": "execute_result"
    }
   ],
   "source": [
    "g.find('ds')"
   ]
  },
  {
   "cell_type": "code",
   "execution_count": 89,
   "metadata": {
    "collapsed": true,
    "deletable": true,
    "editable": true
   },
   "outputs": [],
   "source": [
    "from collections import Counter"
   ]
  },
  {
   "cell_type": "code",
   "execution_count": 91,
   "metadata": {
    "collapsed": false,
    "deletable": true,
    "editable": true
   },
   "outputs": [],
   "source": []
  },
  {
   "cell_type": "code",
   "execution_count": null,
   "metadata": {
    "collapsed": true,
    "deletable": true,
    "editable": true
   },
   "outputs": [],
   "source": []
  },
  {
   "cell_type": "code",
   "execution_count": 103,
   "metadata": {
    "collapsed": false,
    "deletable": true,
    "editable": true
   },
   "outputs": [],
   "source": [
    "elem = {'air', 'water', 'soil', 'resource'}\n",
    "\n",
    "output_counter = Counter()\n",
    "\n",
    "for p in us['processes']:\n",
    "    for x in p['exchanges']:\n",
    "        if x['direction'] == 'Output':\n",
    "            if x['flow'] in in_us:\n",
    "            #if us_flows[x['flow']]['Compartment'][0] not in elem:\n",
    "                output_counter[x['flow']] += 1\n",
    "            "
   ]
  },
  {
   "cell_type": "code",
   "execution_count": null,
   "metadata": {
    "collapsed": true,
    "deletable": true,
    "editable": true
   },
   "outputs": [],
   "source": [
    "us_flows"
   ]
  },
  {
   "cell_type": "code",
   "execution_count": 182,
   "metadata": {
    "collapsed": false,
    "deletable": true,
    "editable": true
   },
   "outputs": [
    {
     "name": "stdout",
     "output_type": "stream",
     "text": [
      "86: (5853) Chromium\n",
      "61: (6619) Chloride\n",
      "54: (6621) Sodium, ion\n",
      "50: (5875) Carbon dioxide, biogenic\n",
      "19: (6615) Chromium, ion\n",
      "16: (6601) Thallium\n",
      " 8: (6605) Hydrogen cyanide (prussic acid)\n",
      " 8: (6603) Chloride (unspecified)\n",
      " 8: (7907) Inorganic salts and acids, unspecified\n",
      " 8: (9688) Water, cooling\n",
      " 7: (6617) Methane, bromotrifluoro-, Halon 1301\n",
      " 7: (15462) Cooling water, non-contact\n",
      " 3: (13968) Water\n",
      " 2: (775) Diesel, at refinery\n",
      " 2: (6403) Oil, crude, 42 MJ per kg, in ground\n",
      " 2: (16700) Kerosene, at refinery\n",
      " 2: (7295) Quartz sand (silica sand; silicon dioxide)\n",
      " 2: (7293) Sodium chloride, in ground\n",
      " 2: (16696) Residual fuel oil, at refinery\n",
      " 2: (7352) Lignite, 11 MJ per kg, in ground\n",
      " 2: (13406) Petroleum coke, at refinery\n",
      " 2: (16694) Liquefied petroleum gas, at refinery\n",
      " 2: (6903) Oxygen\n",
      " 2: (6401) Gas, natural, 46.8 MJ per kg, in ground\n",
      " 2: (7350) Coal, hard, 30.7 MJ per kg, in ground\n",
      " 2: (23293) Harvesting, fresh fruit bunch, at farm\n",
      " 2: (869) Gasoline, at refinery\n",
      " 2: (5339) Wood fuel, hardwood, green, at veneer mill, E\n",
      " 1: (23475) Fuels, burned at coated freesheet, average production, at mill\n",
      " 1: (23368) Natural gas, combusted in industrial boiler, at pulp and paper mill (EXCL.)\n"
     ]
    }
   ],
   "source": [
    "for k in output_counter.most_common(30):\n",
    "    print('%2d: (%s) %s' % (k[1], us_flows[k[0]]['externalId'], us_flows[k[0]]['Name']))"
   ]
  },
  {
   "cell_type": "code",
   "execution_count": 111,
   "metadata": {
    "collapsed": false,
    "deletable": true,
    "editable": true
   },
   "outputs": [
    {
     "data": {
      "text/plain": [
       "{'CasNumber': '',\n",
       " 'Comment': '',\n",
       " 'Compartment': ['air', 'unspecified'],\n",
       " 'Name': 'Carbon dioxide, biogenic',\n",
       " 'characterizations': [{'entityType': 'characterization',\n",
       "   'isReference': True,\n",
       "   'quantity': 'bbe8f43d-c141-3e21-b8c2-3ba1ce556ad0',\n",
       "   'value': 1.0}],\n",
       " 'entityId': '80d22a4f-d79f-3597-9e4e-23c25505d5ad',\n",
       " 'entityType': 'flow',\n",
       " 'externalId': 5875,\n",
       " 'origin': '/home/b/Dropbox/data/USLCI/USLCI_Processes_ecospold1.zip'}"
      ]
     },
     "execution_count": 111,
     "metadata": {},
     "output_type": "execute_result"
    }
   ],
   "source": [
    "us_flows[output_counter.most_common(4)[3][0]]"
   ]
  },
  {
   "cell_type": "code",
   "execution_count": 115,
   "metadata": {
    "collapsed": true,
    "deletable": true,
    "editable": true
   },
   "outputs": [],
   "source": [
    "co2_biogenic =output_counter.most_common(4)[3][0]\n",
    "chromium = output_counter.most_common(1)[0][0]"
   ]
  },
  {
   "cell_type": "code",
   "execution_count": 118,
   "metadata": {
    "collapsed": false,
    "deletable": true,
    "editable": true
   },
   "outputs": [
    {
     "data": {
      "text/plain": [
       "{'CasNumber': '',\n",
       " 'Comment': '',\n",
       " 'Compartment': ['resource', 'in ground'],\n",
       " 'Name': 'Chromium, 25.5 in chromite, 11.6% in crude ore, in ground',\n",
       " 'characterizations': [{'entityType': 'characterization',\n",
       "   'isReference': True,\n",
       "   'quantity': 'bbe8f43d-c141-3e21-b8c2-3ba1ce556ad0',\n",
       "   'value': 1.0}],\n",
       " 'entityId': '11183286-23c2-3521-8b55-4907c5754aaf',\n",
       " 'entityType': 'flow',\n",
       " 'externalId': 6570,\n",
       " 'origin': '/home/b/Dropbox/data/USLCI/USLCI_Processes_ecospold1.zip'}"
      ]
     },
     "execution_count": 118,
     "metadata": {},
     "output_type": "execute_result"
    }
   ],
   "source": [
    "us_flows['11183286-23c2-3521-8b55-4907c5754aaf']"
   ]
  },
  {
   "cell_type": "code",
   "execution_count": 119,
   "metadata": {
    "collapsed": false,
    "deletable": true,
    "editable": true
   },
   "outputs": [
    {
     "data": {
      "text/plain": [
       "[['Primary Metal Manufacturing', 'Primary Metal Manufacturing'],\n",
       " ['Primary Metal Manufacturing', 'Primary Metal Manufacturing']]"
      ]
     },
     "execution_count": 119,
     "metadata": {},
     "output_type": "execute_result"
    }
   ],
   "source": [
    "[p['Classifications'] for p in us['processes'] if chromium in [x['flow'] for x in p['exchanges'] if x['direction'] =='Input']]"
   ]
  },
  {
   "cell_type": "code",
   "execution_count": 125,
   "metadata": {
    "collapsed": true,
    "deletable": true,
    "editable": true
   },
   "outputs": [],
   "source": [
    "def set_to_index(flow_set):\n",
    "    \"\"\"\n",
    "    Creates a dict of flow UUID to enumeration.  there's probably an easier [pythonic] way to do this.\n",
    "    \"\"\"\n",
    "    index = dict()\n",
    "    count = 0\n",
    "    for f in flow_set:\n",
    "        index[f] = count\n",
    "        count +=1\n",
    "    return index"
   ]
  },
  {
   "cell_type": "code",
   "execution_count": 122,
   "metadata": {
    "collapsed": true,
    "deletable": true,
    "editable": true
   },
   "outputs": [],
   "source": [
    "import scipy as sp"
   ]
  },
  {
   "cell_type": "code",
   "execution_count": 124,
   "metadata": {
    "collapsed": true,
    "deletable": true,
    "editable": true
   },
   "outputs": [],
   "source": [
    "from scipy.sparse import coo_matrix"
   ]
  },
  {
   "cell_type": "code",
   "execution_count": 143,
   "metadata": {
    "collapsed": true,
    "deletable": true,
    "editable": true
   },
   "outputs": [],
   "source": [
    "_process_iter = (p for p in us['processes'])"
   ]
  },
  {
   "cell_type": "code",
   "execution_count": 126,
   "metadata": {
    "collapsed": true,
    "deletable": true,
    "editable": true
   },
   "outputs": [],
   "source": [
    "p = next(p for p in us['processes'])"
   ]
  },
  {
   "cell_type": "code",
   "execution_count": 130,
   "metadata": {
    "collapsed": false,
    "deletable": true,
    "editable": true
   },
   "outputs": [],
   "source": [
    "def reference_exchanges(p):\n",
    "    \"\"\"\n",
    "    returns an iterable of exchange dicts that match x['isReference'] is True \n",
    "    \"\"\"\n",
    "    for x in p['exchanges']:\n",
    "        if 'isReference' in x.keys():\n",
    "            if x['isReference'] is True:\n",
    "                yield x"
   ]
  },
  {
   "cell_type": "code",
   "execution_count": 146,
   "metadata": {
    "collapsed": false,
    "deletable": true,
    "editable": true
   },
   "outputs": [
    {
     "data": {
      "text/plain": [
       "[{'Classifications': ['Paper Manufacturing',\n",
       "   'Pulp, Paper, and Paperboard Mills'],\n",
       "  'Comment': 'Uncoated Freesheet, average North American production, at mill.  By-products were allocated 0% of the impacts to enable the user to choose and apply their own allocation method more easily. All flows are production-weighted means. Data were developed for a full LCA that was critically reviewed.  Reviewers were: • Martha Stevenson, Chairperson – Private Consultant to the public interest with ten years of experience in sustainability, environmental management, packaging and materials recovery; led the development of the Design Guidelines for Sustainable Packaging and the COMPASS software used to compare the environmental impacts of package designs; • Pascal Lesage – Life cycle assessment consultant, Researcher at École Polytechnique de Montréal [at the Inter-University Research Centre for the Life Cycle of Products, Processes and Services (CIRAIG) in Montreal]; and • Dale Phenicie, Environmental Affairs Consulting – Consultant with 35 years of experience in environmental protection and process consulting for the forest products industry. Has served on several U.S. EPA Task Forces dealing with water quality issues and authored several AF&PA Environmental, Health and Safety/Sustainability reports.',\n",
       "  'Name': 'Paper, freesheet, uncoated, average production, at mill, 2006',\n",
       "  'SpatialScope': 'RNA',\n",
       "  'TemporalScope': {'begin': '2006-01-01-07:00', 'end': '2006-01-01-07:00'},\n",
       "  'entityId': '1f812886-3d37-3b3d-8878-72c7ba8bfbe5',\n",
       "  'entityType': 'process',\n",
       "  'exchanges': [{'direction': 'Input',\n",
       "    'entityType': 'exchange',\n",
       "    'flow': '0049a634-7a91-3f15-a071-ab7e8d83d7a5',\n",
       "    'value': 19.051},\n",
       "   {'direction': 'Input',\n",
       "    'entityType': 'exchange',\n",
       "    'flow': '0441d8a3-b633-3caa-9a18-684e96ed0502',\n",
       "    'value': 30.3},\n",
       "   {'direction': 'Input',\n",
       "    'entityType': 'exchange',\n",
       "    'flow': '065fa0d5-7072-33c1-8cb0-150567c907e3',\n",
       "    'value': 122.0},\n",
       "   {'direction': 'Input',\n",
       "    'entityType': 'exchange',\n",
       "    'flow': '0997d300-fc5c-3950-a04f-2a44aa0b3b59',\n",
       "    'value': 27.261},\n",
       "   {'direction': 'Input',\n",
       "    'entityType': 'exchange',\n",
       "    'flow': '12433148-2b9d-3ef2-852e-15640f2de9e6',\n",
       "    'value': 0.86636},\n",
       "   {'direction': 'Input',\n",
       "    'entityType': 'exchange',\n",
       "    'flow': '16e20ab1-15d4-3820-8462-4326b9037883',\n",
       "    'value': 11.975},\n",
       "   {'direction': 'Input',\n",
       "    'entityType': 'exchange',\n",
       "    'flow': '1cf2b419-9f55-3a26-bb53-22597969bab0',\n",
       "    'value': 0.3045},\n",
       "   {'direction': 'Input',\n",
       "    'entityType': 'exchange',\n",
       "    'flow': '3012e6ee-8dfa-34e1-b648-4120cd9d8e05',\n",
       "    'value': 0.3645},\n",
       "   {'direction': 'Input',\n",
       "    'entityType': 'exchange',\n",
       "    'flow': '36bdc912-dde4-376f-82e1-f7682983cd24',\n",
       "    'value': 14.47},\n",
       "   {'direction': 'Input',\n",
       "    'entityType': 'exchange',\n",
       "    'flow': '3a8ff052-ae6a-32e5-909b-2bc307530f01',\n",
       "    'value': 7.7836},\n",
       "   {'direction': 'Input',\n",
       "    'entityType': 'exchange',\n",
       "    'flow': '3fc0b790-3af6-389a-a1f3-a00cd092d48a',\n",
       "    'value': 26.762},\n",
       "   {'direction': 'Input',\n",
       "    'entityType': 'exchange',\n",
       "    'flow': '41fdbf80-af1d-3d82-b1ba-df0c954efd9a',\n",
       "    'value': 4.3998},\n",
       "   {'direction': 'Input',\n",
       "    'entityType': 'exchange',\n",
       "    'flow': '42f37b1b-0447-3fd1-a117-4f9bf8af0ac8',\n",
       "    'value': 837.5668000000001},\n",
       "   {'direction': 'Input',\n",
       "    'entityType': 'exchange',\n",
       "    'flow': '43273c91-3086-3526-98d9-a40f218e28fd',\n",
       "    'value': 18.699845235956666},\n",
       "   {'direction': 'Input',\n",
       "    'entityType': 'exchange',\n",
       "    'flow': '4e45fef0-d70b-3df1-bc0c-2368401607e9',\n",
       "    'value': 823.72},\n",
       "   {'direction': 'Input',\n",
       "    'entityType': 'exchange',\n",
       "    'flow': '51353b5d-0851-372b-8bd1-30b14db4a163',\n",
       "    'value': 39.281},\n",
       "   {'direction': 'Input',\n",
       "    'entityType': 'exchange',\n",
       "    'flow': '539e9e94-0728-36f8-b378-064c3783006f',\n",
       "    'value': 4.8807},\n",
       "   {'direction': 'Input',\n",
       "    'entityType': 'exchange',\n",
       "    'flow': '6c87f55b-43ca-3aaf-b6ac-929fcb700394',\n",
       "    'value': 61.725},\n",
       "   {'direction': 'Input',\n",
       "    'entityType': 'exchange',\n",
       "    'flow': '7001122e-2015-386d-956d-72bf39ac4cdf',\n",
       "    'value': 62892.0},\n",
       "   {'direction': 'Input',\n",
       "    'entityType': 'exchange',\n",
       "    'flow': '7302213a-3437-3db1-bb9f-872f28b76aec',\n",
       "    'value': 0.065},\n",
       "   {'direction': 'Input',\n",
       "    'entityType': 'exchange',\n",
       "    'flow': '743220db-5299-3973-aa66-89c728428420',\n",
       "    'value': 0.0548},\n",
       "   {'direction': 'Input',\n",
       "    'entityType': 'exchange',\n",
       "    'flow': '76a99562-86e3-3c09-aa7f-1cc8362226a4',\n",
       "    'value': 10890.0},\n",
       "   {'direction': 'Input',\n",
       "    'entityType': 'exchange',\n",
       "    'flow': '79bad894-210b-3a5a-b2ee-3f331c6e05ab',\n",
       "    'value': 7.3269},\n",
       "   {'direction': 'Input',\n",
       "    'entityType': 'exchange',\n",
       "    'flow': '7cebbe3c-cce3-39eb-9b88-1703b17924a9',\n",
       "    'value': 0.0016329},\n",
       "   {'direction': 'Input',\n",
       "    'entityType': 'exchange',\n",
       "    'flow': '87d87cb6-0c8d-32c4-97f3-f56d40edea77',\n",
       "    'value': 0.83915},\n",
       "   {'direction': 'Input',\n",
       "    'entityType': 'exchange',\n",
       "    'flow': '8eeba28e-1320-3bbc-9d2b-e3a3e3ce868f',\n",
       "    'value': 7.3573},\n",
       "   {'direction': 'Input',\n",
       "    'entityType': 'exchange',\n",
       "    'flow': '9331f114-995d-39d7-9a88-be42984f0c36',\n",
       "    'value': 29.484},\n",
       "   {'direction': 'Input',\n",
       "    'entityType': 'exchange',\n",
       "    'flow': '99dbd0d2-5ab3-3c84-a660-cb71b442e176',\n",
       "    'value': 15.513},\n",
       "   {'direction': 'Input',\n",
       "    'entityType': 'exchange',\n",
       "    'flow': '9ef18b8f-c549-38cd-850e-6b17dffcb503',\n",
       "    'value': 0.1674},\n",
       "   {'direction': 'Input',\n",
       "    'entityType': 'exchange',\n",
       "    'flow': 'a04388aa-8549-3b2f-94a2-03e17fa903fb',\n",
       "    'value': 5.3373},\n",
       "   {'direction': 'Input',\n",
       "    'entityType': 'exchange',\n",
       "    'flow': 'a0dd4506-0ba9-35bf-bcf1-dfac4f33b7da',\n",
       "    'value': 25.583},\n",
       "   {'direction': 'Input',\n",
       "    'entityType': 'exchange',\n",
       "    'flow': 'a986965e-a335-3dfb-8370-1f087d23e7ad',\n",
       "    'value': 6.0328},\n",
       "   {'direction': 'Input',\n",
       "    'entityType': 'exchange',\n",
       "    'flow': 'aae62d01-e0f9-350a-8b03-26c193be7360',\n",
       "    'value': 0.02044},\n",
       "   {'direction': 'Input',\n",
       "    'entityType': 'exchange',\n",
       "    'flow': 'ab9a78bf-80ee-3e87-a316-932a324d2077',\n",
       "    'value': 92.237},\n",
       "   {'direction': 'Input',\n",
       "    'entityType': 'exchange',\n",
       "    'flow': 'aeef9be6-bd32-3720-9a01-297fb6161c2d',\n",
       "    'value': 19.323},\n",
       "   {'direction': 'Input',\n",
       "    'entityType': 'exchange',\n",
       "    'flow': 'b6957096-5df2-3b86-b01d-eb08f9c281f9',\n",
       "    'value': 13563.0},\n",
       "   {'direction': 'Input',\n",
       "    'entityType': 'exchange',\n",
       "    'flow': 'bcdbc12d-45b4-315b-8ade-070893aa52f6',\n",
       "    'value': 1.2156},\n",
       "   {'direction': 'Input',\n",
       "    'entityType': 'exchange',\n",
       "    'flow': 'bed1039e-b2b5-37af-b661-df6e757614a5',\n",
       "    'value': 0.9608},\n",
       "   {'direction': 'Input',\n",
       "    'entityType': 'exchange',\n",
       "    'flow': 'cc18be17-789f-35a5-82e7-c092419b3755',\n",
       "    'value': 12.247},\n",
       "   {'direction': 'Input',\n",
       "    'entityType': 'exchange',\n",
       "    'flow': 'd52bbe64-4d4b-3d2a-883b-2015d4ebe138',\n",
       "    'value': 463.1113},\n",
       "   {'direction': 'Input',\n",
       "    'entityType': 'exchange',\n",
       "    'flow': 'd7fb7c3d-525e-3dbf-a26c-87db636cee82',\n",
       "    'value': 6.7041},\n",
       "   {'direction': 'Input',\n",
       "    'entityType': 'exchange',\n",
       "    'flow': 'deca876f-5cfd-3139-94f1-8db9ad41f3e7',\n",
       "    'value': 387.2},\n",
       "   {'direction': 'Input',\n",
       "    'entityType': 'exchange',\n",
       "    'flow': 'e2e6a6a8-590a-30d1-a55f-9fcd680ccbca',\n",
       "    'value': 3.2114},\n",
       "   {'direction': 'Input',\n",
       "    'entityType': 'exchange',\n",
       "    'flow': 'e6475bad-3749-3da6-a51a-d28d6d92ce1c',\n",
       "    'value': 7.6657},\n",
       "   {'direction': 'Input',\n",
       "    'entityType': 'exchange',\n",
       "    'flow': 'eb7372d4-3930-3c10-b8ce-521a20a3167b',\n",
       "    'value': 13.88},\n",
       "   {'direction': 'Input',\n",
       "    'entityType': 'exchange',\n",
       "    'flow': 'ecfd78e5-90e6-3637-a798-8d4432613e2e',\n",
       "    'value': 32.84},\n",
       "   {'direction': 'Input',\n",
       "    'entityType': 'exchange',\n",
       "    'flow': 'fef63e19-4293-307d-974d-53e14dfd1403',\n",
       "    'value': 64.41},\n",
       "   {'direction': 'Output',\n",
       "    'entityType': 'exchange',\n",
       "    'flow': '077d4f8e-b8f3-3374-90f5-2a56ecf9b9e4',\n",
       "    'value': 0.0011237},\n",
       "   {'direction': 'Output',\n",
       "    'entityType': 'exchange',\n",
       "    'flow': '08ee99c1-b525-3828-ac4c-beba7a2e7cb0',\n",
       "    'value': 21.818},\n",
       "   {'direction': 'Output',\n",
       "    'entityType': 'exchange',\n",
       "    'flow': '11ba6194-74b3-3b69-a09e-f3c20df3b701',\n",
       "    'value': 4.3902e-09},\n",
       "   {'direction': 'Output',\n",
       "    'entityType': 'exchange',\n",
       "    'flow': '18a1444a-08c6-3a4f-82ed-ee0783bab8d9',\n",
       "    'value': 63372.0},\n",
       "   {'direction': 'Output',\n",
       "    'entityType': 'exchange',\n",
       "    'flow': '278ffba2-4000-3696-9632-0f4f77dff4df',\n",
       "    'value': 0.007293},\n",
       "   {'direction': 'Output',\n",
       "    'entityType': 'exchange',\n",
       "    'flow': '3687205a-ae19-3a91-b7a7-1ad8ab38fa90',\n",
       "    'value': 4.4642e-05},\n",
       "   {'direction': 'Output',\n",
       "    'entityType': 'exchange',\n",
       "    'flow': '38754ad6-c15b-377d-8f4b-7a948e565d48',\n",
       "    'value': 2.3321e-05},\n",
       "   {'direction': 'Output',\n",
       "    'entityType': 'exchange',\n",
       "    'flow': '38bea2d4-7905-33aa-9817-1c040b5b1718',\n",
       "    'value': 0.45089},\n",
       "   {'direction': 'Output',\n",
       "    'entityType': 'exchange',\n",
       "    'flow': '3b3b2c71-65c2-3def-a3a8-2d21605d79ea',\n",
       "    'value': 0.00018805},\n",
       "   {'direction': 'Output',\n",
       "    'entityType': 'exchange',\n",
       "    'flow': '3d46d0f3-f28e-3015-87f5-c1e8d4f27711',\n",
       "    'value': 0.00013705},\n",
       "   {'direction': 'Output',\n",
       "    'entityType': 'exchange',\n",
       "    'flow': '3ea570e2-8c59-3d9c-babd-348e40e45287',\n",
       "    'value': 0.12383},\n",
       "   {'direction': 'Output',\n",
       "    'entityType': 'exchange',\n",
       "    'flow': '4455f2f3-101c-3071-ae14-ba3d5d43a23f',\n",
       "    'value': 0.002519},\n",
       "   {'direction': 'Output',\n",
       "    'entityType': 'exchange',\n",
       "    'flow': '45f0ad72-1279-3082-82db-1dc66aa63810',\n",
       "    'value': 0.046004},\n",
       "   {'direction': 'Output',\n",
       "    'entityType': 'exchange',\n",
       "    'flow': '4a89b282-aaf9-3b57-b0b7-99da219c13bd',\n",
       "    'value': 65.0},\n",
       "   {'direction': 'Output',\n",
       "    'entityType': 'exchange',\n",
       "    'flow': '4ad488d3-7b51-34f7-b076-4b2c9fb969dd',\n",
       "    'value': -16.203},\n",
       "   {'direction': 'Output',\n",
       "    'entityType': 'exchange',\n",
       "    'flow': '5aec616d-c3e1-38c9-993b-bcb71d9fc23a',\n",
       "    'value': 0.034881},\n",
       "   {'direction': 'Output',\n",
       "    'entityType': 'exchange',\n",
       "    'flow': '62ea1aa7-033c-3f1c-915f-a386c8f3dfd0',\n",
       "    'value': 0.00015365},\n",
       "   {'direction': 'Output',\n",
       "    'entityType': 'exchange',\n",
       "    'flow': '689c1b0e-ed4e-3612-845b-da376e861673',\n",
       "    'value': 0.045591},\n",
       "   {'direction': 'Output',\n",
       "    'entityType': 'exchange',\n",
       "    'flow': '7620a760-d628-3fda-8fae-08bc98b3a57f',\n",
       "    'value': 1.6919},\n",
       "   {'direction': 'Output',\n",
       "    'entityType': 'exchange',\n",
       "    'flow': '76a99562-86e3-3c09-aa7f-1cc8362226a4',\n",
       "    'value': 10890.0},\n",
       "   {'direction': 'Output',\n",
       "    'entityType': 'exchange',\n",
       "    'flow': '77aad089-093d-39f0-ba0d-14905042d80a',\n",
       "    'value': 0.021633},\n",
       "   {'direction': 'Output',\n",
       "    'entityType': 'exchange',\n",
       "    'flow': '7a65c54e-82f3-39cb-abde-4c1e8b7d5e5e',\n",
       "    'value': 129.0},\n",
       "   {'direction': 'Output',\n",
       "    'entityType': 'exchange',\n",
       "    'flow': '80d22a4f-d79f-3597-9e4e-23c25505d5ad',\n",
       "    'value': -32.295},\n",
       "   {'direction': 'Output',\n",
       "    'entityType': 'exchange',\n",
       "    'flow': '8aec6486-5138-38dc-a48a-daf769727f36',\n",
       "    'value': 0.1041},\n",
       "   {'direction': 'Output',\n",
       "    'entityType': 'exchange',\n",
       "    'flow': '9104297b-4ebd-358c-95ce-b6f956f34b9f',\n",
       "    'value': 0.00069256},\n",
       "   {'direction': 'Output',\n",
       "    'entityType': 'exchange',\n",
       "    'flow': '952bd4ad-f98d-34c8-aad1-bb70de4c7895',\n",
       "    'value': 0.10431},\n",
       "   {'direction': 'Output',\n",
       "    'entityType': 'exchange',\n",
       "    'flow': '9932832d-9436-39df-b3cc-80c71952d3ef',\n",
       "    'value': 0.00013912},\n",
       "   {'direction': 'Output',\n",
       "    'entityType': 'exchange',\n",
       "    'flow': 'a0a315a8-9e63-3444-a2a3-1035a6e0dd9f',\n",
       "    'value': 1.0417e-05},\n",
       "   {'direction': 'Output',\n",
       "    'entityType': 'exchange',\n",
       "    'flow': 'a300ace9-8d08-3cf7-a78c-ad8abf8e1f2b',\n",
       "    'value': 0.0028363},\n",
       "   {'direction': 'Output',\n",
       "    'entityType': 'exchange',\n",
       "    'flow': 'a64879a4-7831-374e-b324-0d49f6248368',\n",
       "    'value': 2.3697e-07},\n",
       "   {'direction': 'Output',\n",
       "    'entityType': 'exchange',\n",
       "    'flow': 'af5dac61-d267-3656-ace4-a5374d66f0f5',\n",
       "    'value': 0.0024205},\n",
       "   {'direction': 'Output',\n",
       "    'entityType': 'exchange',\n",
       "    'flow': 'b1387c8e-0086-3247-adb4-aabc43f402a5',\n",
       "    'value': 5.6344e-05},\n",
       "   {'direction': 'Output',\n",
       "    'entityType': 'exchange',\n",
       "    'flow': 'bcdf85c9-9021-3710-bb37-57f48d234290',\n",
       "    'value': 4.5162e-06},\n",
       "   {'direction': 'Output',\n",
       "    'entityType': 'exchange',\n",
       "    'flow': 'c171e977-f3c5-3825-b889-0ede818a2aff',\n",
       "    'value': 2.15},\n",
       "   {'direction': 'Output',\n",
       "    'entityType': 'exchange',\n",
       "    'flow': 'c37dada2-b9a6-32a3-ba7d-5c9fe6dd8dca',\n",
       "    'value': 0.391},\n",
       "   {'direction': 'Output',\n",
       "    'entityType': 'exchange',\n",
       "    'flow': 'c47b8229-d703-320f-b1fb-772f5811f79b',\n",
       "    'value': 0.017095},\n",
       "   {'direction': 'Output',\n",
       "    'entityType': 'exchange',\n",
       "    'flow': 'ca12f560-f744-39ce-91a6-0fab709602c7',\n",
       "    'value': 0.013586},\n",
       "   {'direction': 'Output',\n",
       "    'entityType': 'exchange',\n",
       "    'flow': 'cf657508-f1d7-3d03-80d7-e79e38cb4b9e',\n",
       "    'value': 0.0016988},\n",
       "   {'direction': 'Output',\n",
       "    'entityType': 'exchange',\n",
       "    'flow': 'd5eadbb9-b8e1-3b6a-a78c-601f9c705f27',\n",
       "    'value': 0.0030806},\n",
       "   {'direction': 'Output',\n",
       "    'entityType': 'exchange',\n",
       "    'flow': 'd74bdddc-4ef3-3095-9d02-82a8a92b39ff',\n",
       "    'value': 0.057065},\n",
       "   {'direction': 'Output',\n",
       "    'entityType': 'exchange',\n",
       "    'flow': 'db1aa4bb-498f-3cb9-9cb6-e53e953d9a35',\n",
       "    'value': 1.4622},\n",
       "   {'direction': 'Output',\n",
       "    'entityType': 'exchange',\n",
       "    'flow': 'dbbdcd7f-29fa-378a-aab8-83b5f747a39c',\n",
       "    'value': 1042.0},\n",
       "   {'direction': 'Output',\n",
       "    'entityType': 'exchange',\n",
       "    'flow': 'dbbf7baf-1ac1-3cdf-a673-ef56bcabbaed',\n",
       "    'value': 0.00011886},\n",
       "   {'direction': 'Output',\n",
       "    'entityType': 'exchange',\n",
       "    'flow': 'e4ebec1b-2305-3324-b003-e9e6011b5399',\n",
       "    'value': 5.8399e-05},\n",
       "   {'direction': 'Output',\n",
       "    'entityType': 'exchange',\n",
       "    'flow': 'e6475bad-3749-3da6-a51a-d28d6d92ce1c',\n",
       "    'value': 861.83},\n",
       "   {'direction': 'Output',\n",
       "    'entityType': 'exchange',\n",
       "    'flow': 'ee0a53bd-bb38-3522-9979-5f5bfda1f070',\n",
       "    'value': 0.0075148},\n",
       "   {'direction': 'Output',\n",
       "    'entityType': 'exchange',\n",
       "    'flow': 'f339a553-7672-3a1a-9d90-d81b96c0bfdf',\n",
       "    'value': 0.013123},\n",
       "   {'direction': 'Output',\n",
       "    'entityType': 'exchange',\n",
       "    'flow': 'f705beef-4c97-345c-be6e-8d0afe22d1bc',\n",
       "    'value': 0.0019921},\n",
       "   {'direction': 'Output',\n",
       "    'entityType': 'exchange',\n",
       "    'flow': 'fc87ac9d-9a5c-31ed-96f3-5fd3ab97ea58',\n",
       "    'value': 0.00015976},\n",
       "   {'direction': 'Output',\n",
       "    'entityType': 'exchange',\n",
       "    'flow': 'ff33a2a7-d6a4-3c31-ad00-3f7f98b08f31',\n",
       "    'value': 1.7969e-05}],\n",
       "  'externalId': 'Paper, freesheet, uncoated, average production, at mill, 2006',\n",
       "  'origin': '/home/b/Dropbox/data/USLCI/USLCI_Processes_ecospold1.zip'}]"
      ]
     },
     "execution_count": 146,
     "metadata": {},
     "output_type": "execute_result"
    }
   ],
   "source": [
    "[p for p in us['processes'] if len([x for x in reference_exchanges(p)]) < 1]"
   ]
  },
  {
   "cell_type": "code",
   "execution_count": 123,
   "metadata": {
    "collapsed": false,
    "deletable": true,
    "editable": true
   },
   "outputs": [
    {
     "ename": "AttributeError",
     "evalue": "module 'scipy' has no attribute 'sparse'",
     "output_type": "error",
     "traceback": [
      "\u001b[1;31m---------------------------------------------------------------------------\u001b[0m",
      "\u001b[1;31mAttributeError\u001b[0m                            Traceback (most recent call last)",
      "\u001b[1;32m<ipython-input-123-0cd498ef2c6c>\u001b[0m in \u001b[0;36m<module>\u001b[1;34m()\u001b[0m\n\u001b[1;32m----> 1\u001b[1;33m \u001b[0mA\u001b[0m \u001b[1;33m=\u001b[0m \u001b[0msp\u001b[0m\u001b[1;33m.\u001b[0m\u001b[0msparse\u001b[0m\u001b[1;33m.\u001b[0m\u001b[0mcoo_matrix\u001b[0m\u001b[1;33m\u001b[0m\u001b[0m\n\u001b[0m",
      "\u001b[1;31mAttributeError\u001b[0m: module 'scipy' has no attribute 'sparse'"
     ]
    }
   ],
   "source": [
    "def create_technology_matrix(catalog):\n",
    "    interior = interior_flows(catalog)\n",
    "    index = set_to_index(interior)  # this is a dict that maps interior flow to index\n",
    "    "
   ]
  },
  {
   "cell_type": "code",
   "execution_count": 149,
   "metadata": {
    "collapsed": false,
    "deletable": true,
    "editable": true
   },
   "outputs": [
    {
     "data": {
      "text/plain": [
       "2688"
      ]
     },
     "execution_count": 149,
     "metadata": {},
     "output_type": "execute_result"
    }
   ],
   "source": [
    "len(in_ei)"
   ]
  },
  {
   "cell_type": "code",
   "execution_count": 150,
   "metadata": {
    "collapsed": true,
    "deletable": true,
    "editable": true
   },
   "outputs": [],
   "source": [
    "ei_flows = make_flows(ei)"
   ]
  },
  {
   "cell_type": "code",
   "execution_count": null,
   "metadata": {
    "collapsed": true,
    "deletable": true,
    "editable": true
   },
   "outputs": [],
   "source": []
  },
  {
   "cell_type": "code",
   "execution_count": 151,
   "metadata": {
    "collapsed": false,
    "deletable": true,
    "editable": true
   },
   "outputs": [
    {
     "data": {
      "text/plain": [
       "['operation, computer, laptop, video mode, label-certified electricity',\n",
       " 'electricity, for reuse in municipal waste incineration only',\n",
       " 'energy use and operation emissions, electric bicycle, label-certified electricity',\n",
       " 'operation, internet access equipment, label-certified electricity',\n",
       " 'mini CHP plant, common components for heat+electricity',\n",
       " 'electricity, low voltage',\n",
       " 'heat and power co-generation unit, 6400kW thermal, components for electricity only',\n",
       " 'transmission network, electricity, high voltage',\n",
       " 'heat and power co-generation unit, 1MW electrical, components for electricity only',\n",
       " 'operation, computer, laptop, 68% active work, label-certified electricity',\n",
       " 'electricity, high voltage, for internal use in coal mining',\n",
       " 'heat and power co-generation unit, 200kW electrical, diesel SCR, common components for heat+electricity',\n",
       " 'transport, passenger, electric bicycle, label-certified electricity',\n",
       " 'heat and power co-generation unit, 6400kW thermal, common components for heat+electricity',\n",
       " 'heat and power co-generation unit, 50kW electrical, components for electricity only',\n",
       " 'heat and power co-generation unit, 160kW electrical, components for electricity only',\n",
       " 'electricity, medium voltage, aluminium industry',\n",
       " 'operation, computer, laptop, videoconference, label-certified electricity',\n",
       " 'distribution network, electricity, low voltage',\n",
       " 'heat and power co-generation unit, 500kW electrical, common components for heat+electricity',\n",
       " 'electricity, high voltage',\n",
       " 'transmission network, electricity, medium voltage',\n",
       " 'electricity, medium voltage',\n",
       " 'heat and power co-generation unit, 1MW electrical, common components for heat+electricity',\n",
       " 'heat and power co-generation unit, 500kW electrical, components for electricity only',\n",
       " 'heat and power co-generation unit, 200kW electrical, common components for heat+electricity',\n",
       " 'foam glass, electricity, label-certified',\n",
       " 'electricity, high voltage, label-certified',\n",
       " 'electricity, low voltage, label-certified',\n",
       " 'heat and power co-generation unit, organic Rankine cycle, 1400kW thermal, common components, heat+electricity',\n",
       " 'electricity, high voltage, for Swiss Federal Railways',\n",
       " 'operation, computer, laptop, 68% active work with internet access 0.2 Mbit/s, label-certified electricity',\n",
       " 'electricity, high voltage, aluminium industry',\n",
       " 'heat and power co-generation unit, 160kW electrical, common components for heat+electricity',\n",
       " 'heat and power co-generation unit, organic Rankine cycle, 1400kW thermal, components for electricity only',\n",
       " 'heat and power co-generation unit, 50kW electrical, common components for heat+electricity',\n",
       " 'mini CHP plant, components for electricity only',\n",
       " 'heat and power co-generation unit, 200kW electrical, diesel SCR, components for electricity only',\n",
       " 'electricity, medium voltage, label-certified',\n",
       " 'heat and power co-generation unit, 200kW electrical, components for electricity only']"
      ]
     },
     "execution_count": 151,
     "metadata": {},
     "output_type": "execute_result"
    }
   ],
   "source": [
    "[ei_flows[x]['Name'] for x in in_ei if ei_flows[x]['Name'].lower().find('electricity') >= 0 ]"
   ]
  },
  {
   "cell_type": "code",
   "execution_count": 164,
   "metadata": {
    "collapsed": false,
    "deletable": true,
    "editable": true
   },
   "outputs": [
    {
     "data": {
      "text/plain": [
       "['RME      market group for electricity, high voltage',\n",
       " 'RER      market group for heavy fuel oil',\n",
       " 'CA       market group for electricity, high voltage',\n",
       " 'GLO      market group for natural gas, high pressure',\n",
       " 'RAS      market group for electricity, high voltage',\n",
       " 'RAS      market group for electricity, medium voltage',\n",
       " 'GLO      market group for diesel',\n",
       " 'GLO      market group for transport, freight train',\n",
       " 'Canada w market group for electricity, high voltage',\n",
       " 'US       market group for electricity, medium voltage',\n",
       " 'RER      market group for heat, district or industrial, other than natural gas',\n",
       " 'RER      market group for tap water',\n",
       " 'Europe w market group for electricity, high voltage',\n",
       " 'UCTE     market group for electricity, low voltage',\n",
       " 'Canada w market group for electricity, low voltage',\n",
       " 'ENTSO-E  market group for electricity, high voltage',\n",
       " 'GLO      market group for tap water',\n",
       " 'RNA      market group for electricity, medium voltage',\n",
       " 'US       market group for electricity, low voltage',\n",
       " 'RER      market group for electricity, high voltage',\n",
       " 'GLO      market group for electricity, high voltage',\n",
       " 'Europe w market group for natural gas, high pressure',\n",
       " 'GLO      market group for heat, district or industrial, natural gas',\n",
       " 'CA       market group for natural gas, high pressure',\n",
       " 'CN       market group for electricity, high voltage',\n",
       " 'ENTSO-E  market group for electricity, low voltage',\n",
       " 'RER      market group for heat, central or small-scale, other than natural gas',\n",
       " 'CN       market group for electricity, low voltage',\n",
       " 'GLO      market group for diesel, low-sulfur',\n",
       " 'GLO      market group for heat, district or industrial, other than natural gas',\n",
       " 'GLO      market group for irrigation',\n",
       " 'US       market group for electricity, high voltage',\n",
       " 'RME      market group for electricity, low voltage',\n",
       " 'CN       market group for electricity, medium voltage',\n",
       " 'RLA      market group for electricity, medium voltage',\n",
       " 'RER      market group for diesel, low-sulfur',\n",
       " 'RER      market group for light fuel oil',\n",
       " 'Canada w market group for electricity, medium voltage',\n",
       " 'CA       market group for electricity, low voltage',\n",
       " 'RAS      market group for electricity, low voltage',\n",
       " 'RER      market group for heat, district or industrial, natural gas',\n",
       " 'GLO      market group for electricity, medium voltage',\n",
       " 'Europe w market group for electricity, medium voltage',\n",
       " 'GLO      market group for heat, central or small-scale, other than natural gas',\n",
       " 'UCTE     market group for electricity, medium voltage',\n",
       " 'GLO      market group for electricity, low voltage',\n",
       " 'RAF      market group for electricity, low voltage',\n",
       " 'RME      market group for electricity, medium voltage',\n",
       " 'RLA      market group for electricity, low voltage',\n",
       " 'GLO      market group for heat, central or small-scale, natural gas',\n",
       " 'RER      market group for diesel',\n",
       " 'ENTSO-E  market group for electricity, medium voltage',\n",
       " 'RNA      market group for electricity, high voltage',\n",
       " 'RER      market group for electricity, medium voltage',\n",
       " 'RER      market group for electricity, low voltage',\n",
       " 'Europe w market group for electricity, low voltage',\n",
       " 'RNA      market group for electricity, low voltage',\n",
       " 'RER      market group for heat, central or small-scale, natural gas',\n",
       " 'CA       market group for electricity, medium voltage',\n",
       " 'UCTE     market group for electricity, high voltage',\n",
       " 'RLA      market group for electricity, high voltage',\n",
       " 'RAF      market group for electricity, high voltage',\n",
       " 'RAF      market group for electricity, medium voltage']"
      ]
     },
     "execution_count": 164,
     "metadata": {},
     "output_type": "execute_result"
    }
   ],
   "source": [
    "['%-8.8s %s' % (p['SpatialScope'], p['Name']) for p in ei['processes'] if re.search('^market group', p['Name'], flags=re.I)]"
   ]
  }
 ],
 "metadata": {
  "kernelspec": {
   "display_name": "Python 3",
   "language": "python",
   "name": "python3"
  },
  "language_info": {
   "codemirror_mode": {
    "name": "ipython",
    "version": 3
   },
   "file_extension": ".py",
   "mimetype": "text/x-python",
   "name": "python",
   "nbconvert_exporter": "python",
   "pygments_lexer": "ipython3",
   "version": "3.6.0"
  }
 },
 "nbformat": 4,
 "nbformat_minor": 0
}

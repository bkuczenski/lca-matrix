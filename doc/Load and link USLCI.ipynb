{
 "cells": [
  {
   "cell_type": "code",
   "execution_count": null,
   "metadata": {
    "collapsed": true,
    "deletable": true,
    "editable": true
   },
   "outputs": [],
   "source": []
  },
  {
   "cell_type": "code",
   "execution_count": 1,
   "metadata": {
    "collapsed": false,
    "deletable": true,
    "editable": true
   },
   "outputs": [],
   "source": [
    "import sys\n",
    "import os\n",
    "sys.path.append('/data/GitHub/lca-tools/')\n",
    "\n",
    "import lcatools"
   ]
  },
  {
   "cell_type": "code",
   "execution_count": 2,
   "metadata": {
    "collapsed": true,
    "deletable": true,
    "editable": true
   },
   "outputs": [],
   "source": [
    "sys.path.append('..')\n",
    "import lcamatrix"
   ]
  },
  {
   "cell_type": "code",
   "execution_count": 3,
   "metadata": {
    "collapsed": true,
    "deletable": true,
    "editable": true
   },
   "outputs": [],
   "source": [
    "CATALOG = '/data/GitHub/lca-catalog/catalogs/'\n",
    "\n",
    "#EI32_A = 'ecoinvent_3.2_apos_spold.json.gz'\n",
    "USLCI_C = 'uslci_clean.json.gz'"
   ]
  },
  {
   "cell_type": "code",
   "execution_count": 4,
   "metadata": {
    "collapsed": false,
    "deletable": true,
    "editable": true
   },
   "outputs": [
    {
     "name": "stdout",
     "output_type": "stream",
     "text": [
      "Loading JSON data from /data/GitHub/lca-catalog/catalogs/uslci_clean.json.gz:\n",
      "Found Extension: zip\n",
      "701 new process entities added (701 total)\n",
      "4176 new flow entities added (4176 total)\n",
      "20 new quantity entities added (20 total)\n"
     ]
    }
   ],
   "source": [
    "US = lcatools.archive_from_json(os.path.join(CATALOG, USLCI_C))"
   ]
  },
  {
   "cell_type": "code",
   "execution_count": 5,
   "metadata": {
    "collapsed": true,
    "deletable": true,
    "editable": true
   },
   "outputs": [],
   "source": [
    "from lcamatrix.uslci import uslci_allocations, uslci_flow_characterizations"
   ]
  },
  {
   "cell_type": "code",
   "execution_count": 6,
   "metadata": {
    "collapsed": true,
    "deletable": true,
    "editable": true
   },
   "outputs": [],
   "source": [
    "from lcamatrix.catalog import apply_allocation, apply_flow_config"
   ]
  },
  {
   "cell_type": "code",
   "execution_count": 7,
   "metadata": {
    "collapsed": true,
    "deletable": true,
    "editable": true
   },
   "outputs": [],
   "source": [
    "apply_flow_config(US, uslci_flow_characterizations)"
   ]
  },
  {
   "cell_type": "code",
   "execution_count": 8,
   "metadata": {
    "collapsed": false,
    "deletable": true,
    "editable": true
   },
   "outputs": [
    {
     "name": "stdout",
     "output_type": "stream",
     "text": [
      "Electricity, at bleached kraft market pulp mill [Pulp, Paper, and Paperboard Mills]\n",
      " 0          1                  kWh == kWh(*)EcoSpold Quantity kWh [kWh]\n",
      " 1          0                  USD == kWh | EcoSpold Quantity USD [USD]\n"
     ]
    },
    {
     "data": {
      "text/plain": [
       "[<lcatools.characterizations.Characterization at 0x7fa288be8908>,\n",
       " <lcatools.characterizations.Characterization at 0x7fa287971eb8>]"
      ]
     },
     "execution_count": 8,
     "metadata": {},
     "output_type": "execute_result"
    }
   ],
   "source": [
    "US[37086].profile()"
   ]
  },
  {
   "cell_type": "code",
   "execution_count": 9,
   "metadata": {
    "collapsed": false,
    "deletable": true,
    "editable": true
   },
   "outputs": [],
   "source": [
    "apply_allocation(US, uslci_allocations)"
   ]
  },
  {
   "cell_type": "code",
   "execution_count": 10,
   "metadata": {
    "collapsed": true,
    "deletable": true,
    "editable": true
   },
   "outputs": [],
   "source": [
    "p = US['Paper, freesheet, coated, average production, at mill']"
   ]
  },
  {
   "cell_type": "code",
   "execution_count": 11,
   "metadata": {
    "collapsed": false,
    "deletable": true,
    "editable": true
   },
   "outputs": [
    {
     "data": {
      "text/plain": [
       "{<lcatools.exchanges.Exchange at 0x7f4d785bb278>,\n",
       " <lcatools.exchanges.Exchange at 0x7f4d7853e2e8>,\n",
       " <lcatools.exchanges.Exchange at 0x7f4d785bb0f0>,\n",
       " <lcatools.exchanges.Exchange at 0x7f4d785bb1d0>,\n",
       " <lcatools.exchanges.Exchange at 0x7f4d785bb470>}"
      ]
     },
     "execution_count": 11,
     "metadata": {},
     "output_type": "execute_result"
    }
   ],
   "source": [
    "p.reference_entity"
   ]
  },
  {
   "cell_type": "code",
   "execution_count": 18,
   "metadata": {
    "collapsed": true,
    "deletable": true,
    "editable": true
   },
   "outputs": [],
   "source": [
    "_x_gen = p.exchanges()"
   ]
  },
  {
   "cell_type": "code",
   "execution_count": 13,
   "metadata": {
    "collapsed": false,
    "deletable": true,
    "editable": true
   },
   "outputs": [
    {
     "name": "stdout",
     "output_type": "stream",
     "text": [
      "Paper, freesheet, coated, average production, at mill [RNA]\n",
      " 0  Input:     [15.9 [kg]] CUTOFF Disposal, wastewater treatment plant residuals, to uns. landfill [None]\n",
      " 1  Input:     [55 [kg]] CUTOFF Disposal, unspecified ashes, to unspecified landfill [None]\n",
      " 2  Input:     [71.8 [t*km]] Transport, pipeline, natural gas [Fossil Fuel Electric Power Generation]\n",
      " 3  Input:     [0.18 [kg]] Hot rolled sheet, steel, at plant [Rolled Steel Shape Manufacturing]\n",
      " 4  Input:     [4.94 [kg]] CUTOFF Disposal, unspecified ashes, to unspecified land application [None]\n",
      " 5  Input:     [0.117 [m3]] CUTOFF Pulpwood, softwood, average, at forest road, US S [None]\n",
      " 6  Input:     [0.549 [kg]] Hydrochloric acid, at plant  [Petrochemical Manufacturing]\n",
      " 7  Input:     [0.222 [m3]] CUTOFF Pulpwood, hardwood, average, at forest road, US S [None]\n",
      " 8  Input:     [5.36 [kg]] CUTOFF Disposal, solid waste, unspecified, to unspecified land application [None]\n",
      " 9  Input:     [19.3 [kg]] CUTOFF Pulp, deinked market, bleached, at mill [None]\n",
      "10  Input:     [16.9 [kg]] CUTOFF Disposal, solid waste, unspecified, to unspecified beneficial use [None]\n",
      "11  Input:     [432 [t*km]] Transport, combination truck, average fuel mix [General Freight Trucking]\n",
      "12  Input:     [52.9 [MJ]] CUTOFF Electricity from hydro [None]\n",
      "13  Input:     [435 [kg]] CUTOFF Pulp chips, at sawmill, US  [None]\n",
      "14  Input:     [79.6 [kg]] CUTOFF Pulp slurry, kraft market, bleached, average production, at mill [None]\n",
      "15  Input:     [0.0718 [kg]] CUTOFF Disposal, wastewater treatment plant residuals, to uns. beneficial use [None]\n",
      "16  Input:     [20 [kg]] CUTOFF Sodium chlorate [None]\n",
      "17  Input:     [17.6 [kg]] CUTOFF Starch [None]\n",
      "18  Input:     [1.51e+04 [MJ]] Fuels, burned at coated freesheet, average production, at mill [Pulp, Paper, and Paperboard Mills]\n",
      "19  Input:     [0.0871 [kg]] Polyethylene, low density, resin, at plant [Petrochemical Manufacturing]\n",
      "20  Input:     [22.5 [kg]] Quicklime, at plant [Lime Manufacturing]\n",
      "21  Input:     [5e+04 [kg]] Process water [unspecified]\n",
      "22  Input:     [0.0932 [m3]] Pulpwood, softwood, average, at forest road, NE-NC [Logging]\n",
      "23  Input:     [0.0811 [m3]] Pulpwood, softwood, average, at forest road, INW [Logging]\n",
      "24  Input:     [1.63e+04 [kg]] Cooling water, non-contact [unspecified]\n",
      "25  Input:     [122 [t*km]] Transport, barge, average fuel mix [Inland Water Freight Transportation]\n",
      "26  Input:     [15.5 [kg]] CUTOFF Sorted office paper [None]\n",
      "27  Input:     [0.173 [kg]] CUTOFF Disposal, solid waste, unspecified, to unspecified incinerator [None]\n",
      "28  Input:     [105 [kg]] CUTOFF Clay, at mine [None]\n",
      "29  Input:     [3.06 [kg]] CUTOFF Disposal, unspecified ashes, to unspecified beneficial use [None]\n",
      "30  Input:     [25.9 [kg]] CUTOFF Latex, at plant [None]\n",
      "31  Input:     [2.3 [kg]] Sulfuric acid, at plant [All Other Basic Inorganic Chemical Manufacturing]\n",
      "32  Input:     [0.379 [m3]] Pulpwood, hardwood, average, at forest road, NE-NC [Logging]\n",
      "33  Input:     [5.45 [t*km]] Transport, ocean freighter, average fuel mix [Deep Sea Freight Transportation]\n",
      "34  Input:     [12.4 [kg]] CUTOFF Disposal, solid waste, unspecified, to unspecified landfill [None]\n",
      "35  Input:     [14.4 [kg]] CUTOFF Titanium dioxide [None]\n",
      "36  Input:     [3.29 [kg]] CUTOFF Sizer, at plant [None]\n",
      "37  Input:     [103 [kWh]] Electricity, at grid, Western US, 2000 [Electric Power Distribution]\n",
      "38  Input:     [8.03 [kg]] Containerboard, average production, at mill [Pulp, Paper, and Paperboard Mills]\n",
      "39  Input:     [3.35 [kg]] CUTOFF Core board, at plant [None]\n",
      "40  Input:     [1.02 [kg]] Polypropylene resin, at plant [Petrochemical Manufacturing]\n",
      "41  Input:     [4.47 [kg]] CUTOFF Precipitated calcium carbonate, at plant [None]\n",
      "42  Input:     [470 [t*km]] Transport, train, diesel powered [Rail Transportation]\n",
      "43  Input:     [14.9 [kg]] CUTOFF Disposal, wastewater treatment plant residuals, to uns. land application [None]\n",
      "44  Input:     [190 [kWh]] Electricity, at grid, Eastern US, 2000 [Electric Power Distribution]\n",
      "45  Input:     [94.3 [kg]] CUTOFF Ground calcium carbonate, at plant [None]\n",
      "46  Input:     [16.2 [kg]] CUTOFF Disposal, wastewater treatment plant residuals, to uns. incinerator [None]\n",
      "47  Input:     [73.3 [kg]] Pulp, kraft market, bleached, average production, at mill [Pulp, Paper, and Paperboard Mills]\n",
      "48 Output:     [0.000872 [kg]] Zinc [unspecified]\n",
      "49 Output:     [4.39e-09 [kg]] Methane, monochloro-, R-40 [unspecified]\n",
      "50 Output:     [4.95e+04 [kg]] Process effluent [unspecified]\n",
      "51 Output:     [0.00918 [kg]] Copper [unspecified]\n",
      "52 Output:     [3.46e-05 [kg]] Lead [unspecified]\n",
      "53 Output:     [2.66e-06 [kg]] PAH, polycyclic aromatic hydrocarbons [unspecified]\n",
      "54 Output:     [0.212 [kg]] Nitrogen, total [unspecified]\n",
      "55 Output:     [0.000146 [kg]] Chromium [unspecified]\n",
      "56 Output:     [0.000114 [kg]] Ammonia [unspecified]\n",
      "57 Output:     [0.115 [kg]] AOX, Adsorbable Organic Halogen as Cl [unspecified]\n",
      "58 Output:     [0.0038 [kg]] Arsenic [unspecified]\n",
      "59 Output:     [0.055 [kg]] Zinc [unspecified]\n",
      "60 Output:     [-5.91 [kg]] Carbon dioxide, fossil  [unspecified]\n",
      "61 Output: {*} [862 [kg]] Paper, freesheet, coated, average production, at mill [Pulp, Paper, and Paperboard Mills]\n",
      "62 Output:     [0.017 [kg]] Acetaldehyde [unspecified]\n",
      "63 Output:     [0.000119 [kg]] Nickel [unspecified]\n",
      "64 Output: {*} [19.3 [kg]] Tall oil, at coated freesheet mill [Pulp, Paper, and Paperboard Mills]\n",
      "65 Output:     [0.0596 [kg]] Barium [unspecified]\n",
      "66 Output: {*} [1.5 [kg]] Turpentine, at coated freesheet mill [Pulp, Paper, and Paperboard Mills]\n",
      "67 Output:     [1.63e+04 [kg]] Cooling water, non-contact [unspecified]\n",
      "68 Output:     [0.0168 [kg]] Manganese [unspecified]\n",
      "69 Output:     [-11.8 [kg]] Carbon dioxide, biogenic [unspecified]\n",
      "70 Output:     [0.0803 [kg]] Ammonia  [unspecified]\n",
      "71 Output:     [0.000537 [kg]] Vanadium [unspecified]\n",
      "72 Output:     [0.0964 [kg]] Manganese [unspecified]\n",
      "73 Output:     [0.000108 [kg]] Copper [unspecified]\n",
      "74 Output: {*} [65 [kWh]] Electricity, at coated freesheet mill [Pulp, Paper, and Paperboard Mills]\n",
      "75 Output:     [1.31e-05 [kg]] Mercury [unspecified]\n",
      "76 Output:     [0.00115 [kg]] Acetaldehyde [unspecified]\n",
      "77 Output:     [1.84e-07 [kg]] Mercury [unspecified]\n",
      "78 Output:     [0.000418 [kg]] Formaldehyde [unspecified]\n",
      "79 Output:     [5.62e-05 [kg]] Phenol [unspecified]\n",
      "80 Output:     [4.52e-06 [kg]] PAH, polycyclic aromatic hydrocarbons [unspecified]\n",
      "81 Output: {*} [38.8 [MJ]] Steam, at coated freesheet mill [Pulp, Paper, and Paperboard Mills]\n",
      "82 Output:     [1.42 [kg]] Suspended solids, unspecified [unspecified]\n",
      "83 Output:     [0.374 [kg]] Methanol [unspecified]\n",
      "84 Output:     [0.0171 [kg]] Methanol [unspecified]\n",
      "85 Output:     [0.00829 [kg]] Lead [unspecified]\n",
      "86 Output:     [0.00166 [kg]] Nickel [unspecified]\n",
      "87 Output:     [0.00239 [kg]] Barium [unspecified]\n",
      "88 Output:     [0.029 [kg]] Phosphorus, total [unspecified]\n",
      "89 Output:     [0.843 [kg]] BOD5, Biological Oxygen Demand [unspecified]\n",
      "90 Output:     [1.7e+03 [kg]] Water, evaporated [unspecified]\n",
      "91 Output:     [5.63e-06 [kg]] Acetaldehyde [unspecified]\n",
      "92 Output:     [1.55e-06 [kg]] Formaldehyde [unspecified]\n",
      "93 Output:     [0.00955 [kg]] Chromium [unspecified]\n",
      "94 Output:     [0.00291 [kg]] Ammonia_toxic [unspecified]\n",
      "95 Output:     [0.00272 [kg]] Vanadium [unspecified]\n",
      "96 Output:     [0.000124 [kg]] Arsenic [unspecified]\n",
      "97 Output:     [1.93e-05 [kg]] Phenol [unspecified]\n"
     ]
    },
    {
     "data": {
      "text/plain": [
       "[<lcatools.exchanges.ExchangeValue at 0x7f47d7f61eb8>,\n",
       " <lcatools.exchanges.ExchangeValue at 0x7f47d7f61ef0>,\n",
       " <lcatools.exchanges.ExchangeValue at 0x7f47d7f61f28>,\n",
       " <lcatools.exchanges.ExchangeValue at 0x7f47d7f61f60>,\n",
       " <lcatools.exchanges.ExchangeValue at 0x7f47d7f61f98>,\n",
       " <lcatools.exchanges.ExchangeValue at 0x7f47d7f61fd0>,\n",
       " <lcatools.exchanges.ExchangeValue at 0x7f47d7f65048>,\n",
       " <lcatools.exchanges.ExchangeValue at 0x7f47d7f65080>,\n",
       " <lcatools.exchanges.ExchangeValue at 0x7f47d7f650b8>,\n",
       " <lcatools.exchanges.ExchangeValue at 0x7f47d7f650f0>,\n",
       " <lcatools.exchanges.ExchangeValue at 0x7f47d7f65128>,\n",
       " <lcatools.exchanges.ExchangeValue at 0x7f47d7f65160>,\n",
       " <lcatools.exchanges.ExchangeValue at 0x7f47d7f65198>,\n",
       " <lcatools.exchanges.ExchangeValue at 0x7f47d7f651d0>,\n",
       " <lcatools.exchanges.ExchangeValue at 0x7f47d7f65208>,\n",
       " <lcatools.exchanges.ExchangeValue at 0x7f47d7f65240>,\n",
       " <lcatools.exchanges.ExchangeValue at 0x7f47d7f65278>,\n",
       " <lcatools.exchanges.ExchangeValue at 0x7f47d7f652b0>,\n",
       " <lcatools.exchanges.ExchangeValue at 0x7f47d7f652e8>,\n",
       " <lcatools.exchanges.ExchangeValue at 0x7f47d7f65320>,\n",
       " <lcatools.exchanges.ExchangeValue at 0x7f47d7f65358>,\n",
       " <lcatools.exchanges.ExchangeValue at 0x7f47d7f65390>,\n",
       " <lcatools.exchanges.ExchangeValue at 0x7f47d7f653c8>,\n",
       " <lcatools.exchanges.ExchangeValue at 0x7f47d7f65400>,\n",
       " <lcatools.exchanges.ExchangeValue at 0x7f47d7f65438>,\n",
       " <lcatools.exchanges.ExchangeValue at 0x7f47d7f65470>,\n",
       " <lcatools.exchanges.ExchangeValue at 0x7f47d7f654a8>,\n",
       " <lcatools.exchanges.ExchangeValue at 0x7f47d7f654e0>,\n",
       " <lcatools.exchanges.ExchangeValue at 0x7f47d7f65518>,\n",
       " <lcatools.exchanges.ExchangeValue at 0x7f47d7f65550>,\n",
       " <lcatools.exchanges.ExchangeValue at 0x7f47d7f65588>,\n",
       " <lcatools.exchanges.ExchangeValue at 0x7f47d7f655c0>,\n",
       " <lcatools.exchanges.ExchangeValue at 0x7f47d7f655f8>,\n",
       " <lcatools.exchanges.ExchangeValue at 0x7f47d7f65630>,\n",
       " <lcatools.exchanges.ExchangeValue at 0x7f47d7f65668>,\n",
       " <lcatools.exchanges.ExchangeValue at 0x7f47d7f656a0>,\n",
       " <lcatools.exchanges.ExchangeValue at 0x7f47d7f656d8>,\n",
       " <lcatools.exchanges.ExchangeValue at 0x7f47d7f65710>,\n",
       " <lcatools.exchanges.ExchangeValue at 0x7f47d7f65748>,\n",
       " <lcatools.exchanges.ExchangeValue at 0x7f47d7f65780>,\n",
       " <lcatools.exchanges.ExchangeValue at 0x7f47d7f657b8>,\n",
       " <lcatools.exchanges.ExchangeValue at 0x7f47d7f657f0>,\n",
       " <lcatools.exchanges.ExchangeValue at 0x7f47d7f65828>,\n",
       " <lcatools.exchanges.ExchangeValue at 0x7f47d7f65860>,\n",
       " <lcatools.exchanges.ExchangeValue at 0x7f47d7f65898>,\n",
       " <lcatools.exchanges.ExchangeValue at 0x7f47d7f658d0>,\n",
       " <lcatools.exchanges.ExchangeValue at 0x7f47d7f65908>,\n",
       " <lcatools.exchanges.ExchangeValue at 0x7f47d7f65940>,\n",
       " <lcatools.exchanges.ExchangeValue at 0x7f47d7f65978>,\n",
       " <lcatools.exchanges.ExchangeValue at 0x7f47d7f659b0>,\n",
       " <lcatools.exchanges.ExchangeValue at 0x7f47d7f659e8>,\n",
       " <lcatools.exchanges.ExchangeValue at 0x7f47d7f65a20>,\n",
       " <lcatools.exchanges.ExchangeValue at 0x7f47d7f65a58>,\n",
       " <lcatools.exchanges.ExchangeValue at 0x7f47d7f65a90>,\n",
       " <lcatools.exchanges.ExchangeValue at 0x7f47d7f65ac8>,\n",
       " <lcatools.exchanges.ExchangeValue at 0x7f47d7f65b00>,\n",
       " <lcatools.exchanges.ExchangeValue at 0x7f47d7f65b38>,\n",
       " <lcatools.exchanges.ExchangeValue at 0x7f47d7f65b70>,\n",
       " <lcatools.exchanges.ExchangeValue at 0x7f47d7f65ba8>,\n",
       " <lcatools.exchanges.ExchangeValue at 0x7f47d7f65be0>,\n",
       " <lcatools.exchanges.ExchangeValue at 0x7f47d7f65c18>,\n",
       " <lcatools.exchanges.ExchangeValue at 0x7f47d7f65c50>,\n",
       " <lcatools.exchanges.ExchangeValue at 0x7f47d7f65cc0>,\n",
       " <lcatools.exchanges.ExchangeValue at 0x7f47d7f65cf8>,\n",
       " <lcatools.exchanges.ExchangeValue at 0x7f47d7f65d30>,\n",
       " <lcatools.exchanges.ExchangeValue at 0x7f47d7f65da0>,\n",
       " <lcatools.exchanges.ExchangeValue at 0x7f47d7f65dd8>,\n",
       " <lcatools.exchanges.ExchangeValue at 0x7f47d7f65e48>,\n",
       " <lcatools.exchanges.ExchangeValue at 0x7f47d7f65e80>,\n",
       " <lcatools.exchanges.ExchangeValue at 0x7f47d7f65eb8>,\n",
       " <lcatools.exchanges.ExchangeValue at 0x7f47d7f65ef0>,\n",
       " <lcatools.exchanges.ExchangeValue at 0x7f47d7f65f28>,\n",
       " <lcatools.exchanges.ExchangeValue at 0x7f47d7f65f60>,\n",
       " <lcatools.exchanges.ExchangeValue at 0x7f47d7f65f98>,\n",
       " <lcatools.exchanges.ExchangeValue at 0x7f47d7f65fd0>,\n",
       " <lcatools.exchanges.ExchangeValue at 0x7f47d7f69080>,\n",
       " <lcatools.exchanges.ExchangeValue at 0x7f47d7f690b8>,\n",
       " <lcatools.exchanges.ExchangeValue at 0x7f47d7f690f0>,\n",
       " <lcatools.exchanges.ExchangeValue at 0x7f47d7f69128>,\n",
       " <lcatools.exchanges.ExchangeValue at 0x7f47d7f69160>,\n",
       " <lcatools.exchanges.ExchangeValue at 0x7f47d7f69198>,\n",
       " <lcatools.exchanges.ExchangeValue at 0x7f47d7f691d0>,\n",
       " <lcatools.exchanges.ExchangeValue at 0x7f47d7f69240>,\n",
       " <lcatools.exchanges.ExchangeValue at 0x7f47d7f69278>,\n",
       " <lcatools.exchanges.ExchangeValue at 0x7f47d7f692b0>,\n",
       " <lcatools.exchanges.ExchangeValue at 0x7f47d7f692e8>,\n",
       " <lcatools.exchanges.ExchangeValue at 0x7f47d7f69320>,\n",
       " <lcatools.exchanges.ExchangeValue at 0x7f47d7f69358>,\n",
       " <lcatools.exchanges.ExchangeValue at 0x7f47d7f69390>,\n",
       " <lcatools.exchanges.ExchangeValue at 0x7f47d7f693c8>,\n",
       " <lcatools.exchanges.ExchangeValue at 0x7f47d7f69400>,\n",
       " <lcatools.exchanges.ExchangeValue at 0x7f47d7f69438>,\n",
       " <lcatools.exchanges.ExchangeValue at 0x7f47d7f69470>,\n",
       " <lcatools.exchanges.ExchangeValue at 0x7f47d7f694a8>,\n",
       " <lcatools.exchanges.ExchangeValue at 0x7f47d7f694e0>,\n",
       " <lcatools.exchanges.ExchangeValue at 0x7f47d7f69518>,\n",
       " <lcatools.exchanges.ExchangeValue at 0x7f47d7f69550>,\n",
       " <lcatools.exchanges.ExchangeValue at 0x7f47d7f69588>]"
      ]
     },
     "execution_count": 13,
     "metadata": {},
     "output_type": "execute_result"
    }
   ],
   "source": [
    "p.inventory()"
   ]
  },
  {
   "cell_type": "code",
   "execution_count": 19,
   "metadata": {
    "collapsed": false,
    "deletable": true,
    "editable": true
   },
   "outputs": [
    {
     "data": {
      "text/plain": [
       "<lcatools.exchanges.ExchangeValue at 0x7f47d7f61eb8>"
      ]
     },
     "execution_count": 19,
     "metadata": {},
     "output_type": "execute_result"
    }
   ],
   "source": [
    "next(_x_gen)"
   ]
  },
  {
   "cell_type": "code",
   "execution_count": 20,
   "metadata": {
    "collapsed": false,
    "deletable": true,
    "editable": true
   },
   "outputs": [
    {
     "data": {
      "text/plain": [
       "{'_direction': 'Input',\n",
       " '_flow': <lcatools.entities.LcFlow at 0x7f47d7826240>,\n",
       " '_process': <lcatools.entities.LcProcess at 0x7f47d7f34da0>,\n",
       " '_termination': None,\n",
       " '_value': 15.876,\n",
       " '_value_dict': {<lcatools.exchanges.Exchange at 0x7f47d7f65d68>: 0.0,\n",
       "  <lcatools.exchanges.Exchange at 0x7f47d7f69048>: 0.0,\n",
       "  <lcatools.exchanges.Exchange at 0x7f47d7f65c88>: 0.0,\n",
       "  <lcatools.exchanges.Exchange at 0x7f47d7f61e80>: 15.876,\n",
       "  <lcatools.exchanges.Exchange at 0x7f47d7f65e10>: 0.0},\n",
       " 'unit': <lcatools.entities.LcUnit at 0x7f47d7826fd0>}"
      ]
     },
     "execution_count": 20,
     "metadata": {},
     "output_type": "execute_result"
    }
   ],
   "source": [
    "_.__dict__"
   ]
  },
  {
   "cell_type": "code",
   "execution_count": 20,
   "metadata": {
    "collapsed": false,
    "deletable": true,
    "editable": true
   },
   "outputs": [
    {
     "data": {
      "text/plain": [
       "{'_direction': 'Input',\n",
       " '_flow': <lcatools.entities.LcFlow at 0x7f9e31e169b0>,\n",
       " '_process': <lcatools.entities.LcProcess at 0x7f9e316ee9b0>,\n",
       " '_termination': None,\n",
       " '_value': 0.08709,\n",
       " '_value_dict': {<lcatools.exchanges.Exchange at 0x7f9e316c7828>: 0.0,\n",
       "  <lcatools.exchanges.Exchange at 0x7f9e316c74a8>: 0.0,\n",
       "  <lcatools.exchanges.Exchange at 0x7f9e316c06a0>: 0.08709,\n",
       "  <lcatools.exchanges.Exchange at 0x7f9e316c7588>: 0.0,\n",
       "  <lcatools.exchanges.Exchange at 0x7f9e316c7630>: 0.0},\n",
       " 'unit': <lcatools.entities.LcUnit at 0x7f9e31f05780>}"
      ]
     },
     "execution_count": 20,
     "metadata": {},
     "output_type": "execute_result"
    }
   ],
   "source": [
    "next(_x_gen).__dict__"
   ]
  },
  {
   "cell_type": "code",
   "execution_count": 11,
   "metadata": {
    "collapsed": false,
    "deletable": true,
    "editable": true
   },
   "outputs": [
    {
     "data": {
      "text/plain": [
       "True"
      ]
     },
     "execution_count": 11,
     "metadata": {},
     "output_type": "execute_result"
    }
   ],
   "source": [
    "p.is_allocated(next(p.references()))"
   ]
  },
  {
   "cell_type": "code",
   "execution_count": 12,
   "metadata": {
    "collapsed": true,
    "deletable": true,
    "editable": true
   },
   "outputs": [],
   "source": [
    "from lcamatrix.foreground import BackgroundManager"
   ]
  },
  {
   "cell_type": "code",
   "execution_count": 25,
   "metadata": {
    "collapsed": false,
    "deletable": true,
    "editable": true
   },
   "outputs": [],
   "source": [
    "B = BackgroundManager(US)"
   ]
  },
  {
   "cell_type": "code",
   "execution_count": 14,
   "metadata": {
    "collapsed": false,
    "deletable": true,
    "editable": true
   },
   "outputs": [],
   "source": [
    "x = p.find_reference('paper')"
   ]
  },
  {
   "cell_type": "code",
   "execution_count": 15,
   "metadata": {
    "collapsed": true,
    "deletable": true,
    "editable": true
   },
   "outputs": [],
   "source": [
    "import cProfile"
   ]
  },
  {
   "cell_type": "code",
   "execution_count": 26,
   "metadata": {
    "collapsed": false,
    "deletable": true,
    "editable": true,
    "scrolled": false
   },
   "outputs": [
    {
     "name": "stdout",
     "output_type": "stream",
     "text": [
      "         200811 function calls (192584 primitive calls) in 0.116 seconds\n",
      "\n",
      "   Ordered by: standard name\n",
      "\n",
      "   ncalls  tottime  percall  cumtime  percall filename:lineno(function)\n",
      "        2    0.000    0.000    0.000    0.000 <frozen importlib._bootstrap>:402(parent)\n",
      "        2    0.000    0.000    0.000    0.000 <frozen importlib._bootstrap>:989(_handle_fromlist)\n",
      "        1    0.000    0.000    0.116    0.116 <string>:1(<module>)\n",
      "     2770    0.001    0.000    0.003    0.000 <string>:12(__new__)\n",
      "        4    0.000    0.000    0.000    0.000 _methods.py:25(_amax)\n",
      "        2    0.000    0.000    0.000    0.000 _methods.py:28(_amin)\n",
      "        3    0.000    0.000    0.000    0.000 base.py:1081(isspmatrix)\n",
      "       16    0.000    0.000    0.000    0.000 base.py:181(nnz)\n",
      "        1    0.000    0.000    0.000    0.000 base.py:236(asformat)\n",
      "        1    0.000    0.000    0.001    0.001 base.py:253(processes)\n",
      "        1    0.000    0.000    0.001    0.001 base.py:254(<listcomp>)\n",
      "        4    0.000    0.000    0.000    0.000 base.py:70(__init__)\n",
      "        4    0.000    0.000    0.000    0.000 base.py:77(set_shape)\n",
      "       16    0.000    0.000    0.000    0.000 base.py:99(get_shape)\n",
      "        3    0.000    0.000    0.000    0.000 compressed.py:1021(prune)\n",
      "        2    0.000    0.000    0.000    0.000 compressed.py:116(_set_self)\n",
      "        3    0.000    0.000    0.000    0.000 compressed.py:127(check_format)\n",
      "      3/1    0.000    0.000    0.001    0.001 compressed.py:24(__init__)\n",
      "       12    0.000    0.000    0.000    0.000 compressed.py:99(getnnz)\n",
      "        1    0.000    0.000    0.000    0.000 coo.py:118(__init__)\n",
      "        4    0.000    0.000    0.000    0.000 coo.py:186(getnnz)\n",
      "        1    0.000    0.000    0.000    0.000 coo.py:212(_check)\n",
      "        1    0.000    0.000    0.000    0.000 coo.py:261(tocsc)\n",
      "        1    0.000    0.000    0.000    0.000 coo.py:449(sum_duplicates)\n",
      "        1    0.000    0.000    0.000    0.000 coo.py:460(_sum_duplicates)\n",
      "        9    0.000    0.000    0.000    0.000 csc.py:215(_swap)\n",
      "        4    0.000    0.000    0.000    0.000 data.py:22(__init__)\n",
      "        2    0.000    0.000    0.000    0.000 data.py:25(_get_dtype)\n",
      "     1074    0.000    0.000    0.000    0.000 entities.py:102(get_external_ref)\n",
      "    14678    0.003    0.000    0.003    0.000 entities.py:113(get_uuid)\n",
      "    16560    0.003    0.000    0.003    0.000 entities.py:120(uuid)\n",
      "       44    0.000    0.000    0.000    0.000 entities.py:202(__getitem__)\n",
      "    11099    0.004    0.000    0.006    0.000 entities.py:254(__hash__)\n",
      "      537    0.001    0.000    0.002    0.000 entities.py:257(__eq__)\n",
      "     2892    0.003    0.000    0.051    0.000 entities.py:425(exchanges)\n",
      "     2957    0.001    0.000    0.002    0.000 entities.py:443(<lambda>)\n",
      "      244    0.001    0.000    0.004    0.000 entities.py:456(find_reference)\n",
      "      244    0.000    0.000    0.001    0.000 entities.py:471(<genexpr>)\n",
      "      244    0.001    0.000    0.002    0.000 entities.py:493(references)\n",
      "      122    0.000    0.000    0.003    0.000 entities.py:501(reference)\n",
      "      122    0.000    0.000    0.003    0.000 entities.py:504(<listcomp>)\n",
      "      122    0.004    0.000    0.018    0.000 entities.py:537(is_allocated)\n",
      "      732    0.000    0.000    0.000    0.000 entities.py:77(origin)\n",
      "     7053    0.009    0.000    0.013    0.000 exchanges.py:101(__hash__)\n",
      "     3845    0.013    0.000    0.020    0.000 exchanges.py:104(__eq__)\n",
      "      400    0.001    0.000    0.012    0.000 exchanges.py:173(from_allocated)\n",
      "      400    0.001    0.000    0.002    0.000 exchanges.py:200(__init__)\n",
      "     2892    0.001    0.000    0.001    0.000 exchanges.py:209(value)\n",
      "     2389    0.002    0.000    0.005    0.000 exchanges.py:235(is_allocated)\n",
      "      400    0.001    0.000    0.009    0.000 exchanges.py:238(__getitem__)\n",
      "      400    0.001    0.000    0.001    0.000 exchanges.py:49(__init__)\n",
      "     8890    0.001    0.000    0.001    0.000 exchanges.py:85(process)\n",
      "    14289    0.003    0.000    0.003    0.000 exchanges.py:89(flow)\n",
      "    11969    0.002    0.000    0.002    0.000 exchanges.py:93(direction)\n",
      "     6120    0.001    0.000    0.001    0.000 exchanges.py:97(termination)\n",
      "      122    0.000    0.000    0.001    0.000 foreground.py:104(add_to_stack)\n",
      "       84    0.000    0.000    0.001    0.000 foreground.py:112(label_scc)\n",
      "        1    0.000    0.000    0.000    0.000 foreground.py:127(_set_background)\n",
      "        1    0.000    0.000    0.000    0.000 foreground.py:136(_set_downstream)\n",
      "        1    0.001    0.001    0.001    0.001 foreground.py:150(add_to_graph)\n",
      "        1    0.000    0.000    0.000    0.000 foreground.py:163(background)\n",
      "       40    0.000    0.000    0.000    0.000 foreground.py:167(background_flows)\n",
      "      934    0.000    0.000    0.001    0.000 foreground.py:178(scc_id)\n",
      "        1    0.000    0.000    0.000    0.000 foreground.py:181(scc)\n",
      "      122    0.001    0.000    0.005    0.000 foreground.py:199(__init__)\n",
      "      122    0.000    0.000    0.001    0.000 foreground.py:220(<listcomp>)\n",
      "      692    0.000    0.000    0.001    0.000 foreground.py:230(__eq__)\n",
      "     4232    0.001    0.000    0.002    0.000 foreground.py:241(__hash__)\n",
      "     1062    0.000    0.000    0.000    0.000 foreground.py:244(index)\n",
      "      206    0.000    0.000    0.000    0.000 foreground.py:249(key)\n",
      "      122    0.000    0.000    0.000    0.000 foreground.py:253(flow)\n",
      "      122    0.000    0.000    0.000    0.000 foreground.py:257(process)\n",
      "     2770    0.001    0.000    0.001    0.000 foreground.py:261(inbound_ev)\n",
      "      450    0.001    0.000    0.001    0.000 foreground.py:271(__init__)\n",
      "     3706    0.002    0.000    0.009    0.000 foreground.py:286(__eq__)\n",
      "     4156    0.002    0.000    0.002    0.000 foreground.py:297(__hash__)\n",
      "      467    0.000    0.000    0.001    0.000 foreground.py:32(resolve_termination)\n",
      "      670    0.000    0.000    0.001    0.000 foreground.py:346(index)\n",
      "      346    0.000    0.000    0.000    0.000 foreground.py:349(product_flow)\n",
      "      482    0.000    0.000    0.001    0.000 foreground.py:352(_lowlink)\n",
      "      122    0.000    0.000    0.002    0.000 foreground.py:355(_add_product_flow)\n",
      "      361    0.001    0.000    0.002    0.000 foreground.py:361(_set_lowlink)\n",
      "      468    0.001    0.000    0.003    0.000 foreground.py:373(_check_product_flow)\n",
      "      122    0.001    0.000    0.007    0.000 foreground.py:389(_create_product_flow)\n",
      "     2303    0.006    0.000    0.018    0.000 foreground.py:395(_add_emission)\n",
      "     2770    0.006    0.000    0.011    0.000 foreground.py:418(terminate)\n",
      "        1    0.000    0.000    0.001    0.001 foreground.py:450(_construct_a_matrix)\n",
      "        1    0.000    0.000    0.000    0.000 foreground.py:451(<listcomp>)\n",
      "       40    0.000    0.000    0.000    0.000 foreground.py:452(<genexpr>)\n",
      "        1    0.000    0.000    0.000    0.000 foreground.py:453(<listcomp>)\n",
      "        1    0.000    0.000    0.002    0.002 foreground.py:458(_update_component_graph)\n",
      "        1    0.000    0.000    0.116    0.116 foreground.py:466(add_ref_product)\n",
      "    122/1    0.005    0.000    0.112    0.112 foreground.py:494(_traverse_term_exchanges)\n",
      "      122    0.001    0.000    0.052    0.000 foreground.py:502(<listcomp>)\n",
      "     2303    0.007    0.000    0.029    0.000 foreground.py:533(add_cutoff)\n",
      "      467    0.001    0.000    0.002    0.000 foreground.py:543(add_interior)\n",
      "       44    0.000    0.000    0.000    0.000 foreground.py:56(<lambda>)\n",
      "       22    0.000    0.000    0.000    0.000 foreground.py:56(<listcomp>)\n",
      "      468    0.000    0.000    0.001    0.000 foreground.py:97(check_stack)\n",
      "        1    0.000    0.000    0.000    0.000 fromnumeric.py:1364(ravel)\n",
      "        1    0.000    0.000    0.000    0.000 fromnumeric.py:1471(nonzero)\n",
      "        2    0.000    0.000    0.000    0.000 fromnumeric.py:2154(amax)\n",
      "        1    0.000    0.000    0.000    0.000 fromnumeric.py:55(_wrapfunc)\n",
      "        1    0.000    0.000    0.000    0.000 function_base.py:4951(append)\n",
      "        7    0.000    0.000    0.000    0.000 getlimits.py:250(__init__)\n",
      "        7    0.000    0.000    0.000    0.000 getlimits.py:275(max)\n",
      "      702    0.001    0.000    0.001    0.000 interfaces.py:311(_entities_by_type)\n",
      "       22    0.000    0.000    0.000    0.000 numeric.py:463(asarray)\n",
      "        2    0.000    0.000    0.000    0.000 numeric.py:534(asanyarray)\n",
      "        7    0.000    0.000    0.000    0.000 sputils.py:119(get_index_dtype)\n",
      "        2    0.000    0.000    0.000    0.000 sputils.py:188(isintlike)\n",
      "        1    0.000    0.000    0.000    0.000 sputils.py:20(upcast)\n",
      "        3    0.000    0.000    0.000    0.000 sputils.py:200(isshape)\n",
      "        2    0.000    0.000    0.000    0.000 sputils.py:215(issequence)\n",
      "        4    0.000    0.000    0.000    0.000 sputils.py:91(to_native)\n",
      "     2770    0.001    0.000    0.001    0.000 {built-in method __new__ of type object at 0x7fa2bdba1be0}\n",
      "        1    0.000    0.000    0.116    0.116 {built-in method builtins.exec}\n",
      "        2    0.000    0.000    0.000    0.000 {built-in method builtins.getattr}\n",
      "        2    0.000    0.000    0.000    0.000 {built-in method builtins.hasattr}\n",
      "35337/27233    0.008    0.000    0.011    0.000 {built-in method builtins.hash}\n",
      "     5254    0.001    0.000    0.001    0.000 {built-in method builtins.isinstance}\n",
      "     4254    0.001    0.000    0.001    0.000 {built-in method builtins.len}\n",
      "        4    0.000    0.000    0.000    0.000 {built-in method builtins.max}\n",
      "      239    0.000    0.000    0.000    0.000 {built-in method builtins.min}\n",
      "      122    0.000    0.000    0.001    0.000 {built-in method builtins.next}\n",
      "      144    0.002    0.000    0.003    0.000 {built-in method builtins.sorted}\n",
      "       31    0.000    0.000    0.000    0.000 {built-in method numpy.core.multiarray.array}\n",
      "        1    0.000    0.000    0.000    0.000 {built-in method numpy.core.multiarray.concatenate}\n",
      "        2    0.000    0.000    0.000    0.000 {built-in method numpy.core.multiarray.empty_like}\n",
      "        1    0.000    0.000    0.000    0.000 {built-in method numpy.core.multiarray.empty}\n",
      "        1    0.000    0.000    0.000    0.000 {built-in method numpy.core.multiarray.lexsort}\n",
      "        1    0.000    0.000    0.000    0.000 {built-in method scipy.sparse._sparsetools.coo_tocsr}\n",
      "        1    0.000    0.000    0.000    0.000 {built-in method sys.getrecursionlimit}\n",
      "        2    0.000    0.000    0.000    0.000 {built-in method sys.setrecursionlimit}\n",
      "     1178    0.000    0.000    0.000    0.000 {method 'add' of 'set' objects}\n",
      "     5853    0.001    0.000    0.001    0.000 {method 'append' of 'list' objects}\n",
      "        2    0.000    0.000    0.000    0.000 {method 'astype' of 'numpy.ndarray' objects}\n",
      "        1    0.000    0.000    0.000    0.000 {method 'disable' of '_lsprof.Profiler' objects}\n",
      "        1    0.000    0.000    0.000    0.000 {method 'extend' of 'list' objects}\n",
      "        1    0.000    0.000    0.000    0.000 {method 'get' of 'dict' objects}\n",
      "        1    0.000    0.000    0.000    0.000 {method 'items' of 'dict' objects}\n",
      "       88    0.000    0.000    0.000    0.000 {method 'lower' of 'str' objects}\n",
      "        2    0.000    0.000    0.000    0.000 {method 'max' of 'numpy.ndarray' objects}\n",
      "        2    0.000    0.000    0.000    0.000 {method 'min' of 'numpy.ndarray' objects}\n",
      "        4    0.000    0.000    0.000    0.000 {method 'newbyteorder' of 'numpy.dtype' objects}\n",
      "        1    0.000    0.000    0.000    0.000 {method 'nonzero' of 'numpy.ndarray' objects}\n",
      "      122    0.000    0.000    0.000    0.000 {method 'pop' of 'list' objects}\n",
      "        2    0.000    0.000    0.000    0.000 {method 'ravel' of 'numpy.ndarray' objects}\n",
      "        6    0.000    0.000    0.000    0.000 {method 'reduce' of 'numpy.ufunc' objects}\n",
      "        1    0.000    0.000    0.000    0.000 {method 'reduceat' of 'numpy.ufunc' objects}\n",
      "      122    0.000    0.000    0.000    0.000 {method 'remove' of 'set' objects}\n",
      "        2    0.000    0.000    0.000    0.000 {method 'rpartition' of 'str' objects}\n",
      "      245    0.000    0.000    0.000    0.000 {method 'values' of 'dict' objects}\n",
      "\n",
      "\n"
     ]
    }
   ],
   "source": [
    "cProfile.run('B.add_ref_product(x.flow, p)')"
   ]
  },
  {
   "cell_type": "code",
   "execution_count": 27,
   "metadata": {
    "collapsed": false
   },
   "outputs": [
    {
     "data": {
      "text/plain": [
       "2303"
      ]
     },
     "execution_count": 27,
     "metadata": {},
     "output_type": "execute_result"
    }
   ],
   "source": [
    "len(B._cutoff)"
   ]
  },
  {
   "cell_type": "code",
   "execution_count": 28,
   "metadata": {
    "collapsed": true
   },
   "outputs": [],
   "source": [
    "bg = [b.index for b in B.tstack.background_flows()]\n",
    "bg_dict = dict((ind, n) for n, ind in enumerate(bg))"
   ]
  },
  {
   "cell_type": "code",
   "execution_count": 29,
   "metadata": {
    "collapsed": false
   },
   "outputs": [
    {
     "data": {
      "text/plain": [
       "True"
      ]
     },
     "execution_count": 29,
     "metadata": {},
     "output_type": "execute_result"
    }
   ],
   "source": [
    "B._b_matrix == None"
   ]
  },
  {
   "cell_type": "code",
   "execution_count": 30,
   "metadata": {
    "collapsed": false
   },
   "outputs": [
    {
     "name": "stdout",
     "output_type": "stream",
     "text": [
      "CPU times: user 3.33 ms, sys: 0 ns, total: 3.33 ms\n",
      "Wall time: 3.85 ms\n"
     ]
    }
   ],
   "source": [
    "%time B._construct_b_matrix(bg_dict)"
   ]
  },
  {
   "cell_type": "code",
   "execution_count": 31,
   "metadata": {
    "collapsed": false
   },
   "outputs": [
    {
     "data": {
      "text/plain": [
       "(252, 39)"
      ]
     },
     "execution_count": 31,
     "metadata": {},
     "output_type": "execute_result"
    }
   ],
   "source": [
    "B._b_matrix.shape"
   ]
  },
  {
   "cell_type": "code",
   "execution_count": 32,
   "metadata": {
    "collapsed": false
   },
   "outputs": [],
   "source": [
    "import matplotlib.pyplot as plt\n",
    "%matplotlib inline"
   ]
  },
  {
   "cell_type": "code",
   "execution_count": 35,
   "metadata": {
    "collapsed": false
   },
   "outputs": [
    {
     "data": {
      "text/plain": [
       "<matplotlib.lines.Line2D at 0x7fa2843adbe0>"
      ]
     },
     "execution_count": 35,
     "metadata": {},
     "output_type": "execute_result"
    },
    {
     "data": {
      "image/png": "[encoded data removed]",
      "text/plain": [
       "<matplotlib.figure.Figure at 0x7fa28442e978>"
      ]
     },
     "metadata": {},
     "output_type": "display_data"
    }
   ],
   "source": [
    "fig = plt.figure()\n",
    "ax = fig.add_subplot(1,1,1)\n",
    "ax.spy(B._b_matrix, markersize=1)"
   ]
  },
  {
   "cell_type": "code",
   "execution_count": null,
   "metadata": {
    "collapsed": true
   },
   "outputs": [],
   "source": []
  },
  {
   "cell_type": "code",
   "execution_count": 26,
   "metadata": {
    "collapsed": true
   },
   "outputs": [],
   "source": [
    "cg = (co for co in B._cutoff if co.parent.index in bg_dict)"
   ]
  },
  {
   "cell_type": "code",
   "execution_count": 34,
   "metadata": {
    "collapsed": false
   },
   "outputs": [],
   "source": [
    "c = next(cg)"
   ]
  },
  {
   "cell_type": "code",
   "execution_count": 35,
   "metadata": {
    "collapsed": false
   },
   "outputs": [
    {
     "data": {
      "text/plain": [
       "[4, 37, 4.912e-05]"
      ]
     },
     "execution_count": 35,
     "metadata": {},
     "output_type": "execute_result"
    }
   ],
   "source": [
    "[c.term.index, bg_dict[c.parent.index], c.value ]"
   ]
  },
  {
   "cell_type": "code",
   "execution_count": 36,
   "metadata": {
    "collapsed": false
   },
   "outputs": [
    {
     "ename": "AttributeError",
     "evalue": "'int' object has no attribute 'index'",
     "output_type": "error",
     "traceback": [
      "\u001b[0;31m---------------------------------------------------------------------------\u001b[0m",
      "\u001b[0;31mAttributeError\u001b[0m                            Traceback (most recent call last)",
      "\u001b[0;32m<ipython-input-36-076f2d02ea39>\u001b[0m in \u001b[0;36m<module>\u001b[0;34m()\u001b[0m\n\u001b[1;32m      1\u001b[0m \u001b[0;32mwhile\u001b[0m \u001b[0;36m1\u001b[0m\u001b[0;34m:\u001b[0m\u001b[0;34m\u001b[0m\u001b[0m\n\u001b[1;32m      2\u001b[0m     \u001b[0mc\u001b[0m \u001b[0;34m=\u001b[0m \u001b[0mnext\u001b[0m\u001b[0;34m(\u001b[0m\u001b[0mcg\u001b[0m\u001b[0;34m)\u001b[0m\u001b[0;34m\u001b[0m\u001b[0m\n\u001b[0;32m----> 3\u001b[0;31m     \u001b[0;34m[\u001b[0m\u001b[0mc\u001b[0m\u001b[0;34m.\u001b[0m\u001b[0mterm\u001b[0m\u001b[0;34m.\u001b[0m\u001b[0mindex\u001b[0m\u001b[0;34m,\u001b[0m \u001b[0mbg_dict\u001b[0m\u001b[0;34m[\u001b[0m\u001b[0mc\u001b[0m\u001b[0;34m.\u001b[0m\u001b[0mparent\u001b[0m\u001b[0;34m.\u001b[0m\u001b[0mindex\u001b[0m\u001b[0;34m]\u001b[0m\u001b[0;34m,\u001b[0m \u001b[0mc\u001b[0m\u001b[0;34m.\u001b[0m\u001b[0mvalue\u001b[0m \u001b[0;34m]\u001b[0m\u001b[0;34m\u001b[0m\u001b[0m\n\u001b[0m",
      "\u001b[0;31mAttributeError\u001b[0m: 'int' object has no attribute 'index'"
     ]
    }
   ],
   "source": [
    "while 1:\n",
    "    c = next(cg)\n",
    "    [c.term.index, bg_dict[c.parent.index], c.value ]"
   ]
  },
  {
   "cell_type": "code",
   "execution_count": 37,
   "metadata": {
    "collapsed": false
   },
   "outputs": [
    {
     "data": {
      "text/plain": [
       "MatrixEntry(parent=<lcamatrix.foreground.ProductFlow object at 0x7f38db40ac18>, term=3, value=0.0005986)"
      ]
     },
     "execution_count": 37,
     "metadata": {},
     "output_type": "execute_result"
    }
   ],
   "source": [
    "c"
   ]
  },
  {
   "cell_type": "code",
   "execution_count": 17,
   "metadata": {
    "collapsed": false
   },
   "outputs": [
    {
     "data": {
      "text/plain": [
       "defaultdict(set,\n",
       "            {0: {1,\n",
       "              40,\n",
       "              41,\n",
       "              42,\n",
       "              53,\n",
       "              60,\n",
       "              62,\n",
       "              70,\n",
       "              80,\n",
       "              102,\n",
       "              104,\n",
       "              110,\n",
       "              111,\n",
       "              114,\n",
       "              115},\n",
       "             1: {1},\n",
       "             42: {43, 44, 45, 47, 48, 49, 50, 51, 52},\n",
       "             43: {1},\n",
       "             45: {46},\n",
       "             47: {1},\n",
       "             49: {1},\n",
       "             50: {1},\n",
       "             51: {1},\n",
       "             52: {1},\n",
       "             53: {1, 54, 55},\n",
       "             54: {1, 55, 56, 57, 59},\n",
       "             55: {1},\n",
       "             56: {1},\n",
       "             57: {1, 58},\n",
       "             58: {1},\n",
       "             59: {1},\n",
       "             60: {1, 61},\n",
       "             61: {1},\n",
       "             62: {63, 68, 69},\n",
       "             63: {64, 65, 66, 67},\n",
       "             64: {1},\n",
       "             65: {1},\n",
       "             66: {1},\n",
       "             67: {1},\n",
       "             68: {64, 65, 66, 67},\n",
       "             69: {64, 65, 66, 67},\n",
       "             70: {71, 89, 95},\n",
       "             71: {72, 84},\n",
       "             72: {73, 75, 76, 77, 82, 83},\n",
       "             73: {74},\n",
       "             74: {1},\n",
       "             75: {1},\n",
       "             76: {1},\n",
       "             77: {1, 78},\n",
       "             78: {1, 79, 80, 81},\n",
       "             79: {1},\n",
       "             80: {1},\n",
       "             81: {1},\n",
       "             82: {1},\n",
       "             83: {1},\n",
       "             84: {75, 77, 85, 86, 87},\n",
       "             85: {1},\n",
       "             86: {1},\n",
       "             87: {88},\n",
       "             88: {1},\n",
       "             89: {90, 93},\n",
       "             90: {75, 76, 82, 83, 91, 92},\n",
       "             91: {74},\n",
       "             92: {1, 78},\n",
       "             93: {75, 85, 86, 92, 94},\n",
       "             94: {88},\n",
       "             95: {96, 100},\n",
       "             96: {75, 85, 86, 97, 98},\n",
       "             97: {1, 78},\n",
       "             98: {99},\n",
       "             99: {1},\n",
       "             100: {75, 76, 82, 83, 97, 101},\n",
       "             101: {74},\n",
       "             102: {1, 103},\n",
       "             103: {1},\n",
       "             104: {105, 108, 109},\n",
       "             105: {64, 65, 106, 107},\n",
       "             106: {1},\n",
       "             107: {1},\n",
       "             108: {64, 65, 106, 107},\n",
       "             109: {64, 65, 106, 107},\n",
       "             110: {1},\n",
       "             111: {1, 55, 57, 112},\n",
       "             112: {1, 55, 113},\n",
       "             113: {1},\n",
       "             114: {1},\n",
       "             115: {1, 60, 62, 70, 80, 102, 104, 114, 116, 117, 119, 120, 121},\n",
       "             116: {1},\n",
       "             117: {1, 118},\n",
       "             118: {1},\n",
       "             119: {43, 44, 45, 47, 48, 49, 50, 51, 52},\n",
       "             120: {1, 56},\n",
       "             121: {1}})"
      ]
     },
     "execution_count": 17,
     "metadata": {},
     "output_type": "execute_result"
    }
   ],
   "source": [
    "B.tstack._component_rows_by_col"
   ]
  },
  {
   "cell_type": "code",
   "execution_count": null,
   "metadata": {
    "collapsed": true
   },
   "outputs": [],
   "source": []
  },
  {
   "cell_type": "code",
   "execution_count": 19,
   "metadata": {
    "collapsed": false
   },
   "outputs": [],
   "source": [
    "bg = [b.index for b in B.tstack.background_flows()]"
   ]
  },
  {
   "cell_type": "code",
   "execution_count": null,
   "metadata": {
    "collapsed": true
   },
   "outputs": [],
   "source": []
  },
  {
   "cell_type": "code",
   "execution_count": 20,
   "metadata": {
    "collapsed": false
   },
   "outputs": [
    {
     "data": {
      "text/plain": [
       "16"
      ]
     },
     "execution_count": 20,
     "metadata": {},
     "output_type": "execute_result"
    }
   ],
   "source": [
    "bg[0]"
   ]
  },
  {
   "cell_type": "code",
   "execution_count": 21,
   "metadata": {
    "collapsed": true
   },
   "outputs": [],
   "source": [
    "bg_dict = dict((v, k) for k, v in enumerate(bg))"
   ]
  },
  {
   "cell_type": "code",
   "execution_count": 66,
   "metadata": {
    "collapsed": false
   },
   "outputs": [
    {
     "data": {
      "text/plain": [
       "39"
      ]
     },
     "execution_count": 66,
     "metadata": {},
     "output_type": "execute_result"
    }
   ],
   "source": [
    "len(bg)"
   ]
  },
  {
   "cell_type": "code",
   "execution_count": 34,
   "metadata": {
    "collapsed": false
   },
   "outputs": [
    {
     "data": {
      "text/plain": [
       "11.889236830835117"
      ]
     },
     "execution_count": 34,
     "metadata": {},
     "output_type": "execute_result"
    }
   ],
   "source": [
    "353648 * .0157 / 467"
   ]
  },
  {
   "cell_type": "code",
   "execution_count": 33,
   "metadata": {
    "collapsed": false
   },
   "outputs": [
    {
     "data": {
      "text/plain": [
       "467"
      ]
     },
     "execution_count": 33,
     "metadata": {},
     "output_type": "execute_result"
    }
   ],
   "source": [
    "len(B._interior)"
   ]
  },
  {
   "cell_type": "code",
   "execution_count": 40,
   "metadata": {
    "collapsed": false
   },
   "outputs": [
    {
     "ename": "AttributeError",
     "evalue": "'ProductFlow' object has no attribute 'index'",
     "output_type": "error",
     "traceback": [
      "\u001b[0;31m---------------------------------------------------------------------------\u001b[0m",
      "\u001b[0;31mAttributeError\u001b[0m                            Traceback (most recent call last)",
      "\u001b[0;32m<ipython-input-40-ccc51a26ae94>\u001b[0m in \u001b[0;36m<module>\u001b[0;34m()\u001b[0m\n\u001b[0;32m----> 1\u001b[0;31m \u001b[0mbgf\u001b[0m \u001b[0;34m=\u001b[0m \u001b[0;34m[\u001b[0m\u001b[0mb\u001b[0m\u001b[0;34m.\u001b[0m\u001b[0mindex\u001b[0m \u001b[0;32mfor\u001b[0m \u001b[0mb\u001b[0m \u001b[0;32min\u001b[0m \u001b[0mbg\u001b[0m\u001b[0;34m]\u001b[0m\u001b[0;34m\u001b[0m\u001b[0m\n\u001b[0m",
      "\u001b[0;32m<ipython-input-40-ccc51a26ae94>\u001b[0m in \u001b[0;36m<listcomp>\u001b[0;34m(.0)\u001b[0m\n\u001b[0;32m----> 1\u001b[0;31m \u001b[0mbgf\u001b[0m \u001b[0;34m=\u001b[0m \u001b[0;34m[\u001b[0m\u001b[0mb\u001b[0m\u001b[0;34m.\u001b[0m\u001b[0mindex\u001b[0m \u001b[0;32mfor\u001b[0m \u001b[0mb\u001b[0m \u001b[0;32min\u001b[0m \u001b[0mbg\u001b[0m\u001b[0;34m]\u001b[0m\u001b[0;34m\u001b[0m\u001b[0m\n\u001b[0m",
      "\u001b[0;31mAttributeError\u001b[0m: 'ProductFlow' object has no attribute 'index'"
     ]
    }
   ],
   "source": [
    "bgf = [b.index for b in bg]"
   ]
  },
  {
   "cell_type": "code",
   "execution_count": 36,
   "metadata": {
    "collapsed": false
   },
   "outputs": [],
   "source": [
    "import scipy as sp"
   ]
  },
  {
   "cell_type": "code",
   "execution_count": 55,
   "metadata": {
    "collapsed": false
   },
   "outputs": [
    {
     "name": "stdout",
     "output_type": "stream",
     "text": [
      "CPU times: user 0 ns, sys: 0 ns, total: 0 ns\n",
      "Wall time: 422 µs\n"
     ]
    }
   ],
   "source": [
    "%time ibg = sp.array([[bg_dict[i.term.index], bg_dict[i.parent.index], i.exchange.value] for i in B._interior if i.parent.index in bg_dict])"
   ]
  },
  {
   "cell_type": "code",
   "execution_count": 58,
   "metadata": {
    "collapsed": true
   },
   "outputs": [],
   "source": [
    "from scipy.sparse import csc_matrix, csr_matrix"
   ]
  },
  {
   "cell_type": "code",
   "execution_count": 71,
   "metadata": {
    "collapsed": false
   },
   "outputs": [
    {
     "name": "stdout",
     "output_type": "stream",
     "text": [
      "Help on class csc_matrix in module scipy.sparse.csc:\n",
      "\n",
      "class csc_matrix(scipy.sparse.compressed._cs_matrix, scipy.sparse.sputils.IndexMixin)\n",
      " |  Compressed Sparse Column matrix\n",
      " |  \n",
      " |  This can be instantiated in several ways:\n",
      " |  \n",
      " |      csc_matrix(D)\n",
      " |          with a dense matrix or rank-2 ndarray D\n",
      " |  \n",
      " |      csc_matrix(S)\n",
      " |          with another sparse matrix S (equivalent to S.tocsc())\n",
      " |  \n",
      " |      csc_matrix((M, N), [dtype])\n",
      " |          to construct an empty matrix with shape (M, N)\n",
      " |          dtype is optional, defaulting to dtype='d'.\n",
      " |  \n",
      " |      csc_matrix((data, (row_ind, col_ind)), [shape=(M, N)])\n",
      " |          where ``data``, ``row_ind`` and ``col_ind`` satisfy the\n",
      " |          relationship ``a[row_ind[k], col_ind[k]] = data[k]``.\n",
      " |  \n",
      " |      csc_matrix((data, indices, indptr), [shape=(M, N)])\n",
      " |          is the standard CSC representation where the row indices for\n",
      " |          column i are stored in ``indices[indptr[i]:indptr[i+1]]``\n",
      " |          and their corresponding values are stored in\n",
      " |          ``data[indptr[i]:indptr[i+1]]``.  If the shape parameter is\n",
      " |          not supplied, the matrix dimensions are inferred from\n",
      " |          the index arrays.\n",
      " |  \n",
      " |  Attributes\n",
      " |  ----------\n",
      " |  dtype : dtype\n",
      " |      Data type of the matrix\n",
      " |  shape : 2-tuple\n",
      " |      Shape of the matrix\n",
      " |  ndim : int\n",
      " |      Number of dimensions (this is always 2)\n",
      " |  nnz\n",
      " |      Number of nonzero elements\n",
      " |  data\n",
      " |      Data array of the matrix\n",
      " |  indices\n",
      " |      CSC format index array\n",
      " |  indptr\n",
      " |      CSC format index pointer array\n",
      " |  has_sorted_indices\n",
      " |      Whether indices are sorted\n",
      " |  \n",
      " |  Notes\n",
      " |  -----\n",
      " |  \n",
      " |  Sparse matrices can be used in arithmetic operations: they support\n",
      " |  addition, subtraction, multiplication, division, and matrix power.\n",
      " |  \n",
      " |  Advantages of the CSC format\n",
      " |      - efficient arithmetic operations CSC + CSC, CSC * CSC, etc.\n",
      " |      - efficient column slicing\n",
      " |      - fast matrix vector products (CSR, BSR may be faster)\n",
      " |  \n",
      " |  Disadvantages of the CSC format\n",
      " |    - slow row slicing operations (consider CSR)\n",
      " |    - changes to the sparsity structure are expensive (consider LIL or DOK)\n",
      " |  \n",
      " |  \n",
      " |  Examples\n",
      " |  --------\n",
      " |  \n",
      " |  >>> import numpy as np\n",
      " |  >>> from scipy.sparse import csc_matrix\n",
      " |  >>> csc_matrix((3, 4), dtype=np.int8).toarray()\n",
      " |  array([[0, 0, 0, 0],\n",
      " |         [0, 0, 0, 0],\n",
      " |         [0, 0, 0, 0]], dtype=int8)\n",
      " |  \n",
      " |  >>> row = np.array([0, 2, 2, 0, 1, 2])\n",
      " |  >>> col = np.array([0, 0, 1, 2, 2, 2])\n",
      " |  >>> data = np.array([1, 2, 3, 4, 5, 6])\n",
      " |  >>> csc_matrix((data, (row, col)), shape=(3, 3)).toarray()\n",
      " |  array([[1, 0, 4],\n",
      " |         [0, 0, 5],\n",
      " |         [2, 3, 6]])\n",
      " |  \n",
      " |  >>> indptr = np.array([0, 2, 3, 6])\n",
      " |  >>> indices = np.array([0, 2, 2, 0, 1, 2])\n",
      " |  >>> data = np.array([1, 2, 3, 4, 5, 6])\n",
      " |  >>> csc_matrix((data, indices, indptr), shape=(3, 3)).toarray()\n",
      " |  array([[1, 0, 4],\n",
      " |         [0, 0, 5],\n",
      " |         [2, 3, 6]])\n",
      " |  \n",
      " |  Method resolution order:\n",
      " |      csc_matrix\n",
      " |      scipy.sparse.compressed._cs_matrix\n",
      " |      scipy.sparse.data._data_matrix\n",
      " |      scipy.sparse.base.spmatrix\n",
      " |      scipy.sparse.data._minmax_mixin\n",
      " |      scipy.sparse.sputils.IndexMixin\n",
      " |      builtins.object\n",
      " |  \n",
      " |  Methods defined here:\n",
      " |  \n",
      " |  __getitem__(self, key)\n",
      " |  \n",
      " |  __iter__(self)\n",
      " |  \n",
      " |  getcol(self, i)\n",
      " |      Returns a copy of column i of the matrix, as a (m x 1)\n",
      " |      CSC matrix (column vector).\n",
      " |  \n",
      " |  getrow(self, i)\n",
      " |      Returns a copy of row i of the matrix, as a (1 x n)\n",
      " |      CSR matrix (row vector).\n",
      " |  \n",
      " |  nonzero(self)\n",
      " |      nonzero indices\n",
      " |      \n",
      " |      Returns a tuple of arrays (row,col) containing the indices\n",
      " |      of the non-zero elements of the matrix.\n",
      " |      \n",
      " |      Examples\n",
      " |      --------\n",
      " |      >>> from scipy.sparse import csr_matrix\n",
      " |      >>> A = csr_matrix([[1,2,0],[0,0,3],[4,0,5]])\n",
      " |      >>> A.nonzero()\n",
      " |      (array([0, 0, 1, 2, 2]), array([0, 1, 2, 0, 2]))\n",
      " |  \n",
      " |  tocsc(self, copy=False)\n",
      " |      Convert this matrix to Compressed Sparse Column format.\n",
      " |      \n",
      " |      With copy=False, the data/indices may be shared between this matrix and\n",
      " |      the resultant csc_matrix.\n",
      " |  \n",
      " |  tocsr(self, copy=False)\n",
      " |      Convert this matrix to Compressed Sparse Row format.\n",
      " |      \n",
      " |      With copy=False, the data/indices may be shared between this matrix and\n",
      " |      the resultant csr_matrix.\n",
      " |  \n",
      " |  transpose(self, axes=None, copy=False)\n",
      " |      Reverses the dimensions of the sparse matrix.\n",
      " |      \n",
      " |      Parameters\n",
      " |      ----------\n",
      " |      axes : None, optional\n",
      " |          This argument is in the signature *solely* for NumPy\n",
      " |          compatibility reasons. Do not pass in anything except\n",
      " |          for the default value.\n",
      " |      copy : bool, optional\n",
      " |          Indicates whether or not attributes of `self` should be\n",
      " |          copied whenever possible. The degree to which attributes\n",
      " |          are copied varies depending on the type of sparse matrix\n",
      " |          being used.\n",
      " |      \n",
      " |      Returns\n",
      " |      -------\n",
      " |      p : `self` with the dimensions reversed.\n",
      " |      \n",
      " |      See Also\n",
      " |      --------\n",
      " |      np.matrix.transpose : NumPy's implementation of 'transpose'\n",
      " |                            for matrices\n",
      " |  \n",
      " |  ----------------------------------------------------------------------\n",
      " |  Data and other attributes defined here:\n",
      " |  \n",
      " |  format = 'csc'\n",
      " |  \n",
      " |  ----------------------------------------------------------------------\n",
      " |  Methods inherited from scipy.sparse.compressed._cs_matrix:\n",
      " |  \n",
      " |  __add__(self, other)\n",
      " |  \n",
      " |  __eq__(self, other)\n",
      " |      Return self==value.\n",
      " |  \n",
      " |  __ge__(self, other)\n",
      " |      Return self>=value.\n",
      " |  \n",
      " |  __gt__(self, other)\n",
      " |      Return self>value.\n",
      " |  \n",
      " |  __init__(self, arg1, shape=None, dtype=None, copy=False)\n",
      " |      Initialize self.  See help(type(self)) for accurate signature.\n",
      " |  \n",
      " |  __le__(self, other)\n",
      " |      Return self<=value.\n",
      " |  \n",
      " |  __lt__(self, other)\n",
      " |      Return self<value.\n",
      " |  \n",
      " |  __ne__(self, other)\n",
      " |      Return self!=value.\n",
      " |  \n",
      " |  __radd__(self, other)\n",
      " |  \n",
      " |  __rsub__(self, other)\n",
      " |  \n",
      " |  __setitem__(self, index, x)\n",
      " |  \n",
      " |  __sub__(self, other)\n",
      " |  \n",
      " |  check_format(self, full_check=True)\n",
      " |      check whether the matrix format is valid\n",
      " |      \n",
      " |      Parameters\n",
      " |      ----------\n",
      " |      full_check : bool, optional\n",
      " |          If `True`, rigorous check, O(N) operations. Otherwise\n",
      " |          basic check, O(1) operations (default True).\n",
      " |  \n",
      " |  diagonal(self)\n",
      " |      Returns the main diagonal of the matrix\n",
      " |  \n",
      " |  eliminate_zeros(self)\n",
      " |      Remove zero entries from the matrix\n",
      " |      \n",
      " |      This is an *in place* operation\n",
      " |  \n",
      " |  getnnz(self, axis=None)\n",
      " |      Number of stored values, including explicit zeros.\n",
      " |      \n",
      " |      Parameters\n",
      " |      ----------\n",
      " |      axis : None, 0, or 1\n",
      " |          Select between the number of values across the whole matrix, in\n",
      " |          each column, or in each row.\n",
      " |      \n",
      " |      See also\n",
      " |      --------\n",
      " |      count_nonzero : Number of non-zero entries\n",
      " |  \n",
      " |  maximum(self, other)\n",
      " |  \n",
      " |  minimum(self, other)\n",
      " |  \n",
      " |  multiply(self, other)\n",
      " |      Point-wise multiplication by another matrix, vector, or\n",
      " |      scalar.\n",
      " |  \n",
      " |  prune(self)\n",
      " |      Remove empty space after all non-zero elements.\n",
      " |  \n",
      " |  sort_indices(self)\n",
      " |      Sort the indices of this matrix *in place*\n",
      " |  \n",
      " |  sorted_indices(self)\n",
      " |      Return a copy of this matrix with sorted indices\n",
      " |  \n",
      " |  sum(self, axis=None, dtype=None, out=None)\n",
      " |      Sum the matrix elements over a given axis.\n",
      " |      \n",
      " |      Parameters\n",
      " |      ----------\n",
      " |      axis : {-2, -1, 0, 1, None} optional\n",
      " |          Axis along which the sum is computed. The default is to\n",
      " |          compute the sum of all the matrix elements, returning a scalar\n",
      " |          (i.e. `axis` = `None`).\n",
      " |      dtype : dtype, optional\n",
      " |          The type of the returned matrix and of the accumulator in which\n",
      " |          the elements are summed.  The dtype of `a` is used by default\n",
      " |          unless `a` has an integer dtype of less precision than the default\n",
      " |          platform integer.  In that case, if `a` is signed then the platform\n",
      " |          integer is used while if `a` is unsigned then an unsigned integer\n",
      " |          of the same precision as the platform integer is used.\n",
      " |      \n",
      " |          .. versionadded: 0.18.0\n",
      " |      \n",
      " |      out : np.matrix, optional\n",
      " |          Alternative output matrix in which to place the result. It must\n",
      " |          have the same shape as the expected output, but the type of the\n",
      " |          output values will be cast if necessary.\n",
      " |      \n",
      " |          .. versionadded: 0.18.0\n",
      " |      \n",
      " |      Returns\n",
      " |      -------\n",
      " |      sum_along_axis : np.matrix\n",
      " |          A matrix with the same shape as `self`, with the specified\n",
      " |          axis removed.\n",
      " |      \n",
      " |      See Also\n",
      " |      --------\n",
      " |      np.matrix.sum : NumPy's implementation of 'sum' for matrices\n",
      " |  \n",
      " |  sum_duplicates(self)\n",
      " |      Eliminate duplicate matrix entries by adding them together\n",
      " |      \n",
      " |      The is an *in place* operation\n",
      " |  \n",
      " |  toarray(self, order=None, out=None)\n",
      " |      See the docstring for `spmatrix.toarray`.\n",
      " |  \n",
      " |  tocoo(self, copy=True)\n",
      " |      Convert this matrix to COOrdinate format.\n",
      " |      \n",
      " |      With copy=False, the data/indices may be shared between this matrix and\n",
      " |      the resultant coo_matrix.\n",
      " |  \n",
      " |  ----------------------------------------------------------------------\n",
      " |  Data descriptors inherited from scipy.sparse.compressed._cs_matrix:\n",
      " |  \n",
      " |  has_canonical_format\n",
      " |      Determine whether the matrix has sorted indices and no duplicates\n",
      " |      \n",
      " |      Returns\n",
      " |          - True: if the above applies\n",
      " |          - False: otherwise\n",
      " |      \n",
      " |      has_canonical_format implies has_sorted_indices, so if the latter flag\n",
      " |      is False, so will the former be; if the former is found True, the\n",
      " |      latter flag is also set.\n",
      " |  \n",
      " |  has_sorted_indices\n",
      " |      Determine whether the matrix has sorted indices\n",
      " |      \n",
      " |      Returns\n",
      " |          - True: if the indices of the matrix are in sorted order\n",
      " |          - False: otherwise\n",
      " |  \n",
      " |  ----------------------------------------------------------------------\n",
      " |  Data and other attributes inherited from scipy.sparse.compressed._cs_matrix:\n",
      " |  \n",
      " |  __hash__ = None\n",
      " |  \n",
      " |  ----------------------------------------------------------------------\n",
      " |  Methods inherited from scipy.sparse.data._data_matrix:\n",
      " |  \n",
      " |  __abs__(self)\n",
      " |  \n",
      " |  __imul__(self, other)\n",
      " |  \n",
      " |  __itruediv__(self, other)\n",
      " |  \n",
      " |  __neg__(self)\n",
      " |  \n",
      " |  arcsin(self)\n",
      " |      Element-wise arcsin.\n",
      " |      \n",
      " |      See numpy.arcsin for more information.\n",
      " |  \n",
      " |  arcsinh(self)\n",
      " |      Element-wise arcsinh.\n",
      " |      \n",
      " |      See numpy.arcsinh for more information.\n",
      " |  \n",
      " |  arctan(self)\n",
      " |      Element-wise arctan.\n",
      " |      \n",
      " |      See numpy.arctan for more information.\n",
      " |  \n",
      " |  arctanh(self)\n",
      " |      Element-wise arctanh.\n",
      " |      \n",
      " |      See numpy.arctanh for more information.\n",
      " |  \n",
      " |  astype(self, t)\n",
      " |  \n",
      " |  ceil(self)\n",
      " |      Element-wise ceil.\n",
      " |      \n",
      " |      See numpy.ceil for more information.\n",
      " |  \n",
      " |  conj(self)\n",
      " |  \n",
      " |  copy(self)\n",
      " |      Returns a copy of this matrix.\n",
      " |      \n",
      " |      No data/indices will be shared between the returned value and current\n",
      " |      matrix.\n",
      " |  \n",
      " |  count_nonzero(self)\n",
      " |      Number of non-zero entries, equivalent to\n",
      " |      \n",
      " |      np.count_nonzero(a.toarray())\n",
      " |      \n",
      " |      Unlike getnnz() and the nnz property, which return the number of stored\n",
      " |      entries (the length of the data attribute), this method counts the\n",
      " |      actual number of non-zero entries in data.\n",
      " |  \n",
      " |  deg2rad(self)\n",
      " |      Element-wise deg2rad.\n",
      " |      \n",
      " |      See numpy.deg2rad for more information.\n",
      " |  \n",
      " |  expm1(self)\n",
      " |      Element-wise expm1.\n",
      " |      \n",
      " |      See numpy.expm1 for more information.\n",
      " |  \n",
      " |  floor(self)\n",
      " |      Element-wise floor.\n",
      " |      \n",
      " |      See numpy.floor for more information.\n",
      " |  \n",
      " |  log1p(self)\n",
      " |      Element-wise log1p.\n",
      " |      \n",
      " |      See numpy.log1p for more information.\n",
      " |  \n",
      " |  power(self, n, dtype=None)\n",
      " |      This function performs element-wise power.\n",
      " |      \n",
      " |      Parameters\n",
      " |      ----------\n",
      " |      n : n is a scalar\n",
      " |      \n",
      " |      dtype : If dtype is not specified, the current dtype will be preserved.\n",
      " |  \n",
      " |  rad2deg(self)\n",
      " |      Element-wise rad2deg.\n",
      " |      \n",
      " |      See numpy.rad2deg for more information.\n",
      " |  \n",
      " |  rint(self)\n",
      " |      Element-wise rint.\n",
      " |      \n",
      " |      See numpy.rint for more information.\n",
      " |  \n",
      " |  sign(self)\n",
      " |      Element-wise sign.\n",
      " |      \n",
      " |      See numpy.sign for more information.\n",
      " |  \n",
      " |  sin(self)\n",
      " |      Element-wise sin.\n",
      " |      \n",
      " |      See numpy.sin for more information.\n",
      " |  \n",
      " |  sinh(self)\n",
      " |      Element-wise sinh.\n",
      " |      \n",
      " |      See numpy.sinh for more information.\n",
      " |  \n",
      " |  sqrt(self)\n",
      " |      Element-wise sqrt.\n",
      " |      \n",
      " |      See numpy.sqrt for more information.\n",
      " |  \n",
      " |  tan(self)\n",
      " |      Element-wise tan.\n",
      " |      \n",
      " |      See numpy.tan for more information.\n",
      " |  \n",
      " |  tanh(self)\n",
      " |      Element-wise tanh.\n",
      " |      \n",
      " |      See numpy.tanh for more information.\n",
      " |  \n",
      " |  trunc(self)\n",
      " |      Element-wise trunc.\n",
      " |      \n",
      " |      See numpy.trunc for more information.\n",
      " |  \n",
      " |  ----------------------------------------------------------------------\n",
      " |  Data descriptors inherited from scipy.sparse.data._data_matrix:\n",
      " |  \n",
      " |  dtype\n",
      " |  \n",
      " |  ----------------------------------------------------------------------\n",
      " |  Methods inherited from scipy.sparse.base.spmatrix:\n",
      " |  \n",
      " |  __bool__(self)\n",
      " |  \n",
      " |  __div__(self, other)\n",
      " |  \n",
      " |  __getattr__(self, attr)\n",
      " |  \n",
      " |  __iadd__(self, other)\n",
      " |  \n",
      " |  __idiv__(self, other)\n",
      " |  \n",
      " |  __isub__(self, other)\n",
      " |  \n",
      " |  __len__(self)\n",
      " |      # What should len(sparse) return? For consistency with dense matrices,\n",
      " |      # perhaps it should be the number of rows?  But for some uses the number of\n",
      " |      # non-zeros is more important.  For now, raise an exception!\n",
      " |  \n",
      " |  __matmul__(self, other)\n",
      " |  \n",
      " |  __mul__(self, other)\n",
      " |      interpret other and call one of the following\n",
      " |      \n",
      " |      self._mul_scalar()\n",
      " |      self._mul_vector()\n",
      " |      self._mul_multivector()\n",
      " |      self._mul_sparse_matrix()\n",
      " |  \n",
      " |  __nonzero__ = __bool__(self)\n",
      " |  \n",
      " |  __numpy_ufunc__(self, func, method, pos, inputs, **kwargs)\n",
      " |      Method for compatibility with NumPy's ufuncs and dot\n",
      " |      functions.\n",
      " |  \n",
      " |  __pow__(self, other)\n",
      " |  \n",
      " |  __rdiv__(self, other)\n",
      " |  \n",
      " |  __repr__(self)\n",
      " |      Return repr(self).\n",
      " |  \n",
      " |  __rmatmul__(self, other)\n",
      " |  \n",
      " |  __rmul__(self, other)\n",
      " |  \n",
      " |  __rtruediv__(self, other)\n",
      " |  \n",
      " |  __str__(self)\n",
      " |      Return str(self).\n",
      " |  \n",
      " |  __truediv__(self, other)\n",
      " |  \n",
      " |  asformat(self, format)\n",
      " |      Return this matrix in a given sparse format\n",
      " |      \n",
      " |      Parameters\n",
      " |      ----------\n",
      " |      format : {string, None}\n",
      " |          desired sparse matrix format\n",
      " |              - None for no format conversion\n",
      " |              - \"csr\" for csr_matrix format\n",
      " |              - \"csc\" for csc_matrix format\n",
      " |              - \"lil\" for lil_matrix format\n",
      " |              - \"dok\" for dok_matrix format and so on\n",
      " |  \n",
      " |  asfptype(self)\n",
      " |      Upcast matrix to a floating point format (if necessary)\n",
      " |  \n",
      " |  conjugate(self)\n",
      " |  \n",
      " |  dot(self, other)\n",
      " |      Ordinary dot product\n",
      " |      \n",
      " |      Examples\n",
      " |      --------\n",
      " |      >>> import numpy as np\n",
      " |      >>> from scipy.sparse import csr_matrix\n",
      " |      >>> A = csr_matrix([[1, 2, 0], [0, 0, 3], [4, 0, 5]])\n",
      " |      >>> v = np.array([1, 0, -1])\n",
      " |      >>> A.dot(v)\n",
      " |      array([ 1, -3, -1], dtype=int64)\n",
      " |  \n",
      " |  getH(self)\n",
      " |      # Renamed conjtranspose() -> getH() for compatibility with dense matrices\n",
      " |  \n",
      " |  get_shape(self)\n",
      " |  \n",
      " |  getformat(self)\n",
      " |  \n",
      " |  getmaxprint(self)\n",
      " |  \n",
      " |  mean(self, axis=None, dtype=None, out=None)\n",
      " |      Compute the arithmetic mean along the specified axis.\n",
      " |      \n",
      " |      Returns the average of the matrix elements. The average is taken\n",
      " |      over all elements in the matrix by default, otherwise over the\n",
      " |      specified axis. `float64` intermediate and return values are used\n",
      " |      for integer inputs.\n",
      " |      \n",
      " |      Parameters\n",
      " |      ----------\n",
      " |      axis : {-2, -1, 0, 1, None} optional\n",
      " |          Axis along which the mean is computed. The default is to compute\n",
      " |          the mean of all elements in the matrix (i.e. `axis` = `None`).\n",
      " |      dtype : data-type, optional\n",
      " |          Type to use in computing the mean. For integer inputs, the default\n",
      " |          is `float64`; for floating point inputs, it is the same as the\n",
      " |          input dtype.\n",
      " |      \n",
      " |          .. versionadded: 0.18.0\n",
      " |      \n",
      " |      out : np.matrix, optional\n",
      " |          Alternative output matrix in which to place the result. It must\n",
      " |          have the same shape as the expected output, but the type of the\n",
      " |          output values will be cast if necessary.\n",
      " |      \n",
      " |          .. versionadded: 0.18.0\n",
      " |      \n",
      " |      Returns\n",
      " |      -------\n",
      " |      m : np.matrix\n",
      " |      \n",
      " |      See Also\n",
      " |      --------\n",
      " |      np.matrix.mean : NumPy's implementation of 'mean' for matrices\n",
      " |  \n",
      " |  reshape(self, shape, order='C')\n",
      " |      Gives a new shape to a sparse matrix without changing its data.\n",
      " |      \n",
      " |      Parameters\n",
      " |      ----------\n",
      " |      shape : length-2 tuple of ints\n",
      " |          The new shape should be compatible with the original shape.\n",
      " |      order : 'C', optional\n",
      " |          This argument is in the signature *solely* for NumPy\n",
      " |          compatibility reasons. Do not pass in anything except\n",
      " |          for the default value, as this argument is not used.\n",
      " |      \n",
      " |      Returns\n",
      " |      -------\n",
      " |      reshaped_matrix : `self` with the new dimensions of `shape`\n",
      " |      \n",
      " |      See Also\n",
      " |      --------\n",
      " |      np.matrix.reshape : NumPy's implementation of 'reshape' for matrices\n",
      " |  \n",
      " |  set_shape(self, shape)\n",
      " |  \n",
      " |  setdiag(self, values, k=0)\n",
      " |      Set diagonal or off-diagonal elements of the array.\n",
      " |      \n",
      " |      Parameters\n",
      " |      ----------\n",
      " |      values : array_like\n",
      " |          New values of the diagonal elements.\n",
      " |      \n",
      " |          Values may have any length.  If the diagonal is longer than values,\n",
      " |          then the remaining diagonal entries will not be set.  If values if\n",
      " |          longer than the diagonal, then the remaining values are ignored.\n",
      " |      \n",
      " |          If a scalar value is given, all of the diagonal is set to it.\n",
      " |      \n",
      " |      k : int, optional\n",
      " |          Which off-diagonal to set, corresponding to elements a[i,i+k].\n",
      " |          Default: 0 (the main diagonal).\n",
      " |  \n",
      " |  tobsr(self, blocksize=None, copy=False)\n",
      " |      Convert this matrix to Block Sparse Row format.\n",
      " |      \n",
      " |      With copy=False, the data/indices may be shared between this matrix and\n",
      " |      the resultant bsr_matrix.\n",
      " |      \n",
      " |      When blocksize=(R, C) is provided, it will be used for construction of\n",
      " |      the bsr_matrix.\n",
      " |  \n",
      " |  todense(self, order=None, out=None)\n",
      " |      Return a dense matrix representation of this matrix.\n",
      " |      \n",
      " |      Parameters\n",
      " |      ----------\n",
      " |      order : {'C', 'F'}, optional\n",
      " |          Whether to store multi-dimensional data in C (row-major)\n",
      " |          or Fortran (column-major) order in memory. The default\n",
      " |          is 'None', indicating the NumPy default of C-ordered.\n",
      " |          Cannot be specified in conjunction with the `out`\n",
      " |          argument.\n",
      " |      \n",
      " |      out : ndarray, 2-dimensional, optional\n",
      " |          If specified, uses this array (or `numpy.matrix`) as the\n",
      " |          output buffer instead of allocating a new array to\n",
      " |          return. The provided array must have the same shape and\n",
      " |          dtype as the sparse matrix on which you are calling the\n",
      " |          method.\n",
      " |      \n",
      " |      Returns\n",
      " |      -------\n",
      " |      arr : numpy.matrix, 2-dimensional\n",
      " |          A NumPy matrix object with the same shape and containing\n",
      " |          the same data represented by the sparse matrix, with the\n",
      " |          requested memory order. If `out` was passed and was an\n",
      " |          array (rather than a `numpy.matrix`), it will be filled\n",
      " |          with the appropriate values and returned wrapped in a\n",
      " |          `numpy.matrix` object that shares the same memory.\n",
      " |  \n",
      " |  todia(self, copy=False)\n",
      " |      Convert this matrix to sparse DIAgonal format.\n",
      " |      \n",
      " |      With copy=False, the data/indices may be shared between this matrix and\n",
      " |      the resultant dia_matrix.\n",
      " |  \n",
      " |  todok(self, copy=False)\n",
      " |      Convert this matrix to Dictionary Of Keys format.\n",
      " |      \n",
      " |      With copy=False, the data/indices may be shared between this matrix and\n",
      " |      the resultant dok_matrix.\n",
      " |  \n",
      " |  tolil(self, copy=False)\n",
      " |      Convert this matrix to LInked List format.\n",
      " |      \n",
      " |      With copy=False, the data/indices may be shared between this matrix and\n",
      " |      the resultant lil_matrix.\n",
      " |  \n",
      " |  ----------------------------------------------------------------------\n",
      " |  Data descriptors inherited from scipy.sparse.base.spmatrix:\n",
      " |  \n",
      " |  __dict__\n",
      " |      dictionary for instance variables (if defined)\n",
      " |  \n",
      " |  __weakref__\n",
      " |      list of weak references to the object (if defined)\n",
      " |  \n",
      " |  nnz\n",
      " |      Number of stored values, including explicit zeros.\n",
      " |      \n",
      " |      See also\n",
      " |      --------\n",
      " |      count_nonzero : Number of non-zero entries\n",
      " |  \n",
      " |  shape\n",
      " |  \n",
      " |  ----------------------------------------------------------------------\n",
      " |  Data and other attributes inherited from scipy.sparse.base.spmatrix:\n",
      " |  \n",
      " |  __array_priority__ = 10.1\n",
      " |  \n",
      " |  ndim = 2\n",
      " |  \n",
      " |  ----------------------------------------------------------------------\n",
      " |  Methods inherited from scipy.sparse.data._minmax_mixin:\n",
      " |  \n",
      " |  max(self, axis=None, out=None)\n",
      " |      Return the maximum of the matrix or maximum along an axis.\n",
      " |      This takes all elements into account, not just the non-zero ones.\n",
      " |      \n",
      " |      Parameters\n",
      " |      ----------\n",
      " |      axis : {-2, -1, 0, 1, None} optional\n",
      " |          Axis along which the sum is computed. The default is to\n",
      " |          compute the maximum over all the matrix elements, returning\n",
      " |          a scalar (i.e. `axis` = `None`).\n",
      " |      \n",
      " |      out : None, optional\n",
      " |          This argument is in the signature *solely* for NumPy\n",
      " |          compatibility reasons. Do not pass in anything except\n",
      " |          for the default value, as this argument is not used.\n",
      " |      \n",
      " |      Returns\n",
      " |      -------\n",
      " |      amax : coo_matrix or scalar\n",
      " |          Maximum of `a`. If `axis` is None, the result is a scalar value.\n",
      " |          If `axis` is given, the result is a sparse.coo_matrix of dimension\n",
      " |          ``a.ndim - 1``.\n",
      " |      \n",
      " |      See Also\n",
      " |      --------\n",
      " |      min : The minimum value of a sparse matrix along a given axis.\n",
      " |      np.matrix.max : NumPy's implementation of 'max' for matrices\n",
      " |  \n",
      " |  min(self, axis=None, out=None)\n",
      " |      Return the minimum of the matrix or maximum along an axis.\n",
      " |      This takes all elements into account, not just the non-zero ones.\n",
      " |      \n",
      " |      Parameters\n",
      " |      ----------\n",
      " |      axis : {-2, -1, 0, 1, None} optional\n",
      " |          Axis along which the sum is computed. The default is to\n",
      " |          compute the minimum over all the matrix elements, returning\n",
      " |          a scalar (i.e. `axis` = `None`).\n",
      " |      \n",
      " |      out : None, optional\n",
      " |          This argument is in the signature *solely* for NumPy\n",
      " |          compatibility reasons. Do not pass in anything except for\n",
      " |          the default value, as this argument is not used.\n",
      " |      \n",
      " |      Returns\n",
      " |      -------\n",
      " |      amin : coo_matrix or scalar\n",
      " |          Minimum of `a`. If `axis` is None, the result is a scalar value.\n",
      " |          If `axis` is given, the result is a sparse.coo_matrix of dimension\n",
      " |          ``a.ndim - 1``.\n",
      " |      \n",
      " |      See Also\n",
      " |      --------\n",
      " |      max : The maximum value of a sparse matrix along a given axis.\n",
      " |      np.matrix.min : NumPy's implementation of 'min' for matrices\n",
      "\n"
     ]
    }
   ],
   "source": [
    "help(csc_matrix)"
   ]
  },
  {
   "cell_type": "code",
   "execution_count": 73,
   "metadata": {
    "collapsed": false
   },
   "outputs": [
    {
     "name": "stdout",
     "output_type": "stream",
     "text": [
      "CPU times: user 3.33 ms, sys: 0 ns, total: 3.33 ms\n",
      "Wall time: 621 µs\n"
     ]
    }
   ],
   "source": [
    "%time asp = csc_matrix((ibg[:,2], (ibg[:,0], ibg[:,1])))"
   ]
  },
  {
   "cell_type": "code",
   "execution_count": 96,
   "metadata": {
    "collapsed": false
   },
   "outputs": [
    {
     "name": "stderr",
     "output_type": "stream",
     "text": [
      "/data/virtualenvs/lca-tools/lib/python3.6/site-packages/scipy/sparse/compressed.py:730: SparseEfficiencyWarning: Changing the sparsity structure of a csc_matrix is expensive. lil_matrix is more efficient.\n",
      "  SparseEfficiencyWarning)\n"
     ]
    }
   ],
   "source": [
    "asp[3,0] = -7"
   ]
  },
  {
   "cell_type": "code",
   "execution_count": 97,
   "metadata": {
    "collapsed": false
   },
   "outputs": [
    {
     "data": {
      "text/plain": [
       "matrix([[  0.00000000e+00],\n",
       "        [  0.00000000e+00],\n",
       "        [  3.25086652e-02],\n",
       "        [ -7.00000000e+00],\n",
       "        [  5.15192793e-02],\n",
       "        [  0.00000000e+00],\n",
       "        [  0.00000000e+00],\n",
       "        [  0.00000000e+00],\n",
       "        [  0.00000000e+00],\n",
       "        [  0.00000000e+00],\n",
       "        [  0.00000000e+00],\n",
       "        [  1.11796836e-03],\n",
       "        [  0.00000000e+00],\n",
       "        [  0.00000000e+00],\n",
       "        [  0.00000000e+00],\n",
       "        [  0.00000000e+00],\n",
       "        [  0.00000000e+00],\n",
       "        [  0.00000000e+00],\n",
       "        [  0.00000000e+00],\n",
       "        [  0.00000000e+00],\n",
       "        [  0.00000000e+00],\n",
       "        [  0.00000000e+00],\n",
       "        [  0.00000000e+00],\n",
       "        [  0.00000000e+00],\n",
       "        [  0.00000000e+00],\n",
       "        [  0.00000000e+00],\n",
       "        [  0.00000000e+00],\n",
       "        [  4.55945622e-04],\n",
       "        [  2.35958299e-01],\n",
       "        [  6.90358342e-03],\n",
       "        [  0.00000000e+00],\n",
       "        [  5.92471712e-05],\n",
       "        [  0.00000000e+00],\n",
       "        [  0.00000000e+00],\n",
       "        [  0.00000000e+00],\n",
       "        [  0.00000000e+00],\n",
       "        [  0.00000000e+00],\n",
       "        [  4.71916598e-05],\n",
       "        [  0.00000000e+00]])"
      ]
     },
     "execution_count": 97,
     "metadata": {},
     "output_type": "execute_result"
    }
   ],
   "source": [
    "asp[:,0].todense()"
   ]
  },
  {
   "cell_type": "code",
   "execution_count": 93,
   "metadata": {
    "collapsed": false
   },
   "outputs": [
    {
     "data": {
      "text/plain": [
       "'Liquefied petroleum gas, combusted in industrial boiler'"
      ]
     },
     "execution_count": 93,
     "metadata": {},
     "output_type": "execute_result"
    }
   ],
   "source": [
    "B.product_flow(bg[37])._process['Name']"
   ]
  },
  {
   "cell_type": "code",
   "execution_count": 91,
   "metadata": {
    "collapsed": false
   },
   "outputs": [],
   "source": [
    "pf = B.product_flow(bg[0])"
   ]
  },
  {
   "cell_type": "code",
   "execution_count": 92,
   "metadata": {
    "collapsed": false
   },
   "outputs": [
    {
     "name": "stdout",
     "output_type": "stream",
     "text": [
      "Reference: Residual fuel oil, at refinery [Petroleum Refineries]\n",
      " 0  Input:     [4.72e-05 [l]] Liquefied petroleum gas, combusted in industrial boiler [Steam and Air-Conditioning Supply]\n",
      " 1  Input:     [0.0325 [t*km]] Transport, pipeline, unspecified petroleum products [Fossil Fuel Electric Power Generation]\n",
      " 2  Input:     [0.0515 [kg]] Crude oil, at production [Crude Petroleum and Natural Gas Extraction]\n",
      " 3  Input:     [0.0069 [kWh]] Electricity, at grid, US, 2000 [Electric Power Distribution]\n",
      " 4  Input:     [5.92e-05 [t*km]] Transport, barge, average fuel mix [Inland Water Freight Transportation]\n",
      " 5  Input:     [0.000279 [kg]] CUTOFF Disposal, solid waste, unspecified, to sanitary landfill [None]\n",
      " 6  Input:     [0.236 [t*km]] Transport, ocean freighter, average fuel mix [Deep Sea Freight Transportation]\n",
      " 7  Input:     [0.00112 [l]] Residual fuel oil, combusted in industrial boiler [Steam and Air-Conditioning Supply]\n",
      " 8  Input:     [0.000456 [m3]] Natural gas, combusted in industrial boiler [Steam and Air-Conditioning Supply]\n",
      " 9 Output:     [5.46e-07 [kg]] Oils, unspecified [unspecified]\n",
      "10 Output:     [0.000117 [kg]] Sulfur oxides [unspecified]\n",
      "11 Output:     [0.000665 [kg]] Carbon monoxide, fossil  [unspecified]\n",
      "12 Output:     [1.84e-09 [kg]] Chromium VI [unspecified]\n",
      "13 Output:     [1.64e-05 [kg]] Nitrogen oxides  [unspecified]\n",
      "14 Output:     [9.48e-09 [kg]] Sulfide [unspecified]\n",
      "15 Output:     [1.14e-08 [kg]] Phenols, unspecified [unspecified]\n",
      "16 Output:     [1.2e-05 [kg]] Particulates, unspecified [unspecified]\n",
      "17 Output:     [7.47e-07 [kg]] Ammonia [unspecified]\n",
      "18 Output:     [5.98e-12 [kg]] Methane, dichlorodifluoro-, CFC-12 [unspecified]\n",
      "19 Output:     [3.54e-06 [kg]] Methane, fossil [unspecified]\n",
      "20 Output:     [1.05e-06 [kg]] Ammonia  [unspecified]\n",
      "21 Output:     [2.09e-06 [kg]] Aldehydes, unspecified [unspecified]\n",
      "22 Output:     [0.000101 [kg]] NMVOC, non-methane volatile organic compounds [unspecified]\n",
      "23 Output:     [5.98e-13 [kg]] Methane, tetrachloro-, CFC-10 [unspecified]\n",
      "24 Output:     [1.4e-06 [kg]] Suspended solids, unspecified [unspecified]\n",
      "25 Output:     [4.83e-12 [kg]] Ethane, 1,1,1-trichloro-, HCFC-140 [unspecified]\n",
      "26 Output:     [1.69e-06 [kg]] BOD5, Biological Oxygen Demand [unspecified]\n",
      "27 Output:     [1.14e-05 [kg]] COD, Chemical Oxygen Demand [unspecified]\n",
      "28 Output:     [2.84e-08 [kg]] Chromium, ion [unspecified]\n"
     ]
    },
    {
     "data": {
      "text/plain": [
       "[<lcatools.exchanges.ExchangeValue at 0x7f736e071eb8>,\n",
       " <lcatools.exchanges.ExchangeValue at 0x7f736e071898>,\n",
       " <lcatools.exchanges.ExchangeValue at 0x7f736e071ac8>,\n",
       " <lcatools.exchanges.ExchangeValue at 0x7f736e071a20>,\n",
       " <lcatools.exchanges.ExchangeValue at 0x7f736e077048>,\n",
       " <lcatools.exchanges.ExchangeValue at 0x7f736e077320>,\n",
       " <lcatools.exchanges.ExchangeValue at 0x7f736e0774a8>,\n",
       " <lcatools.exchanges.ExchangeValue at 0x7f736e0776a0>,\n",
       " <lcatools.exchanges.ExchangeValue at 0x7f736e077c50>,\n",
       " <lcatools.exchanges.ExchangeValue at 0x7f736e077eb8>,\n",
       " <lcatools.exchanges.ExchangeValue at 0x7f736e0a1b70>,\n",
       " <lcatools.exchanges.ExchangeValue at 0x7f736e0a10b8>,\n",
       " <lcatools.exchanges.ExchangeValue at 0x7f736e0a1588>,\n",
       " <lcatools.exchanges.ExchangeValue at 0x7f736e0a17b8>,\n",
       " <lcatools.exchanges.ExchangeValue at 0x7f736e0a19e8>,\n",
       " <lcatools.exchanges.ExchangeValue at 0x7f736e0a1f60>,\n",
       " <lcatools.exchanges.ExchangeValue at 0x7f739ee0add8>,\n",
       " <lcatools.exchanges.ExchangeValue at 0x7f739edf0240>,\n",
       " <lcatools.exchanges.ExchangeValue at 0x7f739edf0b00>,\n",
       " <lcatools.exchanges.ExchangeValue at 0x7f739edf0ba8>,\n",
       " <lcatools.exchanges.ExchangeValue at 0x7f736e07d668>,\n",
       " <lcatools.exchanges.ExchangeValue at 0x7f736e07dfd0>,\n",
       " <lcatools.exchanges.ExchangeValue at 0x7f736e07d7f0>,\n",
       " <lcatools.exchanges.ExchangeValue at 0x7f736e07d9b0>,\n",
       " <lcatools.exchanges.ExchangeValue at 0x7f7372d764a8>,\n",
       " <lcatools.exchanges.ExchangeValue at 0x7f736e025cc0>,\n",
       " <lcatools.exchanges.ExchangeValue at 0x7f736e025d68>,\n",
       " <lcatools.exchanges.ExchangeValue at 0x7f736e025390>,\n",
       " <lcatools.exchanges.ExchangeValue at 0x7f736e0251d0>]"
      ]
     },
     "execution_count": 92,
     "metadata": {},
     "output_type": "execute_result"
    }
   ],
   "source": [
    "pf._process.inventory(pf._flow)"
   ]
  },
  {
   "cell_type": "code",
   "execution_count": null,
   "metadata": {
    "collapsed": true
   },
   "outputs": [],
   "source": []
  },
  {
   "cell_type": "code",
   "execution_count": 18,
   "metadata": {
    "collapsed": false,
    "deletable": true,
    "editable": true
   },
   "outputs": [
    {
     "data": {
      "text/plain": [
       "'/home/b/Dropbox/data/USLCI/USLCI_Processes_ecospold1.zip'"
      ]
     },
     "execution_count": 18,
     "metadata": {},
     "output_type": "execute_result"
    }
   ],
   "source": [
    "US.ref"
   ]
  },
  {
   "cell_type": "code",
   "execution_count": 19,
   "metadata": {
    "collapsed": false,
    "deletable": true,
    "editable": true
   },
   "outputs": [
    {
     "data": {
      "text/plain": [
       "122"
      ]
     },
     "execution_count": 19,
     "metadata": {},
     "output_type": "execute_result"
    }
   ],
   "source": [
    "len(F._product_flows)"
   ]
  },
  {
   "cell_type": "code",
   "execution_count": 29,
   "metadata": {
    "collapsed": false
   },
   "outputs": [
    {
     "data": {
      "text/plain": [
       "2303"
      ]
     },
     "execution_count": 29,
     "metadata": {},
     "output_type": "execute_result"
    }
   ],
   "source": [
    "len(F._cutoff)"
   ]
  },
  {
   "cell_type": "code",
   "execution_count": 33,
   "metadata": {
    "collapsed": false
   },
   "outputs": [
    {
     "data": {
      "text/plain": [
       "defaultdict(set,\n",
       "            {('01728546-2342-34df-86b7-65fe9343aee2',\n",
       "              '00eb0c00-ddb6-36f3-bf16-c447f6cabcdb'): {<lcamatrix.foreground.ProductFlow at 0x7f4d795a6b00>},\n",
       "             ('01880cc7-8807-32a7-9007-81a80a1a91da',\n",
       "              '3c593e41-0e50-31ef-a566-ec11ea5643d3'): {<lcamatrix.foreground.ProductFlow at 0x7f4d79a33f28>},\n",
       "             ('065fa0d5-7072-33c1-8cb0-150567c907e3',\n",
       "              '8d485ea1-981d-3e56-aee8-eed19959bf97'): {<lcamatrix.foreground.ProductFlow at 0x7f4d79a1b9b0>,\n",
       "              <lcamatrix.foreground.ProductFlow at 0x7f4d79a1b160>,\n",
       "              <lcamatrix.foreground.ProductFlow at 0x7f4d79a1b940>,\n",
       "              <lcamatrix.foreground.ProductFlow at 0x7f4d798a6630>,\n",
       "              <lcamatrix.foreground.ProductFlow at 0x7f4d79a1ba20>,\n",
       "              <lcamatrix.foreground.ProductFlow at 0x7f4d79a33390>,\n",
       "              <lcamatrix.foreground.ProductFlow at 0x7f4d79a1bc18>,\n",
       "              <lcamatrix.foreground.ProductFlow at 0x7f4d79a33358>,\n",
       "              <lcamatrix.foreground.ProductFlow at 0x7f4d79a1b208>,\n",
       "              <lcamatrix.foreground.ProductFlow at 0x7f4d79a1bb70>,\n",
       "              <lcamatrix.foreground.ProductFlow at 0x7f4d798b57b8>,\n",
       "              <lcamatrix.foreground.ProductFlow at 0x7f4d79a1bc50>,\n",
       "              <lcamatrix.foreground.ProductFlow at 0x7f4d798b5fd0>,\n",
       "              <lcamatrix.foreground.ProductFlow at 0x7f4d79a1b240>,\n",
       "              <lcamatrix.foreground.ProductFlow at 0x7f4d79a1ba58>,\n",
       "              <lcamatrix.foreground.ProductFlow at 0x7f4d798b5f60>,\n",
       "              <lcamatrix.foreground.ProductFlow at 0x7f4d79a1bb00>,\n",
       "              <lcamatrix.foreground.ProductFlow at 0x7f4d79a1b278>,\n",
       "              <lcamatrix.foreground.ProductFlow at 0x7f4d798b5828>,\n",
       "              <lcamatrix.foreground.ProductFlow at 0x7f4d79a1b048>,\n",
       "              <lcamatrix.foreground.ProductFlow at 0x7f4d79bc29e8>,\n",
       "              <lcamatrix.foreground.ProductFlow at 0x7f4d79a1bbe0>,\n",
       "              <lcamatrix.foreground.ProductFlow at 0x7f4d798b5080>,\n",
       "              <lcamatrix.foreground.ProductFlow at 0x7f4d79a1b0b8>,\n",
       "              <lcamatrix.foreground.ProductFlow at 0x7f4d79a1bba8>,\n",
       "              <lcamatrix.foreground.ProductFlow at 0x7f4d79a33400>,\n",
       "              <lcamatrix.foreground.ProductFlow at 0x7f4d79a1bac8>,\n",
       "              <lcamatrix.foreground.ProductFlow at 0x7f4d79a1b198>,\n",
       "              <lcamatrix.foreground.ProductFlow at 0x7f4d79a33470>,\n",
       "              <lcamatrix.foreground.ProductFlow at 0x7f4d79a1bb38>,\n",
       "              <lcamatrix.foreground.ProductFlow at 0x7f4d798b5128>,\n",
       "              <lcamatrix.foreground.ProductFlow at 0x7f4d79a1ba90>,\n",
       "              <lcamatrix.foreground.ProductFlow at 0x7f4d79a1b080>,\n",
       "              <lcamatrix.foreground.ProductFlow at 0x7f4d79a33438>,\n",
       "              <lcamatrix.foreground.ProductFlow at 0x7f4d79a333c8>,\n",
       "              <lcamatrix.foreground.ProductFlow at 0x7f4d79a1bc88>,\n",
       "              <lcamatrix.foreground.ProductFlow at 0x7f4d795bd7b8>,\n",
       "              <lcamatrix.foreground.ProductFlow at 0x7f4d798b5ef0>,\n",
       "              <lcamatrix.foreground.ProductFlow at 0x7f4d79a1b128>},\n",
       "             ('095c5b40-2161-3d87-821c-96ae74e97491',\n",
       "              'ca5e5040-2f2d-327f-8403-7c8e1602d912'): {<lcamatrix.foreground.ProductFlow at 0x7f4d795a6390>},\n",
       "             ('09e9a749-f9b2-3073-a1a6-a11ea75cdd62',\n",
       "              '500719f8-0940-3ddd-bbd6-6ad3728e2e7b'): {<lcamatrix.foreground.ProductFlow at 0x7f4d79a33898>},\n",
       "             ('0af8b9ef-d32e-3526-8dba-a5d4185cf8f1',\n",
       "              'e436e12c-54a1-32e9-8d67-b5ab4b4af23c'): {<lcamatrix.foreground.ProductFlow at 0x7f4d79acd4e0>},\n",
       "             ('0f0df2e0-24f7-3087-b49c-33de6ff45a79',\n",
       "              '6f58811c-38d5-32bf-acb5-769d0437b45e'): {<lcamatrix.foreground.ProductFlow at 0x7f4d798b50f0>},\n",
       "             ('0f47e6ce-66b8-3ea2-9252-4d65cd8fc1df',\n",
       "              '53e6983c-283a-35e9-8bf7-c82635dab9f2'): {<lcamatrix.foreground.ProductFlow at 0x7f4da12e0668>},\n",
       "             ('107b83b6-e3b2-36fd-9bee-acfbb8e7d5cb',\n",
       "              '6c4d0cc9-5d95-3f93-9d4e-7fae33da6f80'): {<lcamatrix.foreground.ProductFlow at 0x7f4d79a33f60>},\n",
       "             ('10b80491-ff8b-3792-942b-010981e97723',\n",
       "              '63d99f33-8b59-375d-b5ec-56213ab32bd1'): {<lcamatrix.foreground.ProductFlow at 0x7f4d798b5f98>},\n",
       "             ('14b6987f-65d5-3625-9ac4-f358c7627a16',\n",
       "              '2324545a-4179-336b-aae4-c4efbb555ca7'): {<lcamatrix.foreground.ProductFlow at 0x7f4d795a6470>},\n",
       "             ('14d3f3e3-eadc-3c88-9533-db1dd9ad7191',\n",
       "              '966faa9d-595f-3621-b3c7-c76be1111012'): {<lcamatrix.foreground.ProductFlow at 0x7f4d79a338d0>},\n",
       "             ('205cf289-8edc-3079-8ee1-da972bd9cb78',\n",
       "              'a5f9cdb9-1248-39ab-b0fd-30ffc3714dda'): {<lcamatrix.foreground.ProductFlow at 0x7f4d79a33cf8>},\n",
       "             ('23faa4c9-5994-36d1-88bb-f928e1a07cd5',\n",
       "              '8e52aa18-de40-3eb7-8ecd-19625a8728ec'): {<lcamatrix.foreground.ProductFlow at 0x7f4d798a66a0>},\n",
       "             ('26886d10-37f0-300c-89c8-572916974359',\n",
       "              '789b2cae-c43d-35c0-9d28-60e204c8adc2'): {<lcamatrix.foreground.ProductFlow at 0x7f4d79a334e0>},\n",
       "             ('284f5c89-bab3-30a9-ac70-ea9ac8485fee',\n",
       "              '31e9a0c3-f682-395f-9eb1-2ed23265e1a7'): {<lcamatrix.foreground.ProductFlow at 0x7f4d79a33550>},\n",
       "             ('2af1163f-6620-3c09-b003-cb1fa98bca1e',\n",
       "              '4f012d64-077d-3b5c-ab57-9f7e2230654c'): {<lcamatrix.foreground.ProductFlow at 0x7f4d795a63c8>},\n",
       "             ('2e2cbdad-6907-3c09-a955-cd196c5c248d',\n",
       "              '8d61349c-4e57-3ff2-8c30-c4e1ffe6ae4f'): {<lcamatrix.foreground.ProductFlow at 0x7f4d798b57f0>},\n",
       "             ('2e886ba7-c946-3ccb-b86d-f40dc0de728a',\n",
       "              'd35851c2-399b-3691-9443-ec41e2c80d1c'): {<lcamatrix.foreground.ProductFlow at 0x7f4d798b5860>},\n",
       "             ('2facca74-a451-3c00-b214-cd6e5d0ceee0',\n",
       "              '9b4ca3b7-2490-3fbc-a1c0-daa6f20d6751'): {<lcamatrix.foreground.ProductFlow at 0x7f4d795a6ba8>},\n",
       "             ('301bb4eb-f24d-3098-bca2-f3b639e31e58',\n",
       "              '8463cdde-d0ed-3e6c-bd5d-538c49bf1aa5'): {<lcamatrix.foreground.ProductFlow at 0x7f4d79a33630>},\n",
       "             ('32af79de-7ef4-3b58-8a57-6fc042d314ba',\n",
       "              '6a329ccb-21c7-34bd-b8a8-df5b4f5b1e41'): {<lcamatrix.foreground.ProductFlow at 0x7f4d795a66a0>},\n",
       "             ('36bdc912-dde4-376f-82e1-f7682983cd24',\n",
       "              'd03f7438-0a80-3d23-b358-58f2127662a3'): {<lcamatrix.foreground.ProductFlow at 0x7f4d79acd518>},\n",
       "             ('48a2be61-ab93-3a51-a98b-2bafc2de4e6c',\n",
       "              'd139f6f9-39e3-3c31-ab7f-75bc0971bc12'): {<lcamatrix.foreground.ProductFlow at 0x7f4d79a33b00>},\n",
       "             ('49a0bf16-06d8-3656-a613-961a6d42b8fd',\n",
       "              '73c71f28-3a68-35db-8cec-51e3d33fc87e'): {<lcamatrix.foreground.ProductFlow at 0x7f4d79a33fd0>},\n",
       "             ('4b38efbf-63dd-39cd-922e-48f1da00ffb6',\n",
       "              '85daa759-f771-3fb2-b923-6333fe2b3b8c'): {<lcamatrix.foreground.ProductFlow at 0x7f4d79bc2978>},\n",
       "             ('51d92a19-e550-3000-b49b-e633137eac06',\n",
       "              '78c8b1e5-ca60-38b6-9a94-dde046560a38'): {<lcamatrix.foreground.ProductFlow at 0x7f4d795a6048>},\n",
       "             ('65c12f21-a9ec-3c6a-9d2f-f3ae6dc2757a',\n",
       "              'a772a5a1-29bd-3c91-b1ce-12bda22d2468'): {<lcamatrix.foreground.ProductFlow at 0x7f4d79a336a0>},\n",
       "             ('67f15392-92df-3ec5-b580-664a2fd39459',\n",
       "              '03c1e695-15d4-3cf3-bfca-7bed1fc28648'): {<lcamatrix.foreground.ProductFlow at 0x7f4d79a33cc0>},\n",
       "             ('693a5aac-ee75-3f75-b178-7cdf751c0ca7',\n",
       "              '2645b9cf-3bab-3aa6-b017-7a1d6552c909'): {<lcamatrix.foreground.ProductFlow at 0x7f4d795a6fd0>},\n",
       "             ('6a47537c-ae4b-3d50-a25f-b7d30104f563',\n",
       "              'bc5c991e-6119-36e2-911a-f1761bf3ca46'): {<lcamatrix.foreground.ProductFlow at 0x7f4d798a6668>},\n",
       "             ('6a759279-9330-3cef-a8c0-c7fe7757f240',\n",
       "              '41075a85-3308-3a78-b519-4cf18f97ed6e'): {<lcamatrix.foreground.ProductFlow at 0x7f4d79a33908>},\n",
       "             ('6a9be168-23c9-309c-a91d-b05cdd070812',\n",
       "              '03819638-4e28-3609-b8ca-2c9693300da0'): {<lcamatrix.foreground.ProductFlow at 0x7f4d798b50b8>},\n",
       "             ('6b653511-1f9f-3dd0-99e8-629d6c3ee1b8',\n",
       "              'd56496e3-1d4e-323c-8dc8-c5c276440a3d'): {<lcamatrix.foreground.ProductFlow at 0x7f4d798b5f28>},\n",
       "             ('6c87f55b-43ca-3aaf-b6ac-929fcb700394',\n",
       "              'fc5f7933-3a1b-3820-96ec-ef5722ff4ba3'): {<lcamatrix.foreground.ProductFlow at 0x7f4d79a334a8>},\n",
       "             ('6c97b0b4-c408-331a-aba8-240c1581dc10',\n",
       "              '90a36dee-4133-3252-91ad-29b672a23279'): {<lcamatrix.foreground.ProductFlow at 0x7f4d79a33588>},\n",
       "             ('6d2f271c-9808-328c-a515-cebed59966b1',\n",
       "              '00b9dc92-2388-37bb-8e74-e506699caf3b'): {<lcamatrix.foreground.ProductFlow at 0x7f4d795a6908>},\n",
       "             ('7046aa5a-764f-32b3-9aa9-5104bfe8ed28',\n",
       "              '9cd0405d-967c-3734-be23-0faef3478dff'): {<lcamatrix.foreground.ProductFlow at 0x7f4d79a1b0f0>},\n",
       "             ('71577ec6-e0d6-3291-977f-3af97a0f06e3',\n",
       "              'f883817e-cf6d-3e12-a58d-4396288c63f1'): {<lcamatrix.foreground.ProductFlow at 0x7f4d79a33710>},\n",
       "             ('7302213a-3437-3db1-bb9f-872f28b76aec',\n",
       "              '9ea04041-1f52-3db9-a006-a7635cd5a049'): {<lcamatrix.foreground.ProductFlow at 0x7f4d79a33518>},\n",
       "             ('743220db-5299-3973-aa66-89c728428420',\n",
       "              'fae0ceeb-d6ba-3d0f-b45f-809ce498b1f0'): {<lcamatrix.foreground.ProductFlow at 0x7f4d79a336d8>},\n",
       "             ('779c6b9d-45eb-3807-89cb-fc3bef72db2e',\n",
       "              '792754ee-254b-3c58-abe5-302ce167ba14'): {<lcamatrix.foreground.ProductFlow at 0x7f4d79acdda0>},\n",
       "             ('79b77875-57bf-3955-abb5-efa056124b95',\n",
       "              '94217ad3-f15f-395b-86b3-31b1962806be'): {<lcamatrix.foreground.ProductFlow at 0x7f4d795a6438>},\n",
       "             ('7d630c33-3d34-3c91-8e8a-864f017504f4',\n",
       "              'f3d79a94-a037-381d-aea5-19c50de7013a'): {<lcamatrix.foreground.ProductFlow at 0x7f4d795a6b70>},\n",
       "             ('807de7b8-5fe4-3517-8759-2dfb5fb49a39',\n",
       "              '70233bac-9119-3a08-bdb0-b2352161b9e9'): {<lcamatrix.foreground.ProductFlow at 0x7f4d795a66d8>},\n",
       "             ('8a915974-a9f0-3dbc-abb4-fa0b5b761f6b',\n",
       "              '26e4d9dc-e48f-3fdf-ae1b-80cb887ba735'): {<lcamatrix.foreground.ProductFlow at 0x7f4d79b5f048>},\n",
       "             ('8ce3ed46-4c37-31b5-964e-99b66736c111',\n",
       "              '8eda0a43-fac2-320f-896d-86d0ea55f649'): {<lcamatrix.foreground.ProductFlow at 0x7f4d795a6dd8>},\n",
       "             ('90cae27c-2bba-3881-8ddd-8c37eb636461',\n",
       "              'a74ba194-881c-3817-906d-dc6e0b061a77'): {<lcamatrix.foreground.ProductFlow at 0x7f4d79a1b1d0>},\n",
       "             ('994cad90-0006-34e9-a089-311876ea33df',\n",
       "              '15dcc17c-c487-3215-ab87-89acb30d0e37'): {<lcamatrix.foreground.ProductFlow at 0x7f4d79a33668>},\n",
       "             ('99dbd0d2-5ab3-3c84-a660-cb71b442e176',\n",
       "              '5aaa19b6-08f2-37ab-a3d8-5e2bcea60fe2'): {<lcamatrix.foreground.ProductFlow at 0x7f4d79a33c88>},\n",
       "             ('9c3458f3-8ac8-3e9a-8177-28c7650705ad',\n",
       "              'cf0d31bf-fd86-3a88-99c6-fc476d9b9d24'): {<lcamatrix.foreground.ProductFlow at 0x7f4d79acd550>},\n",
       "             ('9cc0ccce-8e33-35ca-a3c0-c7bb6c397e95',\n",
       "              'e19b7784-0d31-3c69-8d56-52f3080f9637'): {<lcamatrix.foreground.ProductFlow at 0x7f4d795a60b8>},\n",
       "             ('9ef18b8f-c549-38cd-850e-6b17dffcb503',\n",
       "              'abf2e7cd-c22f-3e28-bc11-da58d50b1b39'): {<lcamatrix.foreground.ProductFlow at 0x7f4d795a6710>},\n",
       "             ('a0c580d3-1794-3a90-9b54-d894e4731ec4',\n",
       "              'fdc71934-b8fd-3e50-af24-e69fc9628034'): {<lcamatrix.foreground.ProductFlow at 0x7f4d795a6128>},\n",
       "             ('a190e245-0e11-341f-a4cb-4366b393610a',\n",
       "              '39a3e54a-949e-356f-bfb8-30248a1696ab'): {<lcamatrix.foreground.ProductFlow at 0x7f4d795a6080>},\n",
       "             ('a3ff301e-ba19-3a16-9344-c783b746d5be',\n",
       "              '8b92f3c4-43c6-3f18-839a-d0721c142ceb'): {<lcamatrix.foreground.ProductFlow at 0x7f4d795a6940>},\n",
       "             ('a5885b32-6dcd-31ed-86e7-20f157bee79c',\n",
       "              '95fe40a9-8277-3cd7-a77d-2773df1d7026'): {<lcamatrix.foreground.ProductFlow at 0x7f4d79acddd8>},\n",
       "             ('a944cdc3-1885-3886-9ab0-bd78dd5eeea1',\n",
       "              'cec697c9-3384-337c-a45c-48ebea09443b'): {<lcamatrix.foreground.ProductFlow at 0x7f4d79a33f98>},\n",
       "             ('ab9a78bf-80ee-3e87-a316-932a324d2077',\n",
       "              '8b4a6a0a-589e-37f0-9690-62b57760a57b'): {<lcamatrix.foreground.ProductFlow at 0x7f4d795a6160>},\n",
       "             ('aeef9be6-bd32-3720-9a01-297fb6161c2d',\n",
       "              'f2886596-0c9a-3634-af67-de2fc08ebeca'): {<lcamatrix.foreground.ProductFlow at 0x7f4d795a6e10>},\n",
       "             ('b196993e-520d-3996-94d4-a89a1bafe305',\n",
       "              'd4b20099-8598-3fa7-8f61-b7187f4134ee'): {<lcamatrix.foreground.ProductFlow at 0x7f4d79a335c0>},\n",
       "             ('b2e810ca-570f-310c-8045-6a86ad48f830',\n",
       "              '7f8d200c-caa3-362f-9ab4-a4b6c1525db5'): {<lcamatrix.foreground.ProductFlow at 0x7f4d795a6da0>},\n",
       "             ('bbdd5adc-2197-392d-b77a-d1277795f8fa',\n",
       "              '0518489a-d7bb-394a-9ad0-aa1f99d27a6e'): {<lcamatrix.foreground.ProductFlow at 0x7f4d79b5f3c8>},\n",
       "             ('c1a0e4ef-15a5-335f-b963-e748e1d83e09',\n",
       "              'e47baf5a-a508-3327-966c-37f8463e6b0b'): {<lcamatrix.foreground.ProductFlow at 0x7f4d79b5f208>},\n",
       "             ('c3d9a296-e8ac-3b46-965f-56821d1e1371',\n",
       "              '93bedc99-e991-32cc-83ac-76e14720b1d9'): {<lcamatrix.foreground.ProductFlow at 0x7f4d795a61d0>},\n",
       "             ('c4a9b921-497b-37f7-bb9c-62f5b4cad5b4',\n",
       "              'f09ddf7a-246a-3c83-83ab-359835d112b9'): {<lcamatrix.foreground.ProductFlow at 0x7f4d79b5f438>},\n",
       "             ('c884cdbd-365f-38fb-ade6-f896949483f8',\n",
       "              '9fd0f050-0412-3f7e-8e8c-cbb3855c4b5b'): {<lcamatrix.foreground.ProductFlow at 0x7f4d79a33d30>},\n",
       "             ('c8a0341a-ad0a-39b6-b16d-b8cb674c6c1c',\n",
       "              '9a748d43-3699-341d-aec1-0d19627c317a'): {<lcamatrix.foreground.ProductFlow at 0x7f4d795a6400>},\n",
       "             ('c8fa000e-90d0-3923-a0df-f65ded0de46b',\n",
       "              '5e68f1fb-2737-3177-8778-5eeda4a58961'): {<lcamatrix.foreground.ProductFlow at 0x7f4d795a68d0>},\n",
       "             ('d215f8f6-68b6-34ca-8abf-9fa421a0b2ea',\n",
       "              '09ca66af-d118-3e5b-8327-1ab01a13d6ed'): {<lcamatrix.foreground.ProductFlow at 0x7f4d79a33940>},\n",
       "             ('d3937d04-5d84-33e8-ab5c-d9ee8f958677',\n",
       "              '5d455821-ca54-392f-8b9b-94ceaf6a45ac'): {<lcamatrix.foreground.ProductFlow at 0x7f4d795a6e48>},\n",
       "             ('deca876f-5cfd-3139-94f1-8db9ad41f3e7',\n",
       "              '28afd7cc-180b-37d1-a672-4008a44f2bc3'): {<lcamatrix.foreground.ProductFlow at 0x7f4d79b5f390>},\n",
       "             ('e06695f0-e2a4-3472-bdda-0b91fcf4e138',\n",
       "              'f2e2a36e-c521-351a-b80a-f2b63adff9de'): {<lcamatrix.foreground.ProductFlow at 0x7f4d795a60f0>},\n",
       "             ('e27da3e8-1334-326e-8621-afdb659dcb76',\n",
       "              '107d7014-c367-369f-8772-91e97e7c827b'): {<lcamatrix.foreground.ProductFlow at 0x7f4d79b5f080>},\n",
       "             ('e2e6a6a8-590a-30d1-a55f-9fcd680ccbca',\n",
       "              '7018a573-85a5-3c7f-ba4a-360c538d4699'): {<lcamatrix.foreground.ProductFlow at 0x7f4d79acde10>},\n",
       "             ('ea7ec7b7-3d5a-3120-b55a-7efa0963ccf8',\n",
       "              '138241ee-0d3f-3d5e-99f6-ac3385254784'): {<lcamatrix.foreground.ProductFlow at 0x7f4d795a6b38>},\n",
       "             ('ee40f8f6-3ff3-3f26-8406-63991831e9e8',\n",
       "              '5f29d276-e44f-3294-bd25-768390dc5c56'): {<lcamatrix.foreground.ProductFlow at 0x7f4d79a335f8>},\n",
       "             ('f11c6b9a-6c1c-33e1-a4c2-94ef00976284',\n",
       "              'beb340ab-288b-36ea-bce8-ce57705817f9'): {<lcamatrix.foreground.ProductFlow at 0x7f4d79a1b2b0>},\n",
       "             ('f4a21d66-0f92-395e-b3f2-8a802566de1f',\n",
       "              '0079c6f4-c3e6-365c-b080-df2dde1083be'): {<lcamatrix.foreground.ProductFlow at 0x7f4d795a6198>},\n",
       "             ('f57993c7-923f-3a8a-a336-89d64f0ed9db',\n",
       "              'f621989a-c280-38f1-95a8-fa601eaa4279'): {<lcamatrix.foreground.ProductFlow at 0x7f4d79a33978>},\n",
       "             ('f6719e8f-bc61-3427-a11d-3c2c5a5115e2',\n",
       "              'd2765cd0-a642-3d81-8fb7-e0a39b2126a3'): {<lcamatrix.foreground.ProductFlow at 0x7f4d795a64a8>},\n",
       "             ('fa9b848c-2970-3651-8e5f-e4fe4d95b15c',\n",
       "              'b93690d4-f3f5-3b2d-9337-acb31fe7809d'): {<lcamatrix.foreground.ProductFlow at 0x7f4d79a1b978>},\n",
       "             ('fef63e19-4293-307d-974d-53e14dfd1403',\n",
       "              '4800c4e4-68db-39a2-ac6c-f80ac64ff4b6'): {<lcamatrix.foreground.ProductFlow at 0x7f4d79b5f400>},\n",
       "             ('ffdd259b-3f50-3010-af24-f60f3b89770e',\n",
       "              '3dd5dd73-0df0-3b10-bc95-f370393c3734'): {<lcamatrix.foreground.ProductFlow at 0x7f4d79a1b9e8>}})"
      ]
     },
     "execution_count": 33,
     "metadata": {},
     "output_type": "execute_result"
    }
   ],
   "source": [
    "F.tstack._sccs"
   ]
  },
  {
   "cell_type": "code",
   "execution_count": 43,
   "metadata": {
    "collapsed": false
   },
   "outputs": [],
   "source": [
    "sccs = list(F.tstack.sccs)"
   ]
  },
  {
   "cell_type": "code",
   "execution_count": 44,
   "metadata": {
    "collapsed": false
   },
   "outputs": [
    {
     "data": {
      "text/plain": [
       "84"
      ]
     },
     "execution_count": 44,
     "metadata": {},
     "output_type": "execute_result"
    }
   ],
   "source": [
    "len(sccs)"
   ]
  },
  {
   "cell_type": "code",
   "execution_count": 53,
   "metadata": {
    "collapsed": false
   },
   "outputs": [
    {
     "data": {
      "text/plain": [
       "122"
      ]
     },
     "execution_count": 53,
     "metadata": {},
     "output_type": "execute_result"
    }
   ],
   "source": [
    "len(F._product_flows)"
   ]
  },
  {
   "cell_type": "code",
   "execution_count": 57,
   "metadata": {
    "collapsed": false
   },
   "outputs": [
    {
     "data": {
      "text/plain": [
       "{<lcamatrix.foreground.ProductFlow at 0x7f4d79bc2978>: 0,\n",
       " <lcamatrix.foreground.ProductFlow at 0x7f4d795bd7b8>: 1,\n",
       " <lcamatrix.foreground.ProductFlow at 0x7f4d79bc29e8>: 2,\n",
       " <lcamatrix.foreground.ProductFlow at 0x7f4d798a6630>: 3,\n",
       " <lcamatrix.foreground.ProductFlow at 0x7f4d798b5080>: 4,\n",
       " <lcamatrix.foreground.ProductFlow at 0x7f4d798b5128>: 5,\n",
       " <lcamatrix.foreground.ProductFlow at 0x7f4d798b57b8>: 6,\n",
       " <lcamatrix.foreground.ProductFlow at 0x7f4d798b5828>: 7,\n",
       " <lcamatrix.foreground.ProductFlow at 0x7f4d798b5ef0>: 8,\n",
       " <lcamatrix.foreground.ProductFlow at 0x7f4d798b5f60>: 9,\n",
       " <lcamatrix.foreground.ProductFlow at 0x7f4d798b5fd0>: 10,\n",
       " <lcamatrix.foreground.ProductFlow at 0x7f4d79a1b080>: 11,\n",
       " <lcamatrix.foreground.ProductFlow at 0x7f4d79a1b0b8>: 12,\n",
       " <lcamatrix.foreground.ProductFlow at 0x7f4d79a1b128>: 13,\n",
       " <lcamatrix.foreground.ProductFlow at 0x7f4d79a1b198>: 14,\n",
       " <lcamatrix.foreground.ProductFlow at 0x7f4d79a1b208>: 15,\n",
       " <lcamatrix.foreground.ProductFlow at 0x7f4d79a1b278>: 16,\n",
       " <lcamatrix.foreground.ProductFlow at 0x7f4d79a1b940>: 17,\n",
       " <lcamatrix.foreground.ProductFlow at 0x7f4d79a1b9b0>: 18,\n",
       " <lcamatrix.foreground.ProductFlow at 0x7f4d79a1ba20>: 19,\n",
       " <lcamatrix.foreground.ProductFlow at 0x7f4d79a1ba90>: 20,\n",
       " <lcamatrix.foreground.ProductFlow at 0x7f4d79a1bb00>: 21,\n",
       " <lcamatrix.foreground.ProductFlow at 0x7f4d79a1bb70>: 22,\n",
       " <lcamatrix.foreground.ProductFlow at 0x7f4d79a1bba8>: 23,\n",
       " <lcamatrix.foreground.ProductFlow at 0x7f4d79a1bbe0>: 24,\n",
       " <lcamatrix.foreground.ProductFlow at 0x7f4d79a1bc50>: 25,\n",
       " <lcamatrix.foreground.ProductFlow at 0x7f4d79a33358>: 26,\n",
       " <lcamatrix.foreground.ProductFlow at 0x7f4d79a333c8>: 27,\n",
       " <lcamatrix.foreground.ProductFlow at 0x7f4d79a33400>: 28,\n",
       " <lcamatrix.foreground.ProductFlow at 0x7f4d79a33390>: 29,\n",
       " <lcamatrix.foreground.ProductFlow at 0x7f4d79a1ba58>: 30,\n",
       " <lcamatrix.foreground.ProductFlow at 0x7f4d79a1bb38>: 31,\n",
       " <lcamatrix.foreground.ProductFlow at 0x7f4d79a1bc88>: 32,\n",
       " <lcamatrix.foreground.ProductFlow at 0x7f4d79a1bac8>: 33,\n",
       " <lcamatrix.foreground.ProductFlow at 0x7f4d79a1bc18>: 34,\n",
       " <lcamatrix.foreground.ProductFlow at 0x7f4d79a33470>: 35,\n",
       " <lcamatrix.foreground.ProductFlow at 0x7f4d79a33438>: 36,\n",
       " <lcamatrix.foreground.ProductFlow at 0x7f4d79a1b240>: 37,\n",
       " <lcamatrix.foreground.ProductFlow at 0x7f4d79a1b160>: 38,\n",
       " <lcamatrix.foreground.ProductFlow at 0x7f4d79a1b048>: 39,\n",
       " <lcamatrix.foreground.ProductFlow at 0x7f4da12e0668>: 40,\n",
       " <lcamatrix.foreground.ProductFlow at 0x7f4d798a66a0>: 41,\n",
       " <lcamatrix.foreground.ProductFlow at 0x7f4d798a6668>: 42,\n",
       " <lcamatrix.foreground.ProductFlow at 0x7f4d798b50f0>: 43,\n",
       " <lcamatrix.foreground.ProductFlow at 0x7f4d798b57f0>: 44,\n",
       " <lcamatrix.foreground.ProductFlow at 0x7f4d798b5860>: 45,\n",
       " <lcamatrix.foreground.ProductFlow at 0x7f4d798b5f98>: 46,\n",
       " <lcamatrix.foreground.ProductFlow at 0x7f4d798b5f28>: 47,\n",
       " <lcamatrix.foreground.ProductFlow at 0x7f4d79a1b0f0>: 48,\n",
       " <lcamatrix.foreground.ProductFlow at 0x7f4d79a1b1d0>: 49,\n",
       " <lcamatrix.foreground.ProductFlow at 0x7f4d79a1b2b0>: 50,\n",
       " <lcamatrix.foreground.ProductFlow at 0x7f4d79a1b978>: 51,\n",
       " <lcamatrix.foreground.ProductFlow at 0x7f4d79a1b9e8>: 52,\n",
       " <lcamatrix.foreground.ProductFlow at 0x7f4d798b50b8>: 53,\n",
       " <lcamatrix.foreground.ProductFlow at 0x7f4d79a334e0>: 54,\n",
       " <lcamatrix.foreground.ProductFlow at 0x7f4d79a33550>: 55,\n",
       " <lcamatrix.foreground.ProductFlow at 0x7f4d79a33588>: 56,\n",
       " <lcamatrix.foreground.ProductFlow at 0x7f4d79a335c0>: 57,\n",
       " <lcamatrix.foreground.ProductFlow at 0x7f4d79a33630>: 58,\n",
       " <lcamatrix.foreground.ProductFlow at 0x7f4d79a335f8>: 59,\n",
       " <lcamatrix.foreground.ProductFlow at 0x7f4d79a334a8>: 60,\n",
       " <lcamatrix.foreground.ProductFlow at 0x7f4d79a33668>: 61,\n",
       " <lcamatrix.foreground.ProductFlow at 0x7f4d79a33518>: 62,\n",
       " <lcamatrix.foreground.ProductFlow at 0x7f4d79a336a0>: 63,\n",
       " <lcamatrix.foreground.ProductFlow at 0x7f4d79a33898>: 64,\n",
       " <lcamatrix.foreground.ProductFlow at 0x7f4d79a338d0>: 65,\n",
       " <lcamatrix.foreground.ProductFlow at 0x7f4d79a33908>: 66,\n",
       " <lcamatrix.foreground.ProductFlow at 0x7f4d79a33940>: 67,\n",
       " <lcamatrix.foreground.ProductFlow at 0x7f4d79a33710>: 68,\n",
       " <lcamatrix.foreground.ProductFlow at 0x7f4d79a33978>: 69,\n",
       " <lcamatrix.foreground.ProductFlow at 0x7f4d79a336d8>: 70,\n",
       " <lcamatrix.foreground.ProductFlow at 0x7f4d79a33b00>: 71,\n",
       " <lcamatrix.foreground.ProductFlow at 0x7f4d79a33cf8>: 72,\n",
       " <lcamatrix.foreground.ProductFlow at 0x7f4d79a33f28>: 73,\n",
       " <lcamatrix.foreground.ProductFlow at 0x7f4d79a33f98>: 74,\n",
       " <lcamatrix.foreground.ProductFlow at 0x7f4d79a33f60>: 75,\n",
       " <lcamatrix.foreground.ProductFlow at 0x7f4d79a33fd0>: 76,\n",
       " <lcamatrix.foreground.ProductFlow at 0x7f4d795a6048>: 77,\n",
       " <lcamatrix.foreground.ProductFlow at 0x7f4d795a60b8>: 78,\n",
       " <lcamatrix.foreground.ProductFlow at 0x7f4d795a6128>: 79,\n",
       " <lcamatrix.foreground.ProductFlow at 0x7f4d795a6160>: 80,\n",
       " <lcamatrix.foreground.ProductFlow at 0x7f4d795a6198>: 81,\n",
       " <lcamatrix.foreground.ProductFlow at 0x7f4d795a6080>: 82,\n",
       " <lcamatrix.foreground.ProductFlow at 0x7f4d795a60f0>: 83,\n",
       " <lcamatrix.foreground.ProductFlow at 0x7f4d79a33d30>: 84,\n",
       " <lcamatrix.foreground.ProductFlow at 0x7f4d795a6390>: 85,\n",
       " <lcamatrix.foreground.ProductFlow at 0x7f4d795a63c8>: 86,\n",
       " <lcamatrix.foreground.ProductFlow at 0x7f4d795a6400>: 87,\n",
       " <lcamatrix.foreground.ProductFlow at 0x7f4d795a6470>: 88,\n",
       " <lcamatrix.foreground.ProductFlow at 0x7f4d79a33cc0>: 89,\n",
       " <lcamatrix.foreground.ProductFlow at 0x7f4d795a6438>: 90,\n",
       " <lcamatrix.foreground.ProductFlow at 0x7f4d795a66a0>: 91,\n",
       " <lcamatrix.foreground.ProductFlow at 0x7f4d795a66d8>: 92,\n",
       " <lcamatrix.foreground.ProductFlow at 0x7f4d795a64a8>: 93,\n",
       " <lcamatrix.foreground.ProductFlow at 0x7f4d795a68d0>: 94,\n",
       " <lcamatrix.foreground.ProductFlow at 0x7f4d795a61d0>: 95,\n",
       " <lcamatrix.foreground.ProductFlow at 0x7f4d795a6908>: 96,\n",
       " <lcamatrix.foreground.ProductFlow at 0x7f4d795a6b00>: 97,\n",
       " <lcamatrix.foreground.ProductFlow at 0x7f4d795a6b38>: 98,\n",
       " <lcamatrix.foreground.ProductFlow at 0x7f4d795a6ba8>: 99,\n",
       " <lcamatrix.foreground.ProductFlow at 0x7f4d795a6940>: 100,\n",
       " <lcamatrix.foreground.ProductFlow at 0x7f4d795a6da0>: 101,\n",
       " <lcamatrix.foreground.ProductFlow at 0x7f4d79a33c88>: 102,\n",
       " <lcamatrix.foreground.ProductFlow at 0x7f4d795a6b70>: 103,\n",
       " <lcamatrix.foreground.ProductFlow at 0x7f4d795a6710>: 104,\n",
       " <lcamatrix.foreground.ProductFlow at 0x7f4d795a6dd8>: 105,\n",
       " <lcamatrix.foreground.ProductFlow at 0x7f4d795a6fd0>: 106,\n",
       " <lcamatrix.foreground.ProductFlow at 0x7f4d79b5f048>: 107,\n",
       " <lcamatrix.foreground.ProductFlow at 0x7f4d795a6e48>: 108,\n",
       " <lcamatrix.foreground.ProductFlow at 0x7f4d79b5f080>: 109,\n",
       " <lcamatrix.foreground.ProductFlow at 0x7f4d795a6e10>: 110,\n",
       " <lcamatrix.foreground.ProductFlow at 0x7f4d79b5f208>: 111,\n",
       " <lcamatrix.foreground.ProductFlow at 0x7f4d79b5f3c8>: 112,\n",
       " <lcamatrix.foreground.ProductFlow at 0x7f4d79b5f438>: 113,\n",
       " <lcamatrix.foreground.ProductFlow at 0x7f4d79b5f390>: 114,\n",
       " <lcamatrix.foreground.ProductFlow at 0x7f4d79b5f400>: 115,\n",
       " <lcamatrix.foreground.ProductFlow at 0x7f4d79acd4e0>: 116,\n",
       " <lcamatrix.foreground.ProductFlow at 0x7f4d79acd518>: 117,\n",
       " <lcamatrix.foreground.ProductFlow at 0x7f4d79acdda0>: 118,\n",
       " <lcamatrix.foreground.ProductFlow at 0x7f4d79acd550>: 119,\n",
       " <lcamatrix.foreground.ProductFlow at 0x7f4d79acddd8>: 120,\n",
       " <lcamatrix.foreground.ProductFlow at 0x7f4d79acde10>: 121}"
      ]
     },
     "execution_count": 57,
     "metadata": {},
     "output_type": "execute_result"
    }
   ],
   "source": [
    "F._product_flows"
   ]
  },
  {
   "cell_type": "code",
   "execution_count": 69,
   "metadata": {
    "collapsed": false
   },
   "outputs": [],
   "source": [
    "i = 0\n",
    "f = 0\n",
    "for pf, ll in F._lowlink.items():\n",
    "    i += 1\n",
    "    if F.index(pf) != ll:\n",
    "        f += 1\n"
   ]
  },
  {
   "cell_type": "code",
   "execution_count": null,
   "metadata": {
    "collapsed": true
   },
   "outputs": [],
   "source": []
  },
  {
   "cell_type": "code",
   "execution_count": 66,
   "metadata": {
    "collapsed": false
   },
   "outputs": [
    {
     "data": {
      "text/plain": [
       "0"
      ]
     },
     "execution_count": 66,
     "metadata": {},
     "output_type": "execute_result"
    }
   ],
   "source": [
    "F.index(ig[0][0])"
   ]
  },
  {
   "cell_type": "code",
   "execution_count": 35,
   "metadata": {
    "collapsed": false,
    "deletable": true,
    "editable": true
   },
   "outputs": [
    {
     "data": {
      "text/plain": [
       "39"
      ]
     },
     "execution_count": 35,
     "metadata": {},
     "output_type": "execute_result"
    }
   ],
   "source": [
    "len(SCC)"
   ]
  },
  {
   "cell_type": "code",
   "execution_count": 39,
   "metadata": {
    "collapsed": false,
    "deletable": true,
    "editable": true
   },
   "outputs": [
    {
     "data": {
      "text/plain": [
       "['Bituminous coal, at mine [RNA]',\n",
       " 'Bituminous coal, combusted in industrial boiler [RNA]',\n",
       " 'Crude oil, at production [RNA]',\n",
       " 'Crude oil, in refinery [RNA]',\n",
       " 'Crude oil, in refinery [RNA]',\n",
       " 'Crude oil, in refinery [RNA]',\n",
       " 'Crude oil, in refinery [RNA]',\n",
       " 'Diesel, combusted in industrial boiler [RNA]',\n",
       " 'Diesel, combusted in industrial equipment [RNA]',\n",
       " 'Electricity, at Grid, US, 2008 [RNA]',\n",
       " 'Electricity, at grid, US, 2000 [RNA]',\n",
       " 'Electricity, biomass, at power plant [RNA]',\n",
       " 'Electricity, bituminous coal, at power plant [RNA]',\n",
       " 'Electricity, diesel, at power plant [RNA]',\n",
       " 'Electricity, lignite coal, at power plant [RNA]',\n",
       " 'Electricity, natural gas, at power plant [RNA]',\n",
       " 'Electricity, nuclear, at power plant [RNA]',\n",
       " 'Electricity, residual fuel oil, at power plant [RNA]',\n",
       " 'Fuel grade uranium, at regional storage [RNA]',\n",
       " 'Gasoline, combusted in equipment [RNA]',\n",
       " 'Lignite coal, at surface mine [RNA]',\n",
       " 'Lignite coal, combusted in industrial boiler [RNA]',\n",
       " 'Liquefied petroleum gas, combusted in industrial boiler [RNA]',\n",
       " 'Natural gas, combusted in industrial boiler [RNA]',\n",
       " 'Natural gas, combusted in industrial equipment [RNA]',\n",
       " 'Natural gas, extracted [RNA]',\n",
       " 'Natural gas, processed, at plant [RNA]',\n",
       " 'Residual fuel oil, combusted in industrial boiler [RNA]',\n",
       " 'Transport, barge, average fuel mix [RNA]',\n",
       " 'Transport, barge, diesel powered [RNA]',\n",
       " 'Transport, barge, residual fuel oil powered [RNA]',\n",
       " 'Transport, combination truck, average fuel mix [RNA]',\n",
       " 'Transport, combination truck, diesel powered [RNA]',\n",
       " 'Transport, ocean freighter, average fuel mix [US]',\n",
       " 'Transport, ocean freighter, diesel powered [US]',\n",
       " 'Transport, ocean freighter, residual fuel oil powered [US]',\n",
       " 'Transport, pipeline, natural gas [RNA]',\n",
       " 'Transport, pipeline, unspecified petroleum products [RNA]',\n",
       " 'Transport, train, diesel powered [RNA]']"
      ]
     },
     "execution_count": 39,
     "metadata": {},
     "output_type": "execute_result"
    }
   ],
   "source": [
    "sorted([str(k._process) for k in SCC])"
   ]
  },
  {
   "cell_type": "code",
   "execution_count": 19,
   "metadata": {
    "collapsed": false,
    "deletable": true,
    "editable": true
   },
   "outputs": [
    {
     "data": {
      "text/plain": [
       "84"
      ]
     },
     "execution_count": 19,
     "metadata": {},
     "output_type": "execute_result"
    }
   ],
   "source": [
    "len(F.sccs)"
   ]
  },
  {
   "cell_type": "code",
   "execution_count": 25,
   "metadata": {
    "collapsed": false,
    "deletable": true,
    "editable": true
   },
   "outputs": [
    {
     "data": {
      "text/plain": [
       "2303"
      ]
     },
     "execution_count": 25,
     "metadata": {},
     "output_type": "execute_result"
    }
   ],
   "source": [
    "len(F._cutoff)"
   ]
  },
  {
   "cell_type": "code",
   "execution_count": 88,
   "metadata": {
    "collapsed": false
   },
   "outputs": [],
   "source": [
    "import scipy as sp"
   ]
  },
  {
   "cell_type": "code",
   "execution_count": 91,
   "metadata": {
    "collapsed": false
   },
   "outputs": [
    {
     "ename": "NameError",
     "evalue": "name 'SCC' is not defined",
     "output_type": "error",
     "traceback": [
      "\u001b[0;31m---------------------------------------------------------------------------\u001b[0m",
      "\u001b[0;31mNameError\u001b[0m                                 Traceback (most recent call last)",
      "\u001b[0;32m<ipython-input-91-2ff97a497c8c>\u001b[0m in \u001b[0;36m<module>\u001b[0;34m()\u001b[0m\n\u001b[0;32m----> 1\u001b[0;31m \u001b[0mSCC\u001b[0m\u001b[0;34m\u001b[0m\u001b[0m\n\u001b[0m",
      "\u001b[0;31mNameError\u001b[0m: name 'SCC' is not defined"
     ]
    }
   ],
   "source": []
  }
 ],
 "metadata": {
  "kernelspec": {
   "display_name": "Python 3",
   "language": "python",
   "name": "python3"
  },
  "language_info": {
   "codemirror_mode": {
    "name": "ipython",
    "version": 3
   },
   "file_extension": ".py",
   "mimetype": "text/x-python",
   "name": "python",
   "nbconvert_exporter": "python",
   "pygments_lexer": "ipython3",
   "version": "3.6.0"
  }
 },
 "nbformat": 4,
 "nbformat_minor": 0
}

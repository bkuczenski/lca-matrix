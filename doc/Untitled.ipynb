{
 "cells": [
  {
   "cell_type": "code",
   "execution_count": 1,
   "metadata": {
    "collapsed": true
   },
   "outputs": [],
   "source": [
    "import sys\n",
    "sys.path.append('/data/GitHub/lca-tools/')\n",
    "import lcatools"
   ]
  },
  {
   "cell_type": "code",
   "execution_count": 2,
   "metadata": {
    "collapsed": true
   },
   "outputs": [],
   "source": [
    "from lcatools.providers.ecospold2 import EcospoldV2Archive"
   ]
  },
  {
   "cell_type": "code",
   "execution_count": 3,
   "metadata": {
    "collapsed": true
   },
   "outputs": [],
   "source": [
    "U = EcospoldV2Archive('/data/LCI/Ecoinvent/3.2/undefined', prefix='datasets - public')"
   ]
  },
  {
   "cell_type": "code",
   "execution_count": 4,
   "metadata": {
    "collapsed": false
   },
   "outputs": [
    {
     "name": "stdout",
     "output_type": "stream",
     "text": [
      "Loading /data/LCI/Ecoinvent/3.2/undefined\n",
      " Loaded 100 processes (t=0.65 s)\n",
      " Loaded 200 processes (t=1.14 s)\n",
      "  !!XMLSyntaxError-- trying to escape < and > signs\n",
      " Loaded 300 processes (t=2.28 s)\n",
      " Loaded 400 processes (t=3.03 s)\n",
      " Loaded 500 processes (t=3.62 s)\n",
      " Loaded 600 processes (t=4.24 s)\n",
      " Loaded 700 processes (t=4.81 s)\n",
      " Loaded 800 processes (t=5.37 s)\n",
      "  !!XMLSyntaxError-- trying to escape < and > signs\n",
      " Loaded 900 processes (t=6.09 s)\n",
      " Loaded 1000 processes (t=6.58 s)\n",
      " Loaded 1100 processes (t=7.02 s)\n",
      " Loaded 1200 processes (t=7.49 s)\n",
      " Loaded 1300 processes (t=8.09 s)\n",
      " Loaded 1400 processes (t=8.59 s)\n",
      " Loaded 1500 processes (t=9.02 s)\n",
      " Loaded 1600 processes (t=9.61 s)\n",
      " Loaded 1700 processes (t=10.17 s)\n",
      " Loaded 1800 processes (t=10.68 s)\n",
      " Loaded 1900 processes (t=11.10 s)\n",
      "  !!XMLSyntaxError-- trying to escape < and > signs\n",
      "  !!XMLSyntaxError-- trying to escape < and > signs\n",
      " Loaded 2000 processes (t=12.09 s)\n",
      "  !!XMLSyntaxError-- trying to escape < and > signs\n",
      " Loaded 2100 processes (t=12.91 s)\n",
      " Loaded 2200 processes (t=13.49 s)\n",
      "  !!XMLSyntaxError-- trying to escape < and > signs\n",
      " Loaded 2300 processes (t=14.46 s)\n",
      " Loaded 2400 processes (t=15.02 s)\n",
      " Loaded 2500 processes (t=15.59 s)\n",
      "  !!XMLSyntaxError-- trying to escape < and > signs\n",
      " Loaded 2600 processes (t=16.41 s)\n",
      "  !!XMLSyntaxError-- trying to escape < and > signs\n",
      " Loaded 2700 processes (t=17.13 s)\n",
      " Loaded 2800 processes (t=17.48 s)\n",
      " Loaded 2900 processes (t=18.28 s)\n",
      " Loaded 3000 processes (t=18.76 s)\n",
      "  !!XMLSyntaxError-- trying to escape < and > signs\n",
      " Loaded 3100 processes (t=19.52 s)\n",
      " Loaded 3200 processes (t=20.25 s)\n",
      " Loaded 3300 processes (t=20.88 s)\n",
      "  !!XMLSyntaxError-- trying to escape < and > signs\n",
      " Loaded 3400 processes (t=21.73 s)\n",
      " Loaded 3500 processes (t=22.19 s)\n",
      " Loaded 3600 processes (t=22.71 s)\n",
      " Loaded 3700 processes (t=23.20 s)\n",
      " Loaded 3800 processes (t=23.78 s)\n",
      " Loaded 3900 processes (t=24.26 s)\n",
      " Loaded 4000 processes (t=24.71 s)\n",
      "  !!XMLSyntaxError-- trying to escape < and > signs\n",
      " Loaded 4100 processes (t=25.53 s)\n",
      "  !!XMLSyntaxError-- trying to escape < and > signs\n",
      " Loaded 4200 processes (t=26.12 s)\n",
      " Loaded 4300 processes (t=26.72 s)\n",
      " Loaded 4400 processes (t=27.31 s)\n",
      " Loaded 4500 processes (t=27.82 s)\n",
      " Loaded 4600 processes (t=28.45 s)\n",
      "  !!XMLSyntaxError-- trying to escape < and > signs\n",
      " Loaded 4700 processes (t=29.13 s)\n",
      " Loaded 4800 processes (t=29.61 s)\n",
      " Loaded 4900 processes (t=30.27 s)\n",
      " Loaded 5000 processes (t=30.77 s)\n",
      "  !!XMLSyntaxError-- trying to escape < and > signs\n",
      " Loaded 5100 processes (t=31.50 s)\n",
      " Loaded 5200 processes (t=32.10 s)\n",
      " Loaded 5300 processes (t=32.86 s)\n",
      " Loaded 5400 processes (t=33.53 s)\n",
      " Loaded 5500 processes (t=34.13 s)\n",
      " Loaded 5600 processes (t=34.77 s)\n",
      " Loaded 5700 processes (t=35.42 s)\n",
      " Loaded 5800 processes (t=35.97 s)\n",
      " Loaded 5900 processes (t=36.55 s)\n",
      " Loaded 6000 processes (t=37.12 s)\n",
      " Loaded 6100 processes (t=37.69 s)\n",
      " Loaded 6200 processes (t=38.13 s)\n",
      "  !!XMLSyntaxError-- trying to escape < and > signs\n",
      "  !!XMLSyntaxError-- trying to escape < and > signs\n",
      " Loaded 6300 processes (t=38.98 s)\n",
      " Loaded 6400 processes (t=39.39 s)\n",
      "  !!XMLSyntaxError-- trying to escape < and > signs\n",
      " Loaded 6500 processes (t=40.03 s)\n",
      "  !!XMLSyntaxError-- trying to escape < and > signs\n",
      " Loaded 6600 processes (t=40.70 s)\n",
      " Loaded 6700 processes (t=41.14 s)\n",
      " Loaded 6800 processes (t=41.61 s)\n",
      " Loaded 6900 processes (t=42.31 s)\n",
      "  !!XMLSyntaxError-- trying to escape < and > signs\n",
      " Loaded 7000 processes (t=43.40 s)\n",
      " Loaded 7100 processes (t=43.94 s)\n",
      " Loaded 7200 processes (t=44.43 s)\n",
      " Loaded 7300 processes (t=45.07 s)\n",
      " Loaded 7400 processes (t=45.52 s)\n",
      " Loaded 7500 processes (t=46.01 s)\n",
      "  !!XMLSyntaxError-- trying to escape < and > signs\n",
      "  !!XMLSyntaxError-- trying to escape < and > signs\n",
      " Loaded 7600 processes (t=47.02 s)\n",
      "activity ID a8ad9471-66a4-4464-8c8b-f5f7943e92dc: no comment\n",
      "  !!XMLSyntaxError-- trying to escape < and > signs\n",
      "  !!XMLSyntaxError-- trying to escape < and > signs\n",
      " Loaded 7700 processes (t=47.94 s)\n",
      " Loaded 7800 processes (t=48.30 s)\n",
      "  !!XMLSyntaxError-- trying to escape < and > signs\n",
      " Loaded 7900 processes (t=49.14 s)\n",
      "  !!XMLSyntaxError-- trying to escape < and > signs\n",
      " Loaded 8000 processes (t=49.84 s)\n",
      "  !!XMLSyntaxError-- trying to escape < and > signs\n",
      " Loaded 8100 processes (t=50.76 s)\n",
      " Loaded 8200 processes (t=51.29 s)\n",
      "  !!XMLSyntaxError-- trying to escape < and > signs\n",
      " Loaded 8300 processes (t=52.00 s)\n",
      " Loaded 8400 processes (t=52.41 s)\n",
      " Loaded 8500 processes (t=53.02 s)\n",
      " Loaded 8600 processes (t=53.44 s)\n",
      "  !!XMLSyntaxError-- trying to escape < and > signs\n",
      " Loaded 8700 processes (t=54.33 s)\n",
      " Loaded 8800 processes (t=54.78 s)\n",
      "  !!XMLSyntaxError-- trying to escape < and > signs\n",
      " Loaded 8900 processes (t=55.63 s)\n",
      "  !!XMLSyntaxError-- trying to escape < and > signs\n",
      " Loaded 9000 processes (t=56.67 s)\n",
      "  !!XMLSyntaxError-- trying to escape < and > signs\n",
      "  !!XMLSyntaxError-- trying to escape < and > signs\n",
      " Loaded 9100 processes (t=57.63 s)\n",
      "  !!XMLSyntaxError-- trying to escape < and > signs\n",
      " Loaded 9200 processes (t=58.31 s)\n",
      "  !!XMLSyntaxError-- trying to escape < and > signs\n",
      " Loaded 9300 processes (t=59.26 s)\n",
      "  !!XMLSyntaxError-- trying to escape < and > signs\n",
      " Loaded 9400 processes (t=60.08 s)\n",
      " Loaded 9500 processes (t=60.80 s)\n",
      "  !!XMLSyntaxError-- trying to escape < and > signs\n",
      " Loaded 9600 processes (t=61.57 s)\n",
      " Loaded 9700 processes (t=62.06 s)\n",
      "  !!XMLSyntaxError-- trying to escape < and > signs\n",
      " Loaded 9800 processes (t=62.95 s)\n",
      " Loaded 9900 processes (t=63.37 s)\n",
      " Loaded 10000 processes (t=63.87 s)\n",
      " Loaded 10100 processes (t=64.44 s)\n",
      "  !!XMLSyntaxError-- trying to escape < and > signs\n",
      " Loaded 10200 processes (t=65.27 s)\n",
      " Loaded 10300 processes (t=65.82 s)\n",
      " Loaded 10400 processes (t=66.53 s)\n",
      " Loaded 10500 processes (t=67.30 s)\n",
      " Loaded 10600 processes (t=67.76 s)\n",
      " Loaded 10700 processes (t=68.47 s)\n",
      " Loaded 10800 processes (t=69.05 s)\n",
      " Loaded 10900 processes (t=69.61 s)\n",
      " Loaded 11000 processes (t=70.35 s)\n",
      "  !!XMLSyntaxError-- trying to escape < and > signs\n",
      " Loaded 11100 processes (t=71.09 s)\n",
      "  !!XMLSyntaxError-- trying to escape < and > signs\n",
      " Loaded 11200 processes (t=72.08 s)\n",
      " Loaded 11300 processes (t=72.77 s)\n",
      " Loaded 11400 processes (t=73.30 s)\n",
      " Loaded 11500 processes (t=74.07 s)\n",
      " Loaded 11552 processes (t=74.38 s)\n",
      "11552 new process entities added (11552 total)\n",
      "4680 new flow entities added (4680 total)\n",
      "19 new quantity entities added (19 total)\n"
     ]
    }
   ],
   "source": [
    "U.load_all()"
   ]
  },
  {
   "cell_type": "code",
   "execution_count": 9,
   "metadata": {
    "collapsed": false
   },
   "outputs": [
    {
     "data": {
      "text/plain": [
       "0"
      ]
     },
     "execution_count": 9,
     "metadata": {},
     "output_type": "execute_result"
    }
   ],
   "source": [
    "len([p for p in U.processes() if len(p.reference_entity) > 1])"
   ]
  },
  {
   "cell_type": "code",
   "execution_count": 6,
   "metadata": {
    "collapsed": false
   },
   "outputs": [
    {
     "data": {
      "text/plain": [
       "0"
      ]
     },
     "execution_count": 6,
     "metadata": {},
     "output_type": "execute_result"
    }
   ],
   "source": [
    "len(lps)"
   ]
  }
 ],
 "metadata": {
  "kernelspec": {
   "display_name": "Python 3",
   "language": "python",
   "name": "python3"
  },
  "language_info": {
   "codemirror_mode": {
    "name": "ipython",
    "version": 3
   },
   "file_extension": ".py",
   "mimetype": "text/x-python",
   "name": "python",
   "nbconvert_exporter": "python",
   "pygments_lexer": "ipython3",
   "version": "3.5.2"
  }
 },
 "nbformat": 4,
 "nbformat_minor": 0
}
